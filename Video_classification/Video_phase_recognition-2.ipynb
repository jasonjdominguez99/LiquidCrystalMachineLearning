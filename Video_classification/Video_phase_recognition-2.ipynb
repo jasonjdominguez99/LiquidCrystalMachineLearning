{
 "cells": [
  {
   "cell_type": "markdown",
   "metadata": {},
   "source": [
    "# Using a CNN trained for LC texture phase classification to classify LC phase transition videos"
   ]
  },
  {
   "cell_type": "markdown",
   "metadata": {},
   "source": [
    "## 1. Aim"
   ]
  },
  {
   "cell_type": "markdown",
   "metadata": {},
   "source": [
    "The aim of this notebook is to prove the concept of using a CNN, trained for detecting the phase of a texture between Isotropic, Nematic, SmA, SmF, and Cholesteric, for detecting what phase is present in a video of a LC undergoing a phase transition. The approach will be to train a CNN on LC texture images \"good\" LC texture classifier. Then, this trained CNN will be applied to the frames of a test video to predict, for each frame, what phase is present in the video. It will hopefully be able to notice phase transitions."
   ]
  },
  {
   "cell_type": "markdown",
   "metadata": {},
   "source": [
    "Data leakage is important in this task, it should be made sure that images used to train the CNN are not from videos used when testing. Equally, in the training of the CNN for image classification, it should be made sure that training images and validation images do not come from the same videos (images for this task may have been obtained by using VLC for grabbing frames of LC videos)."
   ]
  },
  {
   "cell_type": "code",
   "execution_count": 1,
   "metadata": {},
   "outputs": [],
   "source": [
    "file_title = \"Video_phase_recognition2\" "
   ]
  },
  {
   "cell_type": "code",
   "execution_count": 2,
   "metadata": {},
   "outputs": [],
   "source": [
    "import numpy as np\n",
    "import matplotlib.pyplot as plt\n",
    "import tensorflow as tf\n",
    "from keras import Model\n",
    "from keras import layers\n",
    "from keras.preprocessing.image import ImageDataGenerator\n",
    "from keras.callbacks import ModelCheckpoint"
   ]
  },
  {
   "cell_type": "markdown",
   "metadata": {},
   "source": [
    "## 2. Retrieving data and image preprocessing"
   ]
  },
  {
   "cell_type": "code",
   "execution_count": 3,
   "metadata": {},
   "outputs": [],
   "source": [
    "img_directory = \"C:/Users/Jason/Documents/University/Year_4/MPhys_Project(s)/Liquid_crystals-machine_learning/(I,N,Chol,Sm)Images\"\n",
    "\n",
    "train_dir = img_directory + \"/Train\"\n",
    "val_dir = img_directory + \"/Val\""
   ]
  },
  {
   "cell_type": "code",
   "execution_count": 5,
   "metadata": {},
   "outputs": [
    {
     "name": "stdout",
     "output_type": "stream",
     "text": [
      "Found 3378 images belonging to 4 classes.\n",
      "Found 1737 images belonging to 4 classes.\n"
     ]
    }
   ],
   "source": [
    "train_datagen = ImageDataGenerator(rescale = 1/255,\n",
    "                                   rotation_range = 30,\n",
    "                                   width_shift_range = 0.2,\n",
    "                                   height_shift_range = 0.2,\n",
    "                                   zoom_range = 0.2,\n",
    "                                   horizontal_flip = True,\n",
    "                                   vertical_flip = True\n",
    "                                  )\n",
    "val_datagen = ImageDataGenerator(rescale = 1/255)\n",
    "\n",
    "train_generator = train_datagen.flow_from_directory(train_dir,\n",
    "                                                    batch_size = 16,\n",
    "                                                    class_mode = \"categorical\",\n",
    "                                                    color_mode = \"grayscale\",\n",
    "                                                    target_size = (256, 256)\n",
    "                                                   )\n",
    "val_generator = val_datagen.flow_from_directory(val_dir,\n",
    "                                                batch_size = 16,\n",
    "                                                class_mode = \"categorical\",\n",
    "                                                color_mode = \"grayscale\",\n",
    "                                                target_size = (256,256)\n",
    "                                               )"
   ]
  },
  {
   "cell_type": "markdown",
   "metadata": {},
   "source": [
    "## 3. Building the model"
   ]
  },
  {
   "cell_type": "code",
   "execution_count": 6,
   "metadata": {},
   "outputs": [
    {
     "name": "stdout",
     "output_type": "stream",
     "text": [
      "Model: \"sequential\"\n",
      "_________________________________________________________________\n",
      "Layer (type)                 Output Shape              Param #   \n",
      "=================================================================\n",
      "conv2d (Conv2D)              (None, 252, 252, 32)      832       \n",
      "_________________________________________________________________\n",
      "batch_normalization (BatchNo (None, 252, 252, 32)      128       \n",
      "_________________________________________________________________\n",
      "max_pooling2d (MaxPooling2D) (None, 126, 126, 32)      0         \n",
      "_________________________________________________________________\n",
      "dropout (Dropout)            (None, 126, 126, 32)      0         \n",
      "_________________________________________________________________\n",
      "conv2d_1 (Conv2D)            (None, 124, 124, 64)      18496     \n",
      "_________________________________________________________________\n",
      "batch_normalization_1 (Batch (None, 124, 124, 64)      256       \n",
      "_________________________________________________________________\n",
      "max_pooling2d_1 (MaxPooling2 (None, 62, 62, 64)        0         \n",
      "_________________________________________________________________\n",
      "dropout_1 (Dropout)          (None, 62, 62, 64)        0         \n",
      "_________________________________________________________________\n",
      "conv2d_2 (Conv2D)            (None, 60, 60, 128)       73856     \n",
      "_________________________________________________________________\n",
      "batch_normalization_2 (Batch (None, 60, 60, 128)       512       \n",
      "_________________________________________________________________\n",
      "max_pooling2d_2 (MaxPooling2 (None, 30, 30, 128)       0         \n",
      "_________________________________________________________________\n",
      "dropout_2 (Dropout)          (None, 30, 30, 128)       0         \n",
      "_________________________________________________________________\n",
      "conv2d_3 (Conv2D)            (None, 28, 28, 256)       295168    \n",
      "_________________________________________________________________\n",
      "batch_normalization_3 (Batch (None, 28, 28, 256)       1024      \n",
      "_________________________________________________________________\n",
      "max_pooling2d_3 (MaxPooling2 (None, 14, 14, 256)       0         \n",
      "_________________________________________________________________\n",
      "dropout_3 (Dropout)          (None, 14, 14, 256)       0         \n",
      "_________________________________________________________________\n",
      "global_average_pooling2d (Gl (None, 256)               0         \n",
      "_________________________________________________________________\n",
      "dense (Dense)                (None, 1024)              263168    \n",
      "_________________________________________________________________\n",
      "dropout_4 (Dropout)          (None, 1024)              0         \n",
      "_________________________________________________________________\n",
      "dense_1 (Dense)              (None, 256)               262400    \n",
      "_________________________________________________________________\n",
      "dropout_5 (Dropout)          (None, 256)               0         \n",
      "_________________________________________________________________\n",
      "dense_2 (Dense)              (None, 4)                 1028      \n",
      "=================================================================\n",
      "Total params: 916,868\n",
      "Trainable params: 915,908\n",
      "Non-trainable params: 960\n",
      "_________________________________________________________________\n"
     ]
    }
   ],
   "source": [
    "model = tf.keras.models.Sequential([\n",
    "    layers.Conv2D(32, kernel_size=(5,5), activation = \"relu\", input_shape=(256,256,1)),\n",
    "    layers.BatchNormalization(),\n",
    "    layers.MaxPooling2D(2,2),\n",
    "    layers.Dropout(0.3),\n",
    "    \n",
    "    layers.Conv2D(64, kernel_size=(3,3), activation = \"relu\"),\n",
    "    layers.BatchNormalization(),\n",
    "    layers.MaxPooling2D(2,2),\n",
    "    layers.Dropout(0.3),\n",
    "    \n",
    "    layers.Conv2D(128, kernel_size=(3,3), activation = \"relu\"),\n",
    "    layers.BatchNormalization(),\n",
    "    layers.MaxPooling2D(2,2),\n",
    "    layers.Dropout(0.3),\n",
    "    \n",
    "    layers.Conv2D(256, kernel_size=(3,3), activation = \"relu\"),\n",
    "    layers.BatchNormalization(),\n",
    "    layers.MaxPooling2D(2,2),\n",
    "    layers.Dropout(0.3),\n",
    "    \n",
    "    layers.GlobalAveragePooling2D(),\n",
    "    layers.Dense(1024, activation=\"relu\"),\n",
    "    layers.Dropout(0.5),\n",
    "    layers.Dense(256, activation=\"relu\"),\n",
    "    layers.Dropout(0.5),\n",
    "    \n",
    "    layers.Dense(4, activation=\"softmax\")\n",
    "])\n",
    "\n",
    "model.summary()"
   ]
  },
  {
   "cell_type": "markdown",
   "metadata": {},
   "source": [
    "## 4. Training the model"
   ]
  },
  {
   "cell_type": "code",
   "execution_count": 7,
   "metadata": {},
   "outputs": [],
   "source": [
    "model_save_dir = \"C:/Users/Jason/Documents/University/Year_4/MPhys_Project(s)/\" + str(file_title) + \"_saved_model\""
   ]
  },
  {
   "cell_type": "code",
   "execution_count": 8,
   "metadata": {},
   "outputs": [
    {
     "name": "stdout",
     "output_type": "stream",
     "text": [
      "Epoch 1/100\n",
      "212/212 [==============================] - ETA: 0s - loss: 0.6152 - accuracy: 0.7407WARNING:tensorflow:From C:\\Users\\Jason\\anaconda3\\lib\\site-packages\\tensorflow\\python\\training\\tracking\\tracking.py:111: Model.state_updates (from tensorflow.python.keras.engine.training) is deprecated and will be removed in a future version.\n",
      "Instructions for updating:\n",
      "This property should not be used in TensorFlow 2.0, as updates are applied automatically.\n",
      "WARNING:tensorflow:From C:\\Users\\Jason\\anaconda3\\lib\\site-packages\\tensorflow\\python\\training\\tracking\\tracking.py:111: Layer.updates (from tensorflow.python.keras.engine.base_layer) is deprecated and will be removed in a future version.\n",
      "Instructions for updating:\n",
      "This property should not be used in TensorFlow 2.0, as updates are applied automatically.\n",
      "INFO:tensorflow:Assets written to: C:/Users/Jason/Documents/University/Year_4/MPhys_Project(s)\\Video_phase_recognition2_saved_model\\assets\n",
      "212/212 [==============================] - 472s 2s/step - loss: 0.6152 - accuracy: 0.7407 - val_loss: 5.2000 - val_accuracy: 0.3074\n",
      "Epoch 2/100\n",
      "212/212 [==============================] - ETA: 0s - loss: 0.3809 - accuracy: 0.8381INFO:tensorflow:Assets written to: C:/Users/Jason/Documents/University/Year_4/MPhys_Project(s)\\Video_phase_recognition2_saved_model\\assets\n",
      "212/212 [==============================] - 474s 2s/step - loss: 0.3809 - accuracy: 0.8381 - val_loss: 1.7757 - val_accuracy: 0.5412\n",
      "Epoch 3/100\n",
      "212/212 [==============================] - 477s 2s/step - loss: 0.2958 - accuracy: 0.8819 - val_loss: 1.4938 - val_accuracy: 0.5343\n",
      "Epoch 4/100\n",
      "212/212 [==============================] - 469s 2s/step - loss: 0.2454 - accuracy: 0.8937 - val_loss: 2.1459 - val_accuracy: 0.4398\n",
      "Epoch 5/100\n",
      "212/212 [==============================] - 478s 2s/step - loss: 0.2386 - accuracy: 0.9050 - val_loss: 2.6654 - val_accuracy: 0.3886\n",
      "Epoch 6/100\n",
      "212/212 [==============================] - 481s 2s/step - loss: 0.2267 - accuracy: 0.9100 - val_loss: 2.9363 - val_accuracy: 0.5014\n",
      "Epoch 7/100\n",
      "212/212 [==============================] - 472s 2s/step - loss: 0.2202 - accuracy: 0.9082 - val_loss: 1.6220 - val_accuracy: 0.4571\n",
      "Epoch 8/100\n",
      "212/212 [==============================] - ETA: 0s - loss: 0.1927 - accuracy: 0.9207INFO:tensorflow:Assets written to: C:/Users/Jason/Documents/University/Year_4/MPhys_Project(s)\\Video_phase_recognition2_saved_model\\assets\n",
      "212/212 [==============================] - 482s 2s/step - loss: 0.1927 - accuracy: 0.9207 - val_loss: 1.3804 - val_accuracy: 0.5567\n",
      "Epoch 9/100\n",
      "212/212 [==============================] - 483s 2s/step - loss: 0.1933 - accuracy: 0.9233 - val_loss: 2.8830 - val_accuracy: 0.4007\n",
      "Epoch 10/100\n",
      "212/212 [==============================] - 479s 2s/step - loss: 0.1938 - accuracy: 0.9230 - val_loss: 2.4779 - val_accuracy: 0.5164\n",
      "Epoch 11/100\n",
      "212/212 [==============================] - 488s 2s/step - loss: 0.1806 - accuracy: 0.9298 - val_loss: 5.0472 - val_accuracy: 0.4514\n",
      "Epoch 12/100\n",
      "212/212 [==============================] - 479s 2s/step - loss: 0.1666 - accuracy: 0.9364 - val_loss: 5.2385 - val_accuracy: 0.4491\n",
      "Epoch 13/100\n",
      "212/212 [==============================] - 493s 2s/step - loss: 0.1767 - accuracy: 0.9346 - val_loss: 1.2790 - val_accuracy: 0.4761\n",
      "Epoch 14/100\n",
      "212/212 [==============================] - 482s 2s/step - loss: 0.1377 - accuracy: 0.9446 - val_loss: 3.3651 - val_accuracy: 0.4099\n",
      "Epoch 15/100\n",
      "212/212 [==============================] - 489s 2s/step - loss: 0.1522 - accuracy: 0.9417 - val_loss: 5.3339 - val_accuracy: 0.3673\n",
      "Epoch 16/100\n",
      "212/212 [==============================] - 486s 2s/step - loss: 0.1462 - accuracy: 0.9446 - val_loss: 3.6062 - val_accuracy: 0.4945\n",
      "Epoch 17/100\n",
      "212/212 [==============================] - 482s 2s/step - loss: 0.1986 - accuracy: 0.9307 - val_loss: 3.3140 - val_accuracy: 0.3869\n",
      "Epoch 18/100\n",
      "212/212 [==============================] - 482s 2s/step - loss: 0.1295 - accuracy: 0.9458 - val_loss: 1.9732 - val_accuracy: 0.5078\n",
      "Epoch 19/100\n",
      "212/212 [==============================] - 480s 2s/step - loss: 0.1746 - accuracy: 0.9399 - val_loss: 3.0018 - val_accuracy: 0.5020\n",
      "Epoch 20/100\n",
      "212/212 [==============================] - 483s 2s/step - loss: 0.1107 - accuracy: 0.9589 - val_loss: 4.9089 - val_accuracy: 0.5014\n",
      "Epoch 21/100\n",
      "212/212 [==============================] - ETA: 0s - loss: 0.1680 - accuracy: 0.9452INFO:tensorflow:Assets written to: C:/Users/Jason/Documents/University/Year_4/MPhys_Project(s)\\Video_phase_recognition2_saved_model\\assets\n",
      "212/212 [==============================] - 485s 2s/step - loss: 0.1680 - accuracy: 0.9452 - val_loss: 4.1952 - val_accuracy: 0.5809\n",
      "Epoch 22/100\n",
      "212/212 [==============================] - 483s 2s/step - loss: 0.1209 - accuracy: 0.9565 - val_loss: 3.2359 - val_accuracy: 0.5521\n",
      "Epoch 23/100\n",
      "212/212 [==============================] - 482s 2s/step - loss: 0.1370 - accuracy: 0.9503 - val_loss: 3.0190 - val_accuracy: 0.5538\n",
      "Epoch 24/100\n",
      "212/212 [==============================] - 485s 2s/step - loss: 0.1378 - accuracy: 0.9547 - val_loss: 5.4228 - val_accuracy: 0.5176\n",
      "Epoch 25/100\n",
      "212/212 [==============================] - 483s 2s/step - loss: 0.1321 - accuracy: 0.9535 - val_loss: 1.4535 - val_accuracy: 0.5320\n",
      "Epoch 26/100\n",
      "212/212 [==============================] - 482s 2s/step - loss: 0.1168 - accuracy: 0.9606 - val_loss: 4.3935 - val_accuracy: 0.4928\n",
      "Epoch 27/100\n",
      "212/212 [==============================] - 482s 2s/step - loss: 0.1422 - accuracy: 0.9512 - val_loss: 4.3715 - val_accuracy: 0.5268\n",
      "Epoch 28/100\n",
      "212/212 [==============================] - 495s 2s/step - loss: 0.0984 - accuracy: 0.9618 - val_loss: 2.2416 - val_accuracy: 0.5158\n",
      "Epoch 29/100\n",
      "212/212 [==============================] - 508s 2s/step - loss: 0.1066 - accuracy: 0.9600 - val_loss: 5.3402 - val_accuracy: 0.4893\n",
      "Epoch 30/100\n",
      "212/212 [==============================] - 492s 2s/step - loss: 0.0864 - accuracy: 0.9683 - val_loss: 3.4271 - val_accuracy: 0.5366\n",
      "Epoch 31/100\n",
      "212/212 [==============================] - 493s 2s/step - loss: 0.1065 - accuracy: 0.9657 - val_loss: 4.0616 - val_accuracy: 0.5072\n",
      "Epoch 32/100\n",
      "212/212 [==============================] - 494s 2s/step - loss: 0.0693 - accuracy: 0.9760 - val_loss: 3.1300 - val_accuracy: 0.4911\n",
      "Epoch 33/100\n",
      "212/212 [==============================] - 495s 2s/step - loss: 0.0964 - accuracy: 0.9710 - val_loss: 3.2803 - val_accuracy: 0.5792\n",
      "Epoch 34/100\n",
      "212/212 [==============================] - 491s 2s/step - loss: 0.0917 - accuracy: 0.9674 - val_loss: 4.2552 - val_accuracy: 0.5164\n",
      "Epoch 35/100\n",
      "212/212 [==============================] - 505s 2s/step - loss: 0.1099 - accuracy: 0.9665 - val_loss: 3.0707 - val_accuracy: 0.5573\n",
      "Epoch 36/100\n",
      "212/212 [==============================] - 532s 3s/step - loss: 0.0803 - accuracy: 0.9701 - val_loss: 4.5329 - val_accuracy: 0.4755\n",
      "Epoch 37/100\n",
      "212/212 [==============================] - ETA: 0s - loss: 0.0737 - accuracy: 0.9725INFO:tensorflow:Assets written to: C:/Users/Jason/Documents/University/Year_4/MPhys_Project(s)\\Video_phase_recognition2_saved_model\\assets\n",
      "212/212 [==============================] - 509s 2s/step - loss: 0.0737 - accuracy: 0.9725 - val_loss: 2.9239 - val_accuracy: 0.6488\n",
      "Epoch 38/100\n",
      "212/212 [==============================] - 499s 2s/step - loss: 0.0802 - accuracy: 0.9728 - val_loss: 9.7238 - val_accuracy: 0.4963\n",
      "Epoch 39/100\n",
      "212/212 [==============================] - 507s 2s/step - loss: 0.0644 - accuracy: 0.9772 - val_loss: 2.5956 - val_accuracy: 0.6448\n",
      "Epoch 40/100\n",
      "212/212 [==============================] - 504s 2s/step - loss: 0.1072 - accuracy: 0.9660 - val_loss: 4.0583 - val_accuracy: 0.5774\n",
      "Epoch 41/100\n",
      "212/212 [==============================] - 499s 2s/step - loss: 0.0722 - accuracy: 0.9745 - val_loss: 8.0359 - val_accuracy: 0.4813\n",
      "Epoch 42/100\n",
      "212/212 [==============================] - 501s 2s/step - loss: 0.0672 - accuracy: 0.9796 - val_loss: 10.2629 - val_accuracy: 0.5089\n",
      "Epoch 43/100\n",
      "212/212 [==============================] - 503s 2s/step - loss: 0.1235 - accuracy: 0.9589 - val_loss: 3.6759 - val_accuracy: 0.5918\n",
      "Epoch 44/100\n",
      "212/212 [==============================] - 517s 2s/step - loss: 0.0932 - accuracy: 0.9710 - val_loss: 4.2478 - val_accuracy: 0.5786\n"
     ]
    },
    {
     "name": "stdout",
     "output_type": "stream",
     "text": [
      "Epoch 45/100\n",
      "212/212 [==============================] - 498s 2s/step - loss: 0.0633 - accuracy: 0.9796 - val_loss: 6.1593 - val_accuracy: 0.5078\n",
      "Epoch 46/100\n",
      "212/212 [==============================] - 503s 2s/step - loss: 0.0610 - accuracy: 0.9793 - val_loss: 4.7042 - val_accuracy: 0.5521\n",
      "Epoch 47/100\n",
      "212/212 [==============================] - 506s 2s/step - loss: 0.0877 - accuracy: 0.9763 - val_loss: 6.4950 - val_accuracy: 0.4980\n",
      "Epoch 48/100\n",
      "212/212 [==============================] - 498s 2s/step - loss: 0.0747 - accuracy: 0.9766 - val_loss: 3.3498 - val_accuracy: 0.5780\n",
      "Epoch 49/100\n",
      "212/212 [==============================] - 497s 2s/step - loss: 0.0743 - accuracy: 0.9799 - val_loss: 4.9677 - val_accuracy: 0.4997\n",
      "Epoch 50/100\n",
      "212/212 [==============================] - 499s 2s/step - loss: 0.0372 - accuracy: 0.9870 - val_loss: 5.8420 - val_accuracy: 0.5187\n",
      "Epoch 51/100\n",
      "212/212 [==============================] - 496s 2s/step - loss: 0.0561 - accuracy: 0.9840 - val_loss: 4.9798 - val_accuracy: 0.5619\n",
      "Epoch 52/100\n",
      "212/212 [==============================] - 494s 2s/step - loss: 0.0558 - accuracy: 0.9808 - val_loss: 6.5954 - val_accuracy: 0.5406\n",
      "Epoch 53/100\n",
      "212/212 [==============================] - 493s 2s/step - loss: 0.0581 - accuracy: 0.9861 - val_loss: 3.7276 - val_accuracy: 0.5982\n",
      "Epoch 54/100\n",
      "212/212 [==============================] - ETA: 0s - loss: 0.0812 - accuracy: 0.9757INFO:tensorflow:Assets written to: C:/Users/Jason/Documents/University/Year_4/MPhys_Project(s)\\Video_phase_recognition2_saved_model\\assets\n",
      "212/212 [==============================] - 510s 2s/step - loss: 0.0812 - accuracy: 0.9757 - val_loss: 2.9152 - val_accuracy: 0.6937\n",
      "Epoch 55/100\n",
      "212/212 [==============================] - 503s 2s/step - loss: 0.0494 - accuracy: 0.9802 - val_loss: 7.0558 - val_accuracy: 0.5590\n",
      "Epoch 56/100\n",
      "212/212 [==============================] - 498s 2s/step - loss: 0.0929 - accuracy: 0.9772 - val_loss: 4.4969 - val_accuracy: 0.5970\n",
      "Epoch 57/100\n",
      "212/212 [==============================] - 487s 2s/step - loss: 0.0576 - accuracy: 0.9819 - val_loss: 6.4840 - val_accuracy: 0.5170\n",
      "Epoch 58/100\n",
      "212/212 [==============================] - 462s 2s/step - loss: 0.0499 - accuracy: 0.9852 - val_loss: 3.6669 - val_accuracy: 0.5452\n",
      "Epoch 59/100\n",
      "212/212 [==============================] - 468s 2s/step - loss: 0.0548 - accuracy: 0.9819 - val_loss: 6.1658 - val_accuracy: 0.6534\n",
      "Epoch 60/100\n",
      "212/212 [==============================] - 462s 2s/step - loss: 0.0420 - accuracy: 0.9876 - val_loss: 4.9689 - val_accuracy: 0.5676\n",
      "Epoch 61/100\n",
      "212/212 [==============================] - 467s 2s/step - loss: 0.0598 - accuracy: 0.9808 - val_loss: 3.9547 - val_accuracy: 0.5705\n",
      "Epoch 62/100\n",
      "212/212 [==============================] - 462s 2s/step - loss: 0.0378 - accuracy: 0.9888 - val_loss: 5.8252 - val_accuracy: 0.5820\n",
      "Epoch 63/100\n",
      "212/212 [==============================] - 472s 2s/step - loss: 0.0501 - accuracy: 0.9849 - val_loss: 4.8491 - val_accuracy: 0.5809\n",
      "Epoch 64/100\n",
      "212/212 [==============================] - 476s 2s/step - loss: 0.0484 - accuracy: 0.9873 - val_loss: 4.1301 - val_accuracy: 0.6143\n",
      "Epoch 65/100\n",
      "212/212 [==============================] - 467s 2s/step - loss: 0.0634 - accuracy: 0.9852 - val_loss: 4.7789 - val_accuracy: 0.5481\n",
      "Epoch 66/100\n",
      "212/212 [==============================] - 470s 2s/step - loss: 0.0288 - accuracy: 0.9899 - val_loss: 6.1241 - val_accuracy: 0.5112\n",
      "Epoch 67/100\n",
      "212/212 [==============================] - 464s 2s/step - loss: 0.0477 - accuracy: 0.9831 - val_loss: 3.7910 - val_accuracy: 0.6488\n",
      "Epoch 68/100\n",
      "212/212 [==============================] - 578s 3s/step - loss: 0.0598 - accuracy: 0.9819 - val_loss: 1.7508 - val_accuracy: 0.6390\n",
      "Epoch 69/100\n",
      "212/212 [==============================] - 671s 3s/step - loss: 0.0421 - accuracy: 0.9876 - val_loss: 5.3077 - val_accuracy: 0.5262\n",
      "Epoch 70/100\n",
      "212/212 [==============================] - 2053s 10s/step - loss: 0.0554 - accuracy: 0.9837 - val_loss: 4.5405 - val_accuracy: 0.6218\n",
      "Epoch 71/100\n",
      "212/212 [==============================] - 509s 2s/step - loss: 0.0515 - accuracy: 0.9837 - val_loss: 4.2243 - val_accuracy: 0.6799\n",
      "Epoch 72/100\n",
      "212/212 [==============================] - 511s 2s/step - loss: 0.0315 - accuracy: 0.9893 - val_loss: 5.7663 - val_accuracy: 0.6074\n",
      "Epoch 73/100\n",
      "212/212 [==============================] - 508s 2s/step - loss: 0.0381 - accuracy: 0.9885 - val_loss: 6.4785 - val_accuracy: 0.5366\n",
      "Epoch 74/100\n",
      "212/212 [==============================] - 482s 2s/step - loss: 0.0605 - accuracy: 0.9825 - val_loss: 3.8988 - val_accuracy: 0.6229\n",
      "Epoch 75/100\n",
      "212/212 [==============================] - 487s 2s/step - loss: 0.0304 - accuracy: 0.9929 - val_loss: 5.5409 - val_accuracy: 0.5924\n",
      "Epoch 76/100\n",
      "212/212 [==============================] - 493s 2s/step - loss: 0.0405 - accuracy: 0.9905 - val_loss: 7.4502 - val_accuracy: 0.5406\n",
      "Epoch 77/100\n",
      "212/212 [==============================] - 490s 2s/step - loss: 0.0274 - accuracy: 0.9893 - val_loss: 4.7798 - val_accuracy: 0.5734\n",
      "Epoch 78/100\n",
      "212/212 [==============================] - 499s 2s/step - loss: 0.0469 - accuracy: 0.9876 - val_loss: 8.4827 - val_accuracy: 0.5613\n",
      "Epoch 79/100\n",
      "212/212 [==============================] - 498s 2s/step - loss: 0.0419 - accuracy: 0.9870 - val_loss: 6.2646 - val_accuracy: 0.5855\n",
      "Epoch 80/100\n",
      "212/212 [==============================] - 498s 2s/step - loss: 0.0427 - accuracy: 0.9867 - val_loss: 2.7532 - val_accuracy: 0.6695\n",
      "Epoch 81/100\n",
      "212/212 [==============================] - 499s 2s/step - loss: 0.0384 - accuracy: 0.9888 - val_loss: 9.8859 - val_accuracy: 0.4784\n",
      "Epoch 82/100\n",
      "212/212 [==============================] - 499s 2s/step - loss: 0.0382 - accuracy: 0.9885 - val_loss: 6.8476 - val_accuracy: 0.6097\n",
      "Epoch 83/100\n",
      "212/212 [==============================] - 502s 2s/step - loss: 0.0412 - accuracy: 0.9888 - val_loss: 6.2647 - val_accuracy: 0.5993\n",
      "Epoch 84/100\n",
      "212/212 [==============================] - 497s 2s/step - loss: 0.0439 - accuracy: 0.9873 - val_loss: 7.3138 - val_accuracy: 0.5717\n",
      "Epoch 85/100\n",
      "212/212 [==============================] - 500s 2s/step - loss: 0.0647 - accuracy: 0.9793 - val_loss: 4.9278 - val_accuracy: 0.5440\n",
      "Epoch 86/100\n",
      "212/212 [==============================] - 498s 2s/step - loss: 0.0699 - accuracy: 0.9790 - val_loss: 9.3025 - val_accuracy: 0.5757\n",
      "Epoch 87/100\n",
      "212/212 [==============================] - 506s 2s/step - loss: 0.0491 - accuracy: 0.9852 - val_loss: 4.1045 - val_accuracy: 0.6166\n",
      "Epoch 88/100\n",
      "212/212 [==============================] - 531s 3s/step - loss: 0.0380 - accuracy: 0.9896 - val_loss: 3.7936 - val_accuracy: 0.6327\n",
      "Epoch 89/100\n",
      "212/212 [==============================] - 502s 2s/step - loss: 0.0426 - accuracy: 0.9867 - val_loss: 6.2307 - val_accuracy: 0.6074\n",
      "Epoch 90/100\n",
      "212/212 [==============================] - 518s 2s/step - loss: 0.0605 - accuracy: 0.9834 - val_loss: 8.3988 - val_accuracy: 0.5417\n",
      "Epoch 91/100\n",
      "212/212 [==============================] - 522s 2s/step - loss: 0.0417 - accuracy: 0.9867 - val_loss: 5.2456 - val_accuracy: 0.5740\n",
      "Epoch 92/100\n",
      "212/212 [==============================] - 511s 2s/step - loss: 0.0419 - accuracy: 0.9896 - val_loss: 5.9758 - val_accuracy: 0.6436\n",
      "Epoch 93/100\n",
      "212/212 [==============================] - 522s 2s/step - loss: 0.0283 - accuracy: 0.9929 - val_loss: 6.6466 - val_accuracy: 0.5907\n",
      "Epoch 94/100\n",
      "212/212 [==============================] - 511s 2s/step - loss: 0.0410 - accuracy: 0.9867 - val_loss: 6.8432 - val_accuracy: 0.5469\n",
      "Epoch 95/100\n",
      "212/212 [==============================] - 520s 2s/step - loss: 0.0463 - accuracy: 0.9882 - val_loss: 10.0420 - val_accuracy: 0.5158\n",
      "Epoch 96/100\n",
      "212/212 [==============================] - 512s 2s/step - loss: 0.0433 - accuracy: 0.9876 - val_loss: 5.0904 - val_accuracy: 0.6742\n",
      "Epoch 97/100\n",
      "212/212 [==============================] - 496s 2s/step - loss: 0.0454 - accuracy: 0.9911 - val_loss: 4.7196 - val_accuracy: 0.5757\n",
      "Epoch 98/100\n",
      "212/212 [==============================] - 489s 2s/step - loss: 0.0357 - accuracy: 0.9890 - val_loss: 4.1734 - val_accuracy: 0.6465\n",
      "Epoch 99/100\n",
      "212/212 [==============================] - 500s 2s/step - loss: 0.0217 - accuracy: 0.9935 - val_loss: 6.1326 - val_accuracy: 0.6039\n"
     ]
    },
    {
     "name": "stdout",
     "output_type": "stream",
     "text": [
      "Epoch 100/100\n",
      "212/212 [==============================] - 496s 2s/step - loss: 0.0210 - accuracy: 0.9941 - val_loss: 5.0869 - val_accuracy: 0.6425\n"
     ]
    }
   ],
   "source": [
    "model.compile(optimizer=\"adam\", loss=\"categorical_crossentropy\", metrics=[\"accuracy\"])\n",
    "checkpoint = ModelCheckpoint(model_save_dir, monitor = \"val_accuracy\", save_best_only = True, mode=\"max\")\n",
    "history = model.fit(train_generator,\n",
    "                    validation_data=val_generator,\n",
    "                    epochs=100,\n",
    "                    callbacks=[checkpoint],\n",
    "                    verbose=1\n",
    "                   )"
   ]
  },
  {
   "cell_type": "markdown",
   "metadata": {},
   "source": [
    "## 5. Results"
   ]
  },
  {
   "cell_type": "markdown",
   "metadata": {},
   "source": [
    "### Plotting the training and validation accuracy"
   ]
  },
  {
   "cell_type": "code",
   "execution_count": 9,
   "metadata": {},
   "outputs": [
    {
     "data": {
      "image/png": "[encoded data removed]",
      "text/plain": [
       "<Figure size 720x648 with 2 Axes>"
      ]
     },
     "metadata": {
      "needs_background": "light"
     },
     "output_type": "display_data"
    }
   ],
   "source": [
    "acc = history.history['accuracy']\n",
    "val_acc = history.history['val_accuracy']\n",
    "loss = history.history['loss']\n",
    "val_loss = history.history['val_loss']\n",
    "\n",
    "epochs = range(len(acc))\n",
    "\n",
    "plt.figure(figsize=(10,9))\n",
    "\n",
    "plt.subplot(2,1,1)\n",
    "plt.plot(epochs, acc, 'r', label=\"Training Accuracy\")\n",
    "plt.plot(epochs, val_acc, 'b', label=\"Validation Accuracy\")\n",
    "plt.title('Training and validation accuracy')\n",
    "plt.legend(loc=0)\n",
    "plt.grid(True)\n",
    "plt.xlabel(\"Epochs\")\n",
    "plt.ylabel(\"Accuracy\")\n",
    "\n",
    "plt.subplot(2,1,2)\n",
    "plt.plot(epochs, loss, 'r', label=\"Training Loss\")\n",
    "plt.plot(epochs, val_loss, 'b', label=\"Validation Loss\")\n",
    "plt.title('Training and validation loss')\n",
    "plt.legend(loc=0)\n",
    "plt.grid(True)\n",
    "plt.xlabel(\"Epochs\")\n",
    "plt.ylabel(\"Loss\")\n",
    "\n",
    "plt.savefig(str(file_title) + \"-train_val_graph\")\n",
    "plt.show()"
   ]
  },
  {
   "cell_type": "markdown",
   "metadata": {},
   "source": [
    "Want to save the data incase I want to plot it alongside other training data graphs."
   ]
  },
  {
   "cell_type": "code",
   "execution_count": 92,
   "metadata": {},
   "outputs": [],
   "source": [
    "import pandas as pd"
   ]
  },
  {
   "cell_type": "code",
   "execution_count": 103,
   "metadata": {},
   "outputs": [],
   "source": [
    "acc = history.history['accuracy']\n",
    "val_acc = history.history['val_accuracy']\n",
    "loss = history.history['loss']\n",
    "val_loss = history.history['val_loss']\n",
    "\n",
    "train_data_file_path = \"C:/Users/Jason/Documents/University/Year_4/MPhys_Project(s)/Liquid_crystals-machine_learning/LiquidCrystalMachineLearning/Video_classification/\" + str(file_title) + \"_training_data.csv\""
   ]
  },
  {
   "cell_type": "code",
   "execution_count": 104,
   "metadata": {},
   "outputs": [
    {
     "data": {
      "text/html": [
       "<div>\n",
       "<style scoped>\n",
       "    .dataframe tbody tr th:only-of-type {\n",
       "        vertical-align: middle;\n",
       "    }\n",
       "\n",
       "    .dataframe tbody tr th {\n",
       "        vertical-align: top;\n",
       "    }\n",
       "\n",
       "    .dataframe thead th {\n",
       "        text-align: right;\n",
       "    }\n",
       "</style>\n",
       "<table border=\"1\" class=\"dataframe\">\n",
       "  <thead>\n",
       "    <tr style=\"text-align: right;\">\n",
       "      <th></th>\n",
       "      <th>Training accuracy</th>\n",
       "      <th>Validation accuracy</th>\n",
       "      <th>Training loss</th>\n",
       "      <th>Validation loss</th>\n",
       "    </tr>\n",
       "  </thead>\n",
       "  <tbody>\n",
       "    <tr>\n",
       "      <th>0</th>\n",
       "      <td>0.740675</td>\n",
       "      <td>0.307427</td>\n",
       "      <td>0.615246</td>\n",
       "      <td>5.199977</td>\n",
       "    </tr>\n",
       "    <tr>\n",
       "      <th>1</th>\n",
       "      <td>0.838070</td>\n",
       "      <td>0.541163</td>\n",
       "      <td>0.380870</td>\n",
       "      <td>1.775685</td>\n",
       "    </tr>\n",
       "    <tr>\n",
       "      <th>2</th>\n",
       "      <td>0.881883</td>\n",
       "      <td>0.534254</td>\n",
       "      <td>0.295769</td>\n",
       "      <td>1.493755</td>\n",
       "    </tr>\n",
       "    <tr>\n",
       "      <th>3</th>\n",
       "      <td>0.893724</td>\n",
       "      <td>0.439839</td>\n",
       "      <td>0.245381</td>\n",
       "      <td>2.145896</td>\n",
       "    </tr>\n",
       "    <tr>\n",
       "      <th>4</th>\n",
       "      <td>0.904973</td>\n",
       "      <td>0.388601</td>\n",
       "      <td>0.238556</td>\n",
       "      <td>2.665435</td>\n",
       "    </tr>\n",
       "  </tbody>\n",
       "</table>\n",
       "</div>"
      ],
      "text/plain": [
       "   Training accuracy  Validation accuracy  Training loss  Validation loss\n",
       "0           0.740675             0.307427       0.615246         5.199977\n",
       "1           0.838070             0.541163       0.380870         1.775685\n",
       "2           0.881883             0.534254       0.295769         1.493755\n",
       "3           0.893724             0.439839       0.245381         2.145896\n",
       "4           0.904973             0.388601       0.238556         2.665435"
      ]
     },
     "execution_count": 104,
     "metadata": {},
     "output_type": "execute_result"
    }
   ],
   "source": [
    "acc = np.array(acc).reshape(len(acc), 1)\n",
    "val_acc = np.array(val_acc).reshape(len(val_acc), 1)\n",
    "loss = np.array(loss).reshape(len(loss), 1)\n",
    "val_loss = np.array(val_loss).reshape(len(val_loss), 1)\n",
    "\n",
    "training_log = np.hstack((acc, val_acc, loss, val_loss))\n",
    "\n",
    "column_headers = [\"Training accuracy\", \"Validation accuracy\", \"Training loss\", \"Validation loss\"]\n",
    "\n",
    "df = pd.DataFrame(data = training_log, columns = column_headers)\n",
    "\n",
    "df.head()"
   ]
  },
  {
   "cell_type": "code",
   "execution_count": 105,
   "metadata": {},
   "outputs": [],
   "source": [
    "df.to_csv(train_data_file_path)"
   ]
  },
  {
   "cell_type": "markdown",
   "metadata": {},
   "source": [
    "## 6. Testing trained model on images"
   ]
  },
  {
   "cell_type": "code",
   "execution_count": 10,
   "metadata": {},
   "outputs": [
    {
     "name": "stdout",
     "output_type": "stream",
     "text": [
      "Model: \"sequential\"\n",
      "_________________________________________________________________\n",
      "Layer (type)                 Output Shape              Param #   \n",
      "=================================================================\n",
      "conv2d (Conv2D)              (None, 252, 252, 32)      832       \n",
      "_________________________________________________________________\n",
      "batch_normalization (BatchNo (None, 252, 252, 32)      128       \n",
      "_________________________________________________________________\n",
      "max_pooling2d (MaxPooling2D) (None, 126, 126, 32)      0         \n",
      "_________________________________________________________________\n",
      "dropout (Dropout)            (None, 126, 126, 32)      0         \n",
      "_________________________________________________________________\n",
      "conv2d_1 (Conv2D)            (None, 124, 124, 64)      18496     \n",
      "_________________________________________________________________\n",
      "batch_normalization_1 (Batch (None, 124, 124, 64)      256       \n",
      "_________________________________________________________________\n",
      "max_pooling2d_1 (MaxPooling2 (None, 62, 62, 64)        0         \n",
      "_________________________________________________________________\n",
      "dropout_1 (Dropout)          (None, 62, 62, 64)        0         \n",
      "_________________________________________________________________\n",
      "conv2d_2 (Conv2D)            (None, 60, 60, 128)       73856     \n",
      "_________________________________________________________________\n",
      "batch_normalization_2 (Batch (None, 60, 60, 128)       512       \n",
      "_________________________________________________________________\n",
      "max_pooling2d_2 (MaxPooling2 (None, 30, 30, 128)       0         \n",
      "_________________________________________________________________\n",
      "dropout_2 (Dropout)          (None, 30, 30, 128)       0         \n",
      "_________________________________________________________________\n",
      "conv2d_3 (Conv2D)            (None, 28, 28, 256)       295168    \n",
      "_________________________________________________________________\n",
      "batch_normalization_3 (Batch (None, 28, 28, 256)       1024      \n",
      "_________________________________________________________________\n",
      "max_pooling2d_3 (MaxPooling2 (None, 14, 14, 256)       0         \n",
      "_________________________________________________________________\n",
      "dropout_3 (Dropout)          (None, 14, 14, 256)       0         \n",
      "_________________________________________________________________\n",
      "global_average_pooling2d (Gl (None, 256)               0         \n",
      "_________________________________________________________________\n",
      "dense (Dense)                (None, 1024)              263168    \n",
      "_________________________________________________________________\n",
      "dropout_4 (Dropout)          (None, 1024)              0         \n",
      "_________________________________________________________________\n",
      "dense_1 (Dense)              (None, 256)               262400    \n",
      "_________________________________________________________________\n",
      "dropout_5 (Dropout)          (None, 256)               0         \n",
      "_________________________________________________________________\n",
      "dense_2 (Dense)              (None, 4)                 1028      \n",
      "=================================================================\n",
      "Total params: 916,868\n",
      "Trainable params: 0\n",
      "Non-trainable params: 916,868\n",
      "_________________________________________________________________\n"
     ]
    }
   ],
   "source": [
    "model_load_dir = \"C:/Users/Jason/Documents/University/Year_4/MPhys_Project(s)/\" + str(file_title) + \"_saved_model\"\n",
    "trained_model = tf.keras.models.load_model(model_load_dir)\n",
    "\n",
    "for layer in trained_model.layers:\n",
    "  layer.trainable = False\n",
    "\n",
    "trained_model.summary()"
   ]
  },
  {
   "cell_type": "markdown",
   "metadata": {},
   "source": [
    "### Confusion matrix and classification report"
   ]
  },
  {
   "cell_type": "code",
   "execution_count": 11,
   "metadata": {},
   "outputs": [],
   "source": [
    "from sklearn.metrics import classification_report, confusion_matrix\n",
    "import itertools"
   ]
  },
  {
   "cell_type": "code",
   "execution_count": 12,
   "metadata": {},
   "outputs": [
    {
     "name": "stdout",
     "output_type": "stream",
     "text": [
      "Found 1737 images belonging to 4 classes.\n"
     ]
    }
   ],
   "source": [
    "fixed_val_datagen = ImageDataGenerator(rescale = 1/255)\n",
    "fixed_val_generator = fixed_val_datagen.flow_from_directory(val_dir,\n",
    "                                                batch_size = 16,\n",
    "                                                class_mode = \"categorical\",\n",
    "                                                color_mode = \"grayscale\",\n",
    "                                                target_size = (256,256),\n",
    "                                                shuffle = False\n",
    "                                               )"
   ]
  },
  {
   "cell_type": "code",
   "execution_count": 13,
   "metadata": {},
   "outputs": [
    {
     "name": "stdout",
     "output_type": "stream",
     "text": [
      "109/109 [==============================] - 45s 413ms/step\n"
     ]
    }
   ],
   "source": [
    "predictions = trained_model.predict(fixed_val_generator, batch_size=16, verbose=1)\n",
    "y_pred = np.argmax(predictions, axis=1)\n",
    "\n",
    "y_true = fixed_val_generator.classes"
   ]
  },
  {
   "cell_type": "code",
   "execution_count": 14,
   "metadata": {},
   "outputs": [
    {
     "name": "stdout",
     "output_type": "stream",
     "text": [
      "              precision    recall  f1-score   support\n",
      "\n",
      "           0       1.00      1.00      1.00       458\n",
      "           1       0.33      0.52      0.40       214\n",
      "           2       0.73      0.71      0.72       531\n",
      "           3       0.61      0.49      0.54       534\n",
      "\n",
      "    accuracy                           0.69      1737\n",
      "   macro avg       0.67      0.68      0.67      1737\n",
      "weighted avg       0.72      0.69      0.70      1737\n",
      "\n"
     ]
    }
   ],
   "source": [
    "print(classification_report(y_true, y_pred))"
   ]
  },
  {
   "cell_type": "code",
   "execution_count": 15,
   "metadata": {},
   "outputs": [],
   "source": [
    "def plot_confusion_matrix(cm, target_names, title='Confusion matrix', cmap=None, normalize=True, save=True):\n",
    "    \"\"\"\n",
    "    from: https://www.kaggle.com/grfiv4/plot-a-confusion-matrix\n",
    "    \"\"\"\n",
    "    accuracy = np.trace(cm) / float(np.sum(cm))\n",
    "    misclass = 1 - accuracy\n",
    "    \n",
    "    if cmap is None:\n",
    "        cmap = plt.get_cmap('Blues')\n",
    "\n",
    "    plt.figure(figsize=(8, 6))\n",
    "    plt.imshow(cm, interpolation='nearest', cmap=cmap)\n",
    "    plt.title(title)\n",
    "    plt.colorbar()\n",
    "\n",
    "    if target_names is not None:\n",
    "        tick_marks = np.arange(len(target_names))\n",
    "        plt.xticks(tick_marks, target_names, rotation=45)\n",
    "        plt.yticks(tick_marks, target_names)\n",
    "\n",
    "    if normalize:\n",
    "        cm = cm.astype('float') / cm.sum(axis=1)[:, np.newaxis]\n",
    "\n",
    "\n",
    "    thresh = cm.max() / 1.5 if normalize else cm.max() / 2\n",
    "    \n",
    "    for i, j in itertools.product(range(cm.shape[0]), range(cm.shape[1])):\n",
    "        if normalize:\n",
    "            plt.text(j, i, \"{:0.4f}\".format(cm[i, j]),\n",
    "                     horizontalalignment=\"center\",\n",
    "                     color=\"white\" if cm[i, j] > thresh else \"black\")\n",
    "        else:\n",
    "            plt.text(j, i, \"{:,}\".format(cm[i, j]),\n",
    "                     horizontalalignment=\"center\",\n",
    "                     color=\"white\" if cm[i, j] > thresh else \"black\")\n",
    "\n",
    "\n",
    "    plt.tight_layout()\n",
    "    plt.ylabel('True label')\n",
    "    plt.xlabel('Predicted label\\naccuracy={:0.4f}; misclass={:0.4f}'.format(accuracy, misclass))\n",
    "    \n",
    "    if save:\n",
    "        plt.savefig(str(file_title) + \"-confusion_matrix\")\n",
    "    \n",
    "    plt.show()"
   ]
  },
  {
   "cell_type": "code",
   "execution_count": 16,
   "metadata": {},
   "outputs": [
    {
     "data": {
      "image/png": "[encoded data removed]",
      "text/plain": [
       "<Figure size 576x432 with 2 Axes>"
      ]
     },
     "metadata": {
      "needs_background": "light"
     },
     "output_type": "display_data"
    }
   ],
   "source": [
    "cm = confusion_matrix(y_true, y_pred)\n",
    "target_names = [\"Isotropic\", \"Nematic\", \"Cholesteric\", \"Smectic\"]\n",
    "\n",
    "plot_confusion_matrix(cm,\n",
    "                      target_names,\n",
    "                      title=\"Confusion matrix\",\n",
    "                      normalize=True,\n",
    "                      save=True\n",
    "                     )"
   ]
  },
  {
   "cell_type": "markdown",
   "metadata": {},
   "source": [
    "## 7. Testing trained model on a video"
   ]
  },
  {
   "cell_type": "code",
   "execution_count": 17,
   "metadata": {},
   "outputs": [],
   "source": [
    "import cv2\n",
    "import collections"
   ]
  },
  {
   "cell_type": "code",
   "execution_count": 60,
   "metadata": {},
   "outputs": [],
   "source": [
    "size = 1\n",
    "queue = collections.deque(maxlen=size)"
   ]
  },
  {
   "cell_type": "code",
   "execution_count": 91,
   "metadata": {},
   "outputs": [],
   "source": [
    "video_file_name = \"M6-Green_80C_Crystalize\"\n",
    "vid_path = \"C:/Users/Jason/Documents/University/Year_4/MPhys_Project(s)/Liquid_crystals-machine_learning/(I,N,Chol,Sm)Test_videos/M6/\" + video_file_name + \".avi\"\n",
    "vid_save_path = file_title + \"_\" + video_file_name + \".avi\"\n",
    "vid_stream = cv2.VideoCapture(vid_path)\n",
    "\n",
    "writer = None\n",
    "width = int(vid_stream.get(cv2.CAP_PROP_FRAME_WIDTH))\n",
    "height = int(vid_stream.get(cv2.CAP_PROP_FRAME_HEIGHT))\n",
    "fps = vid_stream.get(cv2.CAP_PROP_FPS)\n",
    "fourcc = int(vid_stream.get(cv2.CAP_PROP_FOURCC))\n",
    "\n",
    "while True:\n",
    "    (grabbed, frame) = vid_stream.read()\n",
    "    if not grabbed:\n",
    "        break\n",
    "        \n",
    "    output_vid = frame.copy()\n",
    "    frame = cv2.cvtColor(frame, cv2.COLOR_BGR2GRAY)\n",
    "    frame = cv2.resize(frame, (254, 254)).astype(\"float32\") / 255\n",
    "    \n",
    "    pred = trained_model.predict(np.expand_dims(frame, axis=(0,3)))\n",
    "    y_predict = np.argmax(pred, axis=1)\n",
    "    confidence = pred[0][y_predict]\n",
    "    queue.append(pred)\n",
    "    \n",
    "    results = np.array(queue).mean(axis=0)\n",
    "    i = np.argmax(results)\n",
    "    label = target_names[i]\n",
    "    \n",
    "    phase_text = \"Phase: {}\".format(label)\n",
    "    phase_confidence_text = \"Confidence: {}\".format(confidence)\n",
    "    cv2.putText(output_vid, phase_text, (35,50), cv2.FONT_HERSHEY_SIMPLEX,\n",
    "               1.25, (255, 255, 255), 5)\n",
    "    cv2.putText(output_vid, phase_confidence_text, (35,90), cv2.FONT_HERSHEY_SIMPLEX,\n",
    "               1.25, (255, 255, 255), 5)\n",
    "    \n",
    "    if writer is None:\n",
    "        writer = cv2.VideoWriter(vid_save_path, fourcc, fps, (width, height), True)\n",
    "        \n",
    "    writer.write(output_vid)\n",
    "    \n",
    "    cv2.imshow(\"Output_vid\", output_vid)\n",
    "    key = cv2.waitKey(1) & 0xFF\n",
    "    \n",
    "    if key == ord(\"q\"):\n",
    "        break\n",
    "        \n",
    "\n",
    "writer.release()\n",
    "vid_stream.release()\n",
    "cv2.destroyAllWindows()"
   ]
  },
  {
   "cell_type": "code",
   "execution_count": null,
   "metadata": {},
   "outputs": [],
   "source": []
  },
  {
   "cell_type": "code",
   "execution_count": null,
   "metadata": {},
   "outputs": [],
   "source": []
  }
 ],
 "metadata": {
  "kernelspec": {
   "display_name": "Python 3",
   "language": "python",
   "name": "python3"
  },
  "language_info": {
   "codemirror_mode": {
    "name": "ipython",
    "version": 3
   },
   "file_extension": ".py",
   "mimetype": "text/x-python",
   "name": "python",
   "nbconvert_exporter": "python",
   "pygments_lexer": "ipython3",
   "version": "3.7.6"
  }
 },
 "nbformat": 4,
 "nbformat_minor": 4
}
