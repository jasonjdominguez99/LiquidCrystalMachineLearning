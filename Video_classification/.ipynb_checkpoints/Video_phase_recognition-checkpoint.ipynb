{
 "cells": [
  {
   "cell_type": "markdown",
   "metadata": {},
   "source": [
    "# Using a CNN trained for LC texture phase classification to classify LC phase transition videos"
   ]
  },
  {
   "cell_type": "markdown",
   "metadata": {},
   "source": [
    "## 1. Aim"
   ]
  },
  {
   "cell_type": "markdown",
   "metadata": {},
   "source": [
    "The aim of this notebook is to prove the concept of using a CNN, trained for detecting the phase of a texture between Isotropic, Nematic, SmA, SmF, and Cholesteric, for detecting what phase is present in a video of a LC undergoing a phase transition. The approach will be to train a CNN on LC texture images \"good\" LC texture classifier. Then, this trained CNN will be applied to the frames of a test video to predict, for each frame, what phase is present in the video. It will hopefully be able to notice phase transitions."
   ]
  },
  {
   "cell_type": "markdown",
   "metadata": {},
   "source": [
    "Data leakage is important in this task, it should be made sure that images used to train the CNN are not from videos used when testing. Equally, in the training of the CNN for image classification, it should be made sure that training images and validation images do not come from the same videos (images for this task may have been obtained by using VLC for grabbing frames of LC videos)."
   ]
  },
  {
   "cell_type": "code",
   "execution_count": 3,
   "metadata": {},
   "outputs": [],
   "source": [
    "file_title = \"Video_phase_recognition\" "
   ]
  },
  {
   "cell_type": "code",
   "execution_count": 4,
   "metadata": {},
   "outputs": [],
   "source": [
    "import numpy as np\n",
    "import matplotlib.pyplot as plt\n",
    "import tensorflow as tf\n",
    "from keras import Model\n",
    "from keras import layers\n",
    "from keras.preprocessing.image import ImageDataGenerator\n",
    "from keras.callbacks import ModelCheckpoint"
   ]
  },
  {
   "cell_type": "markdown",
   "metadata": {},
   "source": [
    "## 2. Retrieving data and image preprocessing"
   ]
  },
  {
   "cell_type": "code",
   "execution_count": 9,
   "metadata": {},
   "outputs": [],
   "source": [
    "img_directory = \"C:/Users/Jason/Documents/University/Year_4/MPhys_Project(s)/Liquid_crystals-machine_learning/(I,N,Chol,Sm)Images\"\n",
    "\n",
    "train_dir = img_directory + \"/Train\"\n",
    "val_dir = img_directory + \"/Val\""
   ]
  },
  {
   "cell_type": "code",
   "execution_count": 10,
   "metadata": {},
   "outputs": [
    {
     "name": "stdout",
     "output_type": "stream",
     "text": [
      "Found 3378 images belonging to 4 classes.\n",
      "Found 1737 images belonging to 4 classes.\n"
     ]
    }
   ],
   "source": [
    "train_datagen = ImageDataGenerator(rescale = 1/255,\n",
    "                                   rotation_range = 15,\n",
    "                                   width_shift_range = 0.1,\n",
    "                                   height_shift_range = 0.1,\n",
    "                                   zoom_range = 0.2,\n",
    "                                   horizontal_flip = True,\n",
    "                                   vertical_flip = True\n",
    "                                  )\n",
    "val_datagen = ImageDataGenerator(rescale = 1/255)\n",
    "\n",
    "train_generator = train_datagen.flow_from_directory(train_dir,\n",
    "                                                    batch_size = 16,\n",
    "                                                    class_mode = \"categorical\",\n",
    "                                                    color_mode = \"grayscale\",\n",
    "                                                    target_size = (256, 256)\n",
    "                                                   )\n",
    "val_generator = val_datagen.flow_from_directory(val_dir,\n",
    "                                                batch_size = 16,\n",
    "                                                class_mode = \"categorical\",\n",
    "                                                color_mode = \"grayscale\",\n",
    "                                                target_size = (256,256)\n",
    "                                               )"
   ]
  },
  {
   "cell_type": "markdown",
   "metadata": {},
   "source": [
    "## 3. Building the model"
   ]
  },
  {
   "cell_type": "code",
   "execution_count": 5,
   "metadata": {},
   "outputs": [
    {
     "name": "stdout",
     "output_type": "stream",
     "text": [
      "Model: \"sequential\"\n",
      "_________________________________________________________________\n",
      "Layer (type)                 Output Shape              Param #   \n",
      "=================================================================\n",
      "conv2d (Conv2D)              (None, 252, 252, 32)      832       \n",
      "_________________________________________________________________\n",
      "batch_normalization (BatchNo (None, 252, 252, 32)      128       \n",
      "_________________________________________________________________\n",
      "max_pooling2d (MaxPooling2D) (None, 126, 126, 32)      0         \n",
      "_________________________________________________________________\n",
      "conv2d_1 (Conv2D)            (None, 124, 124, 64)      18496     \n",
      "_________________________________________________________________\n",
      "batch_normalization_1 (Batch (None, 124, 124, 64)      256       \n",
      "_________________________________________________________________\n",
      "max_pooling2d_1 (MaxPooling2 (None, 62, 62, 64)        0         \n",
      "_________________________________________________________________\n",
      "dropout (Dropout)            (None, 62, 62, 64)        0         \n",
      "_________________________________________________________________\n",
      "conv2d_2 (Conv2D)            (None, 60, 60, 128)       73856     \n",
      "_________________________________________________________________\n",
      "batch_normalization_2 (Batch (None, 60, 60, 128)       512       \n",
      "_________________________________________________________________\n",
      "max_pooling2d_2 (MaxPooling2 (None, 30, 30, 128)       0         \n",
      "_________________________________________________________________\n",
      "conv2d_3 (Conv2D)            (None, 28, 28, 256)       295168    \n",
      "_________________________________________________________________\n",
      "batch_normalization_3 (Batch (None, 28, 28, 256)       1024      \n",
      "_________________________________________________________________\n",
      "max_pooling2d_3 (MaxPooling2 (None, 14, 14, 256)       0         \n",
      "_________________________________________________________________\n",
      "dropout_1 (Dropout)          (None, 14, 14, 256)       0         \n",
      "_________________________________________________________________\n",
      "global_average_pooling2d (Gl (None, 256)               0         \n",
      "_________________________________________________________________\n",
      "dense (Dense)                (None, 1024)              263168    \n",
      "_________________________________________________________________\n",
      "dropout_2 (Dropout)          (None, 1024)              0         \n",
      "_________________________________________________________________\n",
      "dense_1 (Dense)              (None, 256)               262400    \n",
      "_________________________________________________________________\n",
      "dropout_3 (Dropout)          (None, 256)               0         \n",
      "_________________________________________________________________\n",
      "dense_2 (Dense)              (None, 4)                 1028      \n",
      "=================================================================\n",
      "Total params: 916,868\n",
      "Trainable params: 915,908\n",
      "Non-trainable params: 960\n",
      "_________________________________________________________________\n"
     ]
    }
   ],
   "source": [
    "model = tf.keras.models.Sequential([\n",
    "    layers.Conv2D(32, kernel_size=(5,5), activation = \"relu\", input_shape=(256,256,1)),\n",
    "    layers.BatchNormalization(),\n",
    "    layers.MaxPooling2D(2,2),\n",
    "    \n",
    "    layers.Conv2D(64, kernel_size=(3,3), activation = \"relu\"),\n",
    "    layers.BatchNormalization(),\n",
    "    layers.MaxPooling2D(2,2),\n",
    "    layers.Dropout(0.2),\n",
    "    \n",
    "    layers.Conv2D(128, kernel_size=(3,3), activation = \"relu\"),\n",
    "    layers.BatchNormalization(),\n",
    "    layers.MaxPooling2D(2,2),\n",
    "    \n",
    "    layers.Conv2D(256, kernel_size=(3,3), activation = \"relu\"),\n",
    "    layers.BatchNormalization(),\n",
    "    layers.MaxPooling2D(2,2),\n",
    "    layers.Dropout(0.2),\n",
    "    \n",
    "    layers.GlobalAveragePooling2D(),\n",
    "    layers.Dense(1024, activation=\"relu\"),\n",
    "    layers.Dropout(0.5),\n",
    "    layers.Dense(256, activation=\"relu\"),\n",
    "    layers.Dropout(0.5),\n",
    "    \n",
    "    layers.Dense(4, activation=\"softmax\")\n",
    "])\n",
    "\n",
    "model.summary()"
   ]
  },
  {
   "cell_type": "markdown",
   "metadata": {},
   "source": [
    "## 4. Training the model"
   ]
  },
  {
   "cell_type": "code",
   "execution_count": 6,
   "metadata": {},
   "outputs": [],
   "source": [
    "model_save_dir = \"C:/Users/Jason/Documents/University/Year_4/MPhys_Project(s)/\" + str(file_title) + \"_saved_model\""
   ]
  },
  {
   "cell_type": "code",
   "execution_count": null,
   "metadata": {},
   "outputs": [
    {
     "name": "stdout",
     "output_type": "stream",
     "text": [
      "Epoch 1/100\n",
      "212/212 [==============================] - ETA: 0s - loss: 0.4255 - accuracy: 0.8458WARNING:tensorflow:From C:\\Users\\Jason\\anaconda3\\lib\\site-packages\\tensorflow\\python\\training\\tracking\\tracking.py:111: Model.state_updates (from tensorflow.python.keras.engine.training) is deprecated and will be removed in a future version.\n",
      "Instructions for updating:\n",
      "This property should not be used in TensorFlow 2.0, as updates are applied automatically.\n",
      "WARNING:tensorflow:From C:\\Users\\Jason\\anaconda3\\lib\\site-packages\\tensorflow\\python\\training\\tracking\\tracking.py:111: Layer.updates (from tensorflow.python.keras.engine.base_layer) is deprecated and will be removed in a future version.\n",
      "Instructions for updating:\n",
      "This property should not be used in TensorFlow 2.0, as updates are applied automatically.\n",
      "INFO:tensorflow:Assets written to: C:/Users/Jason/Documents/University/Year_4/MPhys_Project(s)\\Video_phase_recognition_saved_model\\assets\n",
      "212/212 [==============================] - 534s 3s/step - loss: 0.4255 - accuracy: 0.8458 - val_loss: 2.7543 - val_accuracy: 0.2717\n",
      "Epoch 2/100\n",
      "212/212 [==============================] - ETA: 0s - loss: 0.3399 - accuracy: 0.8680INFO:tensorflow:Assets written to: C:/Users/Jason/Documents/University/Year_4/MPhys_Project(s)\\Video_phase_recognition_saved_model\\assets\n",
      "212/212 [==============================] - 538s 3s/step - loss: 0.3399 - accuracy: 0.8680 - val_loss: 2.7804 - val_accuracy: 0.3448\n",
      "Epoch 3/100\n",
      "212/212 [==============================] - ETA: 0s - loss: 0.2644 - accuracy: 0.8976INFO:tensorflow:Assets written to: C:/Users/Jason/Documents/University/Year_4/MPhys_Project(s)\\Video_phase_recognition_saved_model\\assets\n",
      "212/212 [==============================] - 497s 2s/step - loss: 0.2644 - accuracy: 0.8976 - val_loss: 5.1172 - val_accuracy: 0.3811\n",
      "Epoch 4/100\n",
      "212/212 [==============================] - ETA: 0s - loss: 0.2426 - accuracy: 0.9038INFO:tensorflow:Assets written to: C:/Users/Jason/Documents/University/Year_4/MPhys_Project(s)\\Video_phase_recognition_saved_model\\assets\n",
      "212/212 [==============================] - 504s 2s/step - loss: 0.2426 - accuracy: 0.9038 - val_loss: 4.4009 - val_accuracy: 0.5665\n",
      "Epoch 5/100\n",
      "212/212 [==============================] - 513s 2s/step - loss: 0.2481 - accuracy: 0.9073 - val_loss: 2.6043 - val_accuracy: 0.4519\n",
      "Epoch 6/100\n",
      "212/212 [==============================] - 6905s 33s/step - loss: 0.1823 - accuracy: 0.9224 - val_loss: 2.3018 - val_accuracy: 0.3995\n",
      "Epoch 7/100\n",
      "212/212 [==============================] - 458s 2s/step - loss: 0.2024 - accuracy: 0.9213 - val_loss: 7.0043 - val_accuracy: 0.3794\n",
      "Epoch 8/100\n",
      "212/212 [==============================] - 497s 2s/step - loss: 0.2310 - accuracy: 0.9180 - val_loss: 4.5877 - val_accuracy: 0.4007\n",
      "Epoch 9/100\n",
      "212/212 [==============================] - 513s 2s/step - loss: 0.1784 - accuracy: 0.9287 - val_loss: 3.8086 - val_accuracy: 0.4634\n",
      "Epoch 10/100\n",
      "212/212 [==============================] - 514s 2s/step - loss: 0.1669 - accuracy: 0.9414 - val_loss: 2.0322 - val_accuracy: 0.5164\n",
      "Epoch 11/100\n",
      "212/212 [==============================] - 523s 2s/step - loss: 0.1716 - accuracy: 0.9313 - val_loss: 2.4843 - val_accuracy: 0.3771\n",
      "Epoch 12/100\n",
      "212/212 [==============================] - 522s 2s/step - loss: 0.1669 - accuracy: 0.9390 - val_loss: 1.7489 - val_accuracy: 0.4991\n",
      "Epoch 13/100\n",
      "212/212 [==============================] - 527s 2s/step - loss: 0.1279 - accuracy: 0.9544 - val_loss: 5.6779 - val_accuracy: 0.4352\n",
      "Epoch 14/100\n",
      "212/212 [==============================] - 549s 3s/step - loss: 0.1409 - accuracy: 0.9523 - val_loss: 5.2452 - val_accuracy: 0.4370\n",
      "Epoch 15/100\n",
      "212/212 [==============================] - 548s 3s/step - loss: 0.1214 - accuracy: 0.9520 - val_loss: 2.7827 - val_accuracy: 0.4295\n",
      "Epoch 16/100\n",
      "212/212 [==============================] - 552s 3s/step - loss: 0.2069 - accuracy: 0.9174 - val_loss: 3.6454 - val_accuracy: 0.4491\n",
      "Epoch 17/100\n",
      "212/212 [==============================] - 573s 3s/step - loss: 0.1265 - accuracy: 0.9559 - val_loss: 2.6681 - val_accuracy: 0.4450\n",
      "Epoch 18/100\n",
      "212/212 [==============================] - 492s 2s/step - loss: 0.1409 - accuracy: 0.9482 - val_loss: 3.0247 - val_accuracy: 0.4882\n",
      "Epoch 19/100\n",
      "212/212 [==============================] - 474s 2s/step - loss: 0.1033 - accuracy: 0.9621 - val_loss: 3.1367 - val_accuracy: 0.4427\n",
      "Epoch 20/100\n",
      "212/212 [==============================] - 468s 2s/step - loss: 0.1054 - accuracy: 0.9633 - val_loss: 2.3508 - val_accuracy: 0.4945\n",
      "Epoch 21/100\n",
      "212/212 [==============================] - 476s 2s/step - loss: 0.0999 - accuracy: 0.9657 - val_loss: 1.6838 - val_accuracy: 0.4191\n",
      "Epoch 22/100\n",
      "212/212 [==============================] - 469s 2s/step - loss: 0.0789 - accuracy: 0.9665 - val_loss: 5.6914 - val_accuracy: 0.3679\n",
      "Epoch 23/100\n",
      "212/212 [==============================] - 482s 2s/step - loss: 0.1345 - accuracy: 0.9574 - val_loss: 6.1302 - val_accuracy: 0.3800\n",
      "Epoch 24/100\n",
      "212/212 [==============================] - 477s 2s/step - loss: 0.1004 - accuracy: 0.9639 - val_loss: 2.1542 - val_accuracy: 0.5521\n",
      "Epoch 25/100\n",
      "212/212 [==============================] - 465s 2s/step - loss: 0.1062 - accuracy: 0.9636 - val_loss: 4.0214 - val_accuracy: 0.3972\n",
      "Epoch 26/100\n",
      "212/212 [==============================] - 476s 2s/step - loss: 0.0959 - accuracy: 0.9668 - val_loss: 2.0809 - val_accuracy: 0.4214\n",
      "Epoch 27/100\n",
      "212/212 [==============================] - ETA: 0s - loss: 0.0868 - accuracy: 0.9710INFO:tensorflow:Assets written to: C:/Users/Jason/Documents/University/Year_4/MPhys_Project(s)\\Video_phase_recognition_saved_model\\assets\n",
      "212/212 [==============================] - 482s 2s/step - loss: 0.0868 - accuracy: 0.9710 - val_loss: 2.0193 - val_accuracy: 0.6183\n",
      "Epoch 28/100\n",
      "212/212 [==============================] - 503s 2s/step - loss: 0.0929 - accuracy: 0.9683 - val_loss: 1.5411 - val_accuracy: 0.4922\n",
      "Epoch 29/100\n",
      "212/212 [==============================] - 505s 2s/step - loss: 0.1523 - accuracy: 0.9594 - val_loss: 3.3029 - val_accuracy: 0.4623\n",
      "Epoch 30/100\n",
      "212/212 [==============================] - 504s 2s/step - loss: 0.0840 - accuracy: 0.9737 - val_loss: 4.9772 - val_accuracy: 0.4272\n",
      "Epoch 31/100\n",
      "212/212 [==============================] - 501s 2s/step - loss: 0.0939 - accuracy: 0.9716 - val_loss: 2.3161 - val_accuracy: 0.4755\n",
      "Epoch 32/100\n",
      "212/212 [==============================] - 505s 2s/step - loss: 0.0563 - accuracy: 0.9813 - val_loss: 3.3597 - val_accuracy: 0.4301\n",
      "Epoch 33/100\n",
      "212/212 [==============================] - 481s 2s/step - loss: 0.0639 - accuracy: 0.9778 - val_loss: 2.2575 - val_accuracy: 0.5440\n",
      "Epoch 34/100\n",
      "212/212 [==============================] - 479s 2s/step - loss: 0.0680 - accuracy: 0.9745 - val_loss: 2.2531 - val_accuracy: 0.4606\n",
      "Epoch 35/100\n",
      "212/212 [==============================] - 481s 2s/step - loss: 0.0653 - accuracy: 0.9802 - val_loss: 2.2735 - val_accuracy: 0.5717\n",
      "Epoch 36/100\n",
      "212/212 [==============================] - 478s 2s/step - loss: 0.0664 - accuracy: 0.9840 - val_loss: 5.1907 - val_accuracy: 0.4646\n",
      "Epoch 37/100\n",
      "212/212 [==============================] - 472s 2s/step - loss: 0.0632 - accuracy: 0.9781 - val_loss: 2.5896 - val_accuracy: 0.5843\n",
      "Epoch 38/100\n",
      "212/212 [==============================] - 477s 2s/step - loss: 0.0476 - accuracy: 0.9855 - val_loss: 3.8967 - val_accuracy: 0.4467\n",
      "Epoch 39/100\n",
      "212/212 [==============================] - 475s 2s/step - loss: 0.0646 - accuracy: 0.9819 - val_loss: 2.4447 - val_accuracy: 0.5463\n",
      "Epoch 40/100\n",
      "212/212 [==============================] - 468s 2s/step - loss: 0.0616 - accuracy: 0.9840 - val_loss: 3.6041 - val_accuracy: 0.5291\n",
      "Epoch 41/100\n",
      "212/212 [==============================] - 472s 2s/step - loss: 0.0607 - accuracy: 0.9816 - val_loss: 3.2384 - val_accuracy: 0.5060\n",
      "Epoch 42/100\n",
      "212/212 [==============================] - 468s 2s/step - loss: 0.0448 - accuracy: 0.9876 - val_loss: 3.0736 - val_accuracy: 0.5389\n",
      "Epoch 43/100\n",
      "212/212 [==============================] - 460s 2s/step - loss: 0.0454 - accuracy: 0.9864 - val_loss: 7.4202 - val_accuracy: 0.4473\n",
      "Epoch 44/100\n",
      "212/212 [==============================] - 451s 2s/step - loss: 0.0493 - accuracy: 0.9855 - val_loss: 2.9863 - val_accuracy: 0.5964\n"
     ]
    },
    {
     "name": "stdout",
     "output_type": "stream",
     "text": [
      "Epoch 45/100\n",
      "212/212 [==============================] - 450s 2s/step - loss: 0.0687 - accuracy: 0.9793 - val_loss: 3.8452 - val_accuracy: 0.5993\n",
      "Epoch 46/100\n",
      "212/212 [==============================] - 462s 2s/step - loss: 0.0505 - accuracy: 0.9855 - val_loss: 4.0778 - val_accuracy: 0.5037\n",
      "Epoch 47/100\n",
      "212/212 [==============================] - ETA: 0s - loss: 0.0526 - accuracy: 0.9852INFO:tensorflow:Assets written to: C:/Users/Jason/Documents/University/Year_4/MPhys_Project(s)\\Video_phase_recognition_saved_model\\assets\n",
      "212/212 [==============================] - 463s 2s/step - loss: 0.0526 - accuracy: 0.9852 - val_loss: 2.2718 - val_accuracy: 0.6505\n",
      "Epoch 48/100\n",
      "212/212 [==============================] - 460s 2s/step - loss: 0.0316 - accuracy: 0.9902 - val_loss: 2.9681 - val_accuracy: 0.5584\n",
      "Epoch 49/100\n",
      "212/212 [==============================] - 462s 2s/step - loss: 0.0531 - accuracy: 0.9855 - val_loss: 12.6906 - val_accuracy: 0.5348\n",
      "Epoch 50/100\n",
      "212/212 [==============================] - 458s 2s/step - loss: 0.0982 - accuracy: 0.9769 - val_loss: 5.9243 - val_accuracy: 0.5452\n",
      "Epoch 51/100\n",
      "212/212 [==============================] - 465s 2s/step - loss: 0.0584 - accuracy: 0.9849 - val_loss: 3.8186 - val_accuracy: 0.5533\n",
      "Epoch 52/100\n",
      "212/212 [==============================] - 461s 2s/step - loss: 0.0283 - accuracy: 0.9905 - val_loss: 5.1753 - val_accuracy: 0.5337\n",
      "Epoch 53/100\n",
      "212/212 [==============================] - 464s 2s/step - loss: 0.0545 - accuracy: 0.9867 - val_loss: 3.6092 - val_accuracy: 0.5659\n",
      "Epoch 54/100\n",
      "212/212 [==============================] - 466s 2s/step - loss: 0.0551 - accuracy: 0.9819 - val_loss: 4.5191 - val_accuracy: 0.4761\n",
      "Epoch 55/100\n",
      "212/212 [==============================] - 462s 2s/step - loss: 0.0575 - accuracy: 0.9843 - val_loss: 4.3419 - val_accuracy: 0.4974\n",
      "Epoch 56/100\n",
      "212/212 [==============================] - 464s 2s/step - loss: 0.0516 - accuracy: 0.9867 - val_loss: 4.1702 - val_accuracy: 0.5826\n",
      "Epoch 57/100\n",
      "212/212 [==============================] - 464s 2s/step - loss: 0.0432 - accuracy: 0.9890 - val_loss: 2.7134 - val_accuracy: 0.6091\n",
      "Epoch 58/100\n",
      "212/212 [==============================] - 467s 2s/step - loss: 0.0313 - accuracy: 0.9893 - val_loss: 6.2390 - val_accuracy: 0.5717\n",
      "Epoch 59/100\n",
      "212/212 [==============================] - 481s 2s/step - loss: 0.0372 - accuracy: 0.9888 - val_loss: 3.7047 - val_accuracy: 0.5003\n",
      "Epoch 60/100\n",
      "212/212 [==============================] - 479s 2s/step - loss: 0.0468 - accuracy: 0.9852 - val_loss: 2.8040 - val_accuracy: 0.5889\n",
      "Epoch 61/100\n",
      "212/212 [==============================] - 484s 2s/step - loss: 0.0400 - accuracy: 0.9888 - val_loss: 4.5805 - val_accuracy: 0.5423\n",
      "Epoch 62/100\n",
      "212/212 [==============================] - 485s 2s/step - loss: 0.0493 - accuracy: 0.9846 - val_loss: 4.7503 - val_accuracy: 0.4940\n",
      "Epoch 63/100\n",
      "212/212 [==============================] - 476s 2s/step - loss: 0.0390 - accuracy: 0.9873 - val_loss: 5.1557 - val_accuracy: 0.5233\n",
      "Epoch 64/100\n",
      "212/212 [==============================] - 493s 2s/step - loss: 0.0309 - accuracy: 0.9890 - val_loss: 4.0524 - val_accuracy: 0.5475\n",
      "Epoch 65/100\n",
      "212/212 [==============================] - 485s 2s/step - loss: 0.0358 - accuracy: 0.9893 - val_loss: 4.5085 - val_accuracy: 0.5901\n",
      "Epoch 66/100\n",
      "212/212 [==============================] - 505s 2s/step - loss: 0.0488 - accuracy: 0.9873 - val_loss: 3.2182 - val_accuracy: 0.5987\n",
      "Epoch 67/100\n",
      "212/212 [==============================] - 490s 2s/step - loss: 0.0301 - accuracy: 0.9908 - val_loss: 4.8857 - val_accuracy: 0.5959\n",
      "Epoch 68/100\n",
      "212/212 [==============================] - ETA: 0s - loss: 0.0240 - accuracy: 0.9941INFO:tensorflow:Assets written to: C:/Users/Jason/Documents/University/Year_4/MPhys_Project(s)\\Video_phase_recognition_saved_model\\assets\n",
      "212/212 [==============================] - 499s 2s/step - loss: 0.0240 - accuracy: 0.9941 - val_loss: 2.4885 - val_accuracy: 0.6839\n",
      "Epoch 69/100\n",
      "212/212 [==============================] - ETA: 0s - loss: 0.0235 - accuracy: 0.9920INFO:tensorflow:Assets written to: C:/Users/Jason/Documents/University/Year_4/MPhys_Project(s)\\Video_phase_recognition_saved_model\\assets\n",
      "212/212 [==============================] - 507s 2s/step - loss: 0.0235 - accuracy: 0.9920 - val_loss: 3.2035 - val_accuracy: 0.6908\n",
      "Epoch 70/100\n",
      "212/212 [==============================] - 485s 2s/step - loss: 0.0259 - accuracy: 0.9929 - val_loss: 5.5807 - val_accuracy: 0.5521\n",
      "Epoch 71/100\n",
      "212/212 [==============================] - 485s 2s/step - loss: 0.0274 - accuracy: 0.9932 - val_loss: 6.1358 - val_accuracy: 0.5527\n",
      "Epoch 72/100\n",
      "212/212 [==============================] - 482s 2s/step - loss: 0.0620 - accuracy: 0.9876 - val_loss: 11.0088 - val_accuracy: 0.5561\n",
      "Epoch 73/100\n",
      "212/212 [==============================] - 485s 2s/step - loss: 0.0391 - accuracy: 0.9914 - val_loss: 5.6069 - val_accuracy: 0.6292\n",
      "Epoch 74/100\n",
      "114/212 [===============>..............] - ETA: 3:16 - loss: 0.0406 - accuracy: 0.9868"
     ]
    }
   ],
   "source": [
    "model.compile(optimizer=\"adam\", loss=\"categorical_crossentropy\", metrics=[\"accuracy\"])\n",
    "checkpoint = ModelCheckpoint(model_save_dir, monitor = \"val_accuracy\", save_best_only = True, mode=\"max\")\n",
    "history = model.fit(train_generator,\n",
    "                    validation_data=val_generator,\n",
    "                    epochs=100,\n",
    "                    callbacks=[checkpoint],\n",
    "                    verbose=1\n",
    "                   )"
   ]
  },
  {
   "cell_type": "markdown",
   "metadata": {},
   "source": [
    "## 5. Results"
   ]
  },
  {
   "cell_type": "markdown",
   "metadata": {},
   "source": [
    "### Plotting the training and validation accuracy"
   ]
  },
  {
   "cell_type": "code",
   "execution_count": 1,
   "metadata": {},
   "outputs": [
    {
     "ename": "NameError",
     "evalue": "name 'history' is not defined",
     "output_type": "error",
     "traceback": [
      "\u001b[1;31m---------------------------------------------------------------------------\u001b[0m",
      "\u001b[1;31mNameError\u001b[0m                                 Traceback (most recent call last)",
      "\u001b[1;32m<ipython-input-1-603ab39c6520>\u001b[0m in \u001b[0;36m<module>\u001b[1;34m\u001b[0m\n\u001b[1;32m----> 1\u001b[1;33m \u001b[0macc\u001b[0m \u001b[1;33m=\u001b[0m \u001b[0mhistory\u001b[0m\u001b[1;33m.\u001b[0m\u001b[0mhistory\u001b[0m\u001b[1;33m[\u001b[0m\u001b[1;34m'accuracy'\u001b[0m\u001b[1;33m]\u001b[0m\u001b[1;33m\u001b[0m\u001b[1;33m\u001b[0m\u001b[0m\n\u001b[0m\u001b[0;32m      2\u001b[0m \u001b[0mval_acc\u001b[0m \u001b[1;33m=\u001b[0m \u001b[0mhistory\u001b[0m\u001b[1;33m.\u001b[0m\u001b[0mhistory\u001b[0m\u001b[1;33m[\u001b[0m\u001b[1;34m'val_accuracy'\u001b[0m\u001b[1;33m]\u001b[0m\u001b[1;33m\u001b[0m\u001b[1;33m\u001b[0m\u001b[0m\n\u001b[0;32m      3\u001b[0m \u001b[0mloss\u001b[0m \u001b[1;33m=\u001b[0m \u001b[0mhistory\u001b[0m\u001b[1;33m.\u001b[0m\u001b[0mhistory\u001b[0m\u001b[1;33m[\u001b[0m\u001b[1;34m'loss'\u001b[0m\u001b[1;33m]\u001b[0m\u001b[1;33m\u001b[0m\u001b[1;33m\u001b[0m\u001b[0m\n\u001b[0;32m      4\u001b[0m \u001b[0mval_loss\u001b[0m \u001b[1;33m=\u001b[0m \u001b[0mhistory\u001b[0m\u001b[1;33m.\u001b[0m\u001b[0mhistory\u001b[0m\u001b[1;33m[\u001b[0m\u001b[1;34m'val_loss'\u001b[0m\u001b[1;33m]\u001b[0m\u001b[1;33m\u001b[0m\u001b[1;33m\u001b[0m\u001b[0m\n\u001b[0;32m      5\u001b[0m \u001b[1;33m\u001b[0m\u001b[0m\n",
      "\u001b[1;31mNameError\u001b[0m: name 'history' is not defined"
     ]
    }
   ],
   "source": [
    "acc = history.history['accuracy']\n",
    "val_acc = history.history['val_accuracy']\n",
    "loss = history.history['loss']\n",
    "val_loss = history.history['val_loss']\n",
    "\n",
    "epochs = range(len(acc))\n",
    "\n",
    "plt.figure(figsize=(10,9))\n",
    "\n",
    "plt.subplot(2,1,1)\n",
    "plt.plot(epochs, acc, 'r', label=\"Training Accuracy\")\n",
    "plt.plot(epochs, val_acc, 'b', label=\"Validation Accuracy\")\n",
    "plt.title('Training and validation accuracy')\n",
    "plt.legend(loc=0)\n",
    "plt.grid(True)\n",
    "plt.xlabel(\"Epochs\")\n",
    "plt.ylabel(\"Accuracy\")\n",
    "\n",
    "plt.subplot(2,1,2)\n",
    "plt.plot(epochs, loss, 'r', label=\"Training Loss\")\n",
    "plt.plot(epochs, val_loss, 'b', label=\"Validation Loss\")\n",
    "plt.title('Training and validation loss')\n",
    "plt.legend(loc=0)\n",
    "plt.grid(True)\n",
    "plt.xlabel(\"Epochs\")\n",
    "plt.ylabel(\"Loss\")\n",
    "\n",
    "plt.savefig(str(file_title) + \"-train_val_graph\")\n",
    "plt.show()"
   ]
  },
  {
   "cell_type": "markdown",
   "metadata": {},
   "source": [
    "## 6. Testing trained model on images"
   ]
  },
  {
   "cell_type": "code",
   "execution_count": 5,
   "metadata": {},
   "outputs": [
    {
     "name": "stdout",
     "output_type": "stream",
     "text": [
      "Model: \"sequential\"\n",
      "_________________________________________________________________\n",
      "Layer (type)                 Output Shape              Param #   \n",
      "=================================================================\n",
      "conv2d (Conv2D)              (None, 252, 252, 32)      832       \n",
      "_________________________________________________________________\n",
      "batch_normalization (BatchNo (None, 252, 252, 32)      128       \n",
      "_________________________________________________________________\n",
      "max_pooling2d (MaxPooling2D) (None, 126, 126, 32)      0         \n",
      "_________________________________________________________________\n",
      "conv2d_1 (Conv2D)            (None, 124, 124, 64)      18496     \n",
      "_________________________________________________________________\n",
      "batch_normalization_1 (Batch (None, 124, 124, 64)      256       \n",
      "_________________________________________________________________\n",
      "max_pooling2d_1 (MaxPooling2 (None, 62, 62, 64)        0         \n",
      "_________________________________________________________________\n",
      "dropout (Dropout)            (None, 62, 62, 64)        0         \n",
      "_________________________________________________________________\n",
      "conv2d_2 (Conv2D)            (None, 60, 60, 128)       73856     \n",
      "_________________________________________________________________\n",
      "batch_normalization_2 (Batch (None, 60, 60, 128)       512       \n",
      "_________________________________________________________________\n",
      "max_pooling2d_2 (MaxPooling2 (None, 30, 30, 128)       0         \n",
      "_________________________________________________________________\n",
      "conv2d_3 (Conv2D)            (None, 28, 28, 256)       295168    \n",
      "_________________________________________________________________\n",
      "batch_normalization_3 (Batch (None, 28, 28, 256)       1024      \n",
      "_________________________________________________________________\n",
      "max_pooling2d_3 (MaxPooling2 (None, 14, 14, 256)       0         \n",
      "_________________________________________________________________\n",
      "dropout_1 (Dropout)          (None, 14, 14, 256)       0         \n",
      "_________________________________________________________________\n",
      "global_average_pooling2d (Gl (None, 256)               0         \n",
      "_________________________________________________________________\n",
      "dense (Dense)                (None, 1024)              263168    \n",
      "_________________________________________________________________\n",
      "dropout_2 (Dropout)          (None, 1024)              0         \n",
      "_________________________________________________________________\n",
      "dense_1 (Dense)              (None, 256)               262400    \n",
      "_________________________________________________________________\n",
      "dropout_3 (Dropout)          (None, 256)               0         \n",
      "_________________________________________________________________\n",
      "dense_2 (Dense)              (None, 4)                 1028      \n",
      "=================================================================\n",
      "Total params: 916,868\n",
      "Trainable params: 0\n",
      "Non-trainable params: 916,868\n",
      "_________________________________________________________________\n"
     ]
    }
   ],
   "source": [
    "model_load_dir = \"C:/Users/Jason/Documents/University/Year_4/MPhys_Project(s)/\" + str(file_title) + \"_saved_model\"\n",
    "trained_model = tf.keras.models.load_model(model_load_dir)\n",
    "\n",
    "for layer in trained_model.layers:\n",
    "  layer.trainable = False\n",
    "\n",
    "trained_model.summary()"
   ]
  },
  {
   "cell_type": "markdown",
   "metadata": {},
   "source": [
    "### Confusion matrix and classification report"
   ]
  },
  {
   "cell_type": "code",
   "execution_count": 6,
   "metadata": {},
   "outputs": [],
   "source": [
    "from sklearn.metrics import classification_report, confusion_matrix\n",
    "import itertools"
   ]
  },
  {
   "cell_type": "code",
   "execution_count": 11,
   "metadata": {},
   "outputs": [
    {
     "name": "stdout",
     "output_type": "stream",
     "text": [
      "Found 1737 images belonging to 4 classes.\n"
     ]
    }
   ],
   "source": [
    "fixed_val_datagen = ImageDataGenerator(rescale = 1/255)\n",
    "fixed_val_generator = fixed_val_datagen.flow_from_directory(val_dir,\n",
    "                                                batch_size = 16,\n",
    "                                                class_mode = \"categorical\",\n",
    "                                                color_mode = \"grayscale\",\n",
    "                                                target_size = (256,256),\n",
    "                                                shuffle = False\n",
    "                                               )"
   ]
  },
  {
   "cell_type": "code",
   "execution_count": 12,
   "metadata": {},
   "outputs": [
    {
     "name": "stdout",
     "output_type": "stream",
     "text": [
      "109/109 [==============================] - 46s 418ms/step\n"
     ]
    }
   ],
   "source": [
    "predictions = trained_model.predict(fixed_val_generator, batch_size=16, verbose=1)\n",
    "y_pred = np.argmax(predictions, axis=1)\n",
    "\n",
    "y_true = fixed_val_generator.classes"
   ]
  },
  {
   "cell_type": "code",
   "execution_count": 13,
   "metadata": {},
   "outputs": [
    {
     "name": "stdout",
     "output_type": "stream",
     "text": [
      "              precision    recall  f1-score   support\n",
      "\n",
      "           0       1.00      1.00      1.00       458\n",
      "           1       0.56      0.07      0.12       214\n",
      "           2       0.72      0.43      0.54       531\n",
      "           3       0.53      0.94      0.68       534\n",
      "\n",
      "    accuracy                           0.69      1737\n",
      "   macro avg       0.70      0.61      0.58      1737\n",
      "weighted avg       0.72      0.69      0.65      1737\n",
      "\n"
     ]
    }
   ],
   "source": [
    "print(classification_report(y_true, y_pred))"
   ]
  },
  {
   "cell_type": "code",
   "execution_count": 14,
   "metadata": {},
   "outputs": [],
   "source": [
    "def plot_confusion_matrix(cm, target_names, title='Confusion matrix', cmap=None, normalize=True, save=True):\n",
    "    \"\"\"\n",
    "    from: https://www.kaggle.com/grfiv4/plot-a-confusion-matrix\n",
    "    \"\"\"\n",
    "    accuracy = np.trace(cm) / float(np.sum(cm))\n",
    "    misclass = 1 - accuracy\n",
    "    \n",
    "    if cmap is None:\n",
    "        cmap = plt.get_cmap('Blues')\n",
    "\n",
    "    plt.figure(figsize=(8, 6))\n",
    "    plt.imshow(cm, interpolation='nearest', cmap=cmap)\n",
    "    plt.title(title)\n",
    "    plt.colorbar()\n",
    "\n",
    "    if target_names is not None:\n",
    "        tick_marks = np.arange(len(target_names))\n",
    "        plt.xticks(tick_marks, target_names, rotation=45)\n",
    "        plt.yticks(tick_marks, target_names)\n",
    "\n",
    "    if normalize:\n",
    "        cm = cm.astype('float') / cm.sum(axis=1)[:, np.newaxis]\n",
    "\n",
    "\n",
    "    thresh = cm.max() / 1.5 if normalize else cm.max() / 2\n",
    "    \n",
    "    for i, j in itertools.product(range(cm.shape[0]), range(cm.shape[1])):\n",
    "        if normalize:\n",
    "            plt.text(j, i, \"{:0.4f}\".format(cm[i, j]),\n",
    "                     horizontalalignment=\"center\",\n",
    "                     color=\"white\" if cm[i, j] > thresh else \"black\")\n",
    "        else:\n",
    "            plt.text(j, i, \"{:,}\".format(cm[i, j]),\n",
    "                     horizontalalignment=\"center\",\n",
    "                     color=\"white\" if cm[i, j] > thresh else \"black\")\n",
    "\n",
    "\n",
    "    plt.tight_layout()\n",
    "    plt.ylabel('True label')\n",
    "    plt.xlabel('Predicted label\\naccuracy={:0.4f}; misclass={:0.4f}'.format(accuracy, misclass))\n",
    "    \n",
    "    if save:\n",
    "        plt.savefig(str(file_title) + \"-confusion_matrix\")\n",
    "    \n",
    "    plt.show()"
   ]
  },
  {
   "cell_type": "code",
   "execution_count": 15,
   "metadata": {},
   "outputs": [
    {
     "data": {
      "image/png": "[encoded data removed]",
      "text/plain": [
       "<Figure size 576x432 with 2 Axes>"
      ]
     },
     "metadata": {
      "needs_background": "light"
     },
     "output_type": "display_data"
    }
   ],
   "source": [
    "cm = confusion_matrix(y_true, y_pred)\n",
    "target_names = [\"Isotropic\", \"Nematic\", \"Cholesteric\", \"Smectic\"]\n",
    "\n",
    "plot_confusion_matrix(cm,\n",
    "                      target_names,\n",
    "                      title=\"Confusion matrix\",\n",
    "                      normalize=True,\n",
    "                      save=True\n",
    "                     )"
   ]
  },
  {
   "cell_type": "markdown",
   "metadata": {},
   "source": [
    "## 7. Testing trained model on a video"
   ]
  },
  {
   "cell_type": "code",
   "execution_count": 16,
   "metadata": {},
   "outputs": [],
   "source": [
    "import cv2\n",
    "import collections"
   ]
  },
  {
   "cell_type": "code",
   "execution_count": 17,
   "metadata": {},
   "outputs": [],
   "source": [
    "size = 1\n",
    "queue = collections.deque(maxlen=size)"
   ]
  },
  {
   "cell_type": "code",
   "execution_count": 30,
   "metadata": {},
   "outputs": [],
   "source": [
    "vid_path = \"C:/Users/Jason/Documents/University/Year_4/MPhys_Project(s)/Liquid_crystals-machine_learning/(I,N,Chol,Sm)Test_videos/Nematic_defect formation-1_Ingo_Dierking.avi\"\n",
    "vid_save_path = \"C:/Users/Jason/Documents/\" + str(file_title) + \".avi\"\n",
    "vid_stream = cv2.VideoCapture(vid_path)\n",
    "\n",
    "writer = None\n",
    "(W, H) = (None, None)\n",
    "\n",
    "while True:\n",
    "    (grabbed, frame) = vid_stream.read()\n",
    "    if not grabbed:\n",
    "        break\n",
    "        \n",
    "    if W is None or H is None:\n",
    "        (W, H) = frame.shape[:2]\n",
    "        \n",
    "    output_vid = frame.copy()\n",
    "    frame = cv2.cvtColor(frame, cv2.COLOR_BGR2GRAY)\n",
    "    frame = cv2.resize(frame, (254, 254)).astype(\"float32\")\n",
    "    \n",
    "    pred = trained_model.predict(np.expand_dims(frame, axis=(0,3)))\n",
    "    y_predict = np.argmax(pred, axis=1)\n",
    "    #queue.append(pred)\n",
    "    \n",
    "    label = target_names[y_predict[0]]\n",
    "    #results = np.array(queue).mean(axis=0)\n",
    "    #i = np.argmax(results)\n",
    "    #label = target_names[i]\n",
    "    \n",
    "    text = \"Phase: {}\".format(label)\n",
    "    cv2.putText(output_vid, text, (35,50), cv2.FONT_HERSHEY_SIMPLEX,\n",
    "               1.25, (0, 255, 0), 5)\n",
    "    \n",
    "    if writer is None:\n",
    "        fourcc = cv2.VideoWriter_fourcc(*\"MPEG\")\n",
    "        writer = cv2.VideoWriter(vid_save_path, fourcc, 30, (W,H), True)\n",
    "        \n",
    "    writer.write(output_vid)\n",
    "    \n",
    "    cv2.imshow(\"Output_vid\", output_vid)\n",
    "    key = cv2.waitKey(1) & 0xFF\n",
    "    \n",
    "    if key == ord(\"q\"):\n",
    "        break"
   ]
  },
  {
   "cell_type": "code",
   "execution_count": 31,
   "metadata": {},
   "outputs": [],
   "source": [
    "writer.release()\n",
    "vid_stream.release()\n",
    "cv2.destroyAllWindows()"
   ]
  },
  {
   "cell_type": "code",
   "execution_count": null,
   "metadata": {},
   "outputs": [],
   "source": []
  }
 ],
 "metadata": {
  "kernelspec": {
   "display_name": "Python 3",
   "language": "python",
   "name": "python3"
  },
  "language_info": {
   "codemirror_mode": {
    "name": "ipython",
    "version": 3
   },
   "file_extension": ".py",
   "mimetype": "text/x-python",
   "name": "python",
   "nbconvert_exporter": "python",
   "pygments_lexer": "ipython3",
   "version": "3.7.6"
  }
 },
 "nbformat": 4,
 "nbformat_minor": 4
}
