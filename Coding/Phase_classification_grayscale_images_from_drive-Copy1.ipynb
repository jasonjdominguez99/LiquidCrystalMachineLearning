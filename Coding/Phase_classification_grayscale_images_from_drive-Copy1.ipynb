{
 "cells": [
  {
   "cell_type": "markdown",
   "metadata": {},
   "source": [
    "This notebook was created at 23:53 18/10/20"
   ]
  },
  {
   "cell_type": "markdown",
   "metadata": {},
   "source": [
    "Liquid crystal phase classification using deep learning techniques"
   ]
  },
  {
   "cell_type": "markdown",
   "metadata": {},
   "source": [
    "First attempt to classify liquid crystal phases using the dataset shared by Josh Heaton."
   ]
  },
  {
   "cell_type": "code",
   "execution_count": null,
   "metadata": {},
   "outputs": [],
   "source": [
    "pip install pydot"
   ]
  },
  {
   "cell_type": "code",
   "execution_count": 15,
   "metadata": {},
   "outputs": [],
   "source": [
    "import numpy as np\n",
    "import matplotlib.pyplot as plt\n",
    "from keras.models import Model\n",
    "from keras.layers import Input, Dense, Activation, ZeroPadding2D, BatchNormalization, Flatten, Conv2D\n",
    "from keras.layers import AveragePooling2D, MaxPooling2D, Dropout, GlobalMaxPooling2D, GlobalAveragePooling2D\n",
    "from keras.layers.experimental.preprocessing import Rescaling, RandomFlip\n",
    "from keras.preprocessing import image_dataset_from_directory\n",
    "from keras.utils import plot_model\n",
    "from keras.callbacks import ReduceLROnPlateau, EarlyStopping\n",
    "from sklearn.metrics import confusion_matrix"
   ]
  },
  {
   "cell_type": "markdown",
   "metadata": {},
   "source": [
    "Load in the data."
   ]
  },
  {
   "cell_type": "code",
   "execution_count": 16,
   "metadata": {},
   "outputs": [
    {
     "name": "stdout",
     "output_type": "stream",
     "text": [
      "Found 1775 files belonging to 5 classes.\n",
      "Found 452 files belonging to 5 classes.\n"
     ]
    }
   ],
   "source": [
    "train_directory = \"C:/Users/Jason/Documents/University/Year_4/MPhys_Project(s)/Liquid_crystals-machine_learning/Images_from_drive_bigger_val/Training\"\n",
    "test_directory = \"C:/Users/Jason/Documents/University/Year_4/MPhys_Project(s)/Liquid_crystals-machine_learning/Images_from_drive_bigger_val/Validation\"\n",
    "image_size = (200,200)\n",
    "\n",
    "# Change images to grayscale as colour isnt an important feature at this stage\n",
    "train_dataset = image_dataset_from_directory(train_directory,\n",
    "                            labels=\"inferred\",\n",
    "                            label_mode=\"categorical\",\n",
    "                            color_mode=\"grayscale\",\n",
    "                            batch_size=64,\n",
    "                            image_size=image_size,\n",
    "                            shuffle=True\n",
    "                        )\n",
    "val_dataset = image_dataset_from_directory(test_directory,\n",
    "                            labels=\"inferred\",\n",
    "                            label_mode=\"categorical\",\n",
    "                            color_mode=\"grayscale\",\n",
    "                            batch_size=64,\n",
    "                            image_size=image_size,\n",
    "                            shuffle=True\n",
    "                        )"
   ]
  },
  {
   "cell_type": "markdown",
   "metadata": {},
   "source": [
    "Let's see if the files imported as expected."
   ]
  },
  {
   "cell_type": "code",
   "execution_count": 17,
   "metadata": {},
   "outputs": [
    {
     "name": "stdout",
     "output_type": "stream",
     "text": [
      "(TensorSpec(shape=(None, 200, 200, 1), dtype=tf.float32, name=None), TensorSpec(shape=(None, 5), dtype=tf.float32, name=None))\n",
      "['Cholesteric', 'Columnar', 'Nematic', 'Smectic', 'Twist_grain_boundary']\n",
      "(64, 200, 200, 1)\n",
      "<dtype: 'float32'>\n",
      "(64, 5)\n",
      "<dtype: 'float32'>\n",
      "(64, 200, 200, 1)\n",
      "<dtype: 'float32'>\n",
      "(64, 5)\n",
      "<dtype: 'float32'>\n",
      "(64, 200, 200, 1)\n",
      "<dtype: 'float32'>\n",
      "(64, 5)\n",
      "<dtype: 'float32'>\n",
      "(64, 200, 200, 1)\n",
      "<dtype: 'float32'>\n",
      "(64, 5)\n",
      "<dtype: 'float32'>\n",
      "(64, 200, 200, 1)\n",
      "<dtype: 'float32'>\n",
      "(64, 5)\n",
      "<dtype: 'float32'>\n",
      "(64, 200, 200, 1)\n",
      "<dtype: 'float32'>\n",
      "(64, 5)\n",
      "<dtype: 'float32'>\n",
      "(64, 200, 200, 1)\n",
      "<dtype: 'float32'>\n",
      "(64, 5)\n",
      "<dtype: 'float32'>\n",
      "(64, 200, 200, 1)\n",
      "<dtype: 'float32'>\n",
      "(64, 5)\n",
      "<dtype: 'float32'>\n",
      "(64, 200, 200, 1)\n",
      "<dtype: 'float32'>\n",
      "(64, 5)\n",
      "<dtype: 'float32'>\n",
      "(64, 200, 200, 1)\n",
      "<dtype: 'float32'>\n",
      "(64, 5)\n",
      "<dtype: 'float32'>\n",
      "(64, 200, 200, 1)\n",
      "<dtype: 'float32'>\n",
      "(64, 5)\n",
      "<dtype: 'float32'>\n",
      "(64, 200, 200, 1)\n",
      "<dtype: 'float32'>\n",
      "(64, 5)\n",
      "<dtype: 'float32'>\n",
      "(64, 200, 200, 1)\n",
      "<dtype: 'float32'>\n",
      "(64, 5)\n",
      "<dtype: 'float32'>\n",
      "(64, 200, 200, 1)\n",
      "<dtype: 'float32'>\n",
      "(64, 5)\n",
      "<dtype: 'float32'>\n",
      "(64, 200, 200, 1)\n",
      "<dtype: 'float32'>\n",
      "(64, 5)\n",
      "<dtype: 'float32'>\n",
      "(64, 200, 200, 1)\n",
      "<dtype: 'float32'>\n",
      "(64, 5)\n",
      "<dtype: 'float32'>\n",
      "(64, 200, 200, 1)\n",
      "<dtype: 'float32'>\n",
      "(64, 5)\n",
      "<dtype: 'float32'>\n",
      "(64, 200, 200, 1)\n",
      "<dtype: 'float32'>\n",
      "(64, 5)\n",
      "<dtype: 'float32'>\n",
      "(64, 200, 200, 1)\n",
      "<dtype: 'float32'>\n",
      "(64, 5)\n",
      "<dtype: 'float32'>\n",
      "(64, 200, 200, 1)\n",
      "<dtype: 'float32'>\n",
      "(64, 5)\n",
      "<dtype: 'float32'>\n",
      "(64, 200, 200, 1)\n",
      "<dtype: 'float32'>\n",
      "(64, 5)\n",
      "<dtype: 'float32'>\n",
      "(64, 200, 200, 1)\n",
      "<dtype: 'float32'>\n",
      "(64, 5)\n",
      "<dtype: 'float32'>\n",
      "(64, 200, 200, 1)\n",
      "<dtype: 'float32'>\n",
      "(64, 5)\n",
      "<dtype: 'float32'>\n",
      "(64, 200, 200, 1)\n",
      "<dtype: 'float32'>\n",
      "(64, 5)\n",
      "<dtype: 'float32'>\n",
      "(64, 200, 200, 1)\n",
      "<dtype: 'float32'>\n",
      "(64, 5)\n",
      "<dtype: 'float32'>\n",
      "(64, 200, 200, 1)\n",
      "<dtype: 'float32'>\n",
      "(64, 5)\n",
      "<dtype: 'float32'>\n",
      "(64, 200, 200, 1)\n",
      "<dtype: 'float32'>\n",
      "(64, 5)\n",
      "<dtype: 'float32'>\n",
      "(47, 200, 200, 1)\n",
      "<dtype: 'float32'>\n",
      "(47, 5)\n",
      "<dtype: 'float32'>\n"
     ]
    }
   ],
   "source": [
    "print(train_dataset.element_spec)\n",
    "print(train_dataset.class_names)\n",
    "for data, labels in train_dataset:\n",
    "    print(data.shape)\n",
    "    print(data.dtype)\n",
    "    print(labels.shape)\n",
    "    print(labels.dtype)"
   ]
  },
  {
   "cell_type": "code",
   "execution_count": 18,
   "metadata": {},
   "outputs": [
    {
     "name": "stdout",
     "output_type": "stream",
     "text": [
      "(TensorSpec(shape=(None, 200, 200, 1), dtype=tf.float32, name=None), TensorSpec(shape=(None, 5), dtype=tf.float32, name=None))\n",
      "['Cholesteric', 'Columnar', 'Nematic', 'Smectic', 'Twist_grain_boundary']\n",
      "(64, 200, 200, 1)\n",
      "<dtype: 'float32'>\n",
      "(64, 5)\n",
      "<dtype: 'float32'>\n",
      "(64, 200, 200, 1)\n",
      "<dtype: 'float32'>\n",
      "(64, 5)\n",
      "<dtype: 'float32'>\n",
      "(64, 200, 200, 1)\n",
      "<dtype: 'float32'>\n",
      "(64, 5)\n",
      "<dtype: 'float32'>\n",
      "(64, 200, 200, 1)\n",
      "<dtype: 'float32'>\n",
      "(64, 5)\n",
      "<dtype: 'float32'>\n",
      "(64, 200, 200, 1)\n",
      "<dtype: 'float32'>\n",
      "(64, 5)\n",
      "<dtype: 'float32'>\n",
      "(64, 200, 200, 1)\n",
      "<dtype: 'float32'>\n",
      "(64, 5)\n",
      "<dtype: 'float32'>\n",
      "(64, 200, 200, 1)\n",
      "<dtype: 'float32'>\n",
      "(64, 5)\n",
      "<dtype: 'float32'>\n",
      "(4, 200, 200, 1)\n",
      "<dtype: 'float32'>\n",
      "(4, 5)\n",
      "<dtype: 'float32'>\n"
     ]
    }
   ],
   "source": [
    "print(val_dataset.element_spec)\n",
    "print(val_dataset.class_names)\n",
    "for data, labels in val_dataset:\n",
    "    print(data.shape)\n",
    "    print(data.dtype)\n",
    "    print(labels.shape)\n",
    "    print(labels.dtype)"
   ]
  },
  {
   "cell_type": "markdown",
   "metadata": {},
   "source": [
    "Let's define a function to plot a graph to see how our model works over iterations. (From Josh Heaton)"
   ]
  },
  {
   "cell_type": "code",
   "execution_count": 19,
   "metadata": {},
   "outputs": [],
   "source": [
    "def plot_loss_acc_history(history):\n",
    "    fig, axis = plt.subplots(2)\n",
    "    #fig.subtitle('Training losses and accuracies')\n",
    "    \n",
    "    axis[0].plot(history.history['loss'], label='loss')\n",
    "    axis[0].plot(history.history['val_loss'], label='val_loss')\n",
    "    axis[0].set_xlabel('Epoch')\n",
    "    axis[0].set_ylabel('Loss')\n",
    "    axis[0].legend(loc='upper right')\n",
    "    \n",
    "    axis[1].plot(history.history['accuracy'], label='accuracy')\n",
    "    axis[1].plot(history.history['val_accuracy'], label='val_accuracy')\n",
    "    axis[1].set_xlabel('Epoch')\n",
    "    axis[1].set_ylabel('Accuracy')\n",
    "    axis[1].legend(loc='upper right')\n",
    "\n",
    "    plt.show()"
   ]
  },
  {
   "cell_type": "markdown",
   "metadata": {},
   "source": [
    "Let's define our pipeline."
   ]
  },
  {
   "cell_type": "code",
   "execution_count": 20,
   "metadata": {},
   "outputs": [],
   "source": [
    "image_shape = (image_size[0], image_size[1], 1)\n",
    "X_inputs = Input(shape = image_shape)\n",
    "# Rescale images to have values in range [0,1]\n",
    "X = Rescaling(scale = 1/255)(X_inputs)\n",
    "X = RandomFlip()(X)\n",
    "\n",
    "# Apply convolutional and pooling layers\n",
    "X = Conv2D(filters=16, kernel_size=(3,3))(X)\n",
    "X = BatchNormalization()(X)\n",
    "X = Activation(\"relu\")(X)\n",
    "X = MaxPooling2D(pool_size=(2,2))(X)\n",
    "\n",
    "X = Conv2D(filters=32, kernel_size=(3,3))(X)\n",
    "X = BatchNormalization()(X)\n",
    "X = Activation(\"relu\")(X)\n",
    "X = MaxPooling2D(pool_size=(2,2))(X)\n",
    "\n",
    "X = Conv2D(filters=64, kernel_size=(3,3))(X)\n",
    "X = BatchNormalization()(X)\n",
    "X = Activation(\"relu\")(X)\n",
    "X = MaxPooling2D(pool_size=(2,2))(X)\n",
    "\n",
    "X = Conv2D(filters=128, kernel_size=(3,3))(X)\n",
    "X = BatchNormalization()(X)\n",
    "X = Activation(\"relu\")(X)\n",
    "X = MaxPooling2D(pool_size=(3,2))(X)\n",
    "\n",
    "# Apply fully connected layers\n",
    "X = Flatten()(X)\n",
    "X = Dense(units=128, activation=\"relu\")(X)\n",
    "X = Dropout(0.5)(X)\n",
    "X = Dense(units=64, activation=\"relu\")(X)\n",
    "X = Dropout(0.5)(X)\n",
    "# Output layer\n",
    "num_classes = 5\n",
    "X_outputs = Dense(units=num_classes, activation=\"softmax\")(X)\n",
    "\n",
    "model = Model(inputs = X_inputs, outputs = X_outputs)"
   ]
  },
  {
   "cell_type": "markdown",
   "metadata": {},
   "source": [
    "Let's see what this model looks like."
   ]
  },
  {
   "cell_type": "code",
   "execution_count": 21,
   "metadata": {},
   "outputs": [
    {
     "name": "stdout",
     "output_type": "stream",
     "text": [
      "Model: \"functional_3\"\n",
      "_________________________________________________________________\n",
      "Layer (type)                 Output Shape              Param #   \n",
      "=================================================================\n",
      "input_2 (InputLayer)         [(None, 200, 200, 1)]     0         \n",
      "_________________________________________________________________\n",
      "rescaling_1 (Rescaling)      (None, 200, 200, 1)       0         \n",
      "_________________________________________________________________\n",
      "random_flip_1 (RandomFlip)   (None, 200, 200, 1)       0         \n",
      "_________________________________________________________________\n",
      "conv2d_4 (Conv2D)            (None, 198, 198, 16)      160       \n",
      "_________________________________________________________________\n",
      "batch_normalization_4 (Batch (None, 198, 198, 16)      64        \n",
      "_________________________________________________________________\n",
      "activation_4 (Activation)    (None, 198, 198, 16)      0         \n",
      "_________________________________________________________________\n",
      "max_pooling2d_4 (MaxPooling2 (None, 99, 99, 16)        0         \n",
      "_________________________________________________________________\n",
      "conv2d_5 (Conv2D)            (None, 97, 97, 32)        4640      \n",
      "_________________________________________________________________\n",
      "batch_normalization_5 (Batch (None, 97, 97, 32)        128       \n",
      "_________________________________________________________________\n",
      "activation_5 (Activation)    (None, 97, 97, 32)        0         \n",
      "_________________________________________________________________\n",
      "max_pooling2d_5 (MaxPooling2 (None, 48, 48, 32)        0         \n",
      "_________________________________________________________________\n",
      "conv2d_6 (Conv2D)            (None, 46, 46, 64)        18496     \n",
      "_________________________________________________________________\n",
      "batch_normalization_6 (Batch (None, 46, 46, 64)        256       \n",
      "_________________________________________________________________\n",
      "activation_6 (Activation)    (None, 46, 46, 64)        0         \n",
      "_________________________________________________________________\n",
      "max_pooling2d_6 (MaxPooling2 (None, 23, 23, 64)        0         \n",
      "_________________________________________________________________\n",
      "conv2d_7 (Conv2D)            (None, 21, 21, 128)       73856     \n",
      "_________________________________________________________________\n",
      "batch_normalization_7 (Batch (None, 21, 21, 128)       512       \n",
      "_________________________________________________________________\n",
      "activation_7 (Activation)    (None, 21, 21, 128)       0         \n",
      "_________________________________________________________________\n",
      "max_pooling2d_7 (MaxPooling2 (None, 10, 10, 128)       0         \n",
      "_________________________________________________________________\n",
      "flatten_1 (Flatten)          (None, 12800)             0         \n",
      "_________________________________________________________________\n",
      "dense_3 (Dense)              (None, 128)               1638528   \n",
      "_________________________________________________________________\n",
      "dropout_2 (Dropout)          (None, 128)               0         \n",
      "_________________________________________________________________\n",
      "dense_4 (Dense)              (None, 64)                8256      \n",
      "_________________________________________________________________\n",
      "dropout_3 (Dropout)          (None, 64)                0         \n",
      "_________________________________________________________________\n",
      "dense_5 (Dense)              (None, 5)                 325       \n",
      "=================================================================\n",
      "Total params: 1,745,221\n",
      "Trainable params: 1,744,741\n",
      "Non-trainable params: 480\n",
      "_________________________________________________________________\n"
     ]
    }
   ],
   "source": [
    "model.summary()"
   ]
  },
  {
   "cell_type": "code",
   "execution_count": 10,
   "metadata": {},
   "outputs": [
    {
     "name": "stdout",
     "output_type": "stream",
     "text": [
      "('Failed to import pydot. You must `pip install pydot` and install graphviz (https://graphviz.gitlab.io/download/), ', 'for `pydotprint` to work.')\n"
     ]
    }
   ],
   "source": [
    "plot_model(model, to_file=\"LC_phase_CNN.png\", show_shapes=True)"
   ]
  },
  {
   "cell_type": "markdown",
   "metadata": {},
   "source": [
    "Now we need to compile, train and test the model."
   ]
  },
  {
   "cell_type": "code",
   "execution_count": 11,
   "metadata": {},
   "outputs": [],
   "source": [
    "model.compile(optimizer=\"adam\", loss=\"categorical_crossentropy\", metrics=[\"accuracy\"])"
   ]
  },
  {
   "cell_type": "code",
   "execution_count": 12,
   "metadata": {},
   "outputs": [
    {
     "name": "stdout",
     "output_type": "stream",
     "text": [
      "Epoch 1/100\n",
      "28/28 - 119s - loss: 1.3747 - accuracy: 0.4862 - val_loss: 1.5831 - val_accuracy: 0.3053\n",
      "Epoch 2/100\n",
      "28/28 - 118s - loss: 0.7953 - accuracy: 0.7256 - val_loss: 1.6561 - val_accuracy: 0.3053\n",
      "Epoch 3/100\n",
      "28/28 - 119s - loss: 0.5367 - accuracy: 0.8208 - val_loss: 1.7390 - val_accuracy: 0.3053\n",
      "Epoch 4/100\n",
      "28/28 - 118s - loss: 0.3871 - accuracy: 0.8625 - val_loss: 2.0817 - val_accuracy: 0.1128\n",
      "Epoch 5/100\n",
      "28/28 - 118s - loss: 0.3041 - accuracy: 0.9025 - val_loss: 2.7977 - val_accuracy: 0.1128\n",
      "Epoch 6/100\n",
      "28/28 - 118s - loss: 0.2120 - accuracy: 0.9341 - val_loss: 2.5941 - val_accuracy: 0.1128\n",
      "Epoch 7/100\n",
      "28/28 - 118s - loss: 0.1440 - accuracy: 0.9521 - val_loss: 3.6319 - val_accuracy: 0.1128\n",
      "Epoch 8/100\n",
      "28/28 - 113s - loss: 0.1357 - accuracy: 0.9572 - val_loss: 3.6973 - val_accuracy: 0.1681\n",
      "Epoch 9/100\n",
      "28/28 - 115s - loss: 0.1186 - accuracy: 0.9662 - val_loss: 5.6680 - val_accuracy: 0.0951\n",
      "Epoch 10/100\n",
      "28/28 - 118s - loss: 0.0854 - accuracy: 0.9758 - val_loss: 5.3433 - val_accuracy: 0.1327\n",
      "Epoch 11/100\n",
      "28/28 - 117s - loss: 0.1006 - accuracy: 0.9701 - val_loss: 4.1174 - val_accuracy: 0.2168\n",
      "Epoch 12/100\n",
      "28/28 - 118s - loss: 0.0714 - accuracy: 0.9820 - val_loss: 6.4076 - val_accuracy: 0.3053\n",
      "Epoch 13/100\n",
      "28/28 - 117s - loss: 0.0673 - accuracy: 0.9848 - val_loss: 6.1490 - val_accuracy: 0.3053\n",
      "Epoch 14/100\n",
      "28/28 - 117s - loss: 0.0463 - accuracy: 0.9876 - val_loss: 4.0669 - val_accuracy: 0.2898\n",
      "Epoch 15/100\n",
      "28/28 - 118s - loss: 0.0470 - accuracy: 0.9893 - val_loss: 7.9850 - val_accuracy: 0.3053\n",
      "Epoch 16/100\n",
      "28/28 - 118s - loss: 0.0497 - accuracy: 0.9870 - val_loss: 5.3290 - val_accuracy: 0.3053\n",
      "Epoch 17/100\n",
      "28/28 - 117s - loss: 0.0452 - accuracy: 0.9899 - val_loss: 5.0170 - val_accuracy: 0.4204\n",
      "Epoch 18/100\n",
      "28/28 - 118s - loss: 0.1087 - accuracy: 0.9707 - val_loss: 5.1251 - val_accuracy: 0.4425\n",
      "Epoch 19/100\n",
      "28/28 - 116s - loss: 0.0660 - accuracy: 0.9803 - val_loss: 5.0070 - val_accuracy: 0.5199\n",
      "Epoch 20/100\n",
      "28/28 - 118s - loss: 0.0477 - accuracy: 0.9870 - val_loss: 4.8713 - val_accuracy: 0.4093\n",
      "Epoch 21/100\n",
      "28/28 - 119s - loss: 0.0419 - accuracy: 0.9893 - val_loss: 4.4248 - val_accuracy: 0.5199\n",
      "Epoch 22/100\n",
      "28/28 - 118s - loss: 0.0560 - accuracy: 0.9870 - val_loss: 5.9620 - val_accuracy: 0.5376\n",
      "Epoch 23/100\n",
      "28/28 - 118s - loss: 0.0274 - accuracy: 0.9944 - val_loss: 3.4178 - val_accuracy: 0.6350\n",
      "Epoch 24/100\n",
      "28/28 - 118s - loss: 0.0204 - accuracy: 0.9938 - val_loss: 3.8890 - val_accuracy: 0.5730\n",
      "Epoch 25/100\n",
      "28/28 - 118s - loss: 0.0186 - accuracy: 0.9921 - val_loss: 1.7355 - val_accuracy: 0.7854\n",
      "Epoch 26/100\n",
      "28/28 - 117s - loss: 0.0443 - accuracy: 0.9893 - val_loss: 3.0126 - val_accuracy: 0.5177\n",
      "Epoch 27/100\n",
      "28/28 - 118s - loss: 0.0172 - accuracy: 0.9944 - val_loss: 3.3246 - val_accuracy: 0.4867\n",
      "Epoch 28/100\n",
      "28/28 - 117s - loss: 0.0223 - accuracy: 0.9938 - val_loss: 3.7860 - val_accuracy: 0.6394\n",
      "Epoch 29/100\n",
      "28/28 - 118s - loss: 0.0378 - accuracy: 0.9904 - val_loss: 2.1235 - val_accuracy: 0.5509\n",
      "Epoch 30/100\n",
      "28/28 - 111s - loss: 0.0208 - accuracy: 0.9927 - val_loss: 1.9790 - val_accuracy: 0.7102\n",
      "Epoch 31/100\n",
      "28/28 - 116s - loss: 0.0219 - accuracy: 0.9949 - val_loss: 2.2556 - val_accuracy: 0.7412\n",
      "Epoch 32/100\n",
      "28/28 - 115s - loss: 0.0151 - accuracy: 0.9949 - val_loss: 4.3652 - val_accuracy: 0.4690\n",
      "Epoch 33/100\n",
      "28/28 - 115s - loss: 0.0129 - accuracy: 0.9949 - val_loss: 2.1990 - val_accuracy: 0.7035\n",
      "Epoch 34/100\n",
      "28/28 - 116s - loss: 0.0100 - accuracy: 0.9977 - val_loss: 2.6051 - val_accuracy: 0.6195\n",
      "Epoch 35/100\n",
      "28/28 - 116s - loss: 0.0102 - accuracy: 0.9955 - val_loss: 1.8533 - val_accuracy: 0.7655\n",
      "Epoch 36/100\n",
      "28/28 - 115s - loss: 0.0071 - accuracy: 0.9983 - val_loss: 2.9337 - val_accuracy: 0.6504\n",
      "Epoch 37/100\n",
      "28/28 - 118s - loss: 0.0079 - accuracy: 0.9994 - val_loss: 2.3142 - val_accuracy: 0.6438\n",
      "Epoch 38/100\n",
      "28/28 - 116s - loss: 0.0105 - accuracy: 0.9972 - val_loss: 5.1959 - val_accuracy: 0.5243\n",
      "Epoch 39/100\n",
      "28/28 - 116s - loss: 0.0241 - accuracy: 0.9944 - val_loss: 3.4287 - val_accuracy: 0.6969\n",
      "Epoch 40/100\n",
      "28/28 - 116s - loss: 0.0491 - accuracy: 0.9893 - val_loss: 11.4681 - val_accuracy: 0.3650\n",
      "Epoch 41/100\n",
      "28/28 - 117s - loss: 0.0239 - accuracy: 0.9955 - val_loss: 3.5593 - val_accuracy: 0.4956\n",
      "Epoch 42/100\n",
      "28/28 - 118s - loss: 0.0141 - accuracy: 0.9961 - val_loss: 3.1974 - val_accuracy: 0.6195\n",
      "Epoch 43/100\n",
      "28/28 - 116s - loss: 0.0209 - accuracy: 0.9938 - val_loss: 1.9661 - val_accuracy: 0.6991\n",
      "Epoch 44/100\n",
      "28/28 - 115s - loss: 0.0156 - accuracy: 0.9961 - val_loss: 5.5714 - val_accuracy: 0.4115\n",
      "Epoch 45/100\n",
      "28/28 - 115s - loss: 0.0237 - accuracy: 0.9938 - val_loss: 3.7139 - val_accuracy: 0.6659\n",
      "Epoch 46/100\n",
      "28/28 - 116s - loss: 0.0070 - accuracy: 0.9977 - val_loss: 3.5483 - val_accuracy: 0.6681\n",
      "Epoch 47/100\n",
      "28/28 - 115s - loss: 0.0094 - accuracy: 0.9989 - val_loss: 2.1788 - val_accuracy: 0.7699\n",
      "Epoch 48/100\n",
      "28/28 - 116s - loss: 0.0079 - accuracy: 0.9989 - val_loss: 4.9418 - val_accuracy: 0.5885\n",
      "Epoch 49/100\n",
      "28/28 - 117s - loss: 0.0246 - accuracy: 0.9932 - val_loss: 7.9635 - val_accuracy: 0.5973\n",
      "Epoch 50/100\n",
      "28/28 - 119s - loss: 0.0512 - accuracy: 0.9859 - val_loss: 3.5594 - val_accuracy: 0.5420\n",
      "Epoch 51/100\n",
      "28/28 - 113s - loss: 0.0183 - accuracy: 0.9932 - val_loss: 1.4164 - val_accuracy: 0.7478\n",
      "Epoch 52/100\n",
      "28/28 - 119s - loss: 0.0356 - accuracy: 0.9887 - val_loss: 11.4125 - val_accuracy: 0.4690\n",
      "Epoch 53/100\n",
      "28/28 - 118s - loss: 0.0343 - accuracy: 0.9910 - val_loss: 4.8921 - val_accuracy: 0.5553\n",
      "Epoch 54/100\n",
      "28/28 - 115s - loss: 0.0241 - accuracy: 0.9938 - val_loss: 2.4967 - val_accuracy: 0.7743\n",
      "Epoch 55/100\n",
      "28/28 - 118s - loss: 0.0158 - accuracy: 0.9966 - val_loss: 3.6894 - val_accuracy: 0.5973\n",
      "Epoch 56/100\n"
     ]
    },
    {
     "ename": "KeyboardInterrupt",
     "evalue": "",
     "output_type": "error",
     "traceback": [
      "\u001b[1;31m---------------------------------------------------------------------------\u001b[0m",
      "\u001b[1;31mKeyboardInterrupt\u001b[0m                         Traceback (most recent call last)",
      "\u001b[1;32m<ipython-input-12-25b7843272d5>\u001b[0m in \u001b[0;36m<module>\u001b[1;34m\u001b[0m\n\u001b[1;32m----> 1\u001b[1;33m \u001b[0mhistory\u001b[0m \u001b[1;33m=\u001b[0m \u001b[0mmodel\u001b[0m\u001b[1;33m.\u001b[0m\u001b[0mfit\u001b[0m\u001b[1;33m(\u001b[0m\u001b[0mx\u001b[0m\u001b[1;33m=\u001b[0m\u001b[0mtrain_dataset\u001b[0m\u001b[1;33m,\u001b[0m \u001b[0mepochs\u001b[0m\u001b[1;33m=\u001b[0m\u001b[1;36m100\u001b[0m\u001b[1;33m,\u001b[0m \u001b[0mverbose\u001b[0m\u001b[1;33m=\u001b[0m\u001b[1;36m2\u001b[0m\u001b[1;33m,\u001b[0m \u001b[0mvalidation_data\u001b[0m\u001b[1;33m=\u001b[0m\u001b[0mval_dataset\u001b[0m\u001b[1;33m)\u001b[0m\u001b[1;33m\u001b[0m\u001b[1;33m\u001b[0m\u001b[0m\n\u001b[0m",
      "\u001b[1;32m~\\anaconda3\\lib\\site-packages\\tensorflow\\python\\keras\\engine\\training.py\u001b[0m in \u001b[0;36m_method_wrapper\u001b[1;34m(self, *args, **kwargs)\u001b[0m\n\u001b[0;32m    106\u001b[0m   \u001b[1;32mdef\u001b[0m \u001b[0m_method_wrapper\u001b[0m\u001b[1;33m(\u001b[0m\u001b[0mself\u001b[0m\u001b[1;33m,\u001b[0m \u001b[1;33m*\u001b[0m\u001b[0margs\u001b[0m\u001b[1;33m,\u001b[0m \u001b[1;33m**\u001b[0m\u001b[0mkwargs\u001b[0m\u001b[1;33m)\u001b[0m\u001b[1;33m:\u001b[0m\u001b[1;33m\u001b[0m\u001b[1;33m\u001b[0m\u001b[0m\n\u001b[0;32m    107\u001b[0m     \u001b[1;32mif\u001b[0m \u001b[1;32mnot\u001b[0m \u001b[0mself\u001b[0m\u001b[1;33m.\u001b[0m\u001b[0m_in_multi_worker_mode\u001b[0m\u001b[1;33m(\u001b[0m\u001b[1;33m)\u001b[0m\u001b[1;33m:\u001b[0m  \u001b[1;31m# pylint: disable=protected-access\u001b[0m\u001b[1;33m\u001b[0m\u001b[1;33m\u001b[0m\u001b[0m\n\u001b[1;32m--> 108\u001b[1;33m       \u001b[1;32mreturn\u001b[0m \u001b[0mmethod\u001b[0m\u001b[1;33m(\u001b[0m\u001b[0mself\u001b[0m\u001b[1;33m,\u001b[0m \u001b[1;33m*\u001b[0m\u001b[0margs\u001b[0m\u001b[1;33m,\u001b[0m \u001b[1;33m**\u001b[0m\u001b[0mkwargs\u001b[0m\u001b[1;33m)\u001b[0m\u001b[1;33m\u001b[0m\u001b[1;33m\u001b[0m\u001b[0m\n\u001b[0m\u001b[0;32m    109\u001b[0m \u001b[1;33m\u001b[0m\u001b[0m\n\u001b[0;32m    110\u001b[0m     \u001b[1;31m# Running inside `run_distribute_coordinator` already.\u001b[0m\u001b[1;33m\u001b[0m\u001b[1;33m\u001b[0m\u001b[1;33m\u001b[0m\u001b[0m\n",
      "\u001b[1;32m~\\anaconda3\\lib\\site-packages\\tensorflow\\python\\keras\\engine\\training.py\u001b[0m in \u001b[0;36mfit\u001b[1;34m(self, x, y, batch_size, epochs, verbose, callbacks, validation_split, validation_data, shuffle, class_weight, sample_weight, initial_epoch, steps_per_epoch, validation_steps, validation_batch_size, validation_freq, max_queue_size, workers, use_multiprocessing)\u001b[0m\n\u001b[0;32m   1096\u001b[0m                 batch_size=batch_size):\n\u001b[0;32m   1097\u001b[0m               \u001b[0mcallbacks\u001b[0m\u001b[1;33m.\u001b[0m\u001b[0mon_train_batch_begin\u001b[0m\u001b[1;33m(\u001b[0m\u001b[0mstep\u001b[0m\u001b[1;33m)\u001b[0m\u001b[1;33m\u001b[0m\u001b[1;33m\u001b[0m\u001b[0m\n\u001b[1;32m-> 1098\u001b[1;33m               \u001b[0mtmp_logs\u001b[0m \u001b[1;33m=\u001b[0m \u001b[0mtrain_function\u001b[0m\u001b[1;33m(\u001b[0m\u001b[0miterator\u001b[0m\u001b[1;33m)\u001b[0m\u001b[1;33m\u001b[0m\u001b[1;33m\u001b[0m\u001b[0m\n\u001b[0m\u001b[0;32m   1099\u001b[0m               \u001b[1;32mif\u001b[0m \u001b[0mdata_handler\u001b[0m\u001b[1;33m.\u001b[0m\u001b[0mshould_sync\u001b[0m\u001b[1;33m:\u001b[0m\u001b[1;33m\u001b[0m\u001b[1;33m\u001b[0m\u001b[0m\n\u001b[0;32m   1100\u001b[0m                 \u001b[0mcontext\u001b[0m\u001b[1;33m.\u001b[0m\u001b[0masync_wait\u001b[0m\u001b[1;33m(\u001b[0m\u001b[1;33m)\u001b[0m\u001b[1;33m\u001b[0m\u001b[1;33m\u001b[0m\u001b[0m\n",
      "\u001b[1;32m~\\anaconda3\\lib\\site-packages\\tensorflow\\python\\eager\\def_function.py\u001b[0m in \u001b[0;36m__call__\u001b[1;34m(self, *args, **kwds)\u001b[0m\n\u001b[0;32m    778\u001b[0m       \u001b[1;32melse\u001b[0m\u001b[1;33m:\u001b[0m\u001b[1;33m\u001b[0m\u001b[1;33m\u001b[0m\u001b[0m\n\u001b[0;32m    779\u001b[0m         \u001b[0mcompiler\u001b[0m \u001b[1;33m=\u001b[0m \u001b[1;34m\"nonXla\"\u001b[0m\u001b[1;33m\u001b[0m\u001b[1;33m\u001b[0m\u001b[0m\n\u001b[1;32m--> 780\u001b[1;33m         \u001b[0mresult\u001b[0m \u001b[1;33m=\u001b[0m \u001b[0mself\u001b[0m\u001b[1;33m.\u001b[0m\u001b[0m_call\u001b[0m\u001b[1;33m(\u001b[0m\u001b[1;33m*\u001b[0m\u001b[0margs\u001b[0m\u001b[1;33m,\u001b[0m \u001b[1;33m**\u001b[0m\u001b[0mkwds\u001b[0m\u001b[1;33m)\u001b[0m\u001b[1;33m\u001b[0m\u001b[1;33m\u001b[0m\u001b[0m\n\u001b[0m\u001b[0;32m    781\u001b[0m \u001b[1;33m\u001b[0m\u001b[0m\n\u001b[0;32m    782\u001b[0m       \u001b[0mnew_tracing_count\u001b[0m \u001b[1;33m=\u001b[0m \u001b[0mself\u001b[0m\u001b[1;33m.\u001b[0m\u001b[0m_get_tracing_count\u001b[0m\u001b[1;33m(\u001b[0m\u001b[1;33m)\u001b[0m\u001b[1;33m\u001b[0m\u001b[1;33m\u001b[0m\u001b[0m\n",
      "\u001b[1;32m~\\anaconda3\\lib\\site-packages\\tensorflow\\python\\eager\\def_function.py\u001b[0m in \u001b[0;36m_call\u001b[1;34m(self, *args, **kwds)\u001b[0m\n\u001b[0;32m    805\u001b[0m       \u001b[1;31m# In this case we have created variables on the first call, so we run the\u001b[0m\u001b[1;33m\u001b[0m\u001b[1;33m\u001b[0m\u001b[1;33m\u001b[0m\u001b[0m\n\u001b[0;32m    806\u001b[0m       \u001b[1;31m# defunned version which is guaranteed to never create variables.\u001b[0m\u001b[1;33m\u001b[0m\u001b[1;33m\u001b[0m\u001b[1;33m\u001b[0m\u001b[0m\n\u001b[1;32m--> 807\u001b[1;33m       \u001b[1;32mreturn\u001b[0m \u001b[0mself\u001b[0m\u001b[1;33m.\u001b[0m\u001b[0m_stateless_fn\u001b[0m\u001b[1;33m(\u001b[0m\u001b[1;33m*\u001b[0m\u001b[0margs\u001b[0m\u001b[1;33m,\u001b[0m \u001b[1;33m**\u001b[0m\u001b[0mkwds\u001b[0m\u001b[1;33m)\u001b[0m  \u001b[1;31m# pylint: disable=not-callable\u001b[0m\u001b[1;33m\u001b[0m\u001b[1;33m\u001b[0m\u001b[0m\n\u001b[0m\u001b[0;32m    808\u001b[0m     \u001b[1;32melif\u001b[0m \u001b[0mself\u001b[0m\u001b[1;33m.\u001b[0m\u001b[0m_stateful_fn\u001b[0m \u001b[1;32mis\u001b[0m \u001b[1;32mnot\u001b[0m \u001b[1;32mNone\u001b[0m\u001b[1;33m:\u001b[0m\u001b[1;33m\u001b[0m\u001b[1;33m\u001b[0m\u001b[0m\n\u001b[0;32m    809\u001b[0m       \u001b[1;31m# Release the lock early so that multiple threads can perform the call\u001b[0m\u001b[1;33m\u001b[0m\u001b[1;33m\u001b[0m\u001b[1;33m\u001b[0m\u001b[0m\n",
      "\u001b[1;32m~\\anaconda3\\lib\\site-packages\\tensorflow\\python\\eager\\function.py\u001b[0m in \u001b[0;36m__call__\u001b[1;34m(self, *args, **kwargs)\u001b[0m\n\u001b[0;32m   2827\u001b[0m     \u001b[1;32mwith\u001b[0m \u001b[0mself\u001b[0m\u001b[1;33m.\u001b[0m\u001b[0m_lock\u001b[0m\u001b[1;33m:\u001b[0m\u001b[1;33m\u001b[0m\u001b[1;33m\u001b[0m\u001b[0m\n\u001b[0;32m   2828\u001b[0m       \u001b[0mgraph_function\u001b[0m\u001b[1;33m,\u001b[0m \u001b[0margs\u001b[0m\u001b[1;33m,\u001b[0m \u001b[0mkwargs\u001b[0m \u001b[1;33m=\u001b[0m \u001b[0mself\u001b[0m\u001b[1;33m.\u001b[0m\u001b[0m_maybe_define_function\u001b[0m\u001b[1;33m(\u001b[0m\u001b[0margs\u001b[0m\u001b[1;33m,\u001b[0m \u001b[0mkwargs\u001b[0m\u001b[1;33m)\u001b[0m\u001b[1;33m\u001b[0m\u001b[1;33m\u001b[0m\u001b[0m\n\u001b[1;32m-> 2829\u001b[1;33m     \u001b[1;32mreturn\u001b[0m \u001b[0mgraph_function\u001b[0m\u001b[1;33m.\u001b[0m\u001b[0m_filtered_call\u001b[0m\u001b[1;33m(\u001b[0m\u001b[0margs\u001b[0m\u001b[1;33m,\u001b[0m \u001b[0mkwargs\u001b[0m\u001b[1;33m)\u001b[0m  \u001b[1;31m# pylint: disable=protected-access\u001b[0m\u001b[1;33m\u001b[0m\u001b[1;33m\u001b[0m\u001b[0m\n\u001b[0m\u001b[0;32m   2830\u001b[0m \u001b[1;33m\u001b[0m\u001b[0m\n\u001b[0;32m   2831\u001b[0m   \u001b[1;33m@\u001b[0m\u001b[0mproperty\u001b[0m\u001b[1;33m\u001b[0m\u001b[1;33m\u001b[0m\u001b[0m\n",
      "\u001b[1;32m~\\anaconda3\\lib\\site-packages\\tensorflow\\python\\eager\\function.py\u001b[0m in \u001b[0;36m_filtered_call\u001b[1;34m(self, args, kwargs, cancellation_manager)\u001b[0m\n\u001b[0;32m   1846\u001b[0m                            resource_variable_ops.BaseResourceVariable))],\n\u001b[0;32m   1847\u001b[0m         \u001b[0mcaptured_inputs\u001b[0m\u001b[1;33m=\u001b[0m\u001b[0mself\u001b[0m\u001b[1;33m.\u001b[0m\u001b[0mcaptured_inputs\u001b[0m\u001b[1;33m,\u001b[0m\u001b[1;33m\u001b[0m\u001b[1;33m\u001b[0m\u001b[0m\n\u001b[1;32m-> 1848\u001b[1;33m         cancellation_manager=cancellation_manager)\n\u001b[0m\u001b[0;32m   1849\u001b[0m \u001b[1;33m\u001b[0m\u001b[0m\n\u001b[0;32m   1850\u001b[0m   \u001b[1;32mdef\u001b[0m \u001b[0m_call_flat\u001b[0m\u001b[1;33m(\u001b[0m\u001b[0mself\u001b[0m\u001b[1;33m,\u001b[0m \u001b[0margs\u001b[0m\u001b[1;33m,\u001b[0m \u001b[0mcaptured_inputs\u001b[0m\u001b[1;33m,\u001b[0m \u001b[0mcancellation_manager\u001b[0m\u001b[1;33m=\u001b[0m\u001b[1;32mNone\u001b[0m\u001b[1;33m)\u001b[0m\u001b[1;33m:\u001b[0m\u001b[1;33m\u001b[0m\u001b[1;33m\u001b[0m\u001b[0m\n",
      "\u001b[1;32m~\\anaconda3\\lib\\site-packages\\tensorflow\\python\\eager\\function.py\u001b[0m in \u001b[0;36m_call_flat\u001b[1;34m(self, args, captured_inputs, cancellation_manager)\u001b[0m\n\u001b[0;32m   1922\u001b[0m       \u001b[1;31m# No tape is watching; skip to running the function.\u001b[0m\u001b[1;33m\u001b[0m\u001b[1;33m\u001b[0m\u001b[1;33m\u001b[0m\u001b[0m\n\u001b[0;32m   1923\u001b[0m       return self._build_call_outputs(self._inference_function.call(\n\u001b[1;32m-> 1924\u001b[1;33m           ctx, args, cancellation_manager=cancellation_manager))\n\u001b[0m\u001b[0;32m   1925\u001b[0m     forward_backward = self._select_forward_and_backward_functions(\n\u001b[0;32m   1926\u001b[0m         \u001b[0margs\u001b[0m\u001b[1;33m,\u001b[0m\u001b[1;33m\u001b[0m\u001b[1;33m\u001b[0m\u001b[0m\n",
      "\u001b[1;32m~\\anaconda3\\lib\\site-packages\\tensorflow\\python\\eager\\function.py\u001b[0m in \u001b[0;36mcall\u001b[1;34m(self, ctx, args, cancellation_manager)\u001b[0m\n\u001b[0;32m    548\u001b[0m               \u001b[0minputs\u001b[0m\u001b[1;33m=\u001b[0m\u001b[0margs\u001b[0m\u001b[1;33m,\u001b[0m\u001b[1;33m\u001b[0m\u001b[1;33m\u001b[0m\u001b[0m\n\u001b[0;32m    549\u001b[0m               \u001b[0mattrs\u001b[0m\u001b[1;33m=\u001b[0m\u001b[0mattrs\u001b[0m\u001b[1;33m,\u001b[0m\u001b[1;33m\u001b[0m\u001b[1;33m\u001b[0m\u001b[0m\n\u001b[1;32m--> 550\u001b[1;33m               ctx=ctx)\n\u001b[0m\u001b[0;32m    551\u001b[0m         \u001b[1;32melse\u001b[0m\u001b[1;33m:\u001b[0m\u001b[1;33m\u001b[0m\u001b[1;33m\u001b[0m\u001b[0m\n\u001b[0;32m    552\u001b[0m           outputs = execute.execute_with_cancellation(\n",
      "\u001b[1;32m~\\anaconda3\\lib\\site-packages\\tensorflow\\python\\eager\\execute.py\u001b[0m in \u001b[0;36mquick_execute\u001b[1;34m(op_name, num_outputs, inputs, attrs, ctx, name)\u001b[0m\n\u001b[0;32m     58\u001b[0m     \u001b[0mctx\u001b[0m\u001b[1;33m.\u001b[0m\u001b[0mensure_initialized\u001b[0m\u001b[1;33m(\u001b[0m\u001b[1;33m)\u001b[0m\u001b[1;33m\u001b[0m\u001b[1;33m\u001b[0m\u001b[0m\n\u001b[0;32m     59\u001b[0m     tensors = pywrap_tfe.TFE_Py_Execute(ctx._handle, device_name, op_name,\n\u001b[1;32m---> 60\u001b[1;33m                                         inputs, attrs, num_outputs)\n\u001b[0m\u001b[0;32m     61\u001b[0m   \u001b[1;32mexcept\u001b[0m \u001b[0mcore\u001b[0m\u001b[1;33m.\u001b[0m\u001b[0m_NotOkStatusException\u001b[0m \u001b[1;32mas\u001b[0m \u001b[0me\u001b[0m\u001b[1;33m:\u001b[0m\u001b[1;33m\u001b[0m\u001b[1;33m\u001b[0m\u001b[0m\n\u001b[0;32m     62\u001b[0m     \u001b[1;32mif\u001b[0m \u001b[0mname\u001b[0m \u001b[1;32mis\u001b[0m \u001b[1;32mnot\u001b[0m \u001b[1;32mNone\u001b[0m\u001b[1;33m:\u001b[0m\u001b[1;33m\u001b[0m\u001b[1;33m\u001b[0m\u001b[0m\n",
      "\u001b[1;31mKeyboardInterrupt\u001b[0m: "
     ]
    }
   ],
   "source": [
    "# callbacks (hopefully will prevent validation loss flucuations previously seen)\n",
    "reduce_lr = ReduceLROnPLateau(monitor=\"val_loss\")\n",
    "early_stop = EarlyStopping(monitor=\"val_loss\", patience=10, restore_best_weight=True)\n",
    "\n",
    "history = model.fit(x=train_dataset, epochs=100, verbose=2, callbacks=[reduce_lr, early_stop], validation_data=val_dataset)"
   ]
  },
  {
   "cell_type": "markdown",
   "metadata": {},
   "source": [
    "Let's see how the model does on unseen data."
   ]
  },
  {
   "cell_type": "code",
   "execution_count": 22,
   "metadata": {},
   "outputs": [
    {
     "name": "stdout",
     "output_type": "stream",
     "text": [
      "5/5 - 1s - loss: 1.3145 - accuracy: 0.6422\n"
     ]
    },
    {
     "data": {
      "text/plain": [
       "[1.3144651651382446, 0.6421725153923035]"
      ]
     },
     "execution_count": 22,
     "metadata": {},
     "output_type": "execute_result"
    }
   ],
   "source": [
    "model.evaluate(val_dataset, verbose=2)"
   ]
  },
  {
   "cell_type": "code",
   "execution_count": 13,
   "metadata": {},
   "outputs": [
    {
     "ename": "NameError",
     "evalue": "name 'history' is not defined",
     "output_type": "error",
     "traceback": [
      "\u001b[1;31m---------------------------------------------------------------------------\u001b[0m",
      "\u001b[1;31mNameError\u001b[0m                                 Traceback (most recent call last)",
      "\u001b[1;32m<ipython-input-13-d42c0ab44215>\u001b[0m in \u001b[0;36m<module>\u001b[1;34m\u001b[0m\n\u001b[1;32m----> 1\u001b[1;33m \u001b[0mplot_loss_acc_history\u001b[0m\u001b[1;33m(\u001b[0m\u001b[0mhistory\u001b[0m\u001b[1;33m)\u001b[0m\u001b[1;33m\u001b[0m\u001b[1;33m\u001b[0m\u001b[0m\n\u001b[0m",
      "\u001b[1;31mNameError\u001b[0m: name 'history' is not defined"
     ]
    }
   ],
   "source": [
    "plot_loss_acc_history(history)"
   ]
  },
  {
   "cell_type": "markdown",
   "metadata": {},
   "source": [
    "Let's see the confusion matrix on our predictions to understand how our model is performing on the unseen data."
   ]
  },
  {
   "cell_type": "code",
   "execution_count": 24,
   "metadata": {},
   "outputs": [],
   "source": [
    "predictions = model.predict(val_dataset)\n",
    "y_pred = np.argmax(predictions, axis = 1)"
   ]
  },
  {
   "cell_type": "code",
   "execution_count": 25,
   "metadata": {},
   "outputs": [
    {
     "name": "stdout",
     "output_type": "stream",
     "text": [
      "[2 2 2 0 3 0 2 1 4 3 3 0 0 3 2 0 2 0 0 0 0 4 0 3 2 4 2 4 2 3 3 2 2 3 3 2 0\n",
      " 0 3 4 2 4 3 2 0 0 2 2 2 3 0 0 0 2 3 2 3 1 2 3 2 0 0 2 0 4 2 0 0 4 2 2 2 3\n",
      " 2 3 4 2 2 0 3 3 3 0 2 1 0 0 0 2 4 0 0 2 2 0 2 4 3 2 0 4 0 0 0 1 2 1 2 1 0\n",
      " 2 0 0 0 1 1 2 2 1 3 0 0 0 1 2 3 2 3 2 3 2 3 2 2 0 0 1 3 1 3 4 0 0 2 4 1 2\n",
      " 0 3 0 3 4 1 2 0 2 0 1 3 2 3 0 0 0 0 2 3 4 2 1 0 2 2 3 0 0 0 0 0 0 3 0 0 2\n",
      " 2 4 0 3 3 2 3 3 0 0 3 2 0 2 0 2 0 0 1 1 0 4 0 2 3 4 2 2 0 0 0 0 0 1 0 3 2\n",
      " 0 0 3 4 4 2 2 2 0 0 0 0 2 0 0 3 2 1 0 1 0 0 2 2 2 3 4 3 3 2 2 2 4 1 3 2 2\n",
      " 2 4 2 2 2 3 0 0 0 3 0 0 2 4 2 2 4 2 0 0 0 0 4 4 0 0 0 2 4 0 4 0 2 0 2 2 0\n",
      " 4 0 3 3 2 1 3 0 0 2 2 4 3 2 2 2 2]\n",
      "[2 0 4 1 0 4 2 1 1 0 0 4 4 2 0 4 0 4 1 1 0 0 3 0 1 0 1 1 4 1 1 0 0 4 1 1 0\n",
      " 4 1 1 1 4 1 4 1 4 0 4 0 0 3 3 0 0 0 2 3 4 1 3 0 1 0 0 2 0 1 1 4 0 0 0 3 1\n",
      " 2 1 0 0 2 1 3 0 0 0 2 4 0 3 2 3 2 3 4 3 1 1 0 1 1 1 0 0 0 0 0 4 4 1 0 0 0\n",
      " 4 3 4 4 0 0 2 1 3 1 4 3 4 4 4 2 4 0 0 0 1 0 1 4 0 0 0 0 1 0 1 3 0 2 1 1 3\n",
      " 1 3 4 2 1 1 4 1 4 0 0 3 2 0 0 3 0 4 0 4 0 4 2 1 0 0 0 1 4 4 4 2 1 4 4 0 1\n",
      " 0 0 0 4 0 1 0 0 0 1 2 4 0 0 3 0 0 1 1 4 1 1 0 0 3 2 4 2 0 4 0 3 0 1 1 1 2\n",
      " 1 0 0 1 0 4 2 3 0 0 4 0 4 2 0 2 4 4 4 0 0 0 4 0 0 0 3 1 0 1 1 1 0 1 4 1 2\n",
      " 3 3 3 1 1 0 0 0 0 0 1 0 0 2 0 1 4 0 3 3 2 3 3 0 1 1 0 0 3 0 1 0 0 2 0 0 0\n",
      " 0 0 0 0 1 0 1 0 3 1 1 4 1 0 1 0 2]\n",
      "Confusion matrix:\n",
      "[[0.40186916 0.19626168 0.05607477 0.14018692 0.20560748]\n",
      " [0.30434783 0.34782609 0.04347826 0.04347826 0.26086957]\n",
      " [0.35051546 0.24742268 0.1443299  0.07216495 0.18556701]\n",
      " [0.46296296 0.24074074 0.09259259 0.11111111 0.09259259]\n",
      " [0.375      0.3125     0.09375    0.125      0.09375   ]]\n"
     ]
    }
   ],
   "source": [
    "# Get true labels\n",
    "y_true = np.argmax(np.concatenate([labels for data, labels in val_dataset], axis=0), axis=1)\n",
    "print(y_true)\n",
    "print(y_pred)\n",
    "\n",
    "print(\"Confusion matrix:\")\n",
    "print(confusion_matrix(y_true=y_true, y_pred=y_pred, normalize=\"true\"))"
   ]
  },
  {
   "cell_type": "code",
   "execution_count": null,
   "metadata": {},
   "outputs": [],
   "source": []
  }
 ],
 "metadata": {
  "kernelspec": {
   "display_name": "Python 3",
   "language": "python",
   "name": "python3"
  },
  "language_info": {
   "codemirror_mode": {
    "name": "ipython",
    "version": 3
   },
   "file_extension": ".py",
   "mimetype": "text/x-python",
   "name": "python",
   "nbconvert_exporter": "python",
   "pygments_lexer": "ipython3",
   "version": "3.7.6"
  }
 },
 "nbformat": 4,
 "nbformat_minor": 4
}
