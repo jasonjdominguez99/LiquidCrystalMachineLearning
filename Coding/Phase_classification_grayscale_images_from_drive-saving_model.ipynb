{
 "cells": [
  {
   "cell_type": "markdown",
   "metadata": {},
   "source": [
    "This notebook was created at 23:53 18/10/20"
   ]
  },
  {
   "cell_type": "markdown",
   "metadata": {},
   "source": [
    "Liquid crystal phase classification using deep learning techniques"
   ]
  },
  {
   "cell_type": "markdown",
   "metadata": {},
   "source": [
    "First attempt to classify liquid crystal phases using the dataset shared by Josh Heaton."
   ]
  },
  {
   "cell_type": "code",
   "execution_count": 49,
   "metadata": {},
   "outputs": [],
   "source": [
    "import numpy as np\n",
    "import matplotlib.pyplot as plt\n",
    "from keras.models import Model\n",
    "from keras.layers import Input, Dense, Activation, ZeroPadding2D, BatchNormalization, Flatten, Conv2D\n",
    "from keras.layers import AveragePooling2D, MaxPooling2D, Dropout, GlobalMaxPooling2D, GlobalAveragePooling2D\n",
    "from keras.layers.experimental.preprocessing import Rescaling, RandomFlip\n",
    "from keras.callbacks import ReduceLROnPlateau, EarlyStopping, ModelCheckpoint\n",
    "from keras.preprocessing import image_dataset_from_directory\n",
    "from keras.utils import plot_model\n",
    "from sklearn.metrics import confusion_matrix\n",
    "import tensorflow as tf"
   ]
  },
  {
   "cell_type": "markdown",
   "metadata": {},
   "source": [
    "Load in the data."
   ]
  },
  {
   "cell_type": "code",
   "execution_count": 2,
   "metadata": {},
   "outputs": [
    {
     "name": "stdout",
     "output_type": "stream",
     "text": [
      "Found 1914 files belonging to 5 classes.\n",
      "Found 313 files belonging to 5 classes.\n"
     ]
    }
   ],
   "source": [
    "train_directory = \"C:/Users/Jason/Documents/University/Year_4/MPhys_Project(s)/Liquid_crystals-machine_learning/Images_from_drive/Training\"\n",
    "test_directory = \"C:/Users/Jason/Documents/University/Year_4/MPhys_Project(s)/Liquid_crystals-machine_learning/Images_from_drive/Validation\"\n",
    "image_size = (200,200)\n",
    "\n",
    "# Change images to grayscale as colour isnt an important feature at this stage\n",
    "train_dataset = image_dataset_from_directory(train_directory,\n",
    "                            labels=\"inferred\",\n",
    "                            label_mode=\"categorical\",\n",
    "                            color_mode=\"grayscale\",\n",
    "                            batch_size=64,\n",
    "                            image_size=image_size,\n",
    "                            shuffle=True\n",
    "                        )\n",
    "val_dataset = image_dataset_from_directory(test_directory,\n",
    "                            labels=\"inferred\",\n",
    "                            label_mode=\"categorical\",\n",
    "                            color_mode=\"grayscale\",\n",
    "                            batch_size=64,\n",
    "                            image_size=image_size,\n",
    "                            shuffle=True\n",
    "                        )"
   ]
  },
  {
   "cell_type": "markdown",
   "metadata": {},
   "source": [
    "Let's see if the files imported as expected."
   ]
  },
  {
   "cell_type": "code",
   "execution_count": 3,
   "metadata": {},
   "outputs": [
    {
     "name": "stdout",
     "output_type": "stream",
     "text": [
      "(TensorSpec(shape=(None, 200, 200, 1), dtype=tf.float32, name=None), TensorSpec(shape=(None, 5), dtype=tf.float32, name=None))\n",
      "['Cholesteric', 'Columnar', 'Nematic', 'Smectic', 'Twist_grain_boundary']\n",
      "(64, 200, 200, 1)\n",
      "<dtype: 'float32'>\n",
      "(64, 5)\n",
      "<dtype: 'float32'>\n",
      "(64, 200, 200, 1)\n",
      "<dtype: 'float32'>\n",
      "(64, 5)\n",
      "<dtype: 'float32'>\n",
      "(64, 200, 200, 1)\n",
      "<dtype: 'float32'>\n",
      "(64, 5)\n",
      "<dtype: 'float32'>\n",
      "(64, 200, 200, 1)\n",
      "<dtype: 'float32'>\n",
      "(64, 5)\n",
      "<dtype: 'float32'>\n",
      "(64, 200, 200, 1)\n",
      "<dtype: 'float32'>\n",
      "(64, 5)\n",
      "<dtype: 'float32'>\n",
      "(64, 200, 200, 1)\n",
      "<dtype: 'float32'>\n",
      "(64, 5)\n",
      "<dtype: 'float32'>\n",
      "(64, 200, 200, 1)\n",
      "<dtype: 'float32'>\n",
      "(64, 5)\n",
      "<dtype: 'float32'>\n",
      "(64, 200, 200, 1)\n",
      "<dtype: 'float32'>\n",
      "(64, 5)\n",
      "<dtype: 'float32'>\n",
      "(64, 200, 200, 1)\n",
      "<dtype: 'float32'>\n",
      "(64, 5)\n",
      "<dtype: 'float32'>\n",
      "(64, 200, 200, 1)\n",
      "<dtype: 'float32'>\n",
      "(64, 5)\n",
      "<dtype: 'float32'>\n",
      "(64, 200, 200, 1)\n",
      "<dtype: 'float32'>\n",
      "(64, 5)\n",
      "<dtype: 'float32'>\n",
      "(64, 200, 200, 1)\n",
      "<dtype: 'float32'>\n",
      "(64, 5)\n",
      "<dtype: 'float32'>\n",
      "(64, 200, 200, 1)\n",
      "<dtype: 'float32'>\n",
      "(64, 5)\n",
      "<dtype: 'float32'>\n",
      "(64, 200, 200, 1)\n",
      "<dtype: 'float32'>\n",
      "(64, 5)\n",
      "<dtype: 'float32'>\n",
      "(64, 200, 200, 1)\n",
      "<dtype: 'float32'>\n",
      "(64, 5)\n",
      "<dtype: 'float32'>\n",
      "(64, 200, 200, 1)\n",
      "<dtype: 'float32'>\n",
      "(64, 5)\n",
      "<dtype: 'float32'>\n",
      "(64, 200, 200, 1)\n",
      "<dtype: 'float32'>\n",
      "(64, 5)\n",
      "<dtype: 'float32'>\n",
      "(64, 200, 200, 1)\n",
      "<dtype: 'float32'>\n",
      "(64, 5)\n",
      "<dtype: 'float32'>\n",
      "(64, 200, 200, 1)\n",
      "<dtype: 'float32'>\n",
      "(64, 5)\n",
      "<dtype: 'float32'>\n",
      "(64, 200, 200, 1)\n",
      "<dtype: 'float32'>\n",
      "(64, 5)\n",
      "<dtype: 'float32'>\n",
      "(64, 200, 200, 1)\n",
      "<dtype: 'float32'>\n",
      "(64, 5)\n",
      "<dtype: 'float32'>\n",
      "(64, 200, 200, 1)\n",
      "<dtype: 'float32'>\n",
      "(64, 5)\n",
      "<dtype: 'float32'>\n",
      "(64, 200, 200, 1)\n",
      "<dtype: 'float32'>\n",
      "(64, 5)\n",
      "<dtype: 'float32'>\n",
      "(64, 200, 200, 1)\n",
      "<dtype: 'float32'>\n",
      "(64, 5)\n",
      "<dtype: 'float32'>\n",
      "(64, 200, 200, 1)\n",
      "<dtype: 'float32'>\n",
      "(64, 5)\n",
      "<dtype: 'float32'>\n",
      "(64, 200, 200, 1)\n",
      "<dtype: 'float32'>\n",
      "(64, 5)\n",
      "<dtype: 'float32'>\n",
      "(64, 200, 200, 1)\n",
      "<dtype: 'float32'>\n",
      "(64, 5)\n",
      "<dtype: 'float32'>\n",
      "(64, 200, 200, 1)\n",
      "<dtype: 'float32'>\n",
      "(64, 5)\n",
      "<dtype: 'float32'>\n",
      "(64, 200, 200, 1)\n",
      "<dtype: 'float32'>\n",
      "(64, 5)\n",
      "<dtype: 'float32'>\n",
      "(58, 200, 200, 1)\n",
      "<dtype: 'float32'>\n",
      "(58, 5)\n",
      "<dtype: 'float32'>\n"
     ]
    }
   ],
   "source": [
    "print(train_dataset.element_spec)\n",
    "print(train_dataset.class_names)\n",
    "for data, labels in train_dataset:\n",
    "    print(data.shape)\n",
    "    print(data.dtype)\n",
    "    print(labels.shape)\n",
    "    print(labels.dtype)"
   ]
  },
  {
   "cell_type": "code",
   "execution_count": 4,
   "metadata": {},
   "outputs": [
    {
     "name": "stdout",
     "output_type": "stream",
     "text": [
      "(TensorSpec(shape=(None, 200, 200, 1), dtype=tf.float32, name=None), TensorSpec(shape=(None, 5), dtype=tf.float32, name=None))\n",
      "['Cholesteric', 'Columnar', 'Nematic', 'Smectic', 'Twist_grain_boundary']\n",
      "(64, 200, 200, 1)\n",
      "<dtype: 'float32'>\n",
      "(64, 5)\n",
      "<dtype: 'float32'>\n",
      "(64, 200, 200, 1)\n",
      "<dtype: 'float32'>\n",
      "(64, 5)\n",
      "<dtype: 'float32'>\n",
      "(64, 200, 200, 1)\n",
      "<dtype: 'float32'>\n",
      "(64, 5)\n",
      "<dtype: 'float32'>\n",
      "(64, 200, 200, 1)\n",
      "<dtype: 'float32'>\n",
      "(64, 5)\n",
      "<dtype: 'float32'>\n",
      "(57, 200, 200, 1)\n",
      "<dtype: 'float32'>\n",
      "(57, 5)\n",
      "<dtype: 'float32'>\n"
     ]
    }
   ],
   "source": [
    "print(val_dataset.element_spec)\n",
    "print(val_dataset.class_names)\n",
    "for data, labels in val_dataset:\n",
    "    print(data.shape)\n",
    "    print(data.dtype)\n",
    "    print(labels.shape)\n",
    "    print(labels.dtype)"
   ]
  },
  {
   "cell_type": "markdown",
   "metadata": {},
   "source": [
    "Let's define a function to plot a graph to see how our model works over iterations. (From Josh Heaton)"
   ]
  },
  {
   "cell_type": "code",
   "execution_count": 5,
   "metadata": {},
   "outputs": [],
   "source": [
    "def plot_loss_acc_history(history):\n",
    "    fig, axis = plt.subplots(2)\n",
    "    #fig.subtitle('Training losses and accuracies')\n",
    "    \n",
    "    axis[0].plot(history.history['loss'], label='loss')\n",
    "    axis[0].plot(history.history['val_loss'], label='val_loss')\n",
    "    axis[0].set_xlabel('Epoch')\n",
    "    axis[0].set_ylabel('Loss')\n",
    "    axis[0].legend(loc='upper right')\n",
    "    \n",
    "    axis[1].plot(history.history['accuracy'], label='accuracy')\n",
    "    axis[1].plot(history.history['val_accuracy'], label='val_accuracy')\n",
    "    axis[1].set_xlabel('Epoch')\n",
    "    axis[1].set_ylabel('Accuracy')\n",
    "    axis[1].legend(loc='upper right')\n",
    "\n",
    "    plt.show()"
   ]
  },
  {
   "cell_type": "markdown",
   "metadata": {},
   "source": [
    "Let's define our pipeline."
   ]
  },
  {
   "cell_type": "code",
   "execution_count": 12,
   "metadata": {},
   "outputs": [],
   "source": [
    "image_shape = (image_size[0], image_size[1], 1)\n",
    "X_inputs = Input(shape = image_shape)\n",
    "# Rescale images to have values in range [0,1]\n",
    "X = Rescaling(scale = 1/255)(X_inputs)\n",
    "X = RandomFlip()(X)\n",
    "\n",
    "# Apply convolutional and pooling layers\n",
    "X = Conv2D(filters=32, kernel_size=(3,3))(X)\n",
    "X = BatchNormalization()(X)\n",
    "X = Activation(\"relu\")(X)\n",
    "X = MaxPooling2D(pool_size=(3,3))(X)\n",
    "X = Conv2D(filters=64, kernel_size=(3,3))(X)\n",
    "X = BatchNormalization()(X)\n",
    "X = Activation(\"relu\")(X)\n",
    "X = MaxPooling2D(pool_size=(3,3))(X)\n",
    "X = Conv2D(filters=128, kernel_size=(3,3))(X)\n",
    "X = BatchNormalization()(X)\n",
    "X = Activation(\"relu\")(X)\n",
    "X = MaxPooling2D(pool_size=(3,3))(X)\n",
    "\n",
    "# Apply fully connected layer\n",
    "X = Flatten()(X)\n",
    "X = Dense(units=128, activation=\"relu\")(X)\n",
    "X = Dropout(0.3)(X)\n",
    "X = Dense(units=64, activation=\"relu\")(X)\n",
    "X = Dropout(0.3)(X)\n",
    "# Output layer\n",
    "num_classes = 5\n",
    "X_outputs = Dense(units=num_classes, activation=\"softmax\")(X)\n",
    "\n",
    "model = Model(inputs = X_inputs, outputs = X_outputs)"
   ]
  },
  {
   "cell_type": "markdown",
   "metadata": {},
   "source": [
    "Let's see what this model looks like."
   ]
  },
  {
   "cell_type": "code",
   "execution_count": 13,
   "metadata": {},
   "outputs": [
    {
     "name": "stdout",
     "output_type": "stream",
     "text": [
      "Model: \"functional_3\"\n",
      "_________________________________________________________________\n",
      "Layer (type)                 Output Shape              Param #   \n",
      "=================================================================\n",
      "input_2 (InputLayer)         [(None, 200, 200, 1)]     0         \n",
      "_________________________________________________________________\n",
      "rescaling_1 (Rescaling)      (None, 200, 200, 1)       0         \n",
      "_________________________________________________________________\n",
      "random_flip_1 (RandomFlip)   (None, 200, 200, 1)       0         \n",
      "_________________________________________________________________\n",
      "conv2d_3 (Conv2D)            (None, 198, 198, 32)      320       \n",
      "_________________________________________________________________\n",
      "batch_normalization_3 (Batch (None, 198, 198, 32)      128       \n",
      "_________________________________________________________________\n",
      "activation_3 (Activation)    (None, 198, 198, 32)      0         \n",
      "_________________________________________________________________\n",
      "max_pooling2d_3 (MaxPooling2 (None, 66, 66, 32)        0         \n",
      "_________________________________________________________________\n",
      "conv2d_4 (Conv2D)            (None, 64, 64, 64)        18496     \n",
      "_________________________________________________________________\n",
      "batch_normalization_4 (Batch (None, 64, 64, 64)        256       \n",
      "_________________________________________________________________\n",
      "activation_4 (Activation)    (None, 64, 64, 64)        0         \n",
      "_________________________________________________________________\n",
      "max_pooling2d_4 (MaxPooling2 (None, 21, 21, 64)        0         \n",
      "_________________________________________________________________\n",
      "conv2d_5 (Conv2D)            (None, 19, 19, 128)       73856     \n",
      "_________________________________________________________________\n",
      "batch_normalization_5 (Batch (None, 19, 19, 128)       512       \n",
      "_________________________________________________________________\n",
      "activation_5 (Activation)    (None, 19, 19, 128)       0         \n",
      "_________________________________________________________________\n",
      "max_pooling2d_5 (MaxPooling2 (None, 6, 6, 128)         0         \n",
      "_________________________________________________________________\n",
      "flatten_1 (Flatten)          (None, 4608)              0         \n",
      "_________________________________________________________________\n",
      "dense_3 (Dense)              (None, 128)               589952    \n",
      "_________________________________________________________________\n",
      "dropout_2 (Dropout)          (None, 128)               0         \n",
      "_________________________________________________________________\n",
      "dense_4 (Dense)              (None, 64)                8256      \n",
      "_________________________________________________________________\n",
      "dropout_3 (Dropout)          (None, 64)                0         \n",
      "_________________________________________________________________\n",
      "dense_5 (Dense)              (None, 5)                 325       \n",
      "=================================================================\n",
      "Total params: 692,101\n",
      "Trainable params: 691,653\n",
      "Non-trainable params: 448\n",
      "_________________________________________________________________\n"
     ]
    }
   ],
   "source": [
    "model.summary()"
   ]
  },
  {
   "cell_type": "markdown",
   "metadata": {},
   "source": [
    "Now we need to compile, train and test the model."
   ]
  },
  {
   "cell_type": "code",
   "execution_count": 14,
   "metadata": {},
   "outputs": [],
   "source": [
    "model.compile(optimizer=\"adam\", loss=\"categorical_crossentropy\", metrics=[\"accuracy\"])"
   ]
  },
  {
   "cell_type": "code",
   "execution_count": 15,
   "metadata": {},
   "outputs": [
    {
     "name": "stdout",
     "output_type": "stream",
     "text": [
      "Epoch 1/100\n",
      "WARNING:tensorflow:From C:\\Users\\Jason\\anaconda3\\lib\\site-packages\\tensorflow\\python\\training\\tracking\\tracking.py:111: Model.state_updates (from tensorflow.python.keras.engine.training) is deprecated and will be removed in a future version.\n",
      "Instructions for updating:\n",
      "This property should not be used in TensorFlow 2.0, as updates are applied automatically.\n",
      "WARNING:tensorflow:From C:\\Users\\Jason\\anaconda3\\lib\\site-packages\\tensorflow\\python\\training\\tracking\\tracking.py:111: Layer.updates (from tensorflow.python.keras.engine.base_layer) is deprecated and will be removed in a future version.\n",
      "Instructions for updating:\n",
      "This property should not be used in TensorFlow 2.0, as updates are applied automatically.\n",
      "INFO:tensorflow:Assets written to: C:/Users/Jason/Documents/University/Year_4\\MPhys_Project(s)\\assets\n",
      "30/30 - 88s - loss: 1.6461 - accuracy: 0.4765 - val_loss: 1.5982 - val_accuracy: 0.3099\n",
      "Epoch 2/100\n",
      "30/30 - 86s - loss: 0.7687 - accuracy: 0.7409 - val_loss: 1.9240 - val_accuracy: 0.3099\n",
      "Epoch 3/100\n",
      "30/30 - 86s - loss: 0.5118 - accuracy: 0.8192 - val_loss: 2.8238 - val_accuracy: 0.3099\n",
      "Epoch 4/100\n",
      "30/30 - 87s - loss: 0.4215 - accuracy: 0.8485 - val_loss: 4.0034 - val_accuracy: 0.3099\n",
      "Epoch 5/100\n",
      "30/30 - 86s - loss: 0.2942 - accuracy: 0.9013 - val_loss: 3.7424 - val_accuracy: 0.3099\n",
      "Epoch 6/100\n",
      "30/30 - 85s - loss: 0.2847 - accuracy: 0.9060 - val_loss: 4.9663 - val_accuracy: 0.3099\n",
      "Epoch 7/100\n",
      "30/30 - 86s - loss: 0.1885 - accuracy: 0.9347 - val_loss: 5.8066 - val_accuracy: 0.3099\n",
      "Epoch 8/100\n",
      "30/30 - 85s - loss: 0.1758 - accuracy: 0.9420 - val_loss: 5.0437 - val_accuracy: 0.3099\n",
      "Epoch 9/100\n",
      "30/30 - 87s - loss: 0.1260 - accuracy: 0.9592 - val_loss: 6.9527 - val_accuracy: 0.3099\n",
      "Epoch 10/100\n",
      "30/30 - 86s - loss: 0.1135 - accuracy: 0.9650 - val_loss: 5.7357 - val_accuracy: 0.3099\n",
      "Epoch 11/100\n",
      "INFO:tensorflow:Assets written to: C:/Users/Jason/Documents/University/Year_4\\MPhys_Project(s)\\assets\n",
      "30/30 - 89s - loss: 0.1257 - accuracy: 0.9645 - val_loss: 5.0975 - val_accuracy: 0.3195\n",
      "Epoch 12/100\n",
      "30/30 - 87s - loss: 0.1445 - accuracy: 0.9561 - val_loss: 3.6308 - val_accuracy: 0.3099\n",
      "Epoch 13/100\n",
      "30/30 - 88s - loss: 0.0961 - accuracy: 0.9718 - val_loss: 4.0025 - val_accuracy: 0.3099\n",
      "Epoch 14/100\n",
      "INFO:tensorflow:Assets written to: C:/Users/Jason/Documents/University/Year_4\\MPhys_Project(s)\\assets\n",
      "30/30 - 88s - loss: 0.0939 - accuracy: 0.9713 - val_loss: 3.1265 - val_accuracy: 0.3962\n",
      "Epoch 15/100\n",
      "30/30 - 88s - loss: 0.1198 - accuracy: 0.9671 - val_loss: 7.0215 - val_accuracy: 0.2652\n",
      "Epoch 16/100\n",
      "30/30 - 88s - loss: 0.1059 - accuracy: 0.9655 - val_loss: 3.5637 - val_accuracy: 0.3227\n",
      "Epoch 17/100\n",
      "INFO:tensorflow:Assets written to: C:/Users/Jason/Documents/University/Year_4\\MPhys_Project(s)\\assets\n",
      "30/30 - 91s - loss: 0.1051 - accuracy: 0.9713 - val_loss: 6.6646 - val_accuracy: 0.4824\n",
      "Epoch 18/100\n",
      "INFO:tensorflow:Assets written to: C:/Users/Jason/Documents/University/Year_4\\MPhys_Project(s)\\assets\n",
      "30/30 - 87s - loss: 0.1191 - accuracy: 0.9624 - val_loss: 0.7033 - val_accuracy: 0.7732\n",
      "Epoch 19/100\n",
      "30/30 - 87s - loss: 0.1051 - accuracy: 0.9702 - val_loss: 2.6572 - val_accuracy: 0.5942\n",
      "Epoch 20/100\n",
      "INFO:tensorflow:Assets written to: C:/Users/Jason/Documents/University/Year_4\\MPhys_Project(s)\\assets\n",
      "30/30 - 88s - loss: 0.0638 - accuracy: 0.9801 - val_loss: 1.0243 - val_accuracy: 0.8019\n",
      "Epoch 21/100\n",
      "30/30 - 86s - loss: 0.0643 - accuracy: 0.9812 - val_loss: 1.8146 - val_accuracy: 0.6326\n",
      "Epoch 22/100\n",
      "30/30 - 86s - loss: 0.0816 - accuracy: 0.9791 - val_loss: 2.9855 - val_accuracy: 0.5847\n",
      "Epoch 23/100\n",
      "30/30 - 85s - loss: 0.0469 - accuracy: 0.9890 - val_loss: 2.0838 - val_accuracy: 0.6038\n",
      "Epoch 24/100\n",
      "30/30 - 86s - loss: 0.0316 - accuracy: 0.9911 - val_loss: 0.7873 - val_accuracy: 0.7125\n",
      "Epoch 25/100\n",
      "30/30 - 85s - loss: 0.0366 - accuracy: 0.9901 - val_loss: 1.5251 - val_accuracy: 0.7316\n",
      "Epoch 26/100\n",
      "INFO:tensorflow:Assets written to: C:/Users/Jason/Documents/University/Year_4\\MPhys_Project(s)\\assets\n",
      "30/30 - 88s - loss: 0.0467 - accuracy: 0.9885 - val_loss: 0.3728 - val_accuracy: 0.9233\n",
      "Epoch 27/100\n",
      "30/30 - 85s - loss: 0.0392 - accuracy: 0.9890 - val_loss: 0.8294 - val_accuracy: 0.6518\n",
      "Epoch 28/100\n",
      "30/30 - 86s - loss: 0.0479 - accuracy: 0.9869 - val_loss: 5.0453 - val_accuracy: 0.3482\n",
      "Epoch 29/100\n",
      "30/30 - 86s - loss: 0.0429 - accuracy: 0.9880 - val_loss: 0.5577 - val_accuracy: 0.8083\n",
      "Epoch 30/100\n",
      "30/30 - 86s - loss: 0.0526 - accuracy: 0.9828 - val_loss: 1.8780 - val_accuracy: 0.6709\n",
      "Epoch 31/100\n",
      "30/30 - 86s - loss: 0.0836 - accuracy: 0.9754 - val_loss: 5.8047 - val_accuracy: 0.4984\n",
      "Epoch 32/100\n",
      "30/30 - 86s - loss: 0.0876 - accuracy: 0.9718 - val_loss: 0.7938 - val_accuracy: 0.7508\n",
      "Epoch 33/100\n",
      "30/30 - 86s - loss: 0.0662 - accuracy: 0.9791 - val_loss: 2.3810 - val_accuracy: 0.6997\n",
      "Epoch 34/100\n",
      "30/30 - 86s - loss: 0.0378 - accuracy: 0.9885 - val_loss: 1.9917 - val_accuracy: 0.6518\n",
      "Epoch 35/100\n",
      "30/30 - 86s - loss: 0.0366 - accuracy: 0.9922 - val_loss: 1.1761 - val_accuracy: 0.6869\n",
      "Epoch 36/100\n",
      "30/30 - 87s - loss: 0.0301 - accuracy: 0.9932 - val_loss: 0.5863 - val_accuracy: 0.8466\n",
      "Epoch 37/100\n",
      "30/30 - 85s - loss: 0.0174 - accuracy: 0.9943 - val_loss: 1.9381 - val_accuracy: 0.6677\n",
      "Epoch 38/100\n",
      "30/30 - 87s - loss: 0.0211 - accuracy: 0.9943 - val_loss: 1.5730 - val_accuracy: 0.6581\n",
      "Epoch 39/100\n",
      "30/30 - 86s - loss: 0.0218 - accuracy: 0.9937 - val_loss: 0.5633 - val_accuracy: 0.8690\n",
      "Epoch 40/100\n",
      "30/30 - 86s - loss: 0.0346 - accuracy: 0.9906 - val_loss: 6.1081 - val_accuracy: 0.3482\n",
      "Epoch 41/100\n",
      "30/30 - 87s - loss: 0.0331 - accuracy: 0.9896 - val_loss: 11.8020 - val_accuracy: 0.4665\n",
      "Epoch 42/100\n",
      "30/30 - 87s - loss: 0.0564 - accuracy: 0.9859 - val_loss: 3.0080 - val_accuracy: 0.6997\n",
      "Epoch 43/100\n",
      "30/30 - 86s - loss: 0.0268 - accuracy: 0.9916 - val_loss: 4.3037 - val_accuracy: 0.5623\n",
      "Epoch 44/100\n",
      "30/30 - 86s - loss: 0.0182 - accuracy: 0.9943 - val_loss: 4.0525 - val_accuracy: 0.5623\n",
      "Epoch 45/100\n",
      "30/30 - 86s - loss: 0.0204 - accuracy: 0.9927 - val_loss: 2.1966 - val_accuracy: 0.6518\n",
      "Epoch 46/100\n",
      "30/30 - 87s - loss: 0.0213 - accuracy: 0.9953 - val_loss: 1.1433 - val_accuracy: 0.8051\n",
      "Epoch 47/100\n",
      "30/30 - 86s - loss: 0.0125 - accuracy: 0.9958 - val_loss: 2.5488 - val_accuracy: 0.5272\n",
      "Epoch 48/100\n",
      "30/30 - 87s - loss: 0.0133 - accuracy: 0.9969 - val_loss: 2.4593 - val_accuracy: 0.6294\n",
      "Epoch 49/100\n",
      "30/30 - 87s - loss: 0.0140 - accuracy: 0.9948 - val_loss: 2.0140 - val_accuracy: 0.8530\n",
      "Epoch 50/100\n",
      "30/30 - 88s - loss: 0.0140 - accuracy: 0.9943 - val_loss: 1.4025 - val_accuracy: 0.6645\n",
      "Epoch 51/100\n",
      "30/30 - 87s - loss: 0.0178 - accuracy: 0.9927 - val_loss: 0.6063 - val_accuracy: 0.8562\n",
      "Epoch 52/100\n",
      "30/30 - 87s - loss: 0.0193 - accuracy: 0.9958 - val_loss: 1.8782 - val_accuracy: 0.6805\n",
      "Epoch 53/100\n",
      "30/30 - 87s - loss: 0.0123 - accuracy: 0.9969 - val_loss: 2.2651 - val_accuracy: 0.6869\n",
      "Epoch 54/100\n",
      "30/30 - 86s - loss: 0.0205 - accuracy: 0.9932 - val_loss: 0.9583 - val_accuracy: 0.8275\n",
      "Epoch 55/100\n",
      "30/30 - 88s - loss: 0.0197 - accuracy: 0.9922 - val_loss: 1.4749 - val_accuracy: 0.8626\n",
      "Epoch 56/100\n",
      "30/30 - 90s - loss: 0.0312 - accuracy: 0.9911 - val_loss: 6.3453 - val_accuracy: 0.6741\n",
      "Epoch 57/100\n",
      "30/30 - 94s - loss: 0.0496 - accuracy: 0.9854 - val_loss: 1.8754 - val_accuracy: 0.8658\n",
      "Epoch 58/100\n",
      "30/30 - 84s - loss: 0.0675 - accuracy: 0.9796 - val_loss: 5.5164 - val_accuracy: 0.3642\n",
      "Epoch 59/100\n",
      "30/30 - 83s - loss: 0.0355 - accuracy: 0.9848 - val_loss: 3.0069 - val_accuracy: 0.8115\n",
      "Epoch 60/100\n",
      "30/30 - 85s - loss: 0.0349 - accuracy: 0.9911 - val_loss: 23.2533 - val_accuracy: 0.4345\n",
      "Epoch 61/100\n",
      "30/30 - 83s - loss: 0.0632 - accuracy: 0.9859 - val_loss: 7.0513 - val_accuracy: 0.5240\n",
      "Epoch 62/100\n",
      "30/30 - 83s - loss: 0.0474 - accuracy: 0.9864 - val_loss: 3.7443 - val_accuracy: 0.5208\n",
      "Epoch 63/100\n",
      "30/30 - 82s - loss: 0.0544 - accuracy: 0.9869 - val_loss: 3.0338 - val_accuracy: 0.6230\n",
      "Epoch 64/100\n",
      "30/30 - 83s - loss: 0.0341 - accuracy: 0.9922 - val_loss: 3.3001 - val_accuracy: 0.6645\n",
      "Epoch 65/100\n",
      "30/30 - 82s - loss: 0.0200 - accuracy: 0.9953 - val_loss: 5.8913 - val_accuracy: 0.5879\n",
      "Epoch 66/100\n",
      "30/30 - 84s - loss: 0.0199 - accuracy: 0.9932 - val_loss: 2.8625 - val_accuracy: 0.7412\n",
      "Epoch 67/100\n",
      "30/30 - 83s - loss: 0.0339 - accuracy: 0.9922 - val_loss: 1.2151 - val_accuracy: 0.7157\n",
      "Epoch 68/100\n"
     ]
    },
    {
     "name": "stdout",
     "output_type": "stream",
     "text": [
      "30/30 - 83s - loss: 0.0342 - accuracy: 0.9911 - val_loss: 1.3844 - val_accuracy: 0.6454\n",
      "Epoch 69/100\n",
      "30/30 - 83s - loss: 0.0200 - accuracy: 0.9937 - val_loss: 0.9877 - val_accuracy: 0.8498\n",
      "Epoch 70/100\n",
      "30/30 - 83s - loss: 0.0135 - accuracy: 0.9958 - val_loss: 0.8715 - val_accuracy: 0.8818\n",
      "Epoch 71/100\n",
      "30/30 - 83s - loss: 0.0146 - accuracy: 0.9948 - val_loss: 1.6166 - val_accuracy: 0.7252\n",
      "Epoch 72/100\n",
      "30/30 - 83s - loss: 0.0090 - accuracy: 0.9990 - val_loss: 0.6047 - val_accuracy: 0.8978\n",
      "Epoch 73/100\n",
      "30/30 - 83s - loss: 0.0141 - accuracy: 0.9958 - val_loss: 13.8111 - val_accuracy: 0.1949\n",
      "Epoch 74/100\n",
      "30/30 - 84s - loss: 0.0087 - accuracy: 0.9963 - val_loss: 10.8895 - val_accuracy: 0.2204\n",
      "Epoch 75/100\n",
      "30/30 - 83s - loss: 0.0055 - accuracy: 0.9990 - val_loss: 6.4790 - val_accuracy: 0.5591\n",
      "Epoch 76/100\n",
      "30/30 - 82s - loss: 0.0093 - accuracy: 0.9963 - val_loss: 4.0568 - val_accuracy: 0.6038\n",
      "Epoch 77/100\n",
      "30/30 - 83s - loss: 0.0364 - accuracy: 0.9943 - val_loss: 31.1037 - val_accuracy: 0.4345\n",
      "Epoch 78/100\n",
      "30/30 - 85s - loss: 0.0246 - accuracy: 0.9906 - val_loss: 3.3583 - val_accuracy: 0.6709\n",
      "Epoch 79/100\n",
      "30/30 - 83s - loss: 0.0095 - accuracy: 0.9969 - val_loss: 2.0987 - val_accuracy: 0.8307\n",
      "Epoch 80/100\n",
      "30/30 - 82s - loss: 0.0072 - accuracy: 0.9969 - val_loss: 0.8769 - val_accuracy: 0.8786\n",
      "Epoch 81/100\n",
      "30/30 - 82s - loss: 0.0077 - accuracy: 0.9979 - val_loss: 5.0472 - val_accuracy: 0.5559\n",
      "Epoch 82/100\n",
      "30/30 - 83s - loss: 0.0030 - accuracy: 0.9990 - val_loss: 8.2921 - val_accuracy: 0.4313\n",
      "Epoch 83/100\n",
      "30/30 - 83s - loss: 0.0077 - accuracy: 0.9974 - val_loss: 1.4193 - val_accuracy: 0.7348\n",
      "Epoch 84/100\n",
      "30/30 - 83s - loss: 0.0082 - accuracy: 0.9979 - val_loss: 1.4477 - val_accuracy: 0.6677\n",
      "Epoch 85/100\n",
      "30/30 - 83s - loss: 0.0397 - accuracy: 0.9896 - val_loss: 2.6265 - val_accuracy: 0.6454\n",
      "Epoch 86/100\n",
      "30/30 - 82s - loss: 0.0585 - accuracy: 0.9828 - val_loss: 14.4898 - val_accuracy: 0.4824\n",
      "Epoch 87/100\n",
      "30/30 - 82s - loss: 0.0962 - accuracy: 0.9718 - val_loss: 4.9725 - val_accuracy: 0.6006\n",
      "Epoch 88/100\n",
      "30/30 - 82s - loss: 0.0274 - accuracy: 0.9927 - val_loss: 2.4585 - val_accuracy: 0.5719\n",
      "Epoch 89/100\n",
      "30/30 - 83s - loss: 0.0224 - accuracy: 0.9922 - val_loss: 3.1706 - val_accuracy: 0.5847\n",
      "Epoch 90/100\n",
      "30/30 - 83s - loss: 0.0261 - accuracy: 0.9911 - val_loss: 11.5318 - val_accuracy: 0.3706\n",
      "Epoch 91/100\n",
      "30/30 - 82s - loss: 0.0209 - accuracy: 0.9916 - val_loss: 9.7168 - val_accuracy: 0.3802\n",
      "Epoch 92/100\n",
      "30/30 - 82s - loss: 0.0268 - accuracy: 0.9906 - val_loss: 2.3613 - val_accuracy: 0.5879\n",
      "Epoch 93/100\n",
      "30/30 - 83s - loss: 0.0233 - accuracy: 0.9932 - val_loss: 8.8851 - val_accuracy: 0.3994\n",
      "Epoch 94/100\n",
      "30/30 - 83s - loss: 0.0367 - accuracy: 0.9901 - val_loss: 1.4111 - val_accuracy: 0.6933\n",
      "Epoch 95/100\n",
      "30/30 - 84s - loss: 0.0352 - accuracy: 0.9859 - val_loss: 0.9204 - val_accuracy: 0.8211\n",
      "Epoch 96/100\n",
      "30/30 - 84s - loss: 0.0234 - accuracy: 0.9948 - val_loss: 4.2481 - val_accuracy: 0.5783\n",
      "Epoch 97/100\n",
      "30/30 - 87s - loss: 0.0223 - accuracy: 0.9932 - val_loss: 0.9008 - val_accuracy: 0.8690\n",
      "Epoch 98/100\n",
      "30/30 - 86s - loss: 0.0217 - accuracy: 0.9943 - val_loss: 1.1817 - val_accuracy: 0.8498\n",
      "Epoch 99/100\n",
      "30/30 - 89s - loss: 0.0232 - accuracy: 0.9932 - val_loss: 2.5116 - val_accuracy: 0.7380\n",
      "Epoch 100/100\n",
      "30/30 - 87s - loss: 0.0175 - accuracy: 0.9948 - val_loss: 2.3433 - val_accuracy: 0.7220\n"
     ]
    }
   ],
   "source": [
    "directory = \"C:/Users/Jason/Documents/University/Year_4/MPhys_Project(s)\"\n",
    "checkpoint = ModelCheckpoint(directory, monitor = \"val_accuracy\", save_best_only = True, mode=\"max\")\n",
    "\n",
    "history = model.fit(x=train_dataset, epochs=100, verbose=2, callbacks=[checkpoint], validation_data=val_dataset)"
   ]
  },
  {
   "cell_type": "code",
   "execution_count": 17,
   "metadata": {},
   "outputs": [
    {
     "data": {
      "image/png": "[encoded data removed]",
      "text/plain": [
       "<Figure size 432x288 with 2 Axes>"
      ]
     },
     "metadata": {
      "needs_background": "light"
     },
     "output_type": "display_data"
    }
   ],
   "source": [
    "plot_loss_acc_history(history)"
   ]
  },
  {
   "cell_type": "markdown",
   "metadata": {},
   "source": [
    "We want to now load in the trained model that was saved at its best point (best meaning highest validation accuracy)"
   ]
  },
  {
   "cell_type": "code",
   "execution_count": 20,
   "metadata": {},
   "outputs": [],
   "source": [
    "model_filepath = \"C:/Users/Jason/Documents/University/Year_4/MPhys_Project(s)\"\n",
    "trained_model = tf.keras.models.load_model(model_filepath)"
   ]
  },
  {
   "cell_type": "code",
   "execution_count": 21,
   "metadata": {},
   "outputs": [
    {
     "name": "stdout",
     "output_type": "stream",
     "text": [
      "Model: \"functional_3\"\n",
      "_________________________________________________________________\n",
      "Layer (type)                 Output Shape              Param #   \n",
      "=================================================================\n",
      "input_2 (InputLayer)         [(None, 200, 200, 1)]     0         \n",
      "_________________________________________________________________\n",
      "rescaling_1 (Rescaling)      (None, 200, 200, 1)       0         \n",
      "_________________________________________________________________\n",
      "random_flip_1 (RandomFlip)   (None, 200, 200, 1)       0         \n",
      "_________________________________________________________________\n",
      "conv2d_3 (Conv2D)            (None, 198, 198, 32)      320       \n",
      "_________________________________________________________________\n",
      "batch_normalization_3 (Batch (None, 198, 198, 32)      128       \n",
      "_________________________________________________________________\n",
      "activation_3 (Activation)    (None, 198, 198, 32)      0         \n",
      "_________________________________________________________________\n",
      "max_pooling2d_3 (MaxPooling2 (None, 66, 66, 32)        0         \n",
      "_________________________________________________________________\n",
      "conv2d_4 (Conv2D)            (None, 64, 64, 64)        18496     \n",
      "_________________________________________________________________\n",
      "batch_normalization_4 (Batch (None, 64, 64, 64)        256       \n",
      "_________________________________________________________________\n",
      "activation_4 (Activation)    (None, 64, 64, 64)        0         \n",
      "_________________________________________________________________\n",
      "max_pooling2d_4 (MaxPooling2 (None, 21, 21, 64)        0         \n",
      "_________________________________________________________________\n",
      "conv2d_5 (Conv2D)            (None, 19, 19, 128)       73856     \n",
      "_________________________________________________________________\n",
      "batch_normalization_5 (Batch (None, 19, 19, 128)       512       \n",
      "_________________________________________________________________\n",
      "activation_5 (Activation)    (None, 19, 19, 128)       0         \n",
      "_________________________________________________________________\n",
      "max_pooling2d_5 (MaxPooling2 (None, 6, 6, 128)         0         \n",
      "_________________________________________________________________\n",
      "flatten_1 (Flatten)          (None, 4608)              0         \n",
      "_________________________________________________________________\n",
      "dense_3 (Dense)              (None, 128)               589952    \n",
      "_________________________________________________________________\n",
      "dropout_2 (Dropout)          (None, 128)               0         \n",
      "_________________________________________________________________\n",
      "dense_4 (Dense)              (None, 64)                8256      \n",
      "_________________________________________________________________\n",
      "dropout_3 (Dropout)          (None, 64)                0         \n",
      "_________________________________________________________________\n",
      "dense_5 (Dense)              (None, 5)                 325       \n",
      "=================================================================\n",
      "Total params: 692,101\n",
      "Trainable params: 691,653\n",
      "Non-trainable params: 448\n",
      "_________________________________________________________________\n"
     ]
    }
   ],
   "source": [
    "trained_model.summary()"
   ]
  },
  {
   "cell_type": "markdown",
   "metadata": {},
   "source": [
    "Let's get in our validation data but with a seed so we can compare to predictions consistently"
   ]
  },
  {
   "cell_type": "code",
   "execution_count": 69,
   "metadata": {},
   "outputs": [
    {
     "name": "stdout",
     "output_type": "stream",
     "text": [
      "Found 313 files belonging to 5 classes.\n"
     ]
    }
   ],
   "source": [
    "test_directory = \"C:/Users/Jason/Documents/University/Year_4/MPhys_Project(s)/Liquid_crystals-machine_learning/Images_from_drive/Validation\"\n",
    "image_size = (200,200)\n",
    "new_val_dataset = image_dataset_from_directory(test_directory,\n",
    "                            labels=\"inferred\",\n",
    "                            label_mode=\"categorical\",\n",
    "                            color_mode=\"grayscale\",\n",
    "                            batch_size=64,\n",
    "                            image_size=image_size,\n",
    "                        )"
   ]
  },
  {
   "cell_type": "code",
   "execution_count": 70,
   "metadata": {},
   "outputs": [
    {
     "name": "stdout",
     "output_type": "stream",
     "text": [
      "(TensorSpec(shape=(None, 200, 200, 1), dtype=tf.float32, name=None), TensorSpec(shape=(None, 5), dtype=tf.float32, name=None))\n",
      "['Cholesteric', 'Columnar', 'Nematic', 'Smectic', 'Twist_grain_boundary']\n",
      "(64, 200, 200, 1)\n",
      "<dtype: 'float32'>\n",
      "(64, 5)\n",
      "<dtype: 'float32'>\n",
      "(64, 200, 200, 1)\n",
      "<dtype: 'float32'>\n",
      "(64, 5)\n",
      "<dtype: 'float32'>\n",
      "(64, 200, 200, 1)\n",
      "<dtype: 'float32'>\n",
      "(64, 5)\n",
      "<dtype: 'float32'>\n",
      "(64, 200, 200, 1)\n",
      "<dtype: 'float32'>\n",
      "(64, 5)\n",
      "<dtype: 'float32'>\n",
      "(57, 200, 200, 1)\n",
      "<dtype: 'float32'>\n",
      "(57, 5)\n",
      "<dtype: 'float32'>\n"
     ]
    }
   ],
   "source": [
    "print(new_val_dataset.element_spec)\n",
    "print(new_val_dataset.class_names)\n",
    "for data, labels in new_val_dataset:\n",
    "    print(data.shape)\n",
    "    print(data.dtype)\n",
    "    print(labels.shape)\n",
    "    print(labels.dtype)"
   ]
  },
  {
   "cell_type": "code",
   "execution_count": 71,
   "metadata": {},
   "outputs": [
    {
     "name": "stdout",
     "output_type": "stream",
     "text": [
      "5/5 - 1s - loss: 0.3728 - accuracy: 0.9233\n"
     ]
    },
    {
     "data": {
      "text/plain": [
       "[0.3727888762950897, 0.9233226776123047]"
      ]
     },
     "execution_count": 71,
     "metadata": {},
     "output_type": "execute_result"
    }
   ],
   "source": [
    "trained_model.evaluate(new_val_dataset, verbose=2)"
   ]
  },
  {
   "cell_type": "code",
   "execution_count": 72,
   "metadata": {},
   "outputs": [],
   "source": [
    "val_predictions = trained_model.predict(new_val_dataset)"
   ]
  },
  {
   "cell_type": "code",
   "execution_count": 75,
   "metadata": {},
   "outputs": [
    {
     "name": "stdout",
     "output_type": "stream",
     "text": [
      "[3 0 2 2 0 2 4 3 0 0 3 0 2 0 1 0 2 2 2 1 3 0 2 2 2 2 4 4 2 0 3 2 2 3 0 2 2\n",
      " 4 2 0 4 3 2 4 0 3 0 0 2 3 0 0 0 0 0 0 0 2 2 2 0 0 4 2 0 3 0 4 2 0 2 0 2 0\n",
      " 0 2 2 0 2 4 0 0 4 0 0 4 2 1 4 2 0 0 3 0 0 1 2 0 0 4 4 2 2 0 3 2 3 4 3 4 1\n",
      " 3 0 2 0 0 2 3 2 4 2 0 3 0 1 2 0 0 4 3 4 3 2 2 2 3 0 0 3 0 1 3 0 0 2 0 1 1\n",
      " 2 2 0 1 3 2 1 0 3 2 0 2 3 0 2 4 0 3 1 2 0 4 2 1 2 4 0 0 3 3 4 2 4 0 0 2 3\n",
      " 2 0 0 2 2 2 3 2 2 3 2 2 3 0 0 3 3 2 0 2 3 0 2 2 0 2 2 1 2 4 2 3 0 3 2 3 0\n",
      " 2 0 2 1 0 4 2 0 0 0 4 1 0 0 3 2 0 3 1 0 3 3 0 2 2 0 0 2 0 0 0 2 0 0 0 0 3\n",
      " 2 2 1 0 3 3 1 3 0 2 2 1 0 0 0 1 3 3 4 0 0 0 2 3 1 2 0 2 2 0 2 2 2 2 2 0 0\n",
      " 3 0 2 0 4 3 2 3 2 3 4 2 0 1 4 4 3]\n",
      "[0 3 1 0 2 4 2 2 3 0 3 2 0 0 2 2 4 2 2 0 0 3 3 0 3 0 2 0 2 2 0 0 4 0 3 0 2\n",
      " 3 0 2 3 0 2 2 3 2 2 0 2 0 2 2 0 2 0 1 2 0 2 0 4 2 0 2 0 4 2 0 2 2 2 0 3 2\n",
      " 2 2 4 2 2 0 0 4 0 0 0 2 3 0 2 0 0 2 0 3 0 4 2 3 0 1 2 3 3 0 2 0 2 4 0 0 2\n",
      " 0 3 0 0 2 3 3 0 0 2 2 2 0 4 2 4 3 0 0 0 4 0 2 0 2 3 2 2 4 3 0 0 1 0 4 2 3\n",
      " 2 0 3 0 1 2 3 0 2 3 2 0 0 0 0 2 4 2 0 4 0 2 2 3 2 2 0 0 0 1 0 0 0 0 2 2 1\n",
      " 0 3 2 0 3 1 0 0 2 2 4 0 0 2 4 3 2 3 2 2 4 4 4 2 3 0 2 3 0 3 2 2 4 2 0 0 0\n",
      " 2 0 2 4 0 2 0 0 0 0 0 0 2 0 2 3 2 2 4 3 0 3 2 0 3 0 2 0 0 2 2 0 3 4 4 1 2\n",
      " 0 3 2 0 3 4 0 0 3 1 0 2 3 2 0 2 0 4 0 0 3 2 4 4 0 0 0 2 0 2 0 4 0 4 0 0 3\n",
      " 2 0 0 0 0 2 3 0 2 0 2 2 2 0 2 0 0]\n",
      "Confusion matrix:\n"
     ]
    },
    {
     "data": {
      "image/png": "[encoded data removed]",
      "text/plain": [
       "<Figure size 432x288 with 2 Axes>"
      ]
     },
     "metadata": {
      "needs_background": "light"
     },
     "output_type": "display_data"
    }
   ],
   "source": [
    "# Get true labels\n",
    "y_true = np.argmax(np.concatenate([labels for data, labels in new_val_dataset], axis=0), axis=1)\n",
    "y_pred = np.argmax(val_predictions, axis = 1)\n",
    "\n",
    "print(y_true)\n",
    "print(y_pred)\n",
    "\n",
    "print(\"Confusion matrix:\")\n",
    "phases = ['Cholesteric', 'Columnar', 'Nematic', 'Smectic', 'Twist_grain_boundary']\n",
    "  \n",
    "figure = plt.figure() \n",
    "axes = figure.add_subplot(111) \n",
    " \n",
    "caxes = axes.matshow(confusion_matrix(y_true=y_true, y_pred=y_pred, normalize=\"true\"), interpolation ='nearest') \n",
    "figure.colorbar(caxes) \n",
    "  \n",
    "axes.set_xticklabels(['']+phases) \n",
    "axes.set_yticklabels(['']+phases) \n",
    "  \n",
    "plt.show() "
   ]
  },
  {
   "cell_type": "markdown",
   "metadata": {},
   "source": [
    "Now let's get some test images in to see some predictions"
   ]
  },
  {
   "cell_type": "code",
   "execution_count": 36,
   "metadata": {},
   "outputs": [
    {
     "name": "stdout",
     "output_type": "stream",
     "text": [
      "Found 26 files belonging to 5 classes.\n"
     ]
    }
   ],
   "source": [
    "test_image_directory = \"C:/Users/Jason/Documents/University/Year_4/MPhys_Project(s)/Liquid_crystals-machine_learning/Images_from_drive/Test_images_Ingo_book\"\n",
    "image_size = (200,200)\n",
    "test_image_dataset = image_dataset_from_directory(test_image_directory,\n",
    "                            labels=\"inferred\",\n",
    "                            label_mode=\"categorical\",\n",
    "                            color_mode=\"grayscale\",\n",
    "                            batch_size=64,\n",
    "                            image_size=image_size,\n",
    "                        )"
   ]
  },
  {
   "cell_type": "code",
   "execution_count": 38,
   "metadata": {},
   "outputs": [
    {
     "name": "stdout",
     "output_type": "stream",
     "text": [
      "(TensorSpec(shape=(None, 200, 200, 1), dtype=tf.float32, name=None), TensorSpec(shape=(None, 5), dtype=tf.float32, name=None))\n",
      "['Cholesteric', 'Columnar', 'Nematic', 'Smectic', 'Twist_grain_boundary']\n",
      "(26, 200, 200, 1)\n",
      "<dtype: 'float32'>\n",
      "(26, 5)\n",
      "<dtype: 'float32'>\n"
     ]
    }
   ],
   "source": [
    "print(test_image_dataset.element_spec)\n",
    "print(test_image_dataset.class_names)\n",
    "for data, labels in test_image_dataset:\n",
    "    print(data.shape)\n",
    "    print(data.dtype)\n",
    "    print(labels.shape)\n",
    "    print(labels.dtype)"
   ]
  },
  {
   "cell_type": "code",
   "execution_count": 51,
   "metadata": {},
   "outputs": [],
   "source": [
    "predictions = trained_model.predict(test_image_dataset)"
   ]
  },
  {
   "cell_type": "code",
   "execution_count": 53,
   "metadata": {},
   "outputs": [
    {
     "name": "stdout",
     "output_type": "stream",
     "text": [
      "1/1 - 0s - loss: 4.6584 - accuracy: 0.3077\n"
     ]
    }
   ],
   "source": [
    "test_accuracy = trained_model.evaluate(test_image_dataset, verbose=2)"
   ]
  },
  {
   "cell_type": "code",
   "execution_count": 52,
   "metadata": {},
   "outputs": [
    {
     "name": "stdout",
     "output_type": "stream",
     "text": [
      "[0 0 0 0 0 0 0 0 1 2 2 2 2 2 2 2 3 3 3 3 3 3 3 4 4 4]\n",
      "[4 0 0 4 1 0 0 0 2 0 2 2 2 0 0 0 2 0 2 0 0 2 1 1 2 2]\n",
      "Confusion matrix:\n"
     ]
    },
    {
     "data": {
      "image/png": "[encoded data removed]",
      "text/plain": [
       "<Figure size 432x288 with 2 Axes>"
      ]
     },
     "metadata": {
      "needs_background": "light"
     },
     "output_type": "display_data"
    }
   ],
   "source": [
    "# Get true labels\n",
    "y_true = np.argmax(np.concatenate([labels for data, labels in test_image_dataset], axis=0), axis=1)\n",
    "y_pred = np.argmax(predictions, axis = 1)\n",
    "\n",
    "print(y_true)\n",
    "print(y_pred)\n",
    "\n",
    "print(\"Confusion matrix:\")\n",
    "phases = ['Cholesteric', 'Columnar', 'Nematic', 'Smectic', 'Twist_grain_boundary']\n",
    "  \n",
    "figure = plt.figure() \n",
    "axes = figure.add_subplot(111) \n",
    " \n",
    "caxes = axes.matshow(confusion_matrix(y_true=y_true, y_pred=y_pred, normalize=\"true\"), interpolation ='nearest') \n",
    "figure.colorbar(caxes) \n",
    "  \n",
    "axes.set_xticklabels(['']+phases) \n",
    "axes.set_yticklabels(['']+phases) \n",
    "  \n",
    "plt.show() "
   ]
  },
  {
   "cell_type": "markdown",
   "metadata": {},
   "source": [
    "I think from the confusion matrices, we're being misled into thinking this is a good generalisable model. The model is suffering due to the imbalanced dataset - too many cholesteric and nematic compared to other."
   ]
  },
  {
   "cell_type": "code",
   "execution_count": null,
   "metadata": {},
   "outputs": [],
   "source": []
  }
 ],
 "metadata": {
  "kernelspec": {
   "display_name": "Python 3",
   "language": "python",
   "name": "python3"
  },
  "language_info": {
   "codemirror_mode": {
    "name": "ipython",
    "version": 3
   },
   "file_extension": ".py",
   "mimetype": "text/x-python",
   "name": "python",
   "nbconvert_exporter": "python",
   "pygments_lexer": "ipython3",
   "version": "3.7.6"
  }
 },
 "nbformat": 4,
 "nbformat_minor": 4
}
