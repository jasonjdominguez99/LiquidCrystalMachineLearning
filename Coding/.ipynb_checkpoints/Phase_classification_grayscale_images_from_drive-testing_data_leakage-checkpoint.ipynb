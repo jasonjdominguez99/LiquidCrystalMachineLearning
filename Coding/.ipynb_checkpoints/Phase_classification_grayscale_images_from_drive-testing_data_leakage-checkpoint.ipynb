{
 "cells": [
  {
   "cell_type": "markdown",
   "metadata": {},
   "source": [
    "This notebook was created at 23:21 26/10/20"
   ]
  },
  {
   "cell_type": "markdown",
   "metadata": {},
   "source": [
    "Liquid crystal phase classification using deep learning techniques"
   ]
  },
  {
   "cell_type": "markdown",
   "metadata": {},
   "source": [
    "Attempting to test whether using a random split of all images (so images from same video can be present in training and validation sets) will lead to a misleadingly high validation accuracy - therefore it is a possible source of data leakage."
   ]
  },
  {
   "cell_type": "code",
   "execution_count": 1,
   "metadata": {},
   "outputs": [],
   "source": [
    "import numpy as np\n",
    "import matplotlib.pyplot as plt\n",
    "from keras.models import Model\n",
    "from keras.layers import Input, Dense, Activation, ZeroPadding2D, BatchNormalization, Flatten, Conv2D\n",
    "from keras.layers import AveragePooling2D, MaxPooling2D, Dropout, GlobalMaxPooling2D, GlobalAveragePooling2D\n",
    "from keras.layers.experimental.preprocessing import Rescaling, RandomFlip\n",
    "from keras.callbacks import ReduceLROnPlateau, EarlyStopping, ModelCheckpoint\n",
    "from keras.preprocessing import image_dataset_from_directory\n",
    "from keras.utils import plot_model\n",
    "from sklearn.metrics import confusion_matrix\n",
    "import tensorflow as tf"
   ]
  },
  {
   "cell_type": "markdown",
   "metadata": {},
   "source": [
    "Load in the data."
   ]
  },
  {
   "cell_type": "code",
   "execution_count": 22,
   "metadata": {},
   "outputs": [
    {
     "name": "stdout",
     "output_type": "stream",
     "text": [
      "Found 2227 files belonging to 5 classes.\n",
      "Using 1559 files for training.\n",
      "Found 2227 files belonging to 5 classes.\n",
      "Using 668 files for validation.\n"
     ]
    }
   ],
   "source": [
    "image_directory = \"C:/Users/Jason/Documents/University/Year_4/MPhys_Project(s)/Liquid_crystals-machine_learning/Images_from_drive_unedited\"\n",
    "image_size = (200,200)\n",
    "\n",
    "# Change images to grayscale as colour isnt an important feature at this stage\n",
    "train_dataset = image_dataset_from_directory(image_directory,\n",
    "                            labels=\"inferred\",\n",
    "                            label_mode=\"categorical\",\n",
    "                            color_mode=\"grayscale\",\n",
    "                            batch_size=64,\n",
    "                            validation_split = 0.3,\n",
    "                            subset = \"training\",\n",
    "                            image_size=image_size,\n",
    "                            shuffle=True,\n",
    "                            seed = 1\n",
    "                        )\n",
    "val_dataset = image_dataset_from_directory(image_directory,\n",
    "                            labels=\"inferred\",\n",
    "                            label_mode=\"categorical\",\n",
    "                            color_mode=\"grayscale\",\n",
    "                            batch_size=64,\n",
    "                            validation_split = 0.3,\n",
    "                            subset = \"validation\",\n",
    "                            image_size=image_size,\n",
    "                            shuffle=True,\n",
    "                            seed = 1\n",
    "                        )"
   ]
  },
  {
   "cell_type": "markdown",
   "metadata": {},
   "source": [
    "Let's see if the files imported as expected."
   ]
  },
  {
   "cell_type": "code",
   "execution_count": 23,
   "metadata": {},
   "outputs": [
    {
     "name": "stdout",
     "output_type": "stream",
     "text": [
      "(TensorSpec(shape=(None, 200, 200, 1), dtype=tf.float32, name=None), TensorSpec(shape=(None, 5), dtype=tf.float32, name=None))\n",
      "['Cholesteric', 'Columnar', 'Nematic', 'Smectic', 'Twist_grain_boundary']\n",
      "(64, 200, 200, 1)\n",
      "(64, 5)\n",
      "(64, 200, 200, 1)\n",
      "(64, 5)\n",
      "(64, 200, 200, 1)\n",
      "(64, 5)\n",
      "(64, 200, 200, 1)\n",
      "(64, 5)\n",
      "(64, 200, 200, 1)\n",
      "(64, 5)\n",
      "(64, 200, 200, 1)\n",
      "(64, 5)\n",
      "(64, 200, 200, 1)\n",
      "(64, 5)\n",
      "(64, 200, 200, 1)\n",
      "(64, 5)\n",
      "(64, 200, 200, 1)\n",
      "(64, 5)\n",
      "(64, 200, 200, 1)\n",
      "(64, 5)\n",
      "(64, 200, 200, 1)\n",
      "(64, 5)\n",
      "(64, 200, 200, 1)\n",
      "(64, 5)\n",
      "(64, 200, 200, 1)\n",
      "(64, 5)\n",
      "(64, 200, 200, 1)\n",
      "(64, 5)\n",
      "(64, 200, 200, 1)\n",
      "(64, 5)\n",
      "(64, 200, 200, 1)\n",
      "(64, 5)\n",
      "(64, 200, 200, 1)\n",
      "(64, 5)\n",
      "(64, 200, 200, 1)\n",
      "(64, 5)\n",
      "(64, 200, 200, 1)\n",
      "(64, 5)\n",
      "(64, 200, 200, 1)\n",
      "(64, 5)\n",
      "(64, 200, 200, 1)\n",
      "(64, 5)\n",
      "(64, 200, 200, 1)\n",
      "(64, 5)\n",
      "(64, 200, 200, 1)\n",
      "(64, 5)\n",
      "(64, 200, 200, 1)\n",
      "(64, 5)\n",
      "(23, 200, 200, 1)\n",
      "(23, 5)\n"
     ]
    }
   ],
   "source": [
    "print(train_dataset.element_spec)\n",
    "print(train_dataset.class_names)\n",
    "for data, labels in train_dataset:\n",
    "    print(data.shape)\n",
    "    print(labels.shape)"
   ]
  },
  {
   "cell_type": "markdown",
   "metadata": {},
   "source": [
    "Let's define a function to plot a graph to see how our model works over iterations. (From Josh Heaton)"
   ]
  },
  {
   "cell_type": "code",
   "execution_count": 24,
   "metadata": {},
   "outputs": [],
   "source": [
    "def plot_loss_acc_history(history):\n",
    "    fig, axis = plt.subplots(2)\n",
    "    #fig.subtitle('Training losses and accuracies')\n",
    "    \n",
    "    axis[0].plot(history.history['loss'], label='loss')\n",
    "    axis[0].plot(history.history['val_loss'], label='val_loss')\n",
    "    axis[0].set_xlabel('Epoch')\n",
    "    axis[0].set_ylabel('Loss')\n",
    "    axis[0].legend(loc='upper right')\n",
    "    \n",
    "    axis[1].plot(history.history['accuracy'], label='accuracy')\n",
    "    axis[1].plot(history.history['val_accuracy'], label='val_accuracy')\n",
    "    axis[1].set_xlabel('Epoch')\n",
    "    axis[1].set_ylabel('Accuracy')\n",
    "    axis[1].legend(loc='upper right')\n",
    "\n",
    "    plt.show()"
   ]
  },
  {
   "cell_type": "markdown",
   "metadata": {},
   "source": [
    "Let's define our pipeline."
   ]
  },
  {
   "cell_type": "code",
   "execution_count": 25,
   "metadata": {},
   "outputs": [],
   "source": [
    "image_shape = (image_size[0], image_size[1], 1)\n",
    "X_inputs = Input(shape = image_shape)\n",
    "# Rescale images to have values in range [0,1]\n",
    "X = Rescaling(scale = 1/255)(X_inputs)\n",
    "X = RandomFlip()(X)\n",
    "\n",
    "# Apply convolutional and pooling layers\n",
    "X = Conv2D(filters=32, kernel_size=(3,3))(X)\n",
    "X = BatchNormalization()(X)\n",
    "X = Activation(\"relu\")(X)\n",
    "X = MaxPooling2D(pool_size=(3,3))(X)\n",
    "X = Conv2D(filters=64, kernel_size=(3,3))(X)\n",
    "X = BatchNormalization()(X)\n",
    "X = Activation(\"relu\")(X)\n",
    "X = MaxPooling2D(pool_size=(3,3))(X)\n",
    "X = Conv2D(filters=128, kernel_size=(3,3))(X)\n",
    "X = BatchNormalization()(X)\n",
    "X = Activation(\"relu\")(X)\n",
    "X = MaxPooling2D(pool_size=(3,3))(X)\n",
    "\n",
    "# Apply fully connected layer\n",
    "X = Flatten()(X)\n",
    "X = Dense(units=128, activation=\"relu\")(X)\n",
    "X = Dropout(0.3)(X)\n",
    "X = Dense(units=64, activation=\"relu\")(X)\n",
    "X = Dropout(0.3)(X)\n",
    "# Output layer\n",
    "num_classes = 5\n",
    "X_outputs = Dense(units=num_classes, activation=\"softmax\")(X)\n",
    "\n",
    "model = Model(inputs = X_inputs, outputs = X_outputs)"
   ]
  },
  {
   "cell_type": "markdown",
   "metadata": {},
   "source": [
    "Let's see what this model looks like."
   ]
  },
  {
   "cell_type": "code",
   "execution_count": 26,
   "metadata": {},
   "outputs": [
    {
     "name": "stdout",
     "output_type": "stream",
     "text": [
      "Model: \"functional_5\"\n",
      "_________________________________________________________________\n",
      "Layer (type)                 Output Shape              Param #   \n",
      "=================================================================\n",
      "input_3 (InputLayer)         [(None, 200, 200, 1)]     0         \n",
      "_________________________________________________________________\n",
      "rescaling_2 (Rescaling)      (None, 200, 200, 1)       0         \n",
      "_________________________________________________________________\n",
      "random_flip_2 (RandomFlip)   (None, 200, 200, 1)       0         \n",
      "_________________________________________________________________\n",
      "conv2d_6 (Conv2D)            (None, 198, 198, 32)      320       \n",
      "_________________________________________________________________\n",
      "batch_normalization_6 (Batch (None, 198, 198, 32)      128       \n",
      "_________________________________________________________________\n",
      "activation_6 (Activation)    (None, 198, 198, 32)      0         \n",
      "_________________________________________________________________\n",
      "max_pooling2d_6 (MaxPooling2 (None, 66, 66, 32)        0         \n",
      "_________________________________________________________________\n",
      "conv2d_7 (Conv2D)            (None, 64, 64, 64)        18496     \n",
      "_________________________________________________________________\n",
      "batch_normalization_7 (Batch (None, 64, 64, 64)        256       \n",
      "_________________________________________________________________\n",
      "activation_7 (Activation)    (None, 64, 64, 64)        0         \n",
      "_________________________________________________________________\n",
      "max_pooling2d_7 (MaxPooling2 (None, 21, 21, 64)        0         \n",
      "_________________________________________________________________\n",
      "conv2d_8 (Conv2D)            (None, 19, 19, 128)       73856     \n",
      "_________________________________________________________________\n",
      "batch_normalization_8 (Batch (None, 19, 19, 128)       512       \n",
      "_________________________________________________________________\n",
      "activation_8 (Activation)    (None, 19, 19, 128)       0         \n",
      "_________________________________________________________________\n",
      "max_pooling2d_8 (MaxPooling2 (None, 6, 6, 128)         0         \n",
      "_________________________________________________________________\n",
      "flatten_2 (Flatten)          (None, 4608)              0         \n",
      "_________________________________________________________________\n",
      "dense_6 (Dense)              (None, 128)               589952    \n",
      "_________________________________________________________________\n",
      "dropout_4 (Dropout)          (None, 128)               0         \n",
      "_________________________________________________________________\n",
      "dense_7 (Dense)              (None, 64)                8256      \n",
      "_________________________________________________________________\n",
      "dropout_5 (Dropout)          (None, 64)                0         \n",
      "_________________________________________________________________\n",
      "dense_8 (Dense)              (None, 5)                 325       \n",
      "=================================================================\n",
      "Total params: 692,101\n",
      "Trainable params: 691,653\n",
      "Non-trainable params: 448\n",
      "_________________________________________________________________\n"
     ]
    }
   ],
   "source": [
    "model.summary()"
   ]
  },
  {
   "cell_type": "markdown",
   "metadata": {},
   "source": [
    "Now we need to compile, train and test the model."
   ]
  },
  {
   "cell_type": "code",
   "execution_count": 27,
   "metadata": {},
   "outputs": [],
   "source": [
    "model.compile(optimizer=\"adam\", loss=\"categorical_crossentropy\", metrics=[\"accuracy\"])"
   ]
  },
  {
   "cell_type": "code",
   "execution_count": 28,
   "metadata": {},
   "outputs": [
    {
     "name": "stdout",
     "output_type": "stream",
     "text": [
      "Epoch 1/100\n",
      "25/25 - 70s - loss: 1.8629 - accuracy: 0.4009 - val_loss: 1.5468 - val_accuracy: 0.3039\n",
      "Epoch 2/100\n",
      "25/25 - 74s - loss: 1.0053 - accuracy: 0.6216 - val_loss: 1.7303 - val_accuracy: 0.3039\n",
      "Epoch 3/100\n",
      "25/25 - 76s - loss: 0.6579 - accuracy: 0.7601 - val_loss: 2.9814 - val_accuracy: 0.3039\n",
      "Epoch 4/100\n",
      "25/25 - 78s - loss: 0.5511 - accuracy: 0.8133 - val_loss: 4.2421 - val_accuracy: 0.3039\n",
      "Epoch 5/100\n",
      "25/25 - 77s - loss: 0.4708 - accuracy: 0.8294 - val_loss: 4.0147 - val_accuracy: 0.3039\n",
      "Epoch 6/100\n",
      "25/25 - 78s - loss: 0.4324 - accuracy: 0.8454 - val_loss: 4.6079 - val_accuracy: 0.3039\n",
      "Epoch 7/100\n",
      "25/25 - 72s - loss: 0.2960 - accuracy: 0.9070 - val_loss: 6.5602 - val_accuracy: 0.3039\n",
      "Epoch 8/100\n",
      "25/25 - 70s - loss: 0.2329 - accuracy: 0.9250 - val_loss: 6.4039 - val_accuracy: 0.3039\n",
      "Epoch 9/100\n",
      "25/25 - 71s - loss: 0.2257 - accuracy: 0.9166 - val_loss: 8.0580 - val_accuracy: 0.3039\n",
      "Epoch 10/100\n",
      "25/25 - 69s - loss: 0.2476 - accuracy: 0.9269 - val_loss: 7.0825 - val_accuracy: 0.3039\n",
      "Epoch 11/100\n",
      "25/25 - 70s - loss: 0.2072 - accuracy: 0.9346 - val_loss: 6.2044 - val_accuracy: 0.3039\n",
      "Epoch 12/100\n",
      "25/25 - 72s - loss: 0.1700 - accuracy: 0.9493 - val_loss: 5.2152 - val_accuracy: 0.3039\n",
      "Epoch 13/100\n",
      "25/25 - 77s - loss: 0.1353 - accuracy: 0.9551 - val_loss: 5.1850 - val_accuracy: 0.3099\n",
      "Epoch 14/100\n",
      "25/25 - 72s - loss: 0.1456 - accuracy: 0.9545 - val_loss: 3.7372 - val_accuracy: 0.3383\n",
      "Epoch 15/100\n",
      "25/25 - 69s - loss: 0.1703 - accuracy: 0.9448 - val_loss: 3.1143 - val_accuracy: 0.3353\n",
      "Epoch 16/100\n",
      "25/25 - 72s - loss: 0.1760 - accuracy: 0.9487 - val_loss: 4.2778 - val_accuracy: 0.3174\n",
      "Epoch 17/100\n",
      "25/25 - 70s - loss: 0.1056 - accuracy: 0.9679 - val_loss: 1.9005 - val_accuracy: 0.5030\n",
      "Epoch 18/100\n",
      "25/25 - 70s - loss: 0.0958 - accuracy: 0.9666 - val_loss: 1.8972 - val_accuracy: 0.5359\n",
      "Epoch 19/100\n",
      "25/25 - 72s - loss: 0.0801 - accuracy: 0.9763 - val_loss: 0.7657 - val_accuracy: 0.7350\n",
      "Epoch 20/100\n",
      "25/25 - 69s - loss: 0.0676 - accuracy: 0.9795 - val_loss: 1.2973 - val_accuracy: 0.6766\n",
      "Epoch 21/100\n",
      "25/25 - 72s - loss: 0.0496 - accuracy: 0.9885 - val_loss: 0.6598 - val_accuracy: 0.8084\n",
      "Epoch 22/100\n",
      "25/25 - 70s - loss: 0.0890 - accuracy: 0.9814 - val_loss: 1.0496 - val_accuracy: 0.7171\n",
      "Epoch 23/100\n",
      "25/25 - 70s - loss: 0.0908 - accuracy: 0.9743 - val_loss: 0.4442 - val_accuracy: 0.8084\n",
      "Epoch 24/100\n",
      "25/25 - 71s - loss: 0.0938 - accuracy: 0.9737 - val_loss: 0.1503 - val_accuracy: 0.9596\n",
      "Epoch 25/100\n",
      "25/25 - 70s - loss: 0.0550 - accuracy: 0.9910 - val_loss: 2.6069 - val_accuracy: 0.6018\n",
      "Epoch 26/100\n",
      "25/25 - 70s - loss: 0.0831 - accuracy: 0.9756 - val_loss: 3.9587 - val_accuracy: 0.5045\n",
      "Epoch 27/100\n",
      "25/25 - 69s - loss: 0.0654 - accuracy: 0.9827 - val_loss: 1.1517 - val_accuracy: 0.7515\n",
      "Epoch 28/100\n",
      "25/25 - 70s - loss: 0.0371 - accuracy: 0.9878 - val_loss: 0.0309 - val_accuracy: 0.9910\n",
      "Epoch 29/100\n",
      "25/25 - 70s - loss: 0.0562 - accuracy: 0.9840 - val_loss: 2.8862 - val_accuracy: 0.6332\n",
      "Epoch 30/100\n",
      "25/25 - 70s - loss: 0.0502 - accuracy: 0.9910 - val_loss: 6.7257 - val_accuracy: 0.5254\n",
      "Epoch 31/100\n",
      "25/25 - 76s - loss: 0.0467 - accuracy: 0.9859 - val_loss: 1.5318 - val_accuracy: 0.7395\n",
      "Epoch 32/100\n",
      "25/25 - 72s - loss: 0.0520 - accuracy: 0.9891 - val_loss: 4.2687 - val_accuracy: 0.5958\n",
      "Epoch 33/100\n",
      "25/25 - 70s - loss: 0.0721 - accuracy: 0.9788 - val_loss: 0.5847 - val_accuracy: 0.8593\n",
      "Epoch 34/100\n",
      "25/25 - 71s - loss: 0.0673 - accuracy: 0.9795 - val_loss: 0.9411 - val_accuracy: 0.7964\n",
      "Epoch 35/100\n",
      "25/25 - 69s - loss: 0.0807 - accuracy: 0.9724 - val_loss: 0.0371 - val_accuracy: 0.9880\n",
      "Epoch 36/100\n",
      "25/25 - 71s - loss: 0.0870 - accuracy: 0.9737 - val_loss: 0.1628 - val_accuracy: 0.9641\n",
      "Epoch 37/100\n",
      "25/25 - 70s - loss: 0.0686 - accuracy: 0.9756 - val_loss: 1.8938 - val_accuracy: 0.7141\n",
      "Epoch 38/100\n",
      "25/25 - 70s - loss: 0.0656 - accuracy: 0.9801 - val_loss: 0.2946 - val_accuracy: 0.9431\n",
      "Epoch 39/100\n",
      "25/25 - 70s - loss: 0.0351 - accuracy: 0.9897 - val_loss: 0.0187 - val_accuracy: 0.9970\n",
      "Epoch 40/100\n",
      "25/25 - 70s - loss: 0.0247 - accuracy: 0.9929 - val_loss: 0.1406 - val_accuracy: 0.9626\n",
      "Epoch 41/100\n",
      "25/25 - 71s - loss: 0.0285 - accuracy: 0.9949 - val_loss: 0.0101 - val_accuracy: 0.9985\n",
      "Epoch 42/100\n",
      "25/25 - 71s - loss: 0.0203 - accuracy: 0.9962 - val_loss: 0.0492 - val_accuracy: 0.9835\n",
      "Epoch 43/100\n",
      "25/25 - 70s - loss: 0.0234 - accuracy: 0.9936 - val_loss: 0.0072 - val_accuracy: 0.9985\n",
      "Epoch 44/100\n",
      "25/25 - 69s - loss: 0.0606 - accuracy: 0.9820 - val_loss: 4.9279 - val_accuracy: 0.6138\n",
      "Epoch 45/100\n",
      "25/25 - 70s - loss: 0.0524 - accuracy: 0.9859 - val_loss: 0.0574 - val_accuracy: 0.9805\n",
      "Epoch 46/100\n",
      "25/25 - 70s - loss: 0.0513 - accuracy: 0.9852 - val_loss: 0.0313 - val_accuracy: 0.9925\n",
      "Epoch 47/100\n",
      "25/25 - 69s - loss: 0.0385 - accuracy: 0.9910 - val_loss: 0.3725 - val_accuracy: 0.9057\n",
      "Epoch 48/100\n",
      "25/25 - 70s - loss: 0.0195 - accuracy: 0.9936 - val_loss: 1.0833 - val_accuracy: 0.7740\n",
      "Epoch 49/100\n",
      "25/25 - 70s - loss: 0.0286 - accuracy: 0.9942 - val_loss: 0.0104 - val_accuracy: 0.9970\n",
      "Epoch 50/100\n",
      "25/25 - 70s - loss: 0.0283 - accuracy: 0.9936 - val_loss: 0.0137 - val_accuracy: 0.9955\n",
      "Epoch 51/100\n",
      "25/25 - 72s - loss: 0.0289 - accuracy: 0.9910 - val_loss: 0.1453 - val_accuracy: 0.9596\n",
      "Epoch 52/100\n",
      "25/25 - 73s - loss: 0.0793 - accuracy: 0.9801 - val_loss: 0.2123 - val_accuracy: 0.9192\n",
      "Epoch 53/100\n",
      "25/25 - 72s - loss: 0.1252 - accuracy: 0.9743 - val_loss: 3.2933 - val_accuracy: 0.6123\n",
      "Epoch 54/100\n",
      "25/25 - 71s - loss: 0.0738 - accuracy: 0.9801 - val_loss: 3.8724 - val_accuracy: 0.6796\n",
      "Epoch 55/100\n",
      "25/25 - 70s - loss: 0.0557 - accuracy: 0.9846 - val_loss: 10.6278 - val_accuracy: 0.4820\n",
      "Epoch 56/100\n",
      "25/25 - 72s - loss: 0.0545 - accuracy: 0.9820 - val_loss: 0.4932 - val_accuracy: 0.8787\n",
      "Epoch 57/100\n",
      "25/25 - 70s - loss: 0.0592 - accuracy: 0.9782 - val_loss: 4.3795 - val_accuracy: 0.4760\n",
      "Epoch 58/100\n",
      "25/25 - 72s - loss: 0.0361 - accuracy: 0.9917 - val_loss: 0.6767 - val_accuracy: 0.8099\n",
      "Epoch 59/100\n",
      "25/25 - 69s - loss: 0.0309 - accuracy: 0.9929 - val_loss: 0.0047 - val_accuracy: 0.9985\n",
      "Epoch 60/100\n",
      "25/25 - 71s - loss: 0.0309 - accuracy: 0.9904 - val_loss: 0.0039 - val_accuracy: 0.9985\n",
      "Epoch 61/100\n",
      "25/25 - 69s - loss: 0.0217 - accuracy: 0.9942 - val_loss: 0.0027 - val_accuracy: 1.0000\n",
      "Epoch 62/100\n",
      "25/25 - 71s - loss: 0.0267 - accuracy: 0.9917 - val_loss: 0.0084 - val_accuracy: 0.9985\n",
      "Epoch 63/100\n",
      "25/25 - 71s - loss: 0.0426 - accuracy: 0.9878 - val_loss: 0.8499 - val_accuracy: 0.7710\n",
      "Epoch 64/100\n",
      "25/25 - 70s - loss: 0.0224 - accuracy: 0.9936 - val_loss: 1.4513 - val_accuracy: 0.6662\n",
      "Epoch 65/100\n",
      "25/25 - 71s - loss: 0.0135 - accuracy: 0.9962 - val_loss: 0.0295 - val_accuracy: 0.9925\n",
      "Epoch 66/100\n",
      "25/25 - 70s - loss: 0.0232 - accuracy: 0.9923 - val_loss: 0.0941 - val_accuracy: 0.9686\n",
      "Epoch 67/100\n",
      "25/25 - 70s - loss: 0.0155 - accuracy: 0.9968 - val_loss: 0.0120 - val_accuracy: 0.9940\n",
      "Epoch 68/100\n",
      "25/25 - 71s - loss: 0.0077 - accuracy: 0.9981 - val_loss: 0.0098 - val_accuracy: 0.9985\n",
      "Epoch 69/100\n",
      "25/25 - 71s - loss: 0.0164 - accuracy: 0.9962 - val_loss: 0.0079 - val_accuracy: 0.9985\n",
      "Epoch 70/100\n",
      "25/25 - 70s - loss: 0.0281 - accuracy: 0.9923 - val_loss: 0.8490 - val_accuracy: 0.8578\n",
      "Epoch 71/100\n",
      "25/25 - 70s - loss: 0.0158 - accuracy: 0.9962 - val_loss: 0.2002 - val_accuracy: 0.9386\n",
      "Epoch 72/100\n",
      "25/25 - 72s - loss: 0.0130 - accuracy: 0.9968 - val_loss: 0.3986 - val_accuracy: 0.9087\n",
      "Epoch 73/100\n",
      "25/25 - 70s - loss: 0.0345 - accuracy: 0.9910 - val_loss: 0.0290 - val_accuracy: 0.9925\n",
      "Epoch 74/100\n",
      "25/25 - 71s - loss: 0.0417 - accuracy: 0.9859 - val_loss: 0.6362 - val_accuracy: 0.8683\n",
      "Epoch 75/100\n",
      "25/25 - 70s - loss: 0.0692 - accuracy: 0.9827 - val_loss: 2.8997 - val_accuracy: 0.6422\n",
      "Epoch 76/100\n",
      "25/25 - 71s - loss: 0.0991 - accuracy: 0.9743 - val_loss: 3.9416 - val_accuracy: 0.4850\n",
      "Epoch 77/100\n",
      "25/25 - 71s - loss: 0.0847 - accuracy: 0.9756 - val_loss: 2.3578 - val_accuracy: 0.7500\n",
      "Epoch 78/100\n",
      "25/25 - 70s - loss: 0.0433 - accuracy: 0.9859 - val_loss: 0.0218 - val_accuracy: 0.9955\n",
      "Epoch 79/100\n",
      "25/25 - 71s - loss: 0.0211 - accuracy: 0.9949 - val_loss: 0.2164 - val_accuracy: 0.9281\n",
      "Epoch 80/100\n",
      "25/25 - 69s - loss: 0.0215 - accuracy: 0.9904 - val_loss: 1.5439 - val_accuracy: 0.7126\n",
      "Epoch 81/100\n",
      "25/25 - 71s - loss: 0.0159 - accuracy: 0.9955 - val_loss: 1.1757 - val_accuracy: 0.7590\n",
      "Epoch 82/100\n",
      "25/25 - 71s - loss: 0.0114 - accuracy: 0.9955 - val_loss: 0.9132 - val_accuracy: 0.8114\n"
     ]
    },
    {
     "name": "stdout",
     "output_type": "stream",
     "text": [
      "Epoch 83/100\n",
      "25/25 - 69s - loss: 0.0038 - accuracy: 0.9987 - val_loss: 0.3088 - val_accuracy: 0.8937\n",
      "Epoch 84/100\n",
      "25/25 - 72s - loss: 0.0154 - accuracy: 0.9942 - val_loss: 0.0612 - val_accuracy: 0.9865\n",
      "Epoch 85/100\n",
      "25/25 - 69s - loss: 0.0375 - accuracy: 0.9885 - val_loss: 1.5339 - val_accuracy: 0.7680\n",
      "Epoch 86/100\n",
      "25/25 - 70s - loss: 0.0209 - accuracy: 0.9949 - val_loss: 0.0040 - val_accuracy: 0.9985\n",
      "Epoch 87/100\n",
      "25/25 - 71s - loss: 0.0124 - accuracy: 0.9981 - val_loss: 1.2250 - val_accuracy: 0.7710\n",
      "Epoch 88/100\n",
      "25/25 - 70s - loss: 0.0145 - accuracy: 0.9949 - val_loss: 0.6281 - val_accuracy: 0.8982\n",
      "Epoch 89/100\n",
      "25/25 - 72s - loss: 0.0084 - accuracy: 0.9968 - val_loss: 0.0303 - val_accuracy: 0.9880\n",
      "Epoch 90/100\n",
      "25/25 - 69s - loss: 0.0081 - accuracy: 0.9981 - val_loss: 0.3508 - val_accuracy: 0.9281\n",
      "Epoch 91/100\n",
      "25/25 - 69s - loss: 0.0157 - accuracy: 0.9936 - val_loss: 1.1191 - val_accuracy: 0.8249\n",
      "Epoch 92/100\n",
      "25/25 - 72s - loss: 0.0123 - accuracy: 0.9981 - val_loss: 0.0024 - val_accuracy: 1.0000\n",
      "Epoch 93/100\n",
      "25/25 - 69s - loss: 0.0118 - accuracy: 0.9981 - val_loss: 0.0289 - val_accuracy: 0.9940\n",
      "Epoch 94/100\n",
      "25/25 - 72s - loss: 0.0163 - accuracy: 0.9955 - val_loss: 1.0688 - val_accuracy: 0.8084\n",
      "Epoch 95/100\n",
      "25/25 - 70s - loss: 0.0064 - accuracy: 0.9974 - val_loss: 0.0283 - val_accuracy: 0.9895\n",
      "Epoch 96/100\n",
      "25/25 - 71s - loss: 0.0136 - accuracy: 0.9949 - val_loss: 1.0813 - val_accuracy: 0.8488\n",
      "Epoch 97/100\n",
      "25/25 - 71s - loss: 0.0175 - accuracy: 0.9949 - val_loss: 7.2077 - val_accuracy: 0.5704\n",
      "Epoch 98/100\n",
      "25/25 - 70s - loss: 0.0053 - accuracy: 0.9987 - val_loss: 4.2022 - val_accuracy: 0.6392\n",
      "Epoch 99/100\n",
      "25/25 - 71s - loss: 0.0094 - accuracy: 0.9962 - val_loss: 1.1457 - val_accuracy: 0.8563\n",
      "Epoch 100/100\n",
      "25/25 - 70s - loss: 0.0547 - accuracy: 0.9852 - val_loss: 2.8196 - val_accuracy: 0.6527\n"
     ]
    }
   ],
   "source": [
    "history = model.fit(x=train_dataset, epochs=100, verbose=2, validation_data=val_dataset)"
   ]
  },
  {
   "cell_type": "code",
   "execution_count": 29,
   "metadata": {},
   "outputs": [
    {
     "data": {
      "image/png": "[encoded data removed]",
      "text/plain": [
       "<Figure size 432x288 with 2 Axes>"
      ]
     },
     "metadata": {
      "needs_background": "light"
     },
     "output_type": "display_data"
    }
   ],
   "source": [
    "plot_loss_acc_history(history)"
   ]
  },
  {
   "cell_type": "markdown",
   "metadata": {},
   "source": [
    "As we can see results on validation were able to achieve higher values than when taking images that were split manually (to avoid images from the same video being in both training and validation sets). On one occasion we even had 100% validation accuracy, this shows an indication that there is data leakage present, giving misleadingly high validation accuracy."
   ]
  },
  {
   "cell_type": "code",
   "execution_count": null,
   "metadata": {},
   "outputs": [],
   "source": []
  }
 ],
 "metadata": {
  "kernelspec": {
   "display_name": "Python 3",
   "language": "python",
   "name": "python3"
  },
  "language_info": {
   "codemirror_mode": {
    "name": "ipython",
    "version": 3
   },
   "file_extension": ".py",
   "mimetype": "text/x-python",
   "name": "python",
   "nbconvert_exporter": "python",
   "pygments_lexer": "ipython3",
   "version": "3.7.6"
  }
 },
 "nbformat": 4,
 "nbformat_minor": 4
}
