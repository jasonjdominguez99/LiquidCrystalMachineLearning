{
 "cells": [
  {
   "cell_type": "markdown",
   "metadata": {},
   "source": [
    "This notebook was created at 19:02 06/10/20"
   ]
  },
  {
   "cell_type": "markdown",
   "metadata": {},
   "source": [
    "LeNet-5 inspired CCN architecture applied to classification of simulated isotropic and liquid crystal (LC) textures"
   ]
  },
  {
   "cell_type": "markdown",
   "metadata": {},
   "source": [
    "This notebook is meant as an initial proof-of-concept for the overall aim of classifying LC phases from textures. This proof-of-concept will be to test the binary classification of textures representing isotopic and non-isotropic (LC) phases. These textures will be simulated, generating the data. \n",
    "\n",
    "Isotropic is represented as an (almost) completely black image. This is the texture obtained for an isotropic phase using the method of polarizing microscopy. The LC phase will be represented by textures that aren't completely black.\n",
    "\n",
    "Specifically this classification will be implemented using a simple convolutional network (CNN) - LeNet-5 inspired - as this is a CNN that is not to computationally expensive for this task, but should be applicable when generalising the classification to multiple textures."
   ]
  },
  {
   "cell_type": "markdown",
   "metadata": {},
   "source": [
    "We'll be using keras and/or tensorflow."
   ]
  },
  {
   "cell_type": "code",
   "execution_count": 1,
   "metadata": {},
   "outputs": [
    {
     "name": "stdout",
     "output_type": "stream",
     "text": [
      "Requirement already satisfied: tensorflow in c:\\users\\jason\\anaconda3\\lib\\site-packages (2.3.1)\n",
      "Requirement already satisfied: keras in c:\\users\\jason\\anaconda3\\lib\\site-packages (2.4.3)\n",
      "Requirement already satisfied: numpy in c:\\users\\jason\\anaconda3\\lib\\site-packages (1.18.1)\n",
      "Requirement already satisfied: matplotlib in c:\\users\\jason\\anaconda3\\lib\\site-packages (3.1.3)\n",
      "Requirement already satisfied: wrapt>=1.11.1 in c:\\users\\jason\\anaconda3\\lib\\site-packages (from tensorflow) (1.11.2)\n",
      "Requirement already satisfied: tensorflow-estimator<2.4.0,>=2.3.0 in c:\\users\\jason\\anaconda3\\lib\\site-packages (from tensorflow) (2.3.0)\n",
      "Requirement already satisfied: gast==0.3.3 in c:\\users\\jason\\anaconda3\\lib\\site-packages (from tensorflow) (0.3.3)\n",
      "Requirement already satisfied: keras-preprocessing<1.2,>=1.1.1 in c:\\users\\jason\\anaconda3\\lib\\site-packages (from tensorflow) (1.1.2)\n",
      "Requirement already satisfied: protobuf>=3.9.2 in c:\\users\\jason\\anaconda3\\lib\\site-packages (from tensorflow) (3.13.0)\n",
      "Requirement already satisfied: six>=1.12.0 in c:\\users\\jason\\anaconda3\\lib\\site-packages (from tensorflow) (1.14.0)\n",
      "Requirement already satisfied: grpcio>=1.8.6 in c:\\users\\jason\\anaconda3\\lib\\site-packages (from tensorflow) (1.32.0)\n",
      "Requirement already satisfied: termcolor>=1.1.0 in c:\\users\\jason\\anaconda3\\lib\\site-packages (from tensorflow) (1.1.0)\n",
      "Requirement already satisfied: opt-einsum>=2.3.2 in c:\\users\\jason\\anaconda3\\lib\\site-packages (from tensorflow) (3.3.0)\n",
      "Requirement already satisfied: astunparse==1.6.3 in c:\\users\\jason\\anaconda3\\lib\\site-packages (from tensorflow) (1.6.3)\n",
      "Requirement already satisfied: wheel>=0.26 in c:\\users\\jason\\anaconda3\\lib\\site-packages (from tensorflow) (0.34.2)\n",
      "Requirement already satisfied: tensorboard<3,>=2.3.0 in c:\\users\\jason\\anaconda3\\lib\\site-packages (from tensorflow) (2.3.0)\n",
      "Requirement already satisfied: google-pasta>=0.1.8 in c:\\users\\jason\\anaconda3\\lib\\site-packages (from tensorflow) (0.2.0)\n",
      "Requirement already satisfied: absl-py>=0.7.0 in c:\\users\\jason\\anaconda3\\lib\\site-packages (from tensorflow) (0.10.0)\n",
      "Requirement already satisfied: h5py<2.11.0,>=2.10.0 in c:\\users\\jason\\anaconda3\\lib\\site-packages (from tensorflow) (2.10.0)\n",
      "Requirement already satisfied: pyyaml in c:\\users\\jason\\anaconda3\\lib\\site-packages (from keras) (5.3)\n",
      "Requirement already satisfied: scipy>=0.14 in c:\\users\\jason\\anaconda3\\lib\\site-packages (from keras) (1.4.1)\n",
      "Requirement already satisfied: pyparsing!=2.0.4,!=2.1.2,!=2.1.6,>=2.0.1 in c:\\users\\jason\\anaconda3\\lib\\site-packages (from matplotlib) (2.4.6)\n",
      "Requirement already satisfied: cycler>=0.10 in c:\\users\\jason\\anaconda3\\lib\\site-packages (from matplotlib) (0.10.0)\n",
      "Requirement already satisfied: python-dateutil>=2.1 in c:\\users\\jason\\anaconda3\\lib\\site-packages (from matplotlib) (2.8.1)\n",
      "Requirement already satisfied: kiwisolver>=1.0.1 in c:\\users\\jason\\anaconda3\\lib\\site-packages (from matplotlib) (1.1.0)\n",
      "Requirement already satisfied: setuptools in c:\\users\\jason\\anaconda3\\lib\\site-packages (from protobuf>=3.9.2->tensorflow) (45.2.0.post20200210)\n",
      "Requirement already satisfied: google-auth-oauthlib<0.5,>=0.4.1 in c:\\users\\jason\\anaconda3\\lib\\site-packages (from tensorboard<3,>=2.3.0->tensorflow) (0.4.1)\n",
      "Requirement already satisfied: werkzeug>=0.11.15 in c:\\users\\jason\\anaconda3\\lib\\site-packages (from tensorboard<3,>=2.3.0->tensorflow) (1.0.0)\n",
      "Requirement already satisfied: requests<3,>=2.21.0 in c:\\users\\jason\\anaconda3\\lib\\site-packages (from tensorboard<3,>=2.3.0->tensorflow) (2.22.0)\n",
      "Requirement already satisfied: markdown>=2.6.8 in c:\\users\\jason\\anaconda3\\lib\\site-packages (from tensorboard<3,>=2.3.0->tensorflow) (3.2.2)\n",
      "Requirement already satisfied: tensorboard-plugin-wit>=1.6.0 in c:\\users\\jason\\anaconda3\\lib\\site-packages (from tensorboard<3,>=2.3.0->tensorflow) (1.7.0)\n",
      "Requirement already satisfied: google-auth<2,>=1.6.3 in c:\\users\\jason\\anaconda3\\lib\\site-packages (from tensorboard<3,>=2.3.0->tensorflow) (1.22.0)\n",
      "Requirement already satisfied: requests-oauthlib>=0.7.0 in c:\\users\\jason\\anaconda3\\lib\\site-packages (from google-auth-oauthlib<0.5,>=0.4.1->tensorboard<3,>=2.3.0->tensorflow) (1.3.0)\n",
      "Requirement already satisfied: chardet<3.1.0,>=3.0.2 in c:\\users\\jason\\anaconda3\\lib\\site-packages (from requests<3,>=2.21.0->tensorboard<3,>=2.3.0->tensorflow) (3.0.4)\n",
      "Requirement already satisfied: idna<2.9,>=2.5 in c:\\users\\jason\\anaconda3\\lib\\site-packages (from requests<3,>=2.21.0->tensorboard<3,>=2.3.0->tensorflow) (2.8)\n",
      "Requirement already satisfied: urllib3!=1.25.0,!=1.25.1,<1.26,>=1.21.1 in c:\\users\\jason\\anaconda3\\lib\\site-packages (from requests<3,>=2.21.0->tensorboard<3,>=2.3.0->tensorflow) (1.25.8)\n",
      "Requirement already satisfied: certifi>=2017.4.17 in c:\\users\\jason\\anaconda3\\lib\\site-packages (from requests<3,>=2.21.0->tensorboard<3,>=2.3.0->tensorflow) (2019.11.28)\n",
      "Requirement already satisfied: importlib-metadata; python_version < \"3.8\" in c:\\users\\jason\\anaconda3\\lib\\site-packages (from markdown>=2.6.8->tensorboard<3,>=2.3.0->tensorflow) (1.5.0)\n",
      "Requirement already satisfied: cachetools<5.0,>=2.0.0 in c:\\users\\jason\\anaconda3\\lib\\site-packages (from google-auth<2,>=1.6.3->tensorboard<3,>=2.3.0->tensorflow) (4.1.1)\n",
      "Requirement already satisfied: aiohttp<4.0.0dev,>=3.6.2; python_version >= \"3.6\" in c:\\users\\jason\\anaconda3\\lib\\site-packages (from google-auth<2,>=1.6.3->tensorboard<3,>=2.3.0->tensorflow) (3.6.2)\n",
      "Requirement already satisfied: pyasn1-modules>=0.2.1 in c:\\users\\jason\\anaconda3\\lib\\site-packages (from google-auth<2,>=1.6.3->tensorboard<3,>=2.3.0->tensorflow) (0.2.8)\n",
      "Requirement already satisfied: rsa<5,>=3.1.4; python_version >= \"3.5\" in c:\\users\\jason\\anaconda3\\lib\\site-packages (from google-auth<2,>=1.6.3->tensorboard<3,>=2.3.0->tensorflow) (4.6)\n",
      "Requirement already satisfied: oauthlib>=3.0.0 in c:\\users\\jason\\anaconda3\\lib\\site-packages (from requests-oauthlib>=0.7.0->google-auth-oauthlib<0.5,>=0.4.1->tensorboard<3,>=2.3.0->tensorflow) (3.1.0)\n",
      "Requirement already satisfied: zipp>=0.5 in c:\\users\\jason\\anaconda3\\lib\\site-packages (from importlib-metadata; python_version < \"3.8\"->markdown>=2.6.8->tensorboard<3,>=2.3.0->tensorflow) (2.2.0)\n",
      "Requirement already satisfied: attrs>=17.3.0 in c:\\users\\jason\\anaconda3\\lib\\site-packages (from aiohttp<4.0.0dev,>=3.6.2; python_version >= \"3.6\"->google-auth<2,>=1.6.3->tensorboard<3,>=2.3.0->tensorflow) (19.3.0)\n",
      "Requirement already satisfied: yarl<2.0,>=1.0 in c:\\users\\jason\\anaconda3\\lib\\site-packages (from aiohttp<4.0.0dev,>=3.6.2; python_version >= \"3.6\"->google-auth<2,>=1.6.3->tensorboard<3,>=2.3.0->tensorflow) (1.6.0)\n",
      "Requirement already satisfied: async-timeout<4.0,>=3.0 in c:\\users\\jason\\anaconda3\\lib\\site-packages (from aiohttp<4.0.0dev,>=3.6.2; python_version >= \"3.6\"->google-auth<2,>=1.6.3->tensorboard<3,>=2.3.0->tensorflow) (3.0.1)\n",
      "Requirement already satisfied: multidict<5.0,>=4.5 in c:\\users\\jason\\anaconda3\\lib\\site-packages (from aiohttp<4.0.0dev,>=3.6.2; python_version >= \"3.6\"->google-auth<2,>=1.6.3->tensorboard<3,>=2.3.0->tensorflow) (4.7.6)\n",
      "Requirement already satisfied: pyasn1<0.5.0,>=0.4.6 in c:\\users\\jason\\anaconda3\\lib\\site-packages (from pyasn1-modules>=0.2.1->google-auth<2,>=1.6.3->tensorboard<3,>=2.3.0->tensorflow) (0.4.8)\n",
      "Requirement already satisfied: typing-extensions>=3.7.4; python_version < \"3.8\" in c:\\users\\jason\\anaconda3\\lib\\site-packages (from yarl<2.0,>=1.0->aiohttp<4.0.0dev,>=3.6.2; python_version >= \"3.6\"->google-auth<2,>=1.6.3->tensorboard<3,>=2.3.0->tensorflow) (3.7.4.3)\n",
      "Note: you may need to restart the kernel to use updated packages.\n"
     ]
    }
   ],
   "source": [
    "pip install tensorflow keras numpy matplotlib"
   ]
  },
  {
   "cell_type": "code",
   "execution_count": 1,
   "metadata": {},
   "outputs": [],
   "source": [
    "# IMPORTS\n",
    "import numpy as np\n",
    "import matplotlib.pyplot as plt\n",
    "from keras import layers\n",
    "from keras.layers import Input, Dense, Activation, ZeroPadding2D, BatchNormalization, Flatten, Conv2D\n",
    "from keras.layers import AveragePooling2D, MaxPooling2D, Dropout, GlobalMaxPooling2D, GlobalAveragePooling2D\n",
    "from keras.models import Model\n",
    "from sklearn.utils import shuffle\n",
    "from sklearn.model_selection import train_test_split\n",
    "\n",
    "import keras.backend as K"
   ]
  },
  {
   "cell_type": "markdown",
   "metadata": {},
   "source": [
    "Define the function for generating the simulated texture images. The images will be 32x32 (a choice made so that the size matches the size that LeNet-5 was designed for)."
   ]
  },
  {
   "cell_type": "code",
   "execution_count": 2,
   "metadata": {},
   "outputs": [],
   "source": [
    "def random_image_and_labels_generator(image_shape, N):\n",
    "    \"\"\"\n",
    "    Generates random images and their corresponding labels\n",
    "    (1 for bright/LC)\n",
    "\n",
    "    Parameters\n",
    "    ----------\n",
    "    image_shape : tuple\n",
    "        Shape of images we want to generate\n",
    "    N : int\n",
    "        number of images we want to generate\n",
    "\n",
    "    Returns\n",
    "    -------\n",
    "    images : np.array\n",
    "        Generated images together in an array of size (N, image height, image width, 1)\n",
    "    labels : np.array\n",
    "        The corresponding labels for the generated images of shape (N, 1)\n",
    "\n",
    "    \"\"\"\n",
    "    # Add the images to an array\n",
    "    images = np.zeros((1, image_shape[0], image_shape[1], 1)) # we'll need to remove this entry of zeros\n",
    "    \n",
    "    for i in range(N):\n",
    "        # Generate image of size image_size with random\n",
    "        # pixel values between 0 and 1 (representing a random\n",
    "        # normalized image)\n",
    "        image = np.random.rand(1, image_shape[0], image_shape[1], 1) # size (pixels, pixels)\n",
    "        images = np.concatenate((images, image), axis = 0) # will be size (N, pixels, pixels)\n",
    "    \n",
    "    images = np.delete(images, 0, axis = 0)\n",
    "    # Generate labels, 1\n",
    "    labels = np.zeros((N, 1)) + 1\n",
    "    \n",
    "    return images, labels"
   ]
  },
  {
   "cell_type": "code",
   "execution_count": 3,
   "metadata": {},
   "outputs": [],
   "source": [
    "def generate_data(image_shape, N_examples):\n",
    "    \"\"\"\n",
    "    Generate the data for this classification problem\n",
    "\n",
    "    Parameters\n",
    "    ----------\n",
    "    image_shape : tuple\n",
    "        Shape of images we're dealing with\n",
    "    N_examples : int\n",
    "        Number of examples we're generating for the dataset\n",
    "\n",
    "    Returns\n",
    "    -------\n",
    "    images_shuffled : np.array\n",
    "        Shuffled images that were generated of size (N_examples, image height, image width, 1)\n",
    "    labels_shuffled : np.array\n",
    "        Labels corresponding to the shuffled images, 1 for LC and 0 for isotropic, of size (N_examples, 1)\n",
    "\n",
    "    \"\"\"\n",
    "    N = int(N_examples/2) # Won't work properly for odd values of N_examples right now\n",
    "\n",
    "    # Generate LC images and labels (1 for LC image)\n",
    "    images_LC, labels_LC = random_image_and_labels_generator(image_shape, N)\n",
    "    \n",
    "    # Generate isotropic images and labels (0 for\n",
    "    # isotropic image) by adding zeros to dataset\n",
    "    images_iso, _ = random_image_and_labels_generator(image_shape, N)\n",
    "    images_iso_noise = images_iso * 0.1 # this should simulate noisy isotropic images\n",
    "    labels_iso = np.zeros((N, 1))\n",
    "    \n",
    "    images_ordered = np.concatenate((images_LC, images_iso_noise), axis = 0)\n",
    "    labels_ordered = np.concatenate((labels_LC, labels_iso), axis = 0)\n",
    "\n",
    "    # randomly shuffle the LC and iso images and labels\n",
    "    images_shuffled, labels_shuffled = shuffle(images_ordered, labels_ordered)\n",
    "    \n",
    "    return images_shuffled, labels_shuffled"
   ]
  },
  {
   "cell_type": "markdown",
   "metadata": {},
   "source": [
    "Generate some data."
   ]
  },
  {
   "cell_type": "code",
   "execution_count": 4,
   "metadata": {},
   "outputs": [],
   "source": [
    "image_shape = (32,32)\n",
    "N_examples = 1000\n",
    "images, labels = generate_data(image_shape, N_examples)"
   ]
  },
  {
   "cell_type": "markdown",
   "metadata": {},
   "source": [
    "Let's look at some of the images and make sure the labels are matching up."
   ]
  },
  {
   "cell_type": "code",
   "execution_count": 5,
   "metadata": {},
   "outputs": [
    {
     "data": {
      "image/png": "[encoded data removed]",
      "text/plain": [
       "<Figure size 432x432 with 4 Axes>"
      ]
     },
     "metadata": {
      "needs_background": "light"
     },
     "output_type": "display_data"
    }
   ],
   "source": [
    "plt.figure(figsize=[6,6])\n",
    "for i in range(4):\n",
    "    plt.subplot(2,2,i+1)\n",
    "    plt.title(\"Label: %i\"%labels[i])\n",
    "    plt.imshow(images[i,:,:].reshape([32,32]),cmap='gray', vmin=0, vmax=1);"
   ]
  },
  {
   "cell_type": "markdown",
   "metadata": {},
   "source": [
    "Now we'll split the data into train and test sets."
   ]
  },
  {
   "cell_type": "code",
   "execution_count": 6,
   "metadata": {},
   "outputs": [
    {
     "name": "stdout",
     "output_type": "stream",
     "text": [
      "number of training examples = 670\n",
      "number of test examples = 330\n",
      "X_train shape: (670, 32, 32, 1)\n",
      "Y_train shape: (670, 1)\n",
      "X_test shape: (330, 32, 32, 1)\n",
      "Y_test shape: (330, 1)\n"
     ]
    }
   ],
   "source": [
    "images_train, images_test, labels_train, labels_test = train_test_split(images, labels, test_size=0.33)\n",
    "\n",
    "print (\"number of training examples = \" + str(images_train.shape[0]))\n",
    "print (\"number of test examples = \" + str(images_test.shape[0]))\n",
    "print (\"X_train shape: \" + str(images_train.shape))\n",
    "print (\"Y_train shape: \" + str(labels_train.shape))\n",
    "print (\"X_test shape: \" + str(images_test.shape))\n",
    "print (\"Y_test shape: \" + str(labels_test.shape))"
   ]
  },
  {
   "cell_type": "markdown",
   "metadata": {},
   "source": [
    "Define the LeNet-5 model."
   ]
  },
  {
   "cell_type": "code",
   "execution_count": 7,
   "metadata": {},
   "outputs": [],
   "source": [
    "def leNet5(input_shape):\n",
    "    \"\"\"\n",
    "    Create an instance of model class representing LeNet-5\n",
    "    inspired architecture\n",
    "\n",
    "    Parameters\n",
    "    ----------\n",
    "    input_shape : tuple\n",
    "        shape to be input to the CNN\n",
    "\n",
    "    Returns\n",
    "    -------\n",
    "    model : instance of model class\n",
    "        our LeNet-5 inspired model\n",
    "\n",
    "    \"\"\"\n",
    "    # Input placeholder with shape input_shape\n",
    "    X_input = Input(input_shape)\n",
    "    \n",
    "    # Apply 6 5x5 filter convolution with stride of 1\n",
    "    X = Conv2D(6, (5,5), strides = (1,1), activation = \"relu\", name = \"conv1\")(X_input)\n",
    "    # Apply maxpooling with a filter size of 2x2 and stride of 2\n",
    "    X = MaxPooling2D((2,2), strides = (2,2), name = \"max_pool1\")(X)\n",
    "    # Apply 16 5x5 filter convolution with stride of 1\n",
    "    X = Conv2D(16, (5,5), strides = (1,1), activation = \"relu\", name = \"conv2\")(X)\n",
    "    # Apply maxpooling with a filter size of 2x2 and stride 2\n",
    "    X = MaxPooling2D((2,2), strides = (2,2), name = \"max_pool2\")(X)\n",
    "    \n",
    "    # Flatten X (convert to a vector) before going to fully\n",
    "    # connected layers\n",
    "    X = Flatten()(X)\n",
    "    # Apply fully connected layer with 120 neurons\n",
    "    X = Dense(120, activation=\"relu\", name = \"fc3\")(X)\n",
    "    # Apply fully connected layer with 120 neurons\n",
    "    X = Dense(84, activation=\"relu\", name = \"fc5\")(X)\n",
    "    \n",
    "    # Output a single binary classification\n",
    "    X = Dense(1, activation=\"sigmoid\", name = \"fc_out\")(X)\n",
    "    \n",
    "    # Create Keras model instance\n",
    "    model = Model(inputs = X_input, outputs = X, name=\"LeNet-5\")\n",
    "    \n",
    "    return model"
   ]
  },
  {
   "cell_type": "markdown",
   "metadata": {},
   "source": [
    "Create the model."
   ]
  },
  {
   "cell_type": "code",
   "execution_count": 8,
   "metadata": {},
   "outputs": [],
   "source": [
    "LeNet5_model = leNet5(images_train.shape[1:])"
   ]
  },
  {
   "cell_type": "markdown",
   "metadata": {},
   "source": [
    "Compile the model"
   ]
  },
  {
   "cell_type": "code",
   "execution_count": 9,
   "metadata": {},
   "outputs": [],
   "source": [
    "LeNet5_model.compile(optimizer = \"adam\", loss = \"binary_crossentropy\", metrics = [\"accuracy\"])"
   ]
  },
  {
   "cell_type": "markdown",
   "metadata": {},
   "source": [
    "Train the model"
   ]
  },
  {
   "cell_type": "code",
   "execution_count": 10,
   "metadata": {},
   "outputs": [
    {
     "name": "stdout",
     "output_type": "stream",
     "text": [
      "Epoch 1/5\n",
      "11/11 [==============================] - 0s 9ms/step - loss: 0.5121 - accuracy: 0.4985\n",
      "Epoch 2/5\n",
      "11/11 [==============================] - 0s 8ms/step - loss: 0.4120 - accuracy: 0.4985\n",
      "Epoch 3/5\n",
      "11/11 [==============================] - 0s 9ms/step - loss: 0.3481 - accuracy: 0.9716\n",
      "Epoch 4/5\n",
      "11/11 [==============================] - 0s 8ms/step - loss: 0.2852 - accuracy: 1.0000\n",
      "Epoch 5/5\n",
      "11/11 [==============================] - 0s 8ms/step - loss: 0.1287 - accuracy: 1.0000\n"
     ]
    },
    {
     "data": {
      "text/plain": [
       "<tensorflow.python.keras.callbacks.History at 0x13e023c7488>"
      ]
     },
     "execution_count": 10,
     "metadata": {},
     "output_type": "execute_result"
    }
   ],
   "source": [
    "LeNet5_model.fit(x = images_train, y = labels_train, epochs = 5, batch_size = 64)"
   ]
  },
  {
   "cell_type": "markdown",
   "metadata": {},
   "source": [
    "Get predictions on the test set."
   ]
  },
  {
   "cell_type": "code",
   "execution_count": 11,
   "metadata": {},
   "outputs": [
    {
     "name": "stdout",
     "output_type": "stream",
     "text": [
      "11/11 [==============================] - 0s 3ms/step - loss: 0.0252 - accuracy: 1.0000\n",
      "\n",
      "Test accuracy = 1.0\n"
     ]
    }
   ],
   "source": [
    "predictions = LeNet5_model.evaluate(x = images_test, y = labels_test)\n",
    "print()\n",
    "print(\"Test accuracy = \" + str(predictions[1]))"
   ]
  },
  {
   "cell_type": "markdown",
   "metadata": {},
   "source": [
    "It seems that this CNN works well for this relatively simple task."
   ]
  },
  {
   "cell_type": "code",
   "execution_count": null,
   "metadata": {},
   "outputs": [],
   "source": []
  }
 ],
 "metadata": {
  "kernelspec": {
   "display_name": "Python 3",
   "language": "python",
   "name": "python3"
  },
  "language_info": {
   "codemirror_mode": {
    "name": "ipython",
    "version": 3
   },
   "file_extension": ".py",
   "mimetype": "text/x-python",
   "name": "python",
   "nbconvert_exporter": "python",
   "pygments_lexer": "ipython3",
   "version": "3.7.6"
  }
 },
 "nbformat": 4,
 "nbformat_minor": 4
}
