{
 "cells": [
  {
   "cell_type": "markdown",
   "metadata": {},
   "source": [
    "This notebook was created at 11:29 09/10/20"
   ]
  },
  {
   "cell_type": "markdown",
   "metadata": {},
   "source": [
    "Logistic regression applied to classification of simulated isotropic and liquid crystal (LC) textures"
   ]
  },
  {
   "cell_type": "markdown",
   "metadata": {},
   "source": [
    "This notebook is meant as an initial proof-of-concept for the overall aim of classifying LC phases from textures. This proof-of-concept will be to test the binary classification of textures representing isotopic and non-isotropic (LC) phases. These textures will be simulated, generating the data. \n",
    "\n",
    "Isotropic is represented as an (almost) completely black image. This is the texture obtained for an isotropic phase using the method of polarizing microscopy. The LC phase will be represented by textures that aren't completely black.\n",
    "\n",
    "Specifically this classification will be implemented using a simple logistic regression unit as this was done with a LeNet-5 inspired CNN architecture which seemed to be overkill."
   ]
  },
  {
   "cell_type": "markdown",
   "metadata": {},
   "source": [
    "We'll might use keras and/or tensorflow."
   ]
  },
  {
   "cell_type": "code",
   "execution_count": 1,
   "metadata": {},
   "outputs": [
    {
     "name": "stdout",
     "output_type": "stream",
     "text": [
      "Requirement already satisfied: tensorflow in c:\\users\\jason\\anaconda3\\lib\\site-packages (2.3.1)\n",
      "Requirement already satisfied: keras in c:\\users\\jason\\anaconda3\\lib\\site-packages (2.4.3)\n",
      "Requirement already satisfied: numpy in c:\\users\\jason\\anaconda3\\lib\\site-packages (1.18.1)\n",
      "Requirement already satisfied: matplotlib in c:\\users\\jason\\anaconda3\\lib\\site-packages (3.1.3)\n",
      "Requirement already satisfied: google-pasta>=0.1.8 in c:\\users\\jason\\anaconda3\\lib\\site-packages (from tensorflow) (0.2.0)\n",
      "Requirement already satisfied: termcolor>=1.1.0 in c:\\users\\jason\\anaconda3\\lib\\site-packages (from tensorflow) (1.1.0)\n",
      "Requirement already satisfied: opt-einsum>=2.3.2 in c:\\users\\jason\\anaconda3\\lib\\site-packages (from tensorflow) (3.3.0)\n",
      "Requirement already satisfied: wrapt>=1.11.1 in c:\\users\\jason\\anaconda3\\lib\\site-packages (from tensorflow) (1.11.2)\n",
      "Requirement already satisfied: six>=1.12.0 in c:\\users\\jason\\anaconda3\\lib\\site-packages (from tensorflow) (1.14.0)\n",
      "Requirement already satisfied: protobuf>=3.9.2 in c:\\users\\jason\\anaconda3\\lib\\site-packages (from tensorflow) (3.13.0)\n",
      "Requirement already satisfied: gast==0.3.3 in c:\\users\\jason\\anaconda3\\lib\\site-packages (from tensorflow) (0.3.3)\n",
      "Requirement already satisfied: keras-preprocessing<1.2,>=1.1.1 in c:\\users\\jason\\anaconda3\\lib\\site-packages (from tensorflow) (1.1.2)\n",
      "Requirement already satisfied: h5py<2.11.0,>=2.10.0 in c:\\users\\jason\\anaconda3\\lib\\site-packages (from tensorflow) (2.10.0)\n",
      "Requirement already satisfied: wheel>=0.26 in c:\\users\\jason\\anaconda3\\lib\\site-packages (from tensorflow) (0.34.2)\n",
      "Requirement already satisfied: tensorflow-estimator<2.4.0,>=2.3.0 in c:\\users\\jason\\anaconda3\\lib\\site-packages (from tensorflow) (2.3.0)\n",
      "Requirement already satisfied: astunparse==1.6.3 in c:\\users\\jason\\anaconda3\\lib\\site-packages (from tensorflow) (1.6.3)\n",
      "Requirement already satisfied: tensorboard<3,>=2.3.0 in c:\\users\\jason\\anaconda3\\lib\\site-packages (from tensorflow) (2.3.0)\n",
      "Requirement already satisfied: absl-py>=0.7.0 in c:\\users\\jason\\anaconda3\\lib\\site-packages (from tensorflow) (0.10.0)\n",
      "Requirement already satisfied: grpcio>=1.8.6 in c:\\users\\jason\\anaconda3\\lib\\site-packages (from tensorflow) (1.32.0)\n",
      "Requirement already satisfied: scipy>=0.14 in c:\\users\\jason\\anaconda3\\lib\\site-packages (from keras) (1.4.1)\n",
      "Requirement already satisfied: pyyaml in c:\\users\\jason\\anaconda3\\lib\\site-packages (from keras) (5.3)\n",
      "Requirement already satisfied: cycler>=0.10 in c:\\users\\jason\\anaconda3\\lib\\site-packages (from matplotlib) (0.10.0)\n",
      "Requirement already satisfied: pyparsing!=2.0.4,!=2.1.2,!=2.1.6,>=2.0.1 in c:\\users\\jason\\anaconda3\\lib\\site-packages (from matplotlib) (2.4.6)\n",
      "Requirement already satisfied: kiwisolver>=1.0.1 in c:\\users\\jason\\anaconda3\\lib\\site-packages (from matplotlib) (1.1.0)\n",
      "Requirement already satisfied: python-dateutil>=2.1 in c:\\users\\jason\\anaconda3\\lib\\site-packages (from matplotlib) (2.8.1)\n",
      "Requirement already satisfied: setuptools in c:\\users\\jason\\anaconda3\\lib\\site-packages (from protobuf>=3.9.2->tensorflow) (45.2.0.post20200210)\n",
      "Requirement already satisfied: tensorboard-plugin-wit>=1.6.0 in c:\\users\\jason\\anaconda3\\lib\\site-packages (from tensorboard<3,>=2.3.0->tensorflow) (1.7.0)\n",
      "Requirement already satisfied: werkzeug>=0.11.15 in c:\\users\\jason\\anaconda3\\lib\\site-packages (from tensorboard<3,>=2.3.0->tensorflow) (1.0.0)\n",
      "Requirement already satisfied: google-auth<2,>=1.6.3 in c:\\users\\jason\\anaconda3\\lib\\site-packages (from tensorboard<3,>=2.3.0->tensorflow) (1.22.0)\n",
      "Requirement already satisfied: requests<3,>=2.21.0 in c:\\users\\jason\\anaconda3\\lib\\site-packages (from tensorboard<3,>=2.3.0->tensorflow) (2.22.0)\n",
      "Requirement already satisfied: markdown>=2.6.8 in c:\\users\\jason\\anaconda3\\lib\\site-packages (from tensorboard<3,>=2.3.0->tensorflow) (3.2.2)\n",
      "Requirement already satisfied: google-auth-oauthlib<0.5,>=0.4.1 in c:\\users\\jason\\anaconda3\\lib\\site-packages (from tensorboard<3,>=2.3.0->tensorflow) (0.4.1)\n",
      "Requirement already satisfied: rsa<5,>=3.1.4; python_version >= \"3.5\" in c:\\users\\jason\\anaconda3\\lib\\site-packages (from google-auth<2,>=1.6.3->tensorboard<3,>=2.3.0->tensorflow) (4.6)\n",
      "Requirement already satisfied: cachetools<5.0,>=2.0.0 in c:\\users\\jason\\anaconda3\\lib\\site-packages (from google-auth<2,>=1.6.3->tensorboard<3,>=2.3.0->tensorflow) (4.1.1)\n",
      "Requirement already satisfied: pyasn1-modules>=0.2.1 in c:\\users\\jason\\anaconda3\\lib\\site-packages (from google-auth<2,>=1.6.3->tensorboard<3,>=2.3.0->tensorflow) (0.2.8)\n",
      "Requirement already satisfied: aiohttp<4.0.0dev,>=3.6.2; python_version >= \"3.6\" in c:\\users\\jason\\anaconda3\\lib\\site-packages (from google-auth<2,>=1.6.3->tensorboard<3,>=2.3.0->tensorflow) (3.6.2)\n",
      "Requirement already satisfied: idna<2.9,>=2.5 in c:\\users\\jason\\anaconda3\\lib\\site-packages (from requests<3,>=2.21.0->tensorboard<3,>=2.3.0->tensorflow) (2.8)\n",
      "Requirement already satisfied: certifi>=2017.4.17 in c:\\users\\jason\\anaconda3\\lib\\site-packages (from requests<3,>=2.21.0->tensorboard<3,>=2.3.0->tensorflow) (2019.11.28)\n",
      "Requirement already satisfied: urllib3!=1.25.0,!=1.25.1,<1.26,>=1.21.1 in c:\\users\\jason\\anaconda3\\lib\\site-packages (from requests<3,>=2.21.0->tensorboard<3,>=2.3.0->tensorflow) (1.25.8)\n",
      "Requirement already satisfied: chardet<3.1.0,>=3.0.2 in c:\\users\\jason\\anaconda3\\lib\\site-packages (from requests<3,>=2.21.0->tensorboard<3,>=2.3.0->tensorflow) (3.0.4)\n",
      "Requirement already satisfied: importlib-metadata; python_version < \"3.8\" in c:\\users\\jason\\anaconda3\\lib\\site-packages (from markdown>=2.6.8->tensorboard<3,>=2.3.0->tensorflow) (1.5.0)\n",
      "Requirement already satisfied: requests-oauthlib>=0.7.0 in c:\\users\\jason\\anaconda3\\lib\\site-packages (from google-auth-oauthlib<0.5,>=0.4.1->tensorboard<3,>=2.3.0->tensorflow) (1.3.0)\n",
      "Requirement already satisfied: pyasn1>=0.1.3 in c:\\users\\jason\\anaconda3\\lib\\site-packages (from rsa<5,>=3.1.4; python_version >= \"3.5\"->google-auth<2,>=1.6.3->tensorboard<3,>=2.3.0->tensorflow) (0.4.8)\n",
      "Requirement already satisfied: yarl<2.0,>=1.0 in c:\\users\\jason\\anaconda3\\lib\\site-packages (from aiohttp<4.0.0dev,>=3.6.2; python_version >= \"3.6\"->google-auth<2,>=1.6.3->tensorboard<3,>=2.3.0->tensorflow) (1.6.0)\n",
      "Requirement already satisfied: attrs>=17.3.0 in c:\\users\\jason\\anaconda3\\lib\\site-packages (from aiohttp<4.0.0dev,>=3.6.2; python_version >= \"3.6\"->google-auth<2,>=1.6.3->tensorboard<3,>=2.3.0->tensorflow) (19.3.0)\n",
      "Requirement already satisfied: multidict<5.0,>=4.5 in c:\\users\\jason\\anaconda3\\lib\\site-packages (from aiohttp<4.0.0dev,>=3.6.2; python_version >= \"3.6\"->google-auth<2,>=1.6.3->tensorboard<3,>=2.3.0->tensorflow) (4.7.6)\n",
      "Requirement already satisfied: async-timeout<4.0,>=3.0 in c:\\users\\jason\\anaconda3\\lib\\site-packages (from aiohttp<4.0.0dev,>=3.6.2; python_version >= \"3.6\"->google-auth<2,>=1.6.3->tensorboard<3,>=2.3.0->tensorflow) (3.0.1)\n",
      "Requirement already satisfied: zipp>=0.5 in c:\\users\\jason\\anaconda3\\lib\\site-packages (from importlib-metadata; python_version < \"3.8\"->markdown>=2.6.8->tensorboard<3,>=2.3.0->tensorflow) (2.2.0)\n",
      "Requirement already satisfied: oauthlib>=3.0.0 in c:\\users\\jason\\anaconda3\\lib\\site-packages (from requests-oauthlib>=0.7.0->google-auth-oauthlib<0.5,>=0.4.1->tensorboard<3,>=2.3.0->tensorflow) (3.1.0)\n",
      "Requirement already satisfied: typing-extensions>=3.7.4; python_version < \"3.8\" in c:\\users\\jason\\anaconda3\\lib\\site-packages (from yarl<2.0,>=1.0->aiohttp<4.0.0dev,>=3.6.2; python_version >= \"3.6\"->google-auth<2,>=1.6.3->tensorboard<3,>=2.3.0->tensorflow) (3.7.4.3)\n",
      "Note: you may need to restart the kernel to use updated packages.\n"
     ]
    }
   ],
   "source": [
    "pip install tensorflow keras numpy matplotlib"
   ]
  },
  {
   "cell_type": "code",
   "execution_count": 1,
   "metadata": {},
   "outputs": [],
   "source": [
    "# IMPORTS\n",
    "import numpy as np\n",
    "import matplotlib.pyplot as plt\n",
    "from keras import layers\n",
    "from keras.layers import Input, Dense, Activation, ZeroPadding2D, BatchNormalization, Flatten, Conv2D\n",
    "from keras.layers import AveragePooling2D, MaxPooling2D, Dropout, GlobalMaxPooling2D, GlobalAveragePooling2D\n",
    "from keras.models import Model\n",
    "from sklearn.utils import shuffle\n",
    "from sklearn.model_selection import train_test_split\n",
    "\n",
    "import keras.backend as K"
   ]
  },
  {
   "cell_type": "markdown",
   "metadata": {},
   "source": [
    "Define the function for generating the simulated texture images. The images will be 32x32 previously used in the implementation of the LeNet-5 inspired CNN (a choice made so that the size matches the size that LeNet-5 was designed for)."
   ]
  },
  {
   "cell_type": "code",
   "execution_count": 4,
   "metadata": {},
   "outputs": [],
   "source": [
    "def random_image_and_labels_generator(image_shape, N):\n",
    "    \"\"\"\n",
    "    Generates random images and their corresponding labels\n",
    "    (1 for bright/LC)\n",
    "\n",
    "    Parameters\n",
    "    ----------\n",
    "    image_shape : tuple\n",
    "        Shape of images we want to generate\n",
    "    N : int\n",
    "        number of images we want to generate\n",
    "\n",
    "    Returns\n",
    "    -------\n",
    "    images : np.array\n",
    "        Generated images together in an array of size (N, image height, image width, 1)\n",
    "    labels : np.array\n",
    "        The corresponding labels for the generated images of shape (N, 1)\n",
    "\n",
    "    \"\"\"\n",
    "    # Add the images to an array\n",
    "    images = np.zeros((1, image_shape[0], image_shape[1], 1)) # we'll need to remove this entry of zeros\n",
    "    \n",
    "    for i in range(N):\n",
    "        # Generate image of size image_size with random\n",
    "        # pixel values between 0 and 1 (representing a random\n",
    "        # normalized image)\n",
    "        image = np.random.rand(1, image_shape[0], image_shape[1], 1) # size (pixels, pixels)\n",
    "        images = np.concatenate((images, image), axis = 0) # will be size (N, pixels, pixels)\n",
    "    \n",
    "    images = np.delete(images, 0, axis = 0)\n",
    "    # Generate labels, 1\n",
    "    labels = np.zeros((N, 1)) + 1\n",
    "    \n",
    "    return images, labels"
   ]
  },
  {
   "cell_type": "code",
   "execution_count": 5,
   "metadata": {},
   "outputs": [],
   "source": [
    "def generate_data(image_shape, N_examples):\n",
    "    \"\"\"\n",
    "    Generate the data for this classification problem\n",
    "\n",
    "    Parameters\n",
    "    ----------\n",
    "    image_shape : tuple\n",
    "        Shape of images we're dealing with\n",
    "    N_examples : int\n",
    "        Number of examples we're generating for the dataset\n",
    "\n",
    "    Returns\n",
    "    -------\n",
    "    images_shuffled : np.array\n",
    "        Shuffled images that were generated of size (N_examples, image height, image width, 1)\n",
    "    labels_shuffled : np.array\n",
    "        Labels corresponding to the shuffled images, 1 for LC and 0 for isotropic, of size (N_examples, 1)\n",
    "\n",
    "    \"\"\"\n",
    "    N = int(N_examples/2) # Won't work properly for odd values of N_examples right now\n",
    "\n",
    "    # Generate LC images and labels (1 for LC image)\n",
    "    images_LC, labels_LC = random_image_and_labels_generator(image_shape, N)\n",
    "    \n",
    "    # Generate isotropic images and labels (0 for\n",
    "    # isotropic image) by adding zeros to dataset\n",
    "    images_iso, _ = random_image_and_labels_generator(image_shape, N)\n",
    "    images_iso_noise = images_iso * 0.1 # this should simulate noisy isotropic images\n",
    "    labels_iso = np.zeros((N, 1))\n",
    "    \n",
    "    images_ordered = np.concatenate((images_LC, images_iso_noise), axis = 0)\n",
    "    labels_ordered = np.concatenate((labels_LC, labels_iso), axis = 0)\n",
    "\n",
    "    # randomly shuffle the LC and iso images and labels\n",
    "    images_shuffled, labels_shuffled = shuffle(images_ordered, labels_ordered)\n",
    "    \n",
    "    return images_shuffled, labels_shuffled"
   ]
  },
  {
   "cell_type": "markdown",
   "metadata": {},
   "source": [
    "Generate some data."
   ]
  },
  {
   "cell_type": "code",
   "execution_count": 6,
   "metadata": {},
   "outputs": [],
   "source": [
    "image_shape = (32,32)\n",
    "N_examples = 1000\n",
    "images, labels = generate_data(image_shape, N_examples)"
   ]
  },
  {
   "cell_type": "markdown",
   "metadata": {},
   "source": [
    "Let's look at some of the images and make sure the labels are matching up."
   ]
  },
  {
   "cell_type": "code",
   "execution_count": 7,
   "metadata": {},
   "outputs": [
    {
     "data": {
      "image/png": "[encoded data removed]",
      "text/plain": [
       "<Figure size 432x432 with 4 Axes>"
      ]
     },
     "metadata": {
      "needs_background": "light"
     },
     "output_type": "display_data"
    }
   ],
   "source": [
    "plt.figure(figsize=[6,6])\n",
    "for i in range(4):\n",
    "    plt.subplot(2,2,i+1)\n",
    "    plt.title(\"Label: %i\"%labels[i])\n",
    "    plt.imshow(images[i,:,:].reshape([32,32]),cmap='gray', vmin=0, vmax=1);"
   ]
  },
  {
   "cell_type": "markdown",
   "metadata": {},
   "source": [
    "Now we'll split the data into train and test sets."
   ]
  },
  {
   "cell_type": "code",
   "execution_count": 8,
   "metadata": {},
   "outputs": [
    {
     "name": "stdout",
     "output_type": "stream",
     "text": [
      "Number of training examples = 670\n",
      "Number of test examples = 330\n",
      "X_train shape: (670, 32, 32, 1)\n",
      "Y_train shape: (670, 1)\n",
      "X_test shape: (330, 32, 32, 1)\n",
      "Y_test shape: (330, 1)\n"
     ]
    }
   ],
   "source": [
    "images_train, images_test, labels_train, labels_test = train_test_split(images, labels, test_size=0.33)\n",
    "\n",
    "print (\"Number of training examples = \" + str(images_train.shape[0]))\n",
    "print (\"Number of test examples = \" + str(images_test.shape[0]))\n",
    "print (\"X_train shape: \" + str(images_train.shape))\n",
    "print (\"Y_train shape: \" + str(labels_train.shape))\n",
    "print (\"X_test shape: \" + str(images_test.shape))\n",
    "print (\"Y_test shape: \" + str(labels_test.shape))"
   ]
  },
  {
   "cell_type": "markdown",
   "metadata": {},
   "source": [
    "We need to flatten the images into feature vectors to be fed into the logistic regression unit."
   ]
  },
  {
   "cell_type": "code",
   "execution_count": 9,
   "metadata": {},
   "outputs": [],
   "source": [
    "def flatten(images):\n",
    "    \"\"\"\n",
    "    Flattens the input greyscale image matrix \n",
    "    into a vector\n",
    "    \n",
    "    Parameters\n",
    "    ----------\n",
    "    images : np.array \n",
    "        image matrix of size (N,n_px,n_px,1)\n",
    "\n",
    "    Returns\n",
    "    -------\n",
    "    flattened_image : np.array\n",
    "        flattened image of size (n_px*n_px,N)\n",
    "\n",
    "    \"\"\"\n",
    "    \n",
    "    return images.reshape(images.shape[0], -1).T"
   ]
  },
  {
   "cell_type": "code",
   "execution_count": 10,
   "metadata": {},
   "outputs": [
    {
     "name": "stdout",
     "output_type": "stream",
     "text": [
      "Number of training examples = 670\n",
      "Number of test examples = 330\n",
      "X_train_flat shape: (1024, 670)\n",
      "X_test_flat shape: (1024, 330)\n"
     ]
    }
   ],
   "source": [
    "images_train_flat = flatten(images_train)\n",
    "images_test_flat = flatten(images_test)\n",
    "\n",
    "print (\"Number of training examples = \" + str(images_train_flat.shape[1]))\n",
    "print (\"Number of test examples = \" + str(images_test_flat.shape[1]))\n",
    "print(\"X_train_flat shape: \" + str(images_train_flat.shape))\n",
    "print(\"X_test_flat shape: \" + str(images_test_flat.shape))"
   ]
  },
  {
   "cell_type": "markdown",
   "metadata": {},
   "source": [
    "Define a function to initial the weights and bias of the perceptron."
   ]
  },
  {
   "cell_type": "code",
   "execution_count": 11,
   "metadata": {},
   "outputs": [],
   "source": [
    "def initialize_parameters(n_w):\n",
    "    \"\"\"\n",
    "    Initialize w parameter vector with small random values\n",
    "     and bias with zeros\n",
    "\n",
    "    Parameters\n",
    "    ----------\n",
    "    n_w : int\n",
    "        number of w paramters to be initialized in w vector\n",
    "        equal to to the number of input features\n",
    "        (image height * image width)\n",
    "\n",
    "    Returns\n",
    "    -------\n",
    "    w : np.array\n",
    "        vector of weights initialized with small random values\n",
    "        of size (n_w, 1)\n",
    "    b : float\n",
    "        zerp initialized bias\n",
    "\n",
    "    \"\"\"\n",
    "    \n",
    "    w = np.random.rand(n_w, 1) * np.sqrt(1/n_w)\n",
    "    b = np.zeros((1,1))\n",
    "    \n",
    "    return w, b"
   ]
  },
  {
   "cell_type": "code",
   "execution_count": 16,
   "metadata": {},
   "outputs": [],
   "source": [
    "def sigmoid(x):\n",
    "    \"\"\"\n",
    "    Compute the sigmoid of x\n",
    "\n",
    "    Parameters\n",
    "    ----------\n",
    "    x : np.array or float\n",
    "        value/values to be put into sigmoid function\n",
    "\n",
    "    Returns\n",
    "    -------\n",
    "    s : np.array or float\n",
    "        sigmoid of x\n",
    "\n",
    "    \"\"\"\n",
    "    s = 1 / (1 + np.exp(-x))\n",
    "    \n",
    "    return s"
   ]
  },
  {
   "cell_type": "markdown",
   "metadata": {},
   "source": [
    "Define a function which will calculate the current prediction based on the current parameters (W and b) and then use gradient descent to improve the parameters."
   ]
  },
  {
   "cell_type": "code",
   "execution_count": 12,
   "metadata": {},
   "outputs": [],
   "source": [
    "def update_weights(w, b, x, d, alpha):\n",
    "    \"\"\"\n",
    "    Update the values of weights and bias according to\n",
    "    the value of difference between computed outputs\n",
    "    and desired ouputs\n",
    "\n",
    "    Parameters\n",
    "    ----------\n",
    "    w : np.array\n",
    "        vector of weights of size (height*width, 1)\n",
    "    b : float\n",
    "        bias\n",
    "    x : np.array\n",
    "        training data of size (height*width, N)\n",
    "    d : np.array\n",
    "        desired outputs for training data of size\n",
    "        (N, 1)\n",
    "    N : int\n",
    "        number of examples\n",
    "\n",
    "    Returns\n",
    "    -------\n",
    "    w_new : np.array\n",
    "        updated value of weights\n",
    "    b_new : float\n",
    "        updated value of bias\n",
    "    pc_error : float\n",
    "        total percentage error of current prediction\n",
    "    pc_accuracy : float\n",
    "        total percentage accuracy\n",
    "\n",
    "    \"\"\"\n",
    "    N = x.shape[1]\n",
    "    \n",
    "    # Compute forward propagation/activation of single sigmoid unit\n",
    "    y = np.reshape(sigmoid(np.dot(x.T, w) + b), (d.shape))\n",
    "    y_pred = np.reshape(np.array([float(y[i] > 0.5) for i in range(y.shape[0])]), d.shape)\n",
    "    diff = d - y\n",
    "    \n",
    "    # Calculate accuracy/error metrics\n",
    "    pc_error = float(np.sum(y_pred != d)) / N * 100\n",
    "    pc_accuracy = float(np.sum(y_pred == d)) / N * 100\n",
    "\n",
    "    # Update weights\n",
    "    dw = np.dot(x, diff)\n",
    "    db = np.sum(diff)\n",
    "    \n",
    "    w_new = w + (alpha * dw)\n",
    "    b_new = b + (alpha * db)\n",
    "    \n",
    "    \n",
    "    return w_new, b_new, pc_error, pc_accuracy"
   ]
  },
  {
   "cell_type": "markdown",
   "metadata": {},
   "source": [
    "Define the model which will iterate to continually improve the parameters."
   ]
  },
  {
   "cell_type": "code",
   "execution_count": 13,
   "metadata": {},
   "outputs": [],
   "source": [
    "def single_perceptron_model_train(images_train, labels_train, alpha = 0.001, num_iter = 20):\n",
    "    \"\"\"\n",
    "    Train a single perceptron model\n",
    "\n",
    "    Parameters\n",
    "    ----------\n",
    "    images_train : np.array\n",
    "        falttened greyscale (0s and 1s) image matrix \n",
    "        of size (height*width, N)\n",
    "    labels_train : np.array\n",
    "        labels corresponding to the training images of size (N,1)\n",
    "    alpha : float, optional\n",
    "        learning rate The default is 0.001.\n",
    "    num_iter : float, optional\n",
    "        number of iteration of gradient descent we will perform. The default is 20.\n",
    "\n",
    "    Returns\n",
    "    -------\n",
    "    w : np.array\n",
    "        final trained values of weights\n",
    "    b : float\n",
    "        final trained value of bias\n",
    "    pc_error : float\n",
    "        percentage error achieved once training has been completed\n",
    "    pc_accuracy : float\n",
    "        percentage accuracy achieved once training has been completed\n",
    "    \"\"\"\n",
    "    x = images_train\n",
    "    N = x.shape[1] # numnber of training examples\n",
    "    d = labels_train\n",
    "    w, b = initialize_parameters(x.shape[0])\n",
    "   \n",
    "    # Gradient descent\n",
    "    for i in range(1, num_iter+1):\n",
    "        w, b, pc_error, pc_accuracy = update_weights(w, b, x, d, alpha)\n",
    "        if i % 1 == 0:\n",
    "            print(\"Interation \" + str(i) + \": % Error on training data = \" + str(pc_error))\n",
    "            print(\"Interation \" + str(i) + \": % accuracy on training data = \" + str(pc_accuracy))\n",
    "    \n",
    "    print()\n",
    "    print(\"% error on training data: \" + str(pc_error))\n",
    "    print(\"% accuracy on training data = \" + str(pc_accuracy))\n",
    "    \n",
    "    return w, b, pc_error, pc_accuracy"
   ]
  },
  {
   "cell_type": "markdown",
   "metadata": {},
   "source": [
    "Define a function that will generate a prediction on the test set using the trained parameters."
   ]
  },
  {
   "cell_type": "code",
   "execution_count": 14,
   "metadata": {},
   "outputs": [],
   "source": [
    "def single_perceptron_model_predict(images_test, labels_test, w, b):\n",
    "    \"\"\"\n",
    "    Get prediction on test data\n",
    "\n",
    "    Parameters\n",
    "    ----------\n",
    "    images_test : np.array\n",
    "        flattened greyscale (0s and 1s) image matrix \n",
    "        of size (height*width, N)\n",
    "    labels_test : np.array\n",
    "        labels corresponding to the test images of size (N,1)\n",
    "    w : np.array\n",
    "        final trained values of weights\n",
    "    b : float\n",
    "        final trained value of bias\n",
    "\n",
    "    Returns\n",
    "    -------\n",
    "    y_pred : TYPE\n",
    "        final test predictions\n",
    "    pc_error : float\n",
    "        percentage error achieved on test data\n",
    "    pc_accuracy : float\n",
    "        percentage accuracy achieved on test data\n",
    "        \n",
    "\n",
    "    \"\"\"\n",
    "    x = images_test\n",
    "    N = x.shape[1] # numnber of test examples\n",
    "    d = labels_test\n",
    "    \n",
    "    # Compute prediction\n",
    "    y = np.reshape(sigmoid(np.dot(x.T, w) + b), d.shape)\n",
    "    y_pred = np.reshape(np.array([float(y[i] > 0.5) for i in range(y.shape[0])]), d.shape)\n",
    "    diff =  d - y_pred\n",
    "    \n",
    "    # Compute accuracy/error metrics\n",
    "    pc_error = float(np.sum(y_pred != d)) / N * 100\n",
    "    pc_accuracy = float(np.sum(y_pred == d)) / N * 100\n",
    "    print(\"% error on test data: \" + str(pc_error))\n",
    "    print(\"% accuracy on test data: \" + str(pc_accuracy))\n",
    "    \n",
    "    return y_pred, pc_error, pc_accuracy"
   ]
  },
  {
   "cell_type": "code",
   "execution_count": 17,
   "metadata": {},
   "outputs": [
    {
     "name": "stdout",
     "output_type": "stream",
     "text": [
      "Interation 1: % Error on training data = 49.701492537313435\n",
      "Interation 1: % accuracy on training data = 50.29850746268657\n",
      "Interation 2: % Error on training data = 18.208955223880597\n",
      "Interation 2: % accuracy on training data = 81.7910447761194\n",
      "Interation 3: % Error on training data = 49.701492537313435\n",
      "Interation 3: % accuracy on training data = 50.29850746268657\n",
      "Interation 4: % Error on training data = 0.0\n",
      "Interation 4: % accuracy on training data = 100.0\n",
      "Interation 5: % Error on training data = 49.701492537313435\n",
      "Interation 5: % accuracy on training data = 50.29850746268657\n",
      "Interation 6: % Error on training data = 0.0\n",
      "Interation 6: % accuracy on training data = 100.0\n",
      "Interation 7: % Error on training data = 0.0\n",
      "Interation 7: % accuracy on training data = 100.0\n",
      "Interation 8: % Error on training data = 0.0\n",
      "Interation 8: % accuracy on training data = 100.0\n",
      "Interation 9: % Error on training data = 0.0\n",
      "Interation 9: % accuracy on training data = 100.0\n",
      "Interation 10: % Error on training data = 0.0\n",
      "Interation 10: % accuracy on training data = 100.0\n",
      "Interation 11: % Error on training data = 0.0\n",
      "Interation 11: % accuracy on training data = 100.0\n",
      "Interation 12: % Error on training data = 0.0\n",
      "Interation 12: % accuracy on training data = 100.0\n",
      "Interation 13: % Error on training data = 0.0\n",
      "Interation 13: % accuracy on training data = 100.0\n",
      "Interation 14: % Error on training data = 0.0\n",
      "Interation 14: % accuracy on training data = 100.0\n",
      "Interation 15: % Error on training data = 0.0\n",
      "Interation 15: % accuracy on training data = 100.0\n",
      "Interation 16: % Error on training data = 0.0\n",
      "Interation 16: % accuracy on training data = 100.0\n",
      "Interation 17: % Error on training data = 0.0\n",
      "Interation 17: % accuracy on training data = 100.0\n",
      "Interation 18: % Error on training data = 0.0\n",
      "Interation 18: % accuracy on training data = 100.0\n",
      "Interation 19: % Error on training data = 0.0\n",
      "Interation 19: % accuracy on training data = 100.0\n",
      "Interation 20: % Error on training data = 0.0\n",
      "Interation 20: % accuracy on training data = 100.0\n",
      "\n",
      "% error on training data: 0.0\n",
      "% accuracy on training data = 100.0\n",
      "% error on test data: 0.0\n",
      "% accuracy on test data: 100.0\n"
     ]
    }
   ],
   "source": [
    "# Main\n",
    "    \n",
    "# Train model\n",
    "w, b, pc_error_train, pc_accuracy_train = single_perceptron_model_train(images_train_flat, labels_train)\n",
    "# Get predictions on test data\n",
    "y_pred, pc_error_test, pc_accuracy_test = single_perceptron_model_predict(images_test_flat, labels_test, w, b)"
   ]
  },
  {
   "cell_type": "code",
   "execution_count": 18,
   "metadata": {},
   "outputs": [
    {
     "name": "stdout",
     "output_type": "stream",
     "text": [
      "Labels test: \n",
      "[1. 1. 1. 1. 0. 0. 0. 1. 0. 1. 0. 1. 1. 1. 1. 1. 0. 0. 1. 0. 1. 1. 0. 0.\n",
      " 1. 0. 0. 0. 1. 0.]\n",
      "Predictions: \n",
      "[1. 1. 1. 1. 0. 0. 0. 1. 0. 1. 0. 1. 1. 1. 1. 1. 0. 0. 1. 0. 1. 1. 0. 0.\n",
      " 1. 0. 0. 0. 1. 0.]\n"
     ]
    }
   ],
   "source": [
    "print(\"Labels test: \")\n",
    "print(labels_test[0:30,0])\n",
    "print(\"Predictions: \")\n",
    "print(y_pred[0:30,0])"
   ]
  },
  {
   "cell_type": "markdown",
   "metadata": {},
   "source": [
    "There was a bit of unusual fluctuation in the beginning but then it worked well."
   ]
  },
  {
   "cell_type": "code",
   "execution_count": null,
   "metadata": {},
   "outputs": [],
   "source": []
  }
 ],
 "metadata": {
  "kernelspec": {
   "display_name": "Python 3",
   "language": "python",
   "name": "python3"
  },
  "language_info": {
   "codemirror_mode": {
    "name": "ipython",
    "version": 3
   },
   "file_extension": ".py",
   "mimetype": "text/x-python",
   "name": "python",
   "nbconvert_exporter": "python",
   "pygments_lexer": "ipython3",
   "version": "3.7.6"
  }
 },
 "nbformat": 4,
 "nbformat_minor": 4
}
