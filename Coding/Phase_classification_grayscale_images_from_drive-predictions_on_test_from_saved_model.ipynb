{
 "cells": [
  {
   "cell_type": "markdown",
   "metadata": {},
   "source": [
    "This notebook was created at 23:53 18/10/20"
   ]
  },
  {
   "cell_type": "markdown",
   "metadata": {},
   "source": [
    "Liquid crystal phase classification using deep learning techniques"
   ]
  },
  {
   "cell_type": "markdown",
   "metadata": {},
   "source": [
    "First attempt to classify liquid crystal phases using the dataset shared by Josh Heaton."
   ]
  },
  {
   "cell_type": "code",
   "execution_count": 5,
   "metadata": {},
   "outputs": [],
   "source": [
    "import numpy as np\n",
    "import matplotlib.pyplot as plt\n",
    "from keras.models import Model\n",
    "from keras.preprocessing import image_dataset_from_directory\n",
    "from keras.preprocessing.image import ImageDataGenerator\n",
    "from keras.utils import plot_model\n",
    "from sklearn.metrics import confusion_matrix\n",
    "from skimage.color import rgb2gray\n",
    "from skimage.transform import resize\n",
    "from PIL import Image\n",
    "import tensorflow as tf"
   ]
  },
  {
   "cell_type": "markdown",
   "metadata": {},
   "source": [
    "Load in the data."
   ]
  },
  {
   "cell_type": "code",
   "execution_count": 6,
   "metadata": {},
   "outputs": [
    {
     "name": "stdout",
     "output_type": "stream",
     "text": [
      "Found 1914 files belonging to 5 classes.\n",
      "Found 313 files belonging to 5 classes.\n"
     ]
    }
   ],
   "source": [
    "train_directory = \"C:/Users/Jason/Documents/University/Year_4/MPhys_Project(s)/Liquid_crystals-machine_learning/Images_from_drive/Training\"\n",
    "test_directory = \"C:/Users/Jason/Documents/University/Year_4/MPhys_Project(s)/Liquid_crystals-machine_learning/Images_from_drive/Validation\"\n",
    "image_size = (200,200)\n",
    "\n",
    "# Change images to grayscale as colour isnt an important feature at this stage\n",
    "train_dataset = image_dataset_from_directory(train_directory,\n",
    "                            labels=\"inferred\",\n",
    "                            label_mode=\"categorical\",\n",
    "                            color_mode=\"grayscale\",\n",
    "                            batch_size=64,\n",
    "                            image_size=image_size,\n",
    "                            shuffle=True\n",
    "                        )\n",
    "val_dataset = image_dataset_from_directory(test_directory,\n",
    "                            labels=\"inferred\",\n",
    "                            label_mode=\"categorical\",\n",
    "                            color_mode=\"grayscale\",\n",
    "                            batch_size=64,\n",
    "                            image_size=image_size,\n",
    "                            shuffle=True\n",
    "                        )"
   ]
  },
  {
   "cell_type": "markdown",
   "metadata": {},
   "source": [
    "Let's see if the files imported as expected."
   ]
  },
  {
   "cell_type": "code",
   "execution_count": 7,
   "metadata": {},
   "outputs": [
    {
     "name": "stdout",
     "output_type": "stream",
     "text": [
      "(TensorSpec(shape=(None, 200, 200, 1), dtype=tf.float32, name=None), TensorSpec(shape=(None, 5), dtype=tf.float32, name=None))\n",
      "['Cholesteric', 'Columnar', 'Nematic', 'Smectic', 'Twist_grain_boundary']\n",
      "(64, 200, 200, 1)\n",
      "<dtype: 'float32'>\n",
      "(64, 5)\n",
      "<dtype: 'float32'>\n",
      "(64, 200, 200, 1)\n",
      "<dtype: 'float32'>\n",
      "(64, 5)\n",
      "<dtype: 'float32'>\n",
      "(64, 200, 200, 1)\n",
      "<dtype: 'float32'>\n",
      "(64, 5)\n",
      "<dtype: 'float32'>\n",
      "(64, 200, 200, 1)\n",
      "<dtype: 'float32'>\n",
      "(64, 5)\n",
      "<dtype: 'float32'>\n",
      "(64, 200, 200, 1)\n",
      "<dtype: 'float32'>\n",
      "(64, 5)\n",
      "<dtype: 'float32'>\n",
      "(64, 200, 200, 1)\n",
      "<dtype: 'float32'>\n",
      "(64, 5)\n",
      "<dtype: 'float32'>\n",
      "(64, 200, 200, 1)\n",
      "<dtype: 'float32'>\n",
      "(64, 5)\n",
      "<dtype: 'float32'>\n",
      "(64, 200, 200, 1)\n",
      "<dtype: 'float32'>\n",
      "(64, 5)\n",
      "<dtype: 'float32'>\n",
      "(64, 200, 200, 1)\n",
      "<dtype: 'float32'>\n",
      "(64, 5)\n",
      "<dtype: 'float32'>\n",
      "(64, 200, 200, 1)\n",
      "<dtype: 'float32'>\n",
      "(64, 5)\n",
      "<dtype: 'float32'>\n",
      "(64, 200, 200, 1)\n",
      "<dtype: 'float32'>\n",
      "(64, 5)\n",
      "<dtype: 'float32'>\n",
      "(64, 200, 200, 1)\n",
      "<dtype: 'float32'>\n",
      "(64, 5)\n",
      "<dtype: 'float32'>\n",
      "(64, 200, 200, 1)\n",
      "<dtype: 'float32'>\n",
      "(64, 5)\n",
      "<dtype: 'float32'>\n",
      "(64, 200, 200, 1)\n",
      "<dtype: 'float32'>\n",
      "(64, 5)\n",
      "<dtype: 'float32'>\n",
      "(64, 200, 200, 1)\n",
      "<dtype: 'float32'>\n",
      "(64, 5)\n",
      "<dtype: 'float32'>\n",
      "(64, 200, 200, 1)\n",
      "<dtype: 'float32'>\n",
      "(64, 5)\n",
      "<dtype: 'float32'>\n",
      "(64, 200, 200, 1)\n",
      "<dtype: 'float32'>\n",
      "(64, 5)\n",
      "<dtype: 'float32'>\n",
      "(64, 200, 200, 1)\n",
      "<dtype: 'float32'>\n",
      "(64, 5)\n",
      "<dtype: 'float32'>\n",
      "(64, 200, 200, 1)\n",
      "<dtype: 'float32'>\n",
      "(64, 5)\n",
      "<dtype: 'float32'>\n",
      "(64, 200, 200, 1)\n",
      "<dtype: 'float32'>\n",
      "(64, 5)\n",
      "<dtype: 'float32'>\n",
      "(64, 200, 200, 1)\n",
      "<dtype: 'float32'>\n",
      "(64, 5)\n",
      "<dtype: 'float32'>\n",
      "(64, 200, 200, 1)\n",
      "<dtype: 'float32'>\n",
      "(64, 5)\n",
      "<dtype: 'float32'>\n",
      "(64, 200, 200, 1)\n",
      "<dtype: 'float32'>\n",
      "(64, 5)\n",
      "<dtype: 'float32'>\n",
      "(64, 200, 200, 1)\n",
      "<dtype: 'float32'>\n",
      "(64, 5)\n",
      "<dtype: 'float32'>\n",
      "(64, 200, 200, 1)\n",
      "<dtype: 'float32'>\n",
      "(64, 5)\n",
      "<dtype: 'float32'>\n",
      "(64, 200, 200, 1)\n",
      "<dtype: 'float32'>\n",
      "(64, 5)\n",
      "<dtype: 'float32'>\n",
      "(64, 200, 200, 1)\n",
      "<dtype: 'float32'>\n",
      "(64, 5)\n",
      "<dtype: 'float32'>\n",
      "(64, 200, 200, 1)\n",
      "<dtype: 'float32'>\n",
      "(64, 5)\n",
      "<dtype: 'float32'>\n",
      "(64, 200, 200, 1)\n",
      "<dtype: 'float32'>\n",
      "(64, 5)\n",
      "<dtype: 'float32'>\n",
      "(58, 200, 200, 1)\n",
      "<dtype: 'float32'>\n",
      "(58, 5)\n",
      "<dtype: 'float32'>\n"
     ]
    }
   ],
   "source": [
    "print(train_dataset.element_spec)\n",
    "print(train_dataset.class_names)\n",
    "for data, labels in train_dataset:\n",
    "    print(data.shape)\n",
    "    print(data.dtype)\n",
    "    print(labels.shape)\n",
    "    print(labels.dtype)"
   ]
  },
  {
   "cell_type": "code",
   "execution_count": 8,
   "metadata": {},
   "outputs": [
    {
     "name": "stdout",
     "output_type": "stream",
     "text": [
      "(TensorSpec(shape=(None, 200, 200, 1), dtype=tf.float32, name=None), TensorSpec(shape=(None, 5), dtype=tf.float32, name=None))\n",
      "['Cholesteric', 'Columnar', 'Nematic', 'Smectic', 'Twist_grain_boundary']\n",
      "(64, 200, 200, 1)\n",
      "<dtype: 'float32'>\n",
      "(64, 5)\n",
      "<dtype: 'float32'>\n",
      "(64, 200, 200, 1)\n",
      "<dtype: 'float32'>\n",
      "(64, 5)\n",
      "<dtype: 'float32'>\n",
      "(64, 200, 200, 1)\n",
      "<dtype: 'float32'>\n",
      "(64, 5)\n",
      "<dtype: 'float32'>\n",
      "(64, 200, 200, 1)\n",
      "<dtype: 'float32'>\n",
      "(64, 5)\n",
      "<dtype: 'float32'>\n",
      "(57, 200, 200, 1)\n",
      "<dtype: 'float32'>\n",
      "(57, 5)\n",
      "<dtype: 'float32'>\n"
     ]
    }
   ],
   "source": [
    "print(val_dataset.element_spec)\n",
    "print(val_dataset.class_names)\n",
    "for data, labels in val_dataset:\n",
    "    print(data.shape)\n",
    "    print(data.dtype)\n",
    "    print(labels.shape)\n",
    "    print(labels.dtype)"
   ]
  },
  {
   "cell_type": "markdown",
   "metadata": {},
   "source": [
    "We want to now load in the trained model that was saved at its best point (best meaning highest validation accuracy)"
   ]
  },
  {
   "cell_type": "code",
   "execution_count": 9,
   "metadata": {},
   "outputs": [],
   "source": [
    "model_filepath = \"C:/Users/Jason/Documents/University/Year_4/MPhys_Project(s)\"\n",
    "trained_model = tf.keras.models.load_model(model_filepath)"
   ]
  },
  {
   "cell_type": "code",
   "execution_count": 10,
   "metadata": {},
   "outputs": [
    {
     "name": "stdout",
     "output_type": "stream",
     "text": [
      "Model: \"functional_3\"\n",
      "_________________________________________________________________\n",
      "Layer (type)                 Output Shape              Param #   \n",
      "=================================================================\n",
      "input_2 (InputLayer)         [(None, 200, 200, 1)]     0         \n",
      "_________________________________________________________________\n",
      "rescaling_1 (Rescaling)      (None, 200, 200, 1)       0         \n",
      "_________________________________________________________________\n",
      "random_flip_1 (RandomFlip)   (None, 200, 200, 1)       0         \n",
      "_________________________________________________________________\n",
      "conv2d_3 (Conv2D)            (None, 198, 198, 32)      320       \n",
      "_________________________________________________________________\n",
      "batch_normalization_3 (Batch (None, 198, 198, 32)      128       \n",
      "_________________________________________________________________\n",
      "activation_3 (Activation)    (None, 198, 198, 32)      0         \n",
      "_________________________________________________________________\n",
      "max_pooling2d_3 (MaxPooling2 (None, 66, 66, 32)        0         \n",
      "_________________________________________________________________\n",
      "conv2d_4 (Conv2D)            (None, 64, 64, 64)        18496     \n",
      "_________________________________________________________________\n",
      "batch_normalization_4 (Batch (None, 64, 64, 64)        256       \n",
      "_________________________________________________________________\n",
      "activation_4 (Activation)    (None, 64, 64, 64)        0         \n",
      "_________________________________________________________________\n",
      "max_pooling2d_4 (MaxPooling2 (None, 21, 21, 64)        0         \n",
      "_________________________________________________________________\n",
      "conv2d_5 (Conv2D)            (None, 19, 19, 128)       73856     \n",
      "_________________________________________________________________\n",
      "batch_normalization_5 (Batch (None, 19, 19, 128)       512       \n",
      "_________________________________________________________________\n",
      "activation_5 (Activation)    (None, 19, 19, 128)       0         \n",
      "_________________________________________________________________\n",
      "max_pooling2d_5 (MaxPooling2 (None, 6, 6, 128)         0         \n",
      "_________________________________________________________________\n",
      "flatten_1 (Flatten)          (None, 4608)              0         \n",
      "_________________________________________________________________\n",
      "dense_3 (Dense)              (None, 128)               589952    \n",
      "_________________________________________________________________\n",
      "dropout_2 (Dropout)          (None, 128)               0         \n",
      "_________________________________________________________________\n",
      "dense_4 (Dense)              (None, 64)                8256      \n",
      "_________________________________________________________________\n",
      "dropout_3 (Dropout)          (None, 64)                0         \n",
      "_________________________________________________________________\n",
      "dense_5 (Dense)              (None, 5)                 325       \n",
      "=================================================================\n",
      "Total params: 692,101\n",
      "Trainable params: 691,653\n",
      "Non-trainable params: 448\n",
      "_________________________________________________________________\n"
     ]
    }
   ],
   "source": [
    "trained_model.summary()"
   ]
  },
  {
   "cell_type": "markdown",
   "metadata": {},
   "source": [
    "Let's get in our validation data but with a seed so we can compare to predictions consistently"
   ]
  },
  {
   "cell_type": "code",
   "execution_count": 11,
   "metadata": {},
   "outputs": [
    {
     "name": "stdout",
     "output_type": "stream",
     "text": [
      "5/5 - 1s - loss: 0.3728 - accuracy: 0.9233\n"
     ]
    },
    {
     "data": {
      "text/plain": [
       "[0.37278884649276733, 0.9233226776123047]"
      ]
     },
     "execution_count": 11,
     "metadata": {},
     "output_type": "execute_result"
    }
   ],
   "source": [
    "trained_model.evaluate(val_dataset, verbose=2)"
   ]
  },
  {
   "cell_type": "markdown",
   "metadata": {},
   "source": [
    "Now let's get some test images in to see some predictions (this function is from Josh Heaton)"
   ]
  },
  {
   "cell_type": "code",
   "execution_count": 16,
   "metadata": {},
   "outputs": [],
   "source": [
    "#outputs prediction for image file and associated confidence\n",
    "def predict_image(filename, model):\n",
    "    transform_image(Image.open(filename)).show()\n",
    "    image = transform_image(Image.open(filename), as_array=True)\n",
    "    #expand to 4D tensor so it fits the batch shape\n",
    "    image = np.expand_dims(image, axis=2)\n",
    "    image = np.expand_dims(image, axis=0)\n",
    "    \n",
    "    prediction = model.predict(image, steps=1, verbose=1)\n",
    "    pred_class = np.argmax(prediction, axis=1)\n",
    "    \n",
    "    print('Predicted phase:')\n",
    "    \n",
    "    if pred_class[0] == 0:\n",
    "        print('cholesteric')\n",
    "    elif pred_class[0] == 1:\n",
    "        print('columnar')\n",
    "    elif pred_class[0] == 2:\n",
    "        print('nematic')\n",
    "    elif pred_class[0] == 3:\n",
    "        print('smectic')\n",
    "    elif pred_class[0] == 4:\n",
    "        print('twist_grain_boundary')\n",
    "        \n",
    "    print('Confidence level:')\n",
    "    print(prediction[0][pred_class[0]])\n",
    "        \n",
    "    return (pred_class[0], prediction[0][pred_class[0]])"
   ]
  },
  {
   "cell_type": "code",
   "execution_count": 17,
   "metadata": {},
   "outputs": [],
   "source": [
    "def transform_image(image, as_array=False, size=200, black_and_white=True):\n",
    "    img = np.array(image)\n",
    "\n",
    "    height = np.shape(img)[0]\n",
    "    width = np.shape(img)[1]\n",
    "    square = (height == width)\n",
    "    \n",
    "    #if image is not square, crop excess height/width\n",
    "    if not square:\n",
    "        diff = height - width\n",
    "        crop = int(np.abs(diff) / 2)\n",
    "        \n",
    "        if diff > 0:\n",
    "            img = img[crop:width+crop, :]\n",
    "        else:\n",
    "            img = img[:, crop:height+crop]\n",
    "    \n",
    "    if black_and_white:\n",
    "        img = rgb2gray(img)\n",
    "        \n",
    "    img = resize(img, (size, size), anti_aliasing=False)\n",
    "    img *= 255\n",
    "    img = img.astype(np.uint8)\n",
    "    \n",
    "    if as_array:\n",
    "        return img\n",
    "    \n",
    "    return Image.fromarray(img)"
   ]
  },
  {
   "cell_type": "code",
   "execution_count": 24,
   "metadata": {},
   "outputs": [],
   "source": [
    "test_dir = \"C:/Users/Jason/Documents/University/Year_4/MPhys_Project(s)/Liquid_crystals-machine_learning/Images_from_drive/Validation\""
   ]
  },
  {
   "cell_type": "code",
   "execution_count": 25,
   "metadata": {},
   "outputs": [
    {
     "name": "stdout",
     "output_type": "stream",
     "text": [
      "1/1 [==============================] - 0s 3ms/step\n",
      "Predicted phase:\n",
      "cholesteric\n",
      "Confidence level:\n",
      "1.0\n"
     ]
    },
    {
     "data": {
      "text/plain": [
       "(0, 1.0)"
      ]
     },
     "execution_count": 25,
     "metadata": {},
     "output_type": "execute_result"
    }
   ],
   "source": [
    "predict_image(test_dir + \"/Cholesteric/o00001.png\", trained_model)"
   ]
  },
  {
   "cell_type": "code",
   "execution_count": 26,
   "metadata": {},
   "outputs": [
    {
     "name": "stdout",
     "output_type": "stream",
     "text": [
      "1/1 [==============================] - 0s 2ms/step\n",
      "Predicted phase:\n",
      "cholesteric\n",
      "Confidence level:\n",
      "1.0\n"
     ]
    },
    {
     "data": {
      "text/plain": [
       "(0, 1.0)"
      ]
     },
     "execution_count": 26,
     "metadata": {},
     "output_type": "execute_result"
    }
   ],
   "source": [
    "predict_image(test_dir + \"/Cholesteric/o00761.png\", trained_model)"
   ]
  },
  {
   "cell_type": "code",
   "execution_count": 27,
   "metadata": {},
   "outputs": [
    {
     "name": "stdout",
     "output_type": "stream",
     "text": [
      "1/1 [==============================] - 0s 7ms/step\n",
      "Predicted phase:\n",
      "cholesteric\n",
      "Confidence level:\n",
      "0.98415023\n"
     ]
    },
    {
     "data": {
      "text/plain": [
       "(0, 0.98415023)"
      ]
     },
     "execution_count": 27,
     "metadata": {},
     "output_type": "execute_result"
    }
   ],
   "source": [
    "predict_image(test_dir + \"/Cholesteric/p00481.png\", trained_model)"
   ]
  },
  {
   "cell_type": "code",
   "execution_count": 19,
   "metadata": {},
   "outputs": [
    {
     "name": "stdout",
     "output_type": "stream",
     "text": [
      "1/1 [==============================] - 0s 999us/step\n",
      "Predicted phase:\n",
      "cholesteric\n",
      "Confidence level:\n",
      "0.70404696\n",
      "1/1 [==============================] - 0s 999us/step\n",
      "Predicted phase:\n",
      "smectic\n",
      "Confidence level:\n",
      "0.960023\n",
      "1/1 [==============================] - 0s 998us/step\n",
      "Predicted phase:\n",
      "nematic\n",
      "Confidence level:\n",
      "0.85383403\n",
      "1/1 [==============================] - 0s 270us/step\n",
      "Predicted phase:\n",
      "nematic\n",
      "Confidence level:\n",
      "0.72762996\n",
      "1/1 [==============================] - 0s 994us/step\n",
      "Predicted phase:\n",
      "twist_grain_boundary\n",
      "Confidence level:\n",
      "0.95064336\n",
      "1/1 [==============================] - 0s 996us/step\n",
      "Predicted phase:\n",
      "columnar\n",
      "Confidence level:\n",
      "0.66226643\n",
      "1/1 [==============================] - 0s 2ms/step\n",
      "Predicted phase:\n",
      "cholesteric\n",
      "Confidence level:\n",
      "1.0\n",
      "1/1 [==============================] - 0s 335us/step\n",
      "Predicted phase:\n",
      "cholesteric\n",
      "Confidence level:\n",
      "1.0\n"
     ]
    },
    {
     "data": {
      "text/plain": [
       "(0, 1.0)"
      ]
     },
     "execution_count": 19,
     "metadata": {},
     "output_type": "execute_result"
    }
   ],
   "source": [
    "predict_image(test_dir + \"/Cholesteric/Cholesteric_Ingo_book.png\", trained_model)\n",
    "predict_image(test_dir + \"/Cholesteric/Cholesteric_Ingo_book(1).png\", trained_model)\n",
    "predict_image(test_dir + \"/Cholesteric/Cholesteric_Ingo_book(2).png\", trained_model)\n",
    "predict_image(test_dir + \"/Cholesteric/Cholesteric_Ingo_book(3).png\", trained_model)\n",
    "predict_image(test_dir + \"/Cholesteric/Cholesteric_Ingo_book(4).png\", trained_model)\n",
    "predict_image(test_dir + \"/Cholesteric/Cholesteric_Ingo_book(5).png\", trained_model)\n",
    "predict_image(test_dir + \"/Cholesteric/Cholesteric_Ingo_book(6).png\", trained_model)\n",
    "predict_image(test_dir + \"/Cholesteric/Cholesteric_Ingo_book(7).png\", trained_model)"
   ]
  },
  {
   "cell_type": "code",
   "execution_count": 20,
   "metadata": {},
   "outputs": [
    {
     "name": "stdout",
     "output_type": "stream",
     "text": [
      "1/1 [==============================] - 0s 1ms/step\n",
      "Predicted phase:\n",
      "nematic\n",
      "Confidence level:\n",
      "0.9876546\n"
     ]
    },
    {
     "data": {
      "text/plain": [
       "(2, 0.9876546)"
      ]
     },
     "execution_count": 20,
     "metadata": {},
     "output_type": "execute_result"
    }
   ],
   "source": [
    "predict_image(test_dir + \"/Columnar/Columnar_Ingo_book.png\", trained_model)"
   ]
  },
  {
   "cell_type": "code",
   "execution_count": 21,
   "metadata": {},
   "outputs": [
    {
     "name": "stdout",
     "output_type": "stream",
     "text": [
      "1/1 [==============================] - 0s 1ms/step\n",
      "Predicted phase:\n",
      "nematic\n",
      "Confidence level:\n",
      "0.60242856\n",
      "1/1 [==============================] - 0s 1ms/step\n",
      "Predicted phase:\n",
      "cholesteric\n",
      "Confidence level:\n",
      "0.538126\n",
      "1/1 [==============================] - 0s 996us/step\n",
      "Predicted phase:\n",
      "nematic\n",
      "Confidence level:\n",
      "0.96504664\n",
      "1/1 [==============================] - 0s 1ms/step\n",
      "Predicted phase:\n",
      "nematic\n",
      "Confidence level:\n",
      "0.992121\n",
      "1/1 [==============================] - 0s 2ms/step\n",
      "Predicted phase:\n",
      "nematic\n",
      "Confidence level:\n",
      "0.99786913\n",
      "1/1 [==============================] - 0s 997us/step\n",
      "Predicted phase:\n",
      "cholesteric\n",
      "Confidence level:\n",
      "0.99979144\n",
      "1/1 [==============================] - 0s 998us/step\n",
      "Predicted phase:\n",
      "cholesteric\n",
      "Confidence level:\n",
      "0.99103457\n"
     ]
    },
    {
     "data": {
      "text/plain": [
       "(0, 0.99103457)"
      ]
     },
     "execution_count": 21,
     "metadata": {},
     "output_type": "execute_result"
    }
   ],
   "source": [
    "predict_image(test_dir + \"/Nematic/Nematic_Ingo_book.png\", trained_model)\n",
    "predict_image(test_dir + \"/Nematic/Nematic_Ingo_book(1).png\", trained_model)\n",
    "predict_image(test_dir + \"/Nematic/Nematic_Ingo_book(2).png\", trained_model)\n",
    "predict_image(test_dir + \"/Nematic/Nematic_Ingo_book(3).png\", trained_model)\n",
    "predict_image(test_dir + \"/Nematic/Nematic_Ingo_book(4).png\", trained_model)\n",
    "predict_image(test_dir + \"/Nematic/Nematic_Ingo_book(5).png\", trained_model)\n",
    "predict_image(test_dir + \"/Nematic/Nematic_Ingo_book(6).png\", trained_model)"
   ]
  },
  {
   "cell_type": "code",
   "execution_count": 22,
   "metadata": {},
   "outputs": [
    {
     "name": "stdout",
     "output_type": "stream",
     "text": [
      "1/1 [==============================] - 0s 966us/step\n",
      "Predicted phase:\n",
      "cholesteric\n",
      "Confidence level:\n",
      "0.4733992\n",
      "1/1 [==============================] - 0s 1ms/step\n",
      "Predicted phase:\n",
      "nematic\n",
      "Confidence level:\n",
      "0.98609436\n",
      "1/1 [==============================] - 0s 865us/step\n",
      "Predicted phase:\n",
      "nematic\n",
      "Confidence level:\n",
      "0.6953379\n",
      "1/1 [==============================] - 0s 344us/step\n",
      "Predicted phase:\n",
      "nematic\n",
      "Confidence level:\n",
      "0.99501824\n",
      "1/1 [==============================] - 0s 0s/step\n",
      "Predicted phase:\n",
      "cholesteric\n",
      "Confidence level:\n",
      "0.7227947\n",
      "1/1 [==============================] - 0s 1ms/step\n",
      "Predicted phase:\n",
      "nematic\n",
      "Confidence level:\n",
      "0.9755676\n",
      "1/1 [==============================] - 0s 2ms/step\n",
      "Predicted phase:\n",
      "nematic\n",
      "Confidence level:\n",
      "0.9989035\n"
     ]
    },
    {
     "data": {
      "text/plain": [
       "(2, 0.9989035)"
      ]
     },
     "execution_count": 22,
     "metadata": {},
     "output_type": "execute_result"
    }
   ],
   "source": [
    "predict_image(test_dir + \"/Smectic/SmA_Ingo_book.png\", trained_model)\n",
    "predict_image(test_dir + \"/Smectic/SmA_Ingo_book(1).png\", trained_model)\n",
    "predict_image(test_dir + \"/Smectic/SmA_Ingo_book(2).png\", trained_model)\n",
    "predict_image(test_dir + \"/Smectic/SmA_Ingo_book(3).png\", trained_model)\n",
    "predict_image(test_dir + \"/Smectic/SmA_Ingo_book(4).png\", trained_model)\n",
    "predict_image(test_dir + \"/Smectic/SmC_Ingo_book.png\", trained_model)\n",
    "predict_image(test_dir + \"/Smectic/SmC_Ingo_book(1).png\", trained_model)"
   ]
  },
  {
   "cell_type": "code",
   "execution_count": 23,
   "metadata": {},
   "outputs": [
    {
     "name": "stdout",
     "output_type": "stream",
     "text": [
      "1/1 [==============================] - 0s 1ms/step\n",
      "Predicted phase:\n",
      "nematic\n",
      "Confidence level:\n",
      "0.9875646\n",
      "1/1 [==============================] - 0s 298us/step\n",
      "Predicted phase:\n",
      "nematic\n",
      "Confidence level:\n",
      "0.46742818\n",
      "1/1 [==============================] - 0s 2ms/step\n",
      "Predicted phase:\n",
      "nematic\n",
      "Confidence level:\n",
      "0.99992526\n"
     ]
    },
    {
     "data": {
      "text/plain": [
       "(2, 0.99992526)"
      ]
     },
     "execution_count": 23,
     "metadata": {},
     "output_type": "execute_result"
    }
   ],
   "source": [
    "predict_image(test_dir + \"/Twist_grain_boundary/TGB_Ingo_book.png\", trained_model)\n",
    "predict_image(test_dir + \"/Twist_grain_boundary/TGB_Ingo_book(1).png\", trained_model)\n",
    "predict_image(test_dir + \"/Twist_grain_boundary/TGB_Ingo_book(2).png\", trained_model)"
   ]
  },
  {
   "cell_type": "markdown",
   "metadata": {},
   "source": [
    "Despite working well on the validation set (which was completely unseen), the perform on the test images here are mixed. It's possible that the model doesn't generalise well to more difficult cases of LC textures."
   ]
  },
  {
   "cell_type": "code",
   "execution_count": null,
   "metadata": {},
   "outputs": [],
   "source": []
  }
 ],
 "metadata": {
  "kernelspec": {
   "display_name": "Python 3",
   "language": "python",
   "name": "python3"
  },
  "language_info": {
   "codemirror_mode": {
    "name": "ipython",
    "version": 3
   },
   "file_extension": ".py",
   "mimetype": "text/x-python",
   "name": "python",
   "nbconvert_exporter": "python",
   "pygments_lexer": "ipython3",
   "version": "3.7.6"
  }
 },
 "nbformat": 4,
 "nbformat_minor": 4
}
