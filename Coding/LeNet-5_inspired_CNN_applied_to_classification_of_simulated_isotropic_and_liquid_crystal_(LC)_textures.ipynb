{
 "cells": [
  {
   "cell_type": "markdown",
   "metadata": {},
   "source": [
    "This notebook was created at 19:02 06/10/20"
   ]
  },
  {
   "cell_type": "markdown",
   "metadata": {},
   "source": [
    "LeNet-5 inspired CCN architecture applied to classification of simulated isotropic and liquid crystal (LC) textures"
   ]
  },
  {
   "cell_type": "markdown",
   "metadata": {},
   "source": [
    "This notebook is meant as an initial proof-of-concept for the overall aim of classifying LC phases from textures. This proof-of-concept will be to test the binary classification of textures representing isotopic and non-isotropic (LC) phases. These textures will be simulated, generating the data. \n",
    "\n",
    "Isotropic is represented as a completely black image. This is the texture obtained for an isotropic phase using the method of polarizing microscopy. The LC phase will be represented by textures that aren't completely black.\n",
    "\n",
    "Specifically this classification will be implemented using a simple convolutional network (CNN) - LeNet-5 inspired - as this is a CNN that is not to computationally expensive for this task, but should be applicable when generalising the classification to multiple textures."
   ]
  },
  {
   "cell_type": "markdown",
   "metadata": {},
   "source": [
    "We'll be using keras and/or tensorflow."
   ]
  },
  {
   "cell_type": "code",
   "execution_count": 1,
   "metadata": {},
   "outputs": [
    {
     "name": "stdout",
     "output_type": "stream",
     "text": [
      "Requirement already satisfied: tensorflow in c:\\users\\jason\\anaconda3\\lib\\site-packages (2.3.1)\n",
      "Requirement already satisfied: keras in c:\\users\\jason\\anaconda3\\lib\\site-packages (2.4.3)\n",
      "Requirement already satisfied: numpy in c:\\users\\jason\\anaconda3\\lib\\site-packages (1.18.1)\n",
      "Requirement already satisfied: matplotlib in c:\\users\\jason\\anaconda3\\lib\\site-packages (3.1.3)\n",
      "Requirement already satisfied: protobuf>=3.9.2 in c:\\users\\jason\\anaconda3\\lib\\site-packages (from tensorflow) (3.13.0)\n",
      "Requirement already satisfied: google-pasta>=0.1.8 in c:\\users\\jason\\anaconda3\\lib\\site-packages (from tensorflow) (0.2.0)\n",
      "Requirement already satisfied: absl-py>=0.7.0 in c:\\users\\jason\\anaconda3\\lib\\site-packages (from tensorflow) (0.10.0)\n",
      "Requirement already satisfied: astunparse==1.6.3 in c:\\users\\jason\\anaconda3\\lib\\site-packages (from tensorflow) (1.6.3)\n",
      "Requirement already satisfied: opt-einsum>=2.3.2 in c:\\users\\jason\\anaconda3\\lib\\site-packages (from tensorflow) (3.3.0)\n",
      "Requirement already satisfied: gast==0.3.3 in c:\\users\\jason\\anaconda3\\lib\\site-packages (from tensorflow) (0.3.3)\n",
      "Requirement already satisfied: termcolor>=1.1.0 in c:\\users\\jason\\anaconda3\\lib\\site-packages (from tensorflow) (1.1.0)\n",
      "Requirement already satisfied: six>=1.12.0 in c:\\users\\jason\\anaconda3\\lib\\site-packages (from tensorflow) (1.14.0)\n",
      "Requirement already satisfied: tensorboard<3,>=2.3.0 in c:\\users\\jason\\anaconda3\\lib\\site-packages (from tensorflow) (2.3.0)\n",
      "Requirement already satisfied: wrapt>=1.11.1 in c:\\users\\jason\\anaconda3\\lib\\site-packages (from tensorflow) (1.11.2)\n",
      "Requirement already satisfied: grpcio>=1.8.6 in c:\\users\\jason\\anaconda3\\lib\\site-packages (from tensorflow) (1.32.0)\n",
      "Requirement already satisfied: tensorflow-estimator<2.4.0,>=2.3.0 in c:\\users\\jason\\anaconda3\\lib\\site-packages (from tensorflow) (2.3.0)\n",
      "Requirement already satisfied: keras-preprocessing<1.2,>=1.1.1 in c:\\users\\jason\\anaconda3\\lib\\site-packages (from tensorflow) (1.1.2)\n",
      "Requirement already satisfied: h5py<2.11.0,>=2.10.0 in c:\\users\\jason\\anaconda3\\lib\\site-packages (from tensorflow) (2.10.0)\n",
      "Requirement already satisfied: wheel>=0.26 in c:\\users\\jason\\anaconda3\\lib\\site-packages (from tensorflow) (0.34.2)\n",
      "Requirement already satisfied: scipy>=0.14 in c:\\users\\jason\\anaconda3\\lib\\site-packages (from keras) (1.4.1)\n",
      "Requirement already satisfied: pyyaml in c:\\users\\jason\\anaconda3\\lib\\site-packages (from keras) (5.3)\n",
      "Requirement already satisfied: pyparsing!=2.0.4,!=2.1.2,!=2.1.6,>=2.0.1 in c:\\users\\jason\\anaconda3\\lib\\site-packages (from matplotlib) (2.4.6)\n",
      "Requirement already satisfied: python-dateutil>=2.1 in c:\\users\\jason\\anaconda3\\lib\\site-packages (from matplotlib) (2.8.1)\n",
      "Requirement already satisfied: cycler>=0.10 in c:\\users\\jason\\anaconda3\\lib\\site-packages (from matplotlib) (0.10.0)\n",
      "Requirement already satisfied: kiwisolver>=1.0.1 in c:\\users\\jason\\anaconda3\\lib\\site-packages (from matplotlib) (1.1.0)\n",
      "Requirement already satisfied: setuptools in c:\\users\\jason\\anaconda3\\lib\\site-packages (from protobuf>=3.9.2->tensorflow) (45.2.0.post20200210)\n",
      "Requirement already satisfied: markdown>=2.6.8 in c:\\users\\jason\\anaconda3\\lib\\site-packages (from tensorboard<3,>=2.3.0->tensorflow) (3.2.2)\n",
      "Requirement already satisfied: requests<3,>=2.21.0 in c:\\users\\jason\\anaconda3\\lib\\site-packages (from tensorboard<3,>=2.3.0->tensorflow) (2.22.0)\n",
      "Requirement already satisfied: google-auth<2,>=1.6.3 in c:\\users\\jason\\anaconda3\\lib\\site-packages (from tensorboard<3,>=2.3.0->tensorflow) (1.22.0)\n",
      "Requirement already satisfied: google-auth-oauthlib<0.5,>=0.4.1 in c:\\users\\jason\\anaconda3\\lib\\site-packages (from tensorboard<3,>=2.3.0->tensorflow) (0.4.1)\n",
      "Requirement already satisfied: tensorboard-plugin-wit>=1.6.0 in c:\\users\\jason\\anaconda3\\lib\\site-packages (from tensorboard<3,>=2.3.0->tensorflow) (1.7.0)\n",
      "Requirement already satisfied: werkzeug>=0.11.15 in c:\\users\\jason\\anaconda3\\lib\\site-packages (from tensorboard<3,>=2.3.0->tensorflow) (1.0.0)\n",
      "Requirement already satisfied: importlib-metadata; python_version < \"3.8\" in c:\\users\\jason\\anaconda3\\lib\\site-packages (from markdown>=2.6.8->tensorboard<3,>=2.3.0->tensorflow) (1.5.0)\n",
      "Requirement already satisfied: idna<2.9,>=2.5 in c:\\users\\jason\\anaconda3\\lib\\site-packages (from requests<3,>=2.21.0->tensorboard<3,>=2.3.0->tensorflow) (2.8)\n",
      "Requirement already satisfied: chardet<3.1.0,>=3.0.2 in c:\\users\\jason\\anaconda3\\lib\\site-packages (from requests<3,>=2.21.0->tensorboard<3,>=2.3.0->tensorflow) (3.0.4)\n",
      "Requirement already satisfied: certifi>=2017.4.17 in c:\\users\\jason\\anaconda3\\lib\\site-packages (from requests<3,>=2.21.0->tensorboard<3,>=2.3.0->tensorflow) (2019.11.28)\n",
      "Requirement already satisfied: urllib3!=1.25.0,!=1.25.1,<1.26,>=1.21.1 in c:\\users\\jason\\anaconda3\\lib\\site-packages (from requests<3,>=2.21.0->tensorboard<3,>=2.3.0->tensorflow) (1.25.8)\n",
      "Requirement already satisfied: aiohttp<4.0.0dev,>=3.6.2; python_version >= \"3.6\" in c:\\users\\jason\\anaconda3\\lib\\site-packages (from google-auth<2,>=1.6.3->tensorboard<3,>=2.3.0->tensorflow) (3.6.2)\n",
      "Requirement already satisfied: pyasn1-modules>=0.2.1 in c:\\users\\jason\\anaconda3\\lib\\site-packages (from google-auth<2,>=1.6.3->tensorboard<3,>=2.3.0->tensorflow) (0.2.8)\n",
      "Requirement already satisfied: rsa<5,>=3.1.4; python_version >= \"3.5\" in c:\\users\\jason\\anaconda3\\lib\\site-packages (from google-auth<2,>=1.6.3->tensorboard<3,>=2.3.0->tensorflow) (4.6)\n",
      "Requirement already satisfied: cachetools<5.0,>=2.0.0 in c:\\users\\jason\\anaconda3\\lib\\site-packages (from google-auth<2,>=1.6.3->tensorboard<3,>=2.3.0->tensorflow) (4.1.1)\n",
      "Requirement already satisfied: requests-oauthlib>=0.7.0 in c:\\users\\jason\\anaconda3\\lib\\site-packages (from google-auth-oauthlib<0.5,>=0.4.1->tensorboard<3,>=2.3.0->tensorflow) (1.3.0)\n",
      "Requirement already satisfied: zipp>=0.5 in c:\\users\\jason\\anaconda3\\lib\\site-packages (from importlib-metadata; python_version < \"3.8\"->markdown>=2.6.8->tensorboard<3,>=2.3.0->tensorflow) (2.2.0)\n",
      "Requirement already satisfied: async-timeout<4.0,>=3.0 in c:\\users\\jason\\anaconda3\\lib\\site-packages (from aiohttp<4.0.0dev,>=3.6.2; python_version >= \"3.6\"->google-auth<2,>=1.6.3->tensorboard<3,>=2.3.0->tensorflow) (3.0.1)\n",
      "Requirement already satisfied: yarl<2.0,>=1.0 in c:\\users\\jason\\anaconda3\\lib\\site-packages (from aiohttp<4.0.0dev,>=3.6.2; python_version >= \"3.6\"->google-auth<2,>=1.6.3->tensorboard<3,>=2.3.0->tensorflow) (1.6.0)\n",
      "Requirement already satisfied: multidict<5.0,>=4.5 in c:\\users\\jason\\anaconda3\\lib\\site-packages (from aiohttp<4.0.0dev,>=3.6.2; python_version >= \"3.6\"->google-auth<2,>=1.6.3->tensorboard<3,>=2.3.0->tensorflow) (4.7.6)\n",
      "Requirement already satisfied: attrs>=17.3.0 in c:\\users\\jason\\anaconda3\\lib\\site-packages (from aiohttp<4.0.0dev,>=3.6.2; python_version >= \"3.6\"->google-auth<2,>=1.6.3->tensorboard<3,>=2.3.0->tensorflow) (19.3.0)\n",
      "Requirement already satisfied: pyasn1<0.5.0,>=0.4.6 in c:\\users\\jason\\anaconda3\\lib\\site-packages (from pyasn1-modules>=0.2.1->google-auth<2,>=1.6.3->tensorboard<3,>=2.3.0->tensorflow) (0.4.8)\n",
      "Requirement already satisfied: oauthlib>=3.0.0 in c:\\users\\jason\\anaconda3\\lib\\site-packages (from requests-oauthlib>=0.7.0->google-auth-oauthlib<0.5,>=0.4.1->tensorboard<3,>=2.3.0->tensorflow) (3.1.0)\n",
      "Requirement already satisfied: typing-extensions>=3.7.4; python_version < \"3.8\" in c:\\users\\jason\\anaconda3\\lib\\site-packages (from yarl<2.0,>=1.0->aiohttp<4.0.0dev,>=3.6.2; python_version >= \"3.6\"->google-auth<2,>=1.6.3->tensorboard<3,>=2.3.0->tensorflow) (3.7.4.3)\n",
      "Note: you may need to restart the kernel to use updated packages.\n"
     ]
    }
   ],
   "source": [
    "pip install tensorflow keras numpy matplotlib"
   ]
  },
  {
   "cell_type": "code",
   "execution_count": 2,
   "metadata": {},
   "outputs": [],
   "source": [
    "# IMPORTS\n",
    "import numpy as np\n",
    "import matplotlib.pyplot as plt\n",
    "from keras import layers\n",
    "from keras.layers import Input, Dense, Activation, ZeroPadding2D, BatchNormalization, Flatten, Conv2D\n",
    "from keras.layers import AveragePooling2D, MaxPooling2D, Dropout, GlobalMaxPooling2D, GlobalAveragePooling2D\n",
    "from keras.models import Model\n",
    "from sklearn.utils import shuffle\n",
    "from sklearn.model_selection import train_test_split\n",
    "\n",
    "import keras.backend as K"
   ]
  },
  {
   "cell_type": "markdown",
   "metadata": {},
   "source": [
    "Define the function for generating the simulated texture images. The images will be 32x32 (a choice made so that the size matches the size that LeNet-5 was designed for)."
   ]
  },
  {
   "cell_type": "code",
   "execution_count": 3,
   "metadata": {},
   "outputs": [],
   "source": [
    "def random_image_and_labels_generator(image_shape, N):\n",
    "    \"\"\"\n",
    "    Generates random images and their corresponding labels\n",
    "    (1 for bright/LC)\n",
    "\n",
    "    Parameters\n",
    "    ----------\n",
    "    image_shape : tuple\n",
    "        Shape of images we want to generate\n",
    "    N : int\n",
    "        number of images we want to generate\n",
    "\n",
    "    Returns\n",
    "    -------\n",
    "    images : np.array\n",
    "        Generated images together in an array of size (N, image height, image width, 1)\n",
    "    labels : np.array\n",
    "        The corresponding labels for the generated images of shape (N, 1)\n",
    "\n",
    "    \"\"\"\n",
    "    # Add the images to an array\n",
    "    images = np.zeros((1, image_shape[0], image_shape[1], 1)) # we'll need to remove this entry of zeros\n",
    "    \n",
    "    for i in range(N):\n",
    "        # Generate image of size image_size with random\n",
    "        # pixel values between 0 and 1 (representing a random\n",
    "        # normalized image)\n",
    "        image = np.random.rand(1, image_shape[0], image_shape[1], 1) # size (pixels, pixels)\n",
    "        images = np.concatenate((images, image), axis = 0) # will be size (N, pixels, pixels)\n",
    "    \n",
    "    images = np.delete(images, 0, axis = 0)\n",
    "    # Generate labels, 1\n",
    "    labels = np.zeros((N, 1)) + 1\n",
    "    \n",
    "    return images, labels"
   ]
  },
  {
   "cell_type": "code",
   "execution_count": 4,
   "metadata": {},
   "outputs": [],
   "source": [
    "def generate_data(image_shape, N_examples):\n",
    "    \"\"\"\n",
    "    Generate the data for this classification problem\n",
    "\n",
    "    Parameters\n",
    "    ----------\n",
    "    image_shape : tuple\n",
    "        Shape of images we're dealing with\n",
    "    N_examples : int\n",
    "        Number of examples we're generating for the dataset\n",
    "\n",
    "    Returns\n",
    "    -------\n",
    "    images_shuffled : np.array\n",
    "        Shuffled images that were generated of size (N_examples, image height, image width, 1)\n",
    "    labels_shuffled : np.array\n",
    "        Labels corresponding to the shuffled images, 1 for LC and 0 for isotropic, of size (N_examples, 1)\n",
    "\n",
    "    \"\"\"\n",
    "    # Want a balanced data set - half iso, half LC\n",
    "    N = int(N_examples/2) # Won't work properly for odd values of N_examples right now\n",
    "\n",
    "    # Generate LC images and labels (1 for LC image)\n",
    "    images_LC, labels_LC = random_image_and_labels_generator(image_shape, N)\n",
    "    \n",
    "    # Generate isotropic images and labels (0 for\n",
    "    # isotropic image) by adding zeros to dataset\n",
    "    images_iso = np.zeros((N, image_shape[0], image_shape[1], 1))\n",
    "    labels_iso = np.zeros((N, 1))\n",
    "    \n",
    "    # Combine into one dataset\n",
    "    images_ordered = np.concatenate((images_LC, images_iso), axis = 0)\n",
    "    labels_ordered = np.concatenate((labels_LC, labels_iso), axis = 0)\n",
    "\n",
    "    # randomly shuffle the LC and iso images and labels\n",
    "    images_shuffled, labels_shuffled = shuffle(images_ordered, labels_ordered)\n",
    "    \n",
    "    return images_shuffled, labels_shuffled"
   ]
  },
  {
   "cell_type": "markdown",
   "metadata": {},
   "source": [
    "Generate some data."
   ]
  },
  {
   "cell_type": "code",
   "execution_count": 5,
   "metadata": {},
   "outputs": [],
   "source": [
    "image_shape = (32,32)\n",
    "N_examples = 1000\n",
    "images, labels = generate_data(image_shape, N_examples)"
   ]
  },
  {
   "cell_type": "markdown",
   "metadata": {},
   "source": [
    "Let's look at some of the images and make sure the labels are matching up."
   ]
  },
  {
   "cell_type": "code",
   "execution_count": 6,
   "metadata": {},
   "outputs": [
    {
     "data": {
      "image/png": "[encoded data removed]",
      "text/plain": [
       "<Figure size 432x432 with 4 Axes>"
      ]
     },
     "metadata": {
      "needs_background": "light"
     },
     "output_type": "display_data"
    }
   ],
   "source": [
    "plt.figure(figsize=[6,6])\n",
    "for i in range(4):\n",
    "    plt.subplot(2,2,i+1)\n",
    "    plt.title(\"Label: %i\"%labels[i])\n",
    "    plt.imshow(images[i,:,:].reshape([32,32]),cmap='gray')"
   ]
  },
  {
   "cell_type": "markdown",
   "metadata": {},
   "source": [
    "Now we'll split the data into train and test sets."
   ]
  },
  {
   "cell_type": "code",
   "execution_count": 7,
   "metadata": {},
   "outputs": [
    {
     "name": "stdout",
     "output_type": "stream",
     "text": [
      "number of training examples = 670\n",
      "number of test examples = 330\n",
      "X_train shape: (670, 32, 32, 1)\n",
      "Y_train shape: (670, 1)\n",
      "X_test shape: (330, 32, 32, 1)\n",
      "Y_test shape: (330, 1)\n"
     ]
    }
   ],
   "source": [
    "images_train, images_test, labels_train, labels_test = train_test_split(images, labels, test_size=0.33)\n",
    "\n",
    "print (\"number of training examples = \" + str(images_train.shape[0]))\n",
    "print (\"number of test examples = \" + str(images_test.shape[0]))\n",
    "print (\"X_train shape: \" + str(images_train.shape))\n",
    "print (\"Y_train shape: \" + str(labels_train.shape))\n",
    "print (\"X_test shape: \" + str(images_test.shape))\n",
    "print (\"Y_test shape: \" + str(labels_test.shape))"
   ]
  },
  {
   "cell_type": "markdown",
   "metadata": {},
   "source": [
    "Define the LeNet-5 model."
   ]
  },
  {
   "attachments": {
    "LeNet-5_diagram.png": {
     "image/png": "[encoded data removed]"
    }
   },
   "cell_type": "markdown",
   "metadata": {},
   "source": [
    "![LeNet-5_diagram.png](attachment:LeNet-5_diagram.png)"
   ]
  },
  {
   "cell_type": "code",
   "execution_count": 29,
   "metadata": {},
   "outputs": [],
   "source": [
    "def leNet5(input_shape):\n",
    "    \"\"\"\n",
    "    Create an instance of model class representing LeNet-5\n",
    "    inspired architecture\n",
    "\n",
    "    Parameters\n",
    "    ----------\n",
    "    input_shape : tuple\n",
    "        shape to be input to the CNN\n",
    "\n",
    "    Returns\n",
    "    -------\n",
    "    model : instance of model class\n",
    "        our LeNet-5 inspired model\n",
    "\n",
    "    \"\"\"\n",
    "    # Input placeholder with shape input_shape\n",
    "    X_input = Input(input_shape)\n",
    "    \n",
    "    # Apply 6 5x5 filter convolution with stride of 1\n",
    "    X = Conv2D(6, (5,5), strides = (1,1), activation = \"relu\", name = \"conv1\")(X_input)\n",
    "    # Apply maxpooling with a filter size of 2x2 and stride of 2\n",
    "    X = MaxPooling2D((2,2), strides = (2,2), name = \"max_pool1\")(X)\n",
    "    # Apply 16 5x5 filter convolution with stride of 1\n",
    "    X = Conv2D(16, (5,5), strides = (1,1), activation = \"relu\", name = \"conv2\")(X)\n",
    "    # Apply maxpooling with a filter size of 2x2 and stride 2\n",
    "    X = MaxPooling2D((2,2), strides = (2,2), name = \"max_pool2\")(X)\n",
    "    \n",
    "    # Flatten X (convert to a vector) before going to fully\n",
    "    # connected layers\n",
    "    X = Flatten()(X)\n",
    "    # Apply fully connected layer with 120 neurons\n",
    "    X = Dense(120, activation=\"relu\", name = \"fc3\")(X)\n",
    "    # Apply fully connected layer with 120 neurons\n",
    "    X = Dense(84, activation=\"relu\", name = \"fc5\")(X)\n",
    "    \n",
    "    # Output a single binary classification\n",
    "    X = Dense(1, activation=\"sigmoid\", name = \"fc_out\")(X)\n",
    "    \n",
    "    # Create Keras model instance\n",
    "    model = Model(inputs = X_input, outputs = X, name=\"LeNet-5\")\n",
    "    \n",
    "    return model"
   ]
  },
  {
   "cell_type": "markdown",
   "metadata": {},
   "source": [
    "Create the model."
   ]
  },
  {
   "cell_type": "code",
   "execution_count": 30,
   "metadata": {},
   "outputs": [],
   "source": [
    "LeNet5_model = leNet5(images_train.shape[1:])"
   ]
  },
  {
   "cell_type": "markdown",
   "metadata": {},
   "source": [
    "Compile the model"
   ]
  },
  {
   "cell_type": "code",
   "execution_count": 31,
   "metadata": {},
   "outputs": [],
   "source": [
    "LeNet5_model.compile(optimizer = \"adam\", loss = \"binary_crossentropy\", metrics = [\"accuracy\"])"
   ]
  },
  {
   "cell_type": "markdown",
   "metadata": {},
   "source": [
    "Train the model"
   ]
  },
  {
   "cell_type": "code",
   "execution_count": 32,
   "metadata": {},
   "outputs": [
    {
     "name": "stdout",
     "output_type": "stream",
     "text": [
      "Epoch 1/5\n",
      "11/11 [==============================] - 0s 9ms/step - loss: 0.4705 - accuracy: 0.7507\n",
      "Epoch 2/5\n",
      "11/11 [==============================] - 0s 9ms/step - loss: 0.3345 - accuracy: 1.0000\n",
      "Epoch 3/5\n",
      "11/11 [==============================] - 0s 8ms/step - loss: 0.3235 - accuracy: 1.0000\n",
      "Epoch 4/5\n",
      "11/11 [==============================] - 0s 8ms/step - loss: 0.3039 - accuracy: 1.0000\n",
      "Epoch 5/5\n",
      "11/11 [==============================] - 0s 8ms/step - loss: 0.2564 - accuracy: 1.0000\n"
     ]
    },
    {
     "data": {
      "text/plain": [
       "<tensorflow.python.keras.callbacks.History at 0x13e43f6d308>"
      ]
     },
     "execution_count": 32,
     "metadata": {},
     "output_type": "execute_result"
    }
   ],
   "source": [
    "LeNet5_model.fit(x = images_train, y = labels_train, epochs = 5, batch_size = 64)"
   ]
  },
  {
   "cell_type": "markdown",
   "metadata": {},
   "source": [
    "Get predictions on the test set."
   ]
  },
  {
   "cell_type": "code",
   "execution_count": 33,
   "metadata": {},
   "outputs": [
    {
     "name": "stdout",
     "output_type": "stream",
     "text": [
      "11/11 [==============================] - 0s 3ms/step - loss: 0.2104 - accuracy: 1.0000\n",
      "\n",
      "Test accuracy = 1.0\n"
     ]
    }
   ],
   "source": [
    "test = LeNet5_model.evaluate(x = images_test, y = labels_test)\n",
    "print()\n",
    "print(\"Test accuracy = \" + str(test[1]))"
   ]
  },
  {
   "cell_type": "markdown",
   "metadata": {},
   "source": [
    "It seems that this CNN was overkill for this task, maybe a simple logistic regression binary classification would suffice."
   ]
  },
  {
   "cell_type": "code",
   "execution_count": 34,
   "metadata": {},
   "outputs": [],
   "source": [
    "prediction = LeNet5_model.predict(images_test)"
   ]
  },
  {
   "cell_type": "code",
   "execution_count": 35,
   "metadata": {},
   "outputs": [
    {
     "name": "stdout",
     "output_type": "stream",
     "text": [
      "Label: 1\n",
      "Prediction: 1\n"
     ]
    },
    {
     "data": {
      "image/png": "[encoded data removed]",
      "text/plain": [
       "<Figure size 432x288 with 1 Axes>"
      ]
     },
     "metadata": {
      "needs_background": "light"
     },
     "output_type": "display_data"
    }
   ],
   "source": [
    "plt.imshow(images_test[75,:,:,].reshape(32,32), cmap=\"gray\")\n",
    "print(\"Label: %i\"%labels_test[75])\n",
    "print(\"Prediction: %i\"%prediction[75])"
   ]
  },
  {
   "cell_type": "code",
   "execution_count": 36,
   "metadata": {},
   "outputs": [
    {
     "name": "stdout",
     "output_type": "stream",
     "text": [
      "(330, 1)\n",
      "(330, 1)\n"
     ]
    }
   ],
   "source": [
    "print(prediction.shape)\n",
    "print(labels_test.shape)"
   ]
  },
  {
   "cell_type": "code",
   "execution_count": 38,
   "metadata": {},
   "outputs": [
    {
     "name": "stdout",
     "output_type": "stream",
     "text": [
      "Predicted that 2 was a LC.\n",
      "Predicted that 3 was a LC.\n",
      "Predicted that 5 was a LC.\n",
      "Predicted that 9 was a LC.\n",
      "Predicted that 10 was a LC.\n",
      "Predicted that 11 was a LC.\n",
      "Predicted that 13 was a LC.\n",
      "Predicted that 14 was a LC.\n",
      "Predicted that 17 was a LC.\n",
      "Predicted that 19 was a LC.\n",
      "Predicted that 20 was a LC.\n",
      "Predicted that 21 was a LC.\n",
      "Predicted that 22 was a LC.\n",
      "Predicted that 23 was a LC.\n",
      "Predicted that 24 was a LC.\n",
      "Predicted that 25 was a LC.\n",
      "Predicted that 27 was a LC.\n",
      "Predicted that 29 was a LC.\n",
      "Predicted that 32 was a LC.\n",
      "Predicted that 33 was a LC.\n",
      "Predicted that 35 was a LC.\n",
      "Predicted that 38 was a LC.\n",
      "Predicted that 39 was a LC.\n",
      "Predicted that 42 was a LC.\n",
      "Predicted that 44 was a LC.\n",
      "Predicted that 50 was a LC.\n",
      "Predicted that 51 was a LC.\n",
      "Predicted that 55 was a LC.\n",
      "Predicted that 57 was a LC.\n",
      "Predicted that 59 was a LC.\n",
      "Predicted that 60 was a LC.\n",
      "Predicted that 61 was a LC.\n",
      "Predicted that 63 was a LC.\n",
      "Predicted that 65 was a LC.\n",
      "Predicted that 66 was a LC.\n",
      "Predicted that 68 was a LC.\n",
      "Predicted that 69 was a LC.\n",
      "Predicted that 75 was a LC.\n",
      "Predicted that 76 was a LC.\n",
      "Predicted that 77 was a LC.\n",
      "Predicted that 78 was a LC.\n",
      "Predicted that 79 was a LC.\n",
      "Predicted that 80 was a LC.\n",
      "Predicted that 83 was a LC.\n",
      "Predicted that 84 was a LC.\n",
      "Predicted that 86 was a LC.\n",
      "Predicted that 88 was a LC.\n",
      "Predicted that 91 was a LC.\n",
      "Predicted that 92 was a LC.\n",
      "Predicted that 94 was a LC.\n",
      "Predicted that 100 was a LC.\n",
      "Predicted that 104 was a LC.\n",
      "Predicted that 106 was a LC.\n",
      "Predicted that 107 was a LC.\n",
      "Predicted that 110 was a LC.\n",
      "Predicted that 111 was a LC.\n",
      "Predicted that 113 was a LC.\n",
      "Predicted that 117 was a LC.\n",
      "Predicted that 118 was a LC.\n",
      "Predicted that 120 was a LC.\n",
      "Predicted that 123 was a LC.\n",
      "Predicted that 125 was a LC.\n",
      "Predicted that 127 was a LC.\n",
      "Predicted that 129 was a LC.\n",
      "Predicted that 130 was a LC.\n",
      "Predicted that 131 was a LC.\n",
      "Predicted that 132 was a LC.\n",
      "Predicted that 134 was a LC.\n",
      "Predicted that 135 was a LC.\n",
      "Predicted that 136 was a LC.\n",
      "Predicted that 140 was a LC.\n",
      "Predicted that 141 was a LC.\n",
      "Predicted that 143 was a LC.\n",
      "Predicted that 145 was a LC.\n",
      "Predicted that 146 was a LC.\n",
      "Predicted that 147 was a LC.\n",
      "Predicted that 149 was a LC.\n",
      "Predicted that 150 was a LC.\n",
      "Predicted that 151 was a LC.\n",
      "Predicted that 155 was a LC.\n",
      "Predicted that 156 was a LC.\n",
      "Predicted that 158 was a LC.\n",
      "Predicted that 159 was a LC.\n",
      "Predicted that 167 was a LC.\n",
      "Predicted that 171 was a LC.\n",
      "Predicted that 173 was a LC.\n",
      "Predicted that 174 was a LC.\n",
      "Predicted that 175 was a LC.\n",
      "Predicted that 176 was a LC.\n",
      "Predicted that 179 was a LC.\n",
      "Predicted that 180 was a LC.\n",
      "Predicted that 182 was a LC.\n",
      "Predicted that 184 was a LC.\n",
      "Predicted that 187 was a LC.\n",
      "Predicted that 192 was a LC.\n",
      "Predicted that 193 was a LC.\n",
      "Predicted that 195 was a LC.\n",
      "Predicted that 196 was a LC.\n",
      "Predicted that 199 was a LC.\n",
      "Predicted that 201 was a LC.\n",
      "Predicted that 202 was a LC.\n",
      "Predicted that 204 was a LC.\n",
      "Predicted that 207 was a LC.\n",
      "Predicted that 209 was a LC.\n",
      "Predicted that 212 was a LC.\n",
      "Predicted that 214 was a LC.\n",
      "Predicted that 215 was a LC.\n",
      "Predicted that 216 was a LC.\n",
      "Predicted that 219 was a LC.\n",
      "Predicted that 220 was a LC.\n",
      "Predicted that 223 was a LC.\n",
      "Predicted that 224 was a LC.\n",
      "Predicted that 227 was a LC.\n",
      "Predicted that 229 was a LC.\n",
      "Predicted that 233 was a LC.\n",
      "Predicted that 237 was a LC.\n",
      "Predicted that 239 was a LC.\n",
      "Predicted that 240 was a LC.\n",
      "Predicted that 242 was a LC.\n",
      "Predicted that 243 was a LC.\n",
      "Predicted that 244 was a LC.\n",
      "Predicted that 245 was a LC.\n",
      "Predicted that 249 was a LC.\n",
      "Predicted that 250 was a LC.\n",
      "Predicted that 252 was a LC.\n",
      "Predicted that 253 was a LC.\n",
      "Predicted that 256 was a LC.\n",
      "Predicted that 259 was a LC.\n",
      "Predicted that 260 was a LC.\n",
      "Predicted that 265 was a LC.\n",
      "Predicted that 267 was a LC.\n",
      "Predicted that 269 was a LC.\n",
      "Predicted that 270 was a LC.\n",
      "Predicted that 271 was a LC.\n",
      "Predicted that 274 was a LC.\n",
      "Predicted that 278 was a LC.\n",
      "Predicted that 279 was a LC.\n",
      "Predicted that 281 was a LC.\n",
      "Predicted that 284 was a LC.\n",
      "Predicted that 285 was a LC.\n",
      "Predicted that 286 was a LC.\n",
      "Predicted that 289 was a LC.\n",
      "Predicted that 290 was a LC.\n",
      "Predicted that 291 was a LC.\n",
      "Predicted that 292 was a LC.\n",
      "Predicted that 295 was a LC.\n",
      "Predicted that 297 was a LC.\n",
      "Predicted that 300 was a LC.\n",
      "Predicted that 301 was a LC.\n",
      "Predicted that 303 was a LC.\n",
      "Predicted that 304 was a LC.\n",
      "Predicted that 305 was a LC.\n",
      "Predicted that 306 was a LC.\n",
      "Predicted that 308 was a LC.\n",
      "Predicted that 309 was a LC.\n",
      "Predicted that 311 was a LC.\n",
      "Predicted that 313 was a LC.\n",
      "Predicted that 314 was a LC.\n",
      "Predicted that 322 was a LC.\n",
      "Predicted that 323 was a LC.\n",
      "Predicted that 324 was a LC.\n",
      "2 actually was a LC.\n",
      "3 actually was a LC.\n",
      "5 actually was a LC.\n",
      "9 actually was a LC.\n",
      "10 actually was a LC.\n",
      "11 actually was a LC.\n",
      "13 actually was a LC.\n",
      "14 actually was a LC.\n",
      "17 actually was a LC.\n",
      "19 actually was a LC.\n",
      "20 actually was a LC.\n",
      "21 actually was a LC.\n",
      "22 actually was a LC.\n",
      "23 actually was a LC.\n",
      "24 actually was a LC.\n",
      "25 actually was a LC.\n",
      "27 actually was a LC.\n",
      "29 actually was a LC.\n",
      "32 actually was a LC.\n",
      "33 actually was a LC.\n",
      "35 actually was a LC.\n",
      "38 actually was a LC.\n",
      "39 actually was a LC.\n",
      "42 actually was a LC.\n",
      "44 actually was a LC.\n",
      "50 actually was a LC.\n",
      "51 actually was a LC.\n",
      "55 actually was a LC.\n",
      "57 actually was a LC.\n",
      "59 actually was a LC.\n",
      "60 actually was a LC.\n",
      "61 actually was a LC.\n",
      "63 actually was a LC.\n",
      "65 actually was a LC.\n",
      "66 actually was a LC.\n",
      "68 actually was a LC.\n",
      "69 actually was a LC.\n",
      "75 actually was a LC.\n",
      "76 actually was a LC.\n",
      "77 actually was a LC.\n",
      "78 actually was a LC.\n",
      "79 actually was a LC.\n",
      "80 actually was a LC.\n",
      "83 actually was a LC.\n",
      "84 actually was a LC.\n",
      "86 actually was a LC.\n",
      "88 actually was a LC.\n",
      "91 actually was a LC.\n",
      "92 actually was a LC.\n",
      "94 actually was a LC.\n",
      "100 actually was a LC.\n",
      "104 actually was a LC.\n",
      "106 actually was a LC.\n",
      "107 actually was a LC.\n",
      "110 actually was a LC.\n",
      "111 actually was a LC.\n",
      "113 actually was a LC.\n",
      "117 actually was a LC.\n",
      "118 actually was a LC.\n",
      "120 actually was a LC.\n",
      "123 actually was a LC.\n",
      "125 actually was a LC.\n",
      "127 actually was a LC.\n",
      "129 actually was a LC.\n",
      "130 actually was a LC.\n",
      "131 actually was a LC.\n",
      "132 actually was a LC.\n",
      "134 actually was a LC.\n",
      "135 actually was a LC.\n",
      "136 actually was a LC.\n",
      "140 actually was a LC.\n",
      "141 actually was a LC.\n",
      "143 actually was a LC.\n",
      "145 actually was a LC.\n",
      "146 actually was a LC.\n",
      "147 actually was a LC.\n",
      "149 actually was a LC.\n",
      "150 actually was a LC.\n",
      "151 actually was a LC.\n",
      "155 actually was a LC.\n",
      "156 actually was a LC.\n",
      "158 actually was a LC.\n",
      "159 actually was a LC.\n",
      "167 actually was a LC.\n",
      "171 actually was a LC.\n",
      "173 actually was a LC.\n",
      "174 actually was a LC.\n",
      "175 actually was a LC.\n",
      "176 actually was a LC.\n",
      "179 actually was a LC.\n",
      "180 actually was a LC.\n",
      "182 actually was a LC.\n",
      "184 actually was a LC.\n",
      "187 actually was a LC.\n",
      "192 actually was a LC.\n",
      "193 actually was a LC.\n",
      "195 actually was a LC.\n",
      "196 actually was a LC.\n",
      "199 actually was a LC.\n",
      "201 actually was a LC.\n",
      "202 actually was a LC.\n",
      "204 actually was a LC.\n",
      "207 actually was a LC.\n",
      "209 actually was a LC.\n",
      "212 actually was a LC.\n",
      "214 actually was a LC.\n",
      "215 actually was a LC.\n",
      "216 actually was a LC.\n",
      "219 actually was a LC.\n",
      "220 actually was a LC.\n",
      "223 actually was a LC.\n",
      "224 actually was a LC.\n",
      "227 actually was a LC.\n",
      "229 actually was a LC.\n",
      "233 actually was a LC.\n",
      "237 actually was a LC.\n",
      "239 actually was a LC.\n",
      "240 actually was a LC.\n",
      "242 actually was a LC.\n",
      "243 actually was a LC.\n",
      "244 actually was a LC.\n",
      "245 actually was a LC.\n",
      "249 actually was a LC.\n",
      "250 actually was a LC.\n",
      "252 actually was a LC.\n",
      "253 actually was a LC.\n",
      "256 actually was a LC.\n",
      "259 actually was a LC.\n",
      "260 actually was a LC.\n",
      "265 actually was a LC.\n",
      "267 actually was a LC.\n",
      "269 actually was a LC.\n",
      "270 actually was a LC.\n",
      "271 actually was a LC.\n",
      "274 actually was a LC.\n",
      "278 actually was a LC.\n",
      "279 actually was a LC.\n",
      "281 actually was a LC.\n",
      "284 actually was a LC.\n",
      "285 actually was a LC.\n",
      "286 actually was a LC.\n",
      "289 actually was a LC.\n",
      "290 actually was a LC.\n",
      "291 actually was a LC.\n",
      "292 actually was a LC.\n",
      "295 actually was a LC.\n",
      "297 actually was a LC.\n",
      "300 actually was a LC.\n",
      "301 actually was a LC.\n",
      "303 actually was a LC.\n",
      "304 actually was a LC.\n",
      "305 actually was a LC.\n",
      "306 actually was a LC.\n",
      "308 actually was a LC.\n",
      "309 actually was a LC.\n",
      "311 actually was a LC.\n",
      "313 actually was a LC.\n",
      "314 actually was a LC.\n",
      "322 actually was a LC.\n",
      "323 actually was a LC.\n",
      "324 actually was a LC.\n"
     ]
    }
   ],
   "source": [
    "for i in range(len(prediction)):\n",
    "    if prediction[i] == 1:\n",
    "        print(\"Predicted that \" + str(i) + \" was a LC.\")\n",
    "        \n",
    "for i in range(len(labels_test)):\n",
    "    if labels_test[i] == 1:\n",
    "        print(str(i) + \" actually was a LC.\")"
   ]
  },
  {
   "cell_type": "code",
   "execution_count": null,
   "metadata": {},
   "outputs": [],
   "source": []
  }
 ],
 "metadata": {
  "kernelspec": {
   "display_name": "Python 3",
   "language": "python",
   "name": "python3"
  },
  "language_info": {
   "codemirror_mode": {
    "name": "ipython",
    "version": 3
   },
   "file_extension": ".py",
   "mimetype": "text/x-python",
   "name": "python",
   "nbconvert_exporter": "python",
   "pygments_lexer": "ipython3",
   "version": "3.7.6"
  }
 },
 "nbformat": 4,
 "nbformat_minor": 4
}
