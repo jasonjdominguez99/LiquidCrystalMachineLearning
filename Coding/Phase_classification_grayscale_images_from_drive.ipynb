{
 "cells": [
  {
   "cell_type": "markdown",
   "metadata": {},
   "source": [
    "This notebook was created at 23:53 18/10/20"
   ]
  },
  {
   "cell_type": "markdown",
   "metadata": {},
   "source": [
    "Liquid crystal phase classification using deep learning techniques"
   ]
  },
  {
   "cell_type": "markdown",
   "metadata": {},
   "source": [
    "First attempt to classify liquid crystal phases using the dataset shared by Josh Heaton."
   ]
  },
  {
   "cell_type": "code",
   "execution_count": null,
   "metadata": {},
   "outputs": [],
   "source": [
    "pip install pydot"
   ]
  },
  {
   "cell_type": "code",
   "execution_count": 1,
   "metadata": {},
   "outputs": [],
   "source": [
    "import numpy as np\n",
    "import matplotlib.pyplot as plt\n",
    "from keras.models import Model\n",
    "from keras.layers import Input, Dense, Activation, ZeroPadding2D, BatchNormalization, Flatten, Conv2D\n",
    "from keras.layers import AveragePooling2D, MaxPooling2D, Dropout, GlobalMaxPooling2D, GlobalAveragePooling2D\n",
    "from keras.layers.experimental.preprocessing import Rescaling, RandomFlip\n",
    "from keras.preprocessing import image_dataset_from_directory\n",
    "from keras.utils import plot_model\n",
    "from sklearn.metrics import confusion_matrix"
   ]
  },
  {
   "cell_type": "markdown",
   "metadata": {},
   "source": [
    "Load in the data."
   ]
  },
  {
   "cell_type": "code",
   "execution_count": 2,
   "metadata": {},
   "outputs": [
    {
     "name": "stdout",
     "output_type": "stream",
     "text": [
      "Found 1914 files belonging to 5 classes.\n",
      "Found 313 files belonging to 5 classes.\n"
     ]
    }
   ],
   "source": [
    "train_directory = \"C:/Users/Jason/Documents/University/Year_4/MPhys_Project(s)/Liquid_crystals-machine_learning/Images_from_drive/Training\"\n",
    "test_directory = \"C:/Users/Jason/Documents/University/Year_4/MPhys_Project(s)/Liquid_crystals-machine_learning/Images_from_drive/Validation\"\n",
    "image_size = (200,200)\n",
    "\n",
    "# Change images to grayscale as colour isnt an important feature at this stage\n",
    "train_dataset = image_dataset_from_directory(train_directory,\n",
    "                            labels=\"inferred\",\n",
    "                            label_mode=\"categorical\",\n",
    "                            color_mode=\"grayscale\",\n",
    "                            batch_size=64,\n",
    "                            image_size=image_size,\n",
    "                            shuffle=True\n",
    "                        )\n",
    "val_dataset = image_dataset_from_directory(test_directory,\n",
    "                            labels=\"inferred\",\n",
    "                            label_mode=\"categorical\",\n",
    "                            color_mode=\"grayscale\",\n",
    "                            batch_size=64,\n",
    "                            image_size=image_size,\n",
    "                            shuffle=True\n",
    "                        )"
   ]
  },
  {
   "cell_type": "markdown",
   "metadata": {},
   "source": [
    "Let's see if the files imported as expected."
   ]
  },
  {
   "cell_type": "code",
   "execution_count": 3,
   "metadata": {},
   "outputs": [
    {
     "name": "stdout",
     "output_type": "stream",
     "text": [
      "(TensorSpec(shape=(None, 200, 200, 1), dtype=tf.float32, name=None), TensorSpec(shape=(None, 5), dtype=tf.float32, name=None))\n",
      "['Cholesteric', 'Columnar', 'Nematic', 'Smectic', 'Twist_grain_boundary']\n",
      "(64, 200, 200, 1)\n",
      "<dtype: 'float32'>\n",
      "(64, 5)\n",
      "<dtype: 'float32'>\n",
      "(64, 200, 200, 1)\n",
      "<dtype: 'float32'>\n",
      "(64, 5)\n",
      "<dtype: 'float32'>\n",
      "(64, 200, 200, 1)\n",
      "<dtype: 'float32'>\n",
      "(64, 5)\n",
      "<dtype: 'float32'>\n",
      "(64, 200, 200, 1)\n",
      "<dtype: 'float32'>\n",
      "(64, 5)\n",
      "<dtype: 'float32'>\n",
      "(64, 200, 200, 1)\n",
      "<dtype: 'float32'>\n",
      "(64, 5)\n",
      "<dtype: 'float32'>\n",
      "(64, 200, 200, 1)\n",
      "<dtype: 'float32'>\n",
      "(64, 5)\n",
      "<dtype: 'float32'>\n",
      "(64, 200, 200, 1)\n",
      "<dtype: 'float32'>\n",
      "(64, 5)\n",
      "<dtype: 'float32'>\n",
      "(64, 200, 200, 1)\n",
      "<dtype: 'float32'>\n",
      "(64, 5)\n",
      "<dtype: 'float32'>\n",
      "(64, 200, 200, 1)\n",
      "<dtype: 'float32'>\n",
      "(64, 5)\n",
      "<dtype: 'float32'>\n",
      "(64, 200, 200, 1)\n",
      "<dtype: 'float32'>\n",
      "(64, 5)\n",
      "<dtype: 'float32'>\n",
      "(64, 200, 200, 1)\n",
      "<dtype: 'float32'>\n",
      "(64, 5)\n",
      "<dtype: 'float32'>\n",
      "(64, 200, 200, 1)\n",
      "<dtype: 'float32'>\n",
      "(64, 5)\n",
      "<dtype: 'float32'>\n",
      "(64, 200, 200, 1)\n",
      "<dtype: 'float32'>\n",
      "(64, 5)\n",
      "<dtype: 'float32'>\n",
      "(64, 200, 200, 1)\n",
      "<dtype: 'float32'>\n",
      "(64, 5)\n",
      "<dtype: 'float32'>\n",
      "(64, 200, 200, 1)\n",
      "<dtype: 'float32'>\n",
      "(64, 5)\n",
      "<dtype: 'float32'>\n",
      "(64, 200, 200, 1)\n",
      "<dtype: 'float32'>\n",
      "(64, 5)\n",
      "<dtype: 'float32'>\n",
      "(64, 200, 200, 1)\n",
      "<dtype: 'float32'>\n",
      "(64, 5)\n",
      "<dtype: 'float32'>\n",
      "(64, 200, 200, 1)\n",
      "<dtype: 'float32'>\n",
      "(64, 5)\n",
      "<dtype: 'float32'>\n",
      "(64, 200, 200, 1)\n",
      "<dtype: 'float32'>\n",
      "(64, 5)\n",
      "<dtype: 'float32'>\n",
      "(64, 200, 200, 1)\n",
      "<dtype: 'float32'>\n",
      "(64, 5)\n",
      "<dtype: 'float32'>\n",
      "(64, 200, 200, 1)\n",
      "<dtype: 'float32'>\n",
      "(64, 5)\n",
      "<dtype: 'float32'>\n",
      "(64, 200, 200, 1)\n",
      "<dtype: 'float32'>\n",
      "(64, 5)\n",
      "<dtype: 'float32'>\n",
      "(64, 200, 200, 1)\n",
      "<dtype: 'float32'>\n",
      "(64, 5)\n",
      "<dtype: 'float32'>\n",
      "(64, 200, 200, 1)\n",
      "<dtype: 'float32'>\n",
      "(64, 5)\n",
      "<dtype: 'float32'>\n",
      "(64, 200, 200, 1)\n",
      "<dtype: 'float32'>\n",
      "(64, 5)\n",
      "<dtype: 'float32'>\n",
      "(64, 200, 200, 1)\n",
      "<dtype: 'float32'>\n",
      "(64, 5)\n",
      "<dtype: 'float32'>\n",
      "(64, 200, 200, 1)\n",
      "<dtype: 'float32'>\n",
      "(64, 5)\n",
      "<dtype: 'float32'>\n",
      "(64, 200, 200, 1)\n",
      "<dtype: 'float32'>\n",
      "(64, 5)\n",
      "<dtype: 'float32'>\n",
      "(64, 200, 200, 1)\n",
      "<dtype: 'float32'>\n",
      "(64, 5)\n",
      "<dtype: 'float32'>\n",
      "(58, 200, 200, 1)\n",
      "<dtype: 'float32'>\n",
      "(58, 5)\n",
      "<dtype: 'float32'>\n"
     ]
    }
   ],
   "source": [
    "print(train_dataset.element_spec)\n",
    "print(train_dataset.class_names)\n",
    "for data, labels in train_dataset:\n",
    "    print(data.shape)\n",
    "    print(data.dtype)\n",
    "    print(labels.shape)\n",
    "    print(labels.dtype)"
   ]
  },
  {
   "cell_type": "code",
   "execution_count": 4,
   "metadata": {},
   "outputs": [
    {
     "name": "stdout",
     "output_type": "stream",
     "text": [
      "(TensorSpec(shape=(None, 200, 200, 1), dtype=tf.float32, name=None), TensorSpec(shape=(None, 5), dtype=tf.float32, name=None))\n",
      "['Cholesteric', 'Columnar', 'Nematic', 'Smectic', 'Twist_grain_boundary']\n",
      "(64, 200, 200, 1)\n",
      "<dtype: 'float32'>\n",
      "(64, 5)\n",
      "<dtype: 'float32'>\n",
      "(64, 200, 200, 1)\n",
      "<dtype: 'float32'>\n",
      "(64, 5)\n",
      "<dtype: 'float32'>\n",
      "(64, 200, 200, 1)\n",
      "<dtype: 'float32'>\n",
      "(64, 5)\n",
      "<dtype: 'float32'>\n",
      "(64, 200, 200, 1)\n",
      "<dtype: 'float32'>\n",
      "(64, 5)\n",
      "<dtype: 'float32'>\n",
      "(57, 200, 200, 1)\n",
      "<dtype: 'float32'>\n",
      "(57, 5)\n",
      "<dtype: 'float32'>\n"
     ]
    }
   ],
   "source": [
    "print(val_dataset.element_spec)\n",
    "print(val_dataset.class_names)\n",
    "for data, labels in val_dataset:\n",
    "    print(data.shape)\n",
    "    print(data.dtype)\n",
    "    print(labels.shape)\n",
    "    print(labels.dtype)"
   ]
  },
  {
   "cell_type": "markdown",
   "metadata": {},
   "source": [
    "Let's define a function to plot a graph to see how our model works over iterations. (From Josh Heaton)"
   ]
  },
  {
   "cell_type": "code",
   "execution_count": 13,
   "metadata": {},
   "outputs": [],
   "source": [
    "def plot_loss_acc_history(history):\n",
    "    fig, axis = plt.subplots(2)\n",
    "    #fig.subtitle('Training losses and accuracies')\n",
    "    \n",
    "    axis[0].plot(history.history['loss'], label='loss')\n",
    "    axis[0].plot(history.history['val_loss'], label='val_loss')\n",
    "    axis[0].set_xlabel('Epoch')\n",
    "    axis[0].set_ylabel('Loss')\n",
    "    axis[0].legend(loc='upper right')\n",
    "    \n",
    "    axis[1].plot(history.history['accuracy'], label='accuracy')\n",
    "    axis[1].plot(history.history['val_accuracy'], label='val_accuracy')\n",
    "    axis[1].set_xlabel('Epoch')\n",
    "    axis[1].set_ylabel('Accuracy')\n",
    "    axis[1].legend(loc='upper right')\n",
    "\n",
    "    plt.show()"
   ]
  },
  {
   "cell_type": "markdown",
   "metadata": {},
   "source": [
    "Let's define our pipeline."
   ]
  },
  {
   "cell_type": "code",
   "execution_count": 17,
   "metadata": {},
   "outputs": [],
   "source": [
    "image_shape = (image_size[0], image_size[1], 1)\n",
    "X_inputs = Input(shape = image_shape)\n",
    "# Rescale images to have values in range [0,1]\n",
    "X = Rescaling(scale = 1/255)(X_inputs)\n",
    "X = RandomFlip()(X)\n",
    "\n",
    "# Apply convolutional and pooling layers\n",
    "X = Conv2D(filters=32, kernel_size=(3,3))(X)\n",
    "X = BatchNormalization()(X)\n",
    "X = Activation(\"relu\")(X)\n",
    "X = MaxPooling2D(pool_size=(3,3))(X)\n",
    "X = Conv2D(filters=64, kernel_size=(3,3))(X)\n",
    "X = BatchNormalization()(X)\n",
    "X = Activation(\"relu\")(X)\n",
    "X = MaxPooling2D(pool_size=(3,3))(X)\n",
    "X = Conv2D(filters=128, kernel_size=(3,3))(X)\n",
    "X = BatchNormalization()(X)\n",
    "X = Activation(\"relu\")(X)\n",
    "X = MaxPooling2D(pool_size=(3,3))(X)\n",
    "\n",
    "# Apply fully connected layer\n",
    "X = Flatten()(X)\n",
    "X = Dense(units=128, activation=\"relu\")(X)\n",
    "X = Dropout(0.3)(X)\n",
    "X = Dense(units=64, activation=\"relu\")(X)\n",
    "X = Dropout(0.3)(X)\n",
    "# Output layer\n",
    "num_classes = 5\n",
    "X_outputs = Dense(units=num_classes, activation=\"softmax\")(X)\n",
    "\n",
    "model = Model(inputs = X_inputs, outputs = X_outputs)"
   ]
  },
  {
   "cell_type": "markdown",
   "metadata": {},
   "source": [
    "Let's see what this model looks like."
   ]
  },
  {
   "cell_type": "code",
   "execution_count": 18,
   "metadata": {},
   "outputs": [
    {
     "name": "stdout",
     "output_type": "stream",
     "text": [
      "Model: \"functional_3\"\n",
      "_________________________________________________________________\n",
      "Layer (type)                 Output Shape              Param #   \n",
      "=================================================================\n",
      "input_2 (InputLayer)         [(None, 200, 200, 1)]     0         \n",
      "_________________________________________________________________\n",
      "rescaling_1 (Rescaling)      (None, 200, 200, 1)       0         \n",
      "_________________________________________________________________\n",
      "random_flip_1 (RandomFlip)   (None, 200, 200, 1)       0         \n",
      "_________________________________________________________________\n",
      "conv2d_3 (Conv2D)            (None, 198, 198, 32)      320       \n",
      "_________________________________________________________________\n",
      "batch_normalization_3 (Batch (None, 198, 198, 32)      128       \n",
      "_________________________________________________________________\n",
      "activation_3 (Activation)    (None, 198, 198, 32)      0         \n",
      "_________________________________________________________________\n",
      "max_pooling2d_3 (MaxPooling2 (None, 66, 66, 32)        0         \n",
      "_________________________________________________________________\n",
      "conv2d_4 (Conv2D)            (None, 64, 64, 64)        18496     \n",
      "_________________________________________________________________\n",
      "batch_normalization_4 (Batch (None, 64, 64, 64)        256       \n",
      "_________________________________________________________________\n",
      "activation_4 (Activation)    (None, 64, 64, 64)        0         \n",
      "_________________________________________________________________\n",
      "max_pooling2d_4 (MaxPooling2 (None, 21, 21, 64)        0         \n",
      "_________________________________________________________________\n",
      "conv2d_5 (Conv2D)            (None, 19, 19, 128)       73856     \n",
      "_________________________________________________________________\n",
      "batch_normalization_5 (Batch (None, 19, 19, 128)       512       \n",
      "_________________________________________________________________\n",
      "activation_5 (Activation)    (None, 19, 19, 128)       0         \n",
      "_________________________________________________________________\n",
      "max_pooling2d_5 (MaxPooling2 (None, 6, 6, 128)         0         \n",
      "_________________________________________________________________\n",
      "flatten_1 (Flatten)          (None, 4608)              0         \n",
      "_________________________________________________________________\n",
      "dense_3 (Dense)              (None, 128)               589952    \n",
      "_________________________________________________________________\n",
      "dropout_2 (Dropout)          (None, 128)               0         \n",
      "_________________________________________________________________\n",
      "dense_4 (Dense)              (None, 64)                8256      \n",
      "_________________________________________________________________\n",
      "dropout_3 (Dropout)          (None, 64)                0         \n",
      "_________________________________________________________________\n",
      "dense_5 (Dense)              (None, 5)                 325       \n",
      "=================================================================\n",
      "Total params: 692,101\n",
      "Trainable params: 691,653\n",
      "Non-trainable params: 448\n",
      "_________________________________________________________________\n"
     ]
    }
   ],
   "source": [
    "model.summary()"
   ]
  },
  {
   "cell_type": "code",
   "execution_count": 19,
   "metadata": {},
   "outputs": [
    {
     "name": "stdout",
     "output_type": "stream",
     "text": [
      "('Failed to import pydot. You must `pip install pydot` and install graphviz (https://graphviz.gitlab.io/download/), ', 'for `pydotprint` to work.')\n"
     ]
    }
   ],
   "source": [
    "plot_model(model, to_file=\"LC_phase_CNN.png\", show_shapes=True)"
   ]
  },
  {
   "cell_type": "markdown",
   "metadata": {},
   "source": [
    "Now we need to compile, train and test the model."
   ]
  },
  {
   "cell_type": "code",
   "execution_count": 20,
   "metadata": {},
   "outputs": [],
   "source": [
    "model.compile(optimizer=\"adam\", loss=\"categorical_crossentropy\", metrics=[\"accuracy\"])"
   ]
  },
  {
   "cell_type": "code",
   "execution_count": 21,
   "metadata": {},
   "outputs": [
    {
     "name": "stdout",
     "output_type": "stream",
     "text": [
      "Epoch 1/100\n",
      "30/30 - 79s - loss: 1.6947 - accuracy: 0.4995 - val_loss: 1.7705 - val_accuracy: 0.3099\n",
      "Epoch 2/100\n",
      "30/30 - 89s - loss: 0.7327 - accuracy: 0.7268 - val_loss: 3.7085 - val_accuracy: 0.3099\n",
      "Epoch 3/100\n",
      "30/30 - 88s - loss: 0.5407 - accuracy: 0.8004 - val_loss: 4.7151 - val_accuracy: 0.3099\n",
      "Epoch 4/100\n",
      "30/30 - 90s - loss: 0.3816 - accuracy: 0.8678 - val_loss: 4.2216 - val_accuracy: 0.3099\n",
      "Epoch 5/100\n",
      "30/30 - 87s - loss: 0.3217 - accuracy: 0.8976 - val_loss: 5.5877 - val_accuracy: 0.3099\n",
      "Epoch 6/100\n",
      "30/30 - 90s - loss: 0.3258 - accuracy: 0.9028 - val_loss: 7.2600 - val_accuracy: 0.3099\n",
      "Epoch 7/100\n",
      "30/30 - 90s - loss: 0.2385 - accuracy: 0.9248 - val_loss: 8.9244 - val_accuracy: 0.3099\n",
      "Epoch 8/100\n",
      "30/30 - 90s - loss: 0.1620 - accuracy: 0.9467 - val_loss: 7.4377 - val_accuracy: 0.3099\n",
      "Epoch 9/100\n",
      "30/30 - 87s - loss: 0.1432 - accuracy: 0.9566 - val_loss: 7.2751 - val_accuracy: 0.3099\n",
      "Epoch 10/100\n",
      "30/30 - 90s - loss: 0.1433 - accuracy: 0.9587 - val_loss: 6.8833 - val_accuracy: 0.3099\n",
      "Epoch 11/100\n",
      "30/30 - 88s - loss: 0.1331 - accuracy: 0.9598 - val_loss: 3.7386 - val_accuracy: 0.3227\n",
      "Epoch 12/100\n",
      "30/30 - 89s - loss: 0.1006 - accuracy: 0.9718 - val_loss: 5.2016 - val_accuracy: 0.3227\n",
      "Epoch 13/100\n",
      "30/30 - 91s - loss: 0.1099 - accuracy: 0.9681 - val_loss: 3.9146 - val_accuracy: 0.3291\n",
      "Epoch 14/100\n",
      "30/30 - 88s - loss: 0.1118 - accuracy: 0.9707 - val_loss: 4.2342 - val_accuracy: 0.3099\n",
      "Epoch 15/100\n",
      "30/30 - 94s - loss: 0.1042 - accuracy: 0.9666 - val_loss: 2.1808 - val_accuracy: 0.4249\n",
      "Epoch 16/100\n",
      "30/30 - 90s - loss: 0.0892 - accuracy: 0.9734 - val_loss: 2.9777 - val_accuracy: 0.4505\n",
      "Epoch 17/100\n",
      "30/30 - 89s - loss: 0.0671 - accuracy: 0.9801 - val_loss: 3.4006 - val_accuracy: 0.4281\n",
      "Epoch 18/100\n",
      "30/30 - 89s - loss: 0.0625 - accuracy: 0.9801 - val_loss: 1.2826 - val_accuracy: 0.5942\n",
      "Epoch 19/100\n",
      "30/30 - 93s - loss: 0.0832 - accuracy: 0.9749 - val_loss: 2.1152 - val_accuracy: 0.5399\n",
      "Epoch 20/100\n",
      "30/30 - 84s - loss: 0.0734 - accuracy: 0.9796 - val_loss: 3.7259 - val_accuracy: 0.4728\n",
      "Epoch 21/100\n",
      "30/30 - 78s - loss: 0.1043 - accuracy: 0.9697 - val_loss: 2.9526 - val_accuracy: 0.5655\n",
      "Epoch 22/100\n",
      "30/30 - 84s - loss: 0.1081 - accuracy: 0.9671 - val_loss: 0.5582 - val_accuracy: 0.8083\n",
      "Epoch 23/100\n",
      "30/30 - 85s - loss: 0.0719 - accuracy: 0.9765 - val_loss: 0.7896 - val_accuracy: 0.7188\n",
      "Epoch 24/100\n",
      "30/30 - 84s - loss: 0.0462 - accuracy: 0.9859 - val_loss: 0.4507 - val_accuracy: 0.8658\n",
      "Epoch 25/100\n",
      "30/30 - 82s - loss: 0.0489 - accuracy: 0.9880 - val_loss: 0.5247 - val_accuracy: 0.8914\n",
      "Epoch 26/100\n",
      "30/30 - 82s - loss: 0.0348 - accuracy: 0.9890 - val_loss: 1.6421 - val_accuracy: 0.5911\n",
      "Epoch 27/100\n",
      "30/30 - 80s - loss: 0.0417 - accuracy: 0.9869 - val_loss: 0.9969 - val_accuracy: 0.7668\n",
      "Epoch 28/100\n",
      "30/30 - 81s - loss: 0.0554 - accuracy: 0.9796 - val_loss: 0.6573 - val_accuracy: 0.8914\n",
      "Epoch 29/100\n",
      "30/30 - 81s - loss: 0.0427 - accuracy: 0.9890 - val_loss: 0.9016 - val_accuracy: 0.9010\n",
      "Epoch 30/100\n",
      "30/30 - 79s - loss: 0.0316 - accuracy: 0.9906 - val_loss: 1.4287 - val_accuracy: 0.8179\n",
      "Epoch 31/100\n",
      "30/30 - 81s - loss: 0.0343 - accuracy: 0.9890 - val_loss: 1.2122 - val_accuracy: 0.8211\n",
      "Epoch 32/100\n",
      "30/30 - 81s - loss: 0.0291 - accuracy: 0.9927 - val_loss: 1.7775 - val_accuracy: 0.6070\n",
      "Epoch 33/100\n",
      "30/30 - 80s - loss: 0.0432 - accuracy: 0.9859 - val_loss: 0.3312 - val_accuracy: 0.8850\n",
      "Epoch 34/100\n",
      "30/30 - 82s - loss: 0.0256 - accuracy: 0.9922 - val_loss: 4.7551 - val_accuracy: 0.7029\n",
      "Epoch 35/100\n",
      "30/30 - 82s - loss: 0.0458 - accuracy: 0.9859 - val_loss: 6.6565 - val_accuracy: 0.5176\n",
      "Epoch 36/100\n",
      "30/30 - 80s - loss: 0.0517 - accuracy: 0.9869 - val_loss: 0.3744 - val_accuracy: 0.8243\n",
      "Epoch 37/100\n",
      "30/30 - 81s - loss: 0.0302 - accuracy: 0.9885 - val_loss: 1.0127 - val_accuracy: 0.8498\n",
      "Epoch 38/100\n",
      "30/30 - 82s - loss: 0.0260 - accuracy: 0.9911 - val_loss: 0.2351 - val_accuracy: 0.9521\n",
      "Epoch 39/100\n",
      "30/30 - 84s - loss: 0.0230 - accuracy: 0.9937 - val_loss: 0.5642 - val_accuracy: 0.8083\n",
      "Epoch 40/100\n",
      "30/30 - 81s - loss: 0.0307 - accuracy: 0.9890 - val_loss: 1.2216 - val_accuracy: 0.7540\n",
      "Epoch 41/100\n",
      "30/30 - 82s - loss: 0.0220 - accuracy: 0.9948 - val_loss: 1.4984 - val_accuracy: 0.6933\n",
      "Epoch 42/100\n",
      "30/30 - 80s - loss: 0.0094 - accuracy: 0.9969 - val_loss: 2.0868 - val_accuracy: 0.6134\n",
      "Epoch 43/100\n",
      "30/30 - 84s - loss: 0.0173 - accuracy: 0.9943 - val_loss: 1.1769 - val_accuracy: 0.7316\n",
      "Epoch 44/100\n",
      "30/30 - 81s - loss: 0.0293 - accuracy: 0.9916 - val_loss: 1.2783 - val_accuracy: 0.6645\n",
      "Epoch 45/100\n",
      "30/30 - 82s - loss: 0.0814 - accuracy: 0.9817 - val_loss: 2.9963 - val_accuracy: 0.5559\n",
      "Epoch 46/100\n",
      "30/30 - 84s - loss: 0.0399 - accuracy: 0.9932 - val_loss: 0.5174 - val_accuracy: 0.8914\n",
      "Epoch 47/100\n",
      "30/30 - 82s - loss: 0.0543 - accuracy: 0.9817 - val_loss: 3.8209 - val_accuracy: 0.5751\n",
      "Epoch 48/100\n",
      "30/30 - 82s - loss: 0.0314 - accuracy: 0.9927 - val_loss: 2.2445 - val_accuracy: 0.6198\n",
      "Epoch 49/100\n",
      "30/30 - 83s - loss: 0.0231 - accuracy: 0.9932 - val_loss: 0.6899 - val_accuracy: 0.8530\n",
      "Epoch 50/100\n",
      "30/30 - 83s - loss: 0.0117 - accuracy: 0.9979 - val_loss: 0.6478 - val_accuracy: 0.7796\n",
      "Epoch 51/100\n",
      "30/30 - 80s - loss: 0.0327 - accuracy: 0.9916 - val_loss: 6.6399 - val_accuracy: 0.3866\n",
      "Epoch 52/100\n",
      "30/30 - 141s - loss: 0.1063 - accuracy: 0.9671 - val_loss: 1.2524 - val_accuracy: 0.7412\n",
      "Epoch 53/100\n",
      "30/30 - 157s - loss: 0.0432 - accuracy: 0.9885 - val_loss: 2.8142 - val_accuracy: 0.4856\n",
      "Epoch 54/100\n",
      "30/30 - 158s - loss: 0.0381 - accuracy: 0.9896 - val_loss: 10.3111 - val_accuracy: 0.5623\n",
      "Epoch 55/100\n",
      "30/30 - 156s - loss: 0.0291 - accuracy: 0.9896 - val_loss: 7.9625 - val_accuracy: 0.4345\n",
      "Epoch 56/100\n",
      "30/30 - 154s - loss: 0.0656 - accuracy: 0.9843 - val_loss: 3.1146 - val_accuracy: 0.6198\n",
      "Epoch 57/100\n",
      "30/30 - 158s - loss: 0.0308 - accuracy: 0.9911 - val_loss: 3.4367 - val_accuracy: 0.5942\n",
      "Epoch 58/100\n",
      "30/30 - 158s - loss: 0.0210 - accuracy: 0.9937 - val_loss: 3.0879 - val_accuracy: 0.5719\n",
      "Epoch 59/100\n",
      "30/30 - 159s - loss: 0.0149 - accuracy: 0.9969 - val_loss: 3.3981 - val_accuracy: 0.5431\n",
      "Epoch 60/100\n",
      "30/30 - 159s - loss: 0.0081 - accuracy: 0.9963 - val_loss: 1.1315 - val_accuracy: 0.7316\n",
      "Epoch 61/100\n",
      "30/30 - 160s - loss: 0.0081 - accuracy: 0.9974 - val_loss: 1.1384 - val_accuracy: 0.7764\n",
      "Epoch 62/100\n",
      "30/30 - 159s - loss: 0.0132 - accuracy: 0.9943 - val_loss: 0.4835 - val_accuracy: 0.8914\n",
      "Epoch 63/100\n",
      "30/30 - 157s - loss: 0.0193 - accuracy: 0.9932 - val_loss: 1.0618 - val_accuracy: 0.8594\n",
      "Epoch 64/100\n",
      "30/30 - 154s - loss: 0.0384 - accuracy: 0.9880 - val_loss: 1.8960 - val_accuracy: 0.8051\n",
      "Epoch 65/100\n",
      "30/30 - 159s - loss: 0.0661 - accuracy: 0.9775 - val_loss: 0.9786 - val_accuracy: 0.9010\n",
      "Epoch 66/100\n",
      "30/30 - 157s - loss: 0.0434 - accuracy: 0.9859 - val_loss: 1.4415 - val_accuracy: 0.6741\n",
      "Epoch 67/100\n",
      "30/30 - 157s - loss: 0.0114 - accuracy: 0.9958 - val_loss: 0.6656 - val_accuracy: 0.8818\n",
      "Epoch 68/100\n",
      "30/30 - 165s - loss: 0.0134 - accuracy: 0.9963 - val_loss: 0.6410 - val_accuracy: 0.8562\n",
      "Epoch 69/100\n",
      "30/30 - 164s - loss: 0.0545 - accuracy: 0.9906 - val_loss: 1.7584 - val_accuracy: 0.7029\n",
      "Epoch 70/100\n",
      "30/30 - 164s - loss: 0.0488 - accuracy: 0.9833 - val_loss: 2.7097 - val_accuracy: 0.7157\n",
      "Epoch 71/100\n",
      "30/30 - 157s - loss: 0.0490 - accuracy: 0.9848 - val_loss: 2.3854 - val_accuracy: 0.6837\n",
      "Epoch 72/100\n",
      "30/30 - 160s - loss: 0.0188 - accuracy: 0.9943 - val_loss: 2.5906 - val_accuracy: 0.6358\n",
      "Epoch 73/100\n",
      "30/30 - 150s - loss: 0.0246 - accuracy: 0.9943 - val_loss: 0.3537 - val_accuracy: 0.8818\n",
      "Epoch 74/100\n",
      "30/30 - 162s - loss: 0.0176 - accuracy: 0.9937 - val_loss: 11.7134 - val_accuracy: 0.2077\n",
      "Epoch 75/100\n",
      "30/30 - 123s - loss: 0.0168 - accuracy: 0.9943 - val_loss: 0.6426 - val_accuracy: 0.8051\n",
      "Epoch 76/100\n",
      "30/30 - 94s - loss: 0.0118 - accuracy: 0.9969 - val_loss: 1.1744 - val_accuracy: 0.7444\n",
      "Epoch 77/100\n",
      "30/30 - 91s - loss: 0.0086 - accuracy: 0.9984 - val_loss: 0.4222 - val_accuracy: 0.8594\n",
      "Epoch 78/100\n",
      "30/30 - 91s - loss: 0.0064 - accuracy: 0.9974 - val_loss: 0.4399 - val_accuracy: 0.8882\n",
      "Epoch 79/100\n",
      "30/30 - 88s - loss: 0.0123 - accuracy: 0.9969 - val_loss: 0.8966 - val_accuracy: 0.8722\n",
      "Epoch 80/100\n",
      "30/30 - 88s - loss: 0.0124 - accuracy: 0.9958 - val_loss: 0.6502 - val_accuracy: 0.8786\n",
      "Epoch 81/100\n",
      "30/30 - 371s - loss: 0.0112 - accuracy: 0.9969 - val_loss: 0.8511 - val_accuracy: 0.8882\n"
     ]
    },
    {
     "name": "stdout",
     "output_type": "stream",
     "text": [
      "Epoch 82/100\n",
      "30/30 - 86s - loss: 0.0151 - accuracy: 0.9948 - val_loss: 0.3746 - val_accuracy: 0.8946\n",
      "Epoch 83/100\n",
      "30/30 - 89s - loss: 0.0287 - accuracy: 0.9958 - val_loss: 1.0311 - val_accuracy: 0.8594\n",
      "Epoch 84/100\n",
      "30/30 - 87s - loss: 0.0113 - accuracy: 0.9948 - val_loss: 1.3722 - val_accuracy: 0.6390\n",
      "Epoch 85/100\n",
      "30/30 - 89s - loss: 0.0063 - accuracy: 0.9984 - val_loss: 0.7213 - val_accuracy: 0.7955\n",
      "Epoch 86/100\n",
      "30/30 - 93s - loss: 0.0049 - accuracy: 0.9984 - val_loss: 3.8041 - val_accuracy: 0.6677\n",
      "Epoch 87/100\n",
      "30/30 - 89s - loss: 0.0481 - accuracy: 0.9875 - val_loss: 2.4991 - val_accuracy: 0.8435\n",
      "Epoch 88/100\n",
      "30/30 - 91s - loss: 0.0197 - accuracy: 0.9922 - val_loss: 2.4653 - val_accuracy: 0.6581\n",
      "Epoch 89/100\n",
      "30/30 - 89s - loss: 0.0129 - accuracy: 0.9958 - val_loss: 2.0058 - val_accuracy: 0.8083\n",
      "Epoch 90/100\n",
      "30/30 - 89s - loss: 0.0170 - accuracy: 0.9937 - val_loss: 5.0329 - val_accuracy: 0.5240\n",
      "Epoch 91/100\n",
      "30/30 - 91s - loss: 0.0171 - accuracy: 0.9969 - val_loss: 18.1852 - val_accuracy: 0.1949\n",
      "Epoch 92/100\n",
      "30/30 - 88s - loss: 0.0425 - accuracy: 0.9890 - val_loss: 27.3915 - val_accuracy: 0.4345\n",
      "Epoch 93/100\n",
      "30/30 - 89s - loss: 0.0397 - accuracy: 0.9901 - val_loss: 4.1836 - val_accuracy: 0.5974\n",
      "Epoch 94/100\n",
      "30/30 - 89s - loss: 0.0370 - accuracy: 0.9890 - val_loss: 2.6058 - val_accuracy: 0.5304\n",
      "Epoch 95/100\n",
      "30/30 - 87s - loss: 0.0203 - accuracy: 0.9937 - val_loss: 2.2227 - val_accuracy: 0.6645\n",
      "Epoch 96/100\n",
      "30/30 - 93s - loss: 0.0147 - accuracy: 0.9948 - val_loss: 0.4571 - val_accuracy: 0.8594\n",
      "Epoch 97/100\n",
      "30/30 - 86s - loss: 0.0099 - accuracy: 0.9953 - val_loss: 3.9299 - val_accuracy: 0.5016\n",
      "Epoch 98/100\n",
      "30/30 - 88s - loss: 0.0039 - accuracy: 0.9990 - val_loss: 1.0082 - val_accuracy: 0.6773\n",
      "Epoch 99/100\n",
      "30/30 - 87s - loss: 0.0090 - accuracy: 0.9974 - val_loss: 1.0072 - val_accuracy: 0.7029\n",
      "Epoch 100/100\n",
      "30/30 - 90s - loss: 0.0112 - accuracy: 0.9963 - val_loss: 1.3145 - val_accuracy: 0.6422\n"
     ]
    }
   ],
   "source": [
    "history = model.fit(x=train_dataset, epochs=100, verbose=2, validation_data=val_dataset)"
   ]
  },
  {
   "cell_type": "markdown",
   "metadata": {},
   "source": [
    "Let's see how the model does on unseen data."
   ]
  },
  {
   "cell_type": "code",
   "execution_count": 22,
   "metadata": {},
   "outputs": [
    {
     "name": "stdout",
     "output_type": "stream",
     "text": [
      "5/5 - 1s - loss: 1.3145 - accuracy: 0.6422\n"
     ]
    },
    {
     "data": {
      "text/plain": [
       "[1.3144651651382446, 0.6421725153923035]"
      ]
     },
     "execution_count": 22,
     "metadata": {},
     "output_type": "execute_result"
    }
   ],
   "source": [
    "model.evaluate(val_dataset, verbose=2)"
   ]
  },
  {
   "cell_type": "code",
   "execution_count": 23,
   "metadata": {},
   "outputs": [
    {
     "data": {
      "image/png": "[encoded data removed]",
      "text/plain": [
       "<Figure size 432x288 with 2 Axes>"
      ]
     },
     "metadata": {
      "needs_background": "light"
     },
     "output_type": "display_data"
    }
   ],
   "source": [
    "plot_loss_acc_history(history)"
   ]
  },
  {
   "cell_type": "markdown",
   "metadata": {},
   "source": [
    "Let's see the confusion matrix on our predictions to understand how our model is performing on the unseen data."
   ]
  },
  {
   "cell_type": "code",
   "execution_count": 24,
   "metadata": {},
   "outputs": [],
   "source": [
    "predictions = model.predict(val_dataset)\n",
    "y_pred = np.argmax(predictions, axis = 1)"
   ]
  },
  {
   "cell_type": "code",
   "execution_count": 25,
   "metadata": {},
   "outputs": [
    {
     "name": "stdout",
     "output_type": "stream",
     "text": [
      "[2 2 2 0 3 0 2 1 4 3 3 0 0 3 2 0 2 0 0 0 0 4 0 3 2 4 2 4 2 3 3 2 2 3 3 2 0\n",
      " 0 3 4 2 4 3 2 0 0 2 2 2 3 0 0 0 2 3 2 3 1 2 3 2 0 0 2 0 4 2 0 0 4 2 2 2 3\n",
      " 2 3 4 2 2 0 3 3 3 0 2 1 0 0 0 2 4 0 0 2 2 0 2 4 3 2 0 4 0 0 0 1 2 1 2 1 0\n",
      " 2 0 0 0 1 1 2 2 1 3 0 0 0 1 2 3 2 3 2 3 2 3 2 2 0 0 1 3 1 3 4 0 0 2 4 1 2\n",
      " 0 3 0 3 4 1 2 0 2 0 1 3 2 3 0 0 0 0 2 3 4 2 1 0 2 2 3 0 0 0 0 0 0 3 0 0 2\n",
      " 2 4 0 3 3 2 3 3 0 0 3 2 0 2 0 2 0 0 1 1 0 4 0 2 3 4 2 2 0 0 0 0 0 1 0 3 2\n",
      " 0 0 3 4 4 2 2 2 0 0 0 0 2 0 0 3 2 1 0 1 0 0 2 2 2 3 4 3 3 2 2 2 4 1 3 2 2\n",
      " 2 4 2 2 2 3 0 0 0 3 0 0 2 4 2 2 4 2 0 0 0 0 4 4 0 0 0 2 4 0 4 0 2 0 2 2 0\n",
      " 4 0 3 3 2 1 3 0 0 2 2 4 3 2 2 2 2]\n",
      "[2 0 4 1 0 4 2 1 1 0 0 4 4 2 0 4 0 4 1 1 0 0 3 0 1 0 1 1 4 1 1 0 0 4 1 1 0\n",
      " 4 1 1 1 4 1 4 1 4 0 4 0 0 3 3 0 0 0 2 3 4 1 3 0 1 0 0 2 0 1 1 4 0 0 0 3 1\n",
      " 2 1 0 0 2 1 3 0 0 0 2 4 0 3 2 3 2 3 4 3 1 1 0 1 1 1 0 0 0 0 0 4 4 1 0 0 0\n",
      " 4 3 4 4 0 0 2 1 3 1 4 3 4 4 4 2 4 0 0 0 1 0 1 4 0 0 0 0 1 0 1 3 0 2 1 1 3\n",
      " 1 3 4 2 1 1 4 1 4 0 0 3 2 0 0 3 0 4 0 4 0 4 2 1 0 0 0 1 4 4 4 2 1 4 4 0 1\n",
      " 0 0 0 4 0 1 0 0 0 1 2 4 0 0 3 0 0 1 1 4 1 1 0 0 3 2 4 2 0 4 0 3 0 1 1 1 2\n",
      " 1 0 0 1 0 4 2 3 0 0 4 0 4 2 0 2 4 4 4 0 0 0 4 0 0 0 3 1 0 1 1 1 0 1 4 1 2\n",
      " 3 3 3 1 1 0 0 0 0 0 1 0 0 2 0 1 4 0 3 3 2 3 3 0 1 1 0 0 3 0 1 0 0 2 0 0 0\n",
      " 0 0 0 0 1 0 1 0 3 1 1 4 1 0 1 0 2]\n",
      "Confusion matrix:\n",
      "[[0.40186916 0.19626168 0.05607477 0.14018692 0.20560748]\n",
      " [0.30434783 0.34782609 0.04347826 0.04347826 0.26086957]\n",
      " [0.35051546 0.24742268 0.1443299  0.07216495 0.18556701]\n",
      " [0.46296296 0.24074074 0.09259259 0.11111111 0.09259259]\n",
      " [0.375      0.3125     0.09375    0.125      0.09375   ]]\n"
     ]
    }
   ],
   "source": [
    "# Get true labels\n",
    "y_true = np.argmax(np.concatenate([labels for data, labels in val_dataset], axis=0), axis=1)\n",
    "print(y_true)\n",
    "print(y_pred)\n",
    "\n",
    "print(\"Confusion matrix:\")\n",
    "print(confusion_matrix(y_true=y_true, y_pred=y_pred, normalize=\"true\"))"
   ]
  },
  {
   "cell_type": "code",
   "execution_count": null,
   "metadata": {},
   "outputs": [],
   "source": []
  }
 ],
 "metadata": {
  "kernelspec": {
   "display_name": "Python 3",
   "language": "python",
   "name": "python3"
  },
  "language_info": {
   "codemirror_mode": {
    "name": "ipython",
    "version": 3
   },
   "file_extension": ".py",
   "mimetype": "text/x-python",
   "name": "python",
   "nbconvert_exporter": "python",
   "pygments_lexer": "ipython3",
   "version": "3.7.6"
  }
 },
 "nbformat": 4,
 "nbformat_minor": 4
}
